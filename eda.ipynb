{
 "cells": [
  {
   "attachments": {},
   "cell_type": "markdown",
   "metadata": {},
   "source": [
    "# Bank of England technical assessment\n",
    "\n",
    "- Task I = report on firm prioritisation\n",
    "- Task II = ML techniques\n",
    "- Task III = cloud technologies for daily processing\n",
    "\n",
    "## Task I\n",
    "Find firms that should be priorotised for investigation. This is based on:\n",
    "\n",
    "- Firm size (i.e. the biggest firms need more attention) \n",
    "- Changing business profile (are firms’ data changing substantially year-on-year?) \n",
    "- Outliers from the norm (when looking at a single reporting period, does a firm deviate significantly from the average?) \n",
    "\n",
    "### Choose KPIs\n",
    "#### Size\n",
    "- **Gross Written Premium (GWP)** – total revenue written by an insurer. Equivalent of turnover for a non-insurance firm. \n",
    "  - highlights whether it's a growing business\n",
    "- **Total assets** - anything that a company owns - highlights it's size\n",
    "  - total liabilities could indicate support that the company has got through debt to boost growth / operations\n",
    "\n",
    "Could do scatter plot between these GWP and total assets?\n",
    "\n",
    "#### Health\n",
    "- **SCR coverage ratio** – a measure of whether a firm is meeting its prudential capital requirements. Greater than 100% means the firm is holding enough capital to meet the requirement. The size of the buffer (i.e. surplus over 100%) can be important. \n",
    "- **(Dervived) NWP / GWP** – suggests stable and effective firm that is able to hold onto a lot of its own risk. It highlights that they're good at underwriting and have confidence in it.\n",
    "- **Net combined ratio** – (incurred losses plus expenses) / earned premiums. This is a ratio that can indicate the profitability of a firm. If this is less than 100% it indicates a profit. \n",
    "- **Gross claims incurred** – a large cost to an insurer. Monitoring how these change over time for a firm is vital. \n",
    "- **Excess of Assets over Liabilities** - this is the owners / shareholders ownership, i.e. equity, of the business\n",
    "  - This can highlight reslience in the firm because they can finance themselves with their own money, and by the same token, absorb lossess in uncertain times. Crucially, they're able to do these two things without borrowing money.\n",
    "- **Debt to equity ratio** - total liabilites / Excess of assets over liabilities\n",
    "  - a lower ratio implies less reliance on external borrowing "
   ]
  },
  {
   "attachments": {},
   "cell_type": "markdown",
   "metadata": {},
   "source": [
    "# Import data"
   ]
  },
  {
   "cell_type": "code",
   "execution_count": 1,
   "metadata": {},
   "outputs": [],
   "source": [
    "import pandas as pd\n",
    "import numpy as np\n",
    "import missingno as msno\n",
    "import matplotlib.pyplot as plt\n",
    "import seaborn as sns\n",
    "import plotly.express as px\n",
    "import plotly.graph_objects as go\n",
    "from sklearn.preprocessing import MinMaxScaler\n",
    "\n",
    "general_cols = ['Firms', 'NWP (£m) ', 'SCR coverage ratio', 'GWP (£m)', 'Total assets (£m)', 'Total liabilities (£m)', 'Excess of assets over liabilities (£m) [= equity]']\n",
    "insurance_cols = ['Gross claims incurred (£m)', 'Net combined ratio']\n",
    "\n",
    "df_general = pd.read_excel('data.xlsx', sheet_name='Dataset 1 - General', header=[0,1])\n",
    "df_insurance = pd.read_excel('data.xlsx', sheet_name='Dataset 2 - Underwriting', header=[0,1])\n",
    "df_general_drop = df_general.drop(('Firms', 'Firms'), axis=1)\n",
    "df_insurance_drop = df_insurance.drop(('Firms', 'Firms'), axis=1)"
   ]
  },
  {
   "cell_type": "code",
   "execution_count": 2,
   "metadata": {},
   "outputs": [
    {
     "name": "stdout",
     "output_type": "stream",
     "text": [
      "<class 'pandas.core.frame.DataFrame'>\n",
      "RangeIndex: 325 entries, 0 to 324\n",
      "Data columns (total 41 columns):\n",
      " #   Column                                                       Non-Null Count  Dtype  \n",
      "---  ------                                                       --------------  -----  \n",
      " 0   (Firms, Firms)                                               325 non-null    object \n",
      " 1   (NWP (£m) , 2016YE)                                          325 non-null    float64\n",
      " 2   (NWP (£m) , 2017YE)                                          325 non-null    float64\n",
      " 3   (NWP (£m) , 2018YE)                                          325 non-null    float64\n",
      " 4   (NWP (£m) , 2019YE)                                          325 non-null    float64\n",
      " 5   (NWP (£m) , 2020YE)                                          325 non-null    float64\n",
      " 6   (SCR (£m), 2016YE)                                           325 non-null    float64\n",
      " 7   (SCR (£m), 2017YE)                                           325 non-null    float64\n",
      " 8   (SCR (£m), 2018YE)                                           325 non-null    float64\n",
      " 9   (SCR (£m), 2019YE)                                           325 non-null    float64\n",
      " 10  (SCR (£m), 2020YE)                                           325 non-null    float64\n",
      " 11  (EoF for SCR (£m), 2016YE)                                   325 non-null    float64\n",
      " 12  (EoF for SCR (£m), 2017YE)                                   325 non-null    float64\n",
      " 13  (EoF for SCR (£m), 2018YE)                                   325 non-null    float64\n",
      " 14  (EoF for SCR (£m), 2019YE)                                   325 non-null    float64\n",
      " 15  (EoF for SCR (£m), 2020YE)                                   325 non-null    float64\n",
      " 16  (SCR coverage ratio, 2016YE)                                 325 non-null    float64\n",
      " 17  (SCR coverage ratio, 2017YE)                                 325 non-null    float64\n",
      " 18  (SCR coverage ratio, 2018YE)                                 325 non-null    float64\n",
      " 19  (SCR coverage ratio, 2019YE)                                 325 non-null    float64\n",
      " 20  (SCR coverage ratio, 2020YE)                                 325 non-null    float64\n",
      " 21  (GWP (£m), 2016YE)                                           325 non-null    float64\n",
      " 22  (GWP (£m), 2017YE)                                           325 non-null    float64\n",
      " 23  (GWP (£m), 2018YE)                                           325 non-null    float64\n",
      " 24  (GWP (£m), 2019YE)                                           325 non-null    float64\n",
      " 25  (GWP (£m), 2020YE)                                           325 non-null    float64\n",
      " 26  (Total assets (£m), 2016YE)                                  325 non-null    float64\n",
      " 27  (Total assets (£m), 2017YE)                                  325 non-null    float64\n",
      " 28  (Total assets (£m), 2018YE)                                  325 non-null    float64\n",
      " 29  (Total assets (£m), 2019YE)                                  325 non-null    float64\n",
      " 30  (Total assets (£m), 2020YE)                                  325 non-null    float64\n",
      " 31  (Total liabilities (£m), 2016YE)                             325 non-null    float64\n",
      " 32  (Total liabilities (£m), 2017YE)                             325 non-null    float64\n",
      " 33  (Total liabilities (£m), 2018YE)                             325 non-null    float64\n",
      " 34  (Total liabilities (£m), 2019YE)                             325 non-null    float64\n",
      " 35  (Total liabilities (£m), 2020YE)                             325 non-null    float64\n",
      " 36  (Excess of assets over liabilities (£m) [= equity], 2016YE)  325 non-null    float64\n",
      " 37  (Excess of assets over liabilities (£m) [= equity], 2017YE)  325 non-null    float64\n",
      " 38  (Excess of assets over liabilities (£m) [= equity], 2018YE)  325 non-null    float64\n",
      " 39  (Excess of assets over liabilities (£m) [= equity], 2019YE)  325 non-null    float64\n",
      " 40  (Excess of assets over liabilities (£m) [= equity], 2020YE)  325 non-null    float64\n",
      "dtypes: float64(40), object(1)\n",
      "memory usage: 104.2+ KB\n"
     ]
    }
   ],
   "source": [
    "df_general.info()"
   ]
  },
  {
   "cell_type": "code",
   "execution_count": 3,
   "metadata": {},
   "outputs": [
    {
     "name": "stdout",
     "output_type": "stream",
     "text": [
      "<class 'pandas.core.frame.DataFrame'>\n",
      "RangeIndex: 456 entries, 0 to 455\n",
      "Data columns (total 46 columns):\n",
      " #   Column                                                  Non-Null Count  Dtype  \n",
      "---  ------                                                  --------------  -----  \n",
      " 0   (Firms, Firms)                                          456 non-null    object \n",
      " 1   (Gross claims incurred (£m), 2016YE)                    456 non-null    float64\n",
      " 2   (Gross claims incurred (£m), 2017YE)                    456 non-null    float64\n",
      " 3   (Gross claims incurred (£m), 2018YE)                    456 non-null    float64\n",
      " 4   (Gross claims incurred (£m), 2019YE)                    456 non-null    float64\n",
      " 5   (Gross claims incurred (£m), 2020YE)                    456 non-null    float64\n",
      " 6   (Gross BEL (inc. TPs as whole, pre-TMTP) (£m), 2016YE)  456 non-null    float64\n",
      " 7   (Gross BEL (inc. TPs as whole, pre-TMTP) (£m), 2017YE)  456 non-null    float64\n",
      " 8   (Gross BEL (inc. TPs as whole, pre-TMTP) (£m), 2018YE)  456 non-null    float64\n",
      " 9   (Gross BEL (inc. TPs as whole, pre-TMTP) (£m), 2019YE)  456 non-null    float64\n",
      " 10  (Gross BEL (inc. TPs as whole, pre-TMTP) (£m), 2020YE)  456 non-null    float64\n",
      " 11  (Net BEL (inc. TPs as a whole, pre-TMTP) (£m), 2016YE)  456 non-null    float64\n",
      " 12  (Net BEL (inc. TPs as a whole, pre-TMTP) (£m), 2017YE)  456 non-null    float64\n",
      " 13  (Net BEL (inc. TPs as a whole, pre-TMTP) (£m), 2018YE)  456 non-null    float64\n",
      " 14  (Net BEL (inc. TPs as a whole, pre-TMTP) (£m), 2019YE)  456 non-null    float64\n",
      " 15  (Net BEL (inc. TPs as a whole, pre-TMTP) (£m), 2020YE)  456 non-null    float64\n",
      " 16  (Pure net claims ratio, 2016YE)                         456 non-null    float64\n",
      " 17  (Pure net claims ratio, 2017YE)                         456 non-null    float64\n",
      " 18  (Pure net claims ratio, 2018YE)                         456 non-null    float64\n",
      " 19  (Pure net claims ratio, 2019YE)                         456 non-null    float64\n",
      " 20  (Pure net claims ratio, 2020YE)                         456 non-null    float64\n",
      " 21  (Net expense ratio, 2016YE)                             456 non-null    float64\n",
      " 22  (Net expense ratio, 2017YE)                             456 non-null    float64\n",
      " 23  (Net expense ratio, 2018YE)                             456 non-null    float64\n",
      " 24  (Net expense ratio, 2019YE)                             456 non-null    float64\n",
      " 25  (Net expense ratio, 2020YE)                             456 non-null    float64\n",
      " 26  (Net combined ratio, 2016YE)                            456 non-null    float64\n",
      " 27  (Net combined ratio, 2017YE)                            456 non-null    float64\n",
      " 28  (Net combined ratio, 2018YE)                            456 non-null    float64\n",
      " 29  (Net combined ratio, 2019YE)                            456 non-null    float64\n",
      " 30  (Net combined ratio, 2020YE)                            456 non-null    float64\n",
      " 31  (Pure gross claims ratio, 2016YE)                       456 non-null    float64\n",
      " 32  (Pure gross claims ratio, 2017YE)                       456 non-null    float64\n",
      " 33  (Pure gross claims ratio, 2018YE)                       456 non-null    float64\n",
      " 34  (Pure gross claims ratio, 2019YE)                       456 non-null    float64\n",
      " 35  (Pure gross claims ratio, 2020YE)                       456 non-null    float64\n",
      " 36  (Gross expense ratio, 2016YE)                           456 non-null    float64\n",
      " 37  (Gross expense ratio, 2017YE)                           456 non-null    float64\n",
      " 38  (Gross expense ratio, 2018YE)                           456 non-null    float64\n",
      " 39  (Gross expense ratio, 2019YE)                           456 non-null    float64\n",
      " 40  (Gross expense ratio, 2020YE)                           456 non-null    float64\n",
      " 41  (Gross combined ratio, 2016YE)                          456 non-null    float64\n",
      " 42  (Gross combined ratio, 2017YE)                          456 non-null    float64\n",
      " 43  (Gross combined ratio, 2018YE)                          456 non-null    float64\n",
      " 44  (Gross combined ratio, 2019YE)                          456 non-null    float64\n",
      " 45  (Gross combined ratio, 2020YE)                          456 non-null    float64\n",
      "dtypes: float64(45), object(1)\n",
      "memory usage: 164.0+ KB\n"
     ]
    }
   ],
   "source": [
    "df_insurance.info()"
   ]
  },
  {
   "cell_type": "markdown",
   "metadata": {},
   "source": [
    "# Data cleaning"
   ]
  },
  {
   "cell_type": "markdown",
   "metadata": {},
   "source": [
    "## Check duplicates"
   ]
  },
  {
   "cell_type": "code",
   "execution_count": 4,
   "metadata": {},
   "outputs": [
    {
     "data": {
      "text/plain": [
       "0"
      ]
     },
     "execution_count": 4,
     "metadata": {},
     "output_type": "execute_result"
    }
   ],
   "source": [
    "df_insurance.duplicated().sum()"
   ]
  },
  {
   "cell_type": "code",
   "execution_count": 5,
   "metadata": {},
   "outputs": [
    {
     "data": {
      "text/plain": [
       "0"
      ]
     },
     "execution_count": 5,
     "metadata": {},
     "output_type": "execute_result"
    }
   ],
   "source": [
    "df_general.duplicated().sum()"
   ]
  },
  {
   "cell_type": "markdown",
   "metadata": {},
   "source": [
    "## Check for all zeros"
   ]
  },
  {
   "cell_type": "code",
   "execution_count": 6,
   "metadata": {},
   "outputs": [
    {
     "data": {
      "text/html": [
       "<div>\n",
       "<style scoped>\n",
       "    .dataframe tbody tr th:only-of-type {\n",
       "        vertical-align: middle;\n",
       "    }\n",
       "\n",
       "    .dataframe tbody tr th {\n",
       "        vertical-align: top;\n",
       "    }\n",
       "\n",
       "    .dataframe thead tr th {\n",
       "        text-align: left;\n",
       "    }\n",
       "</style>\n",
       "<table border=\"1\" class=\"dataframe\">\n",
       "  <thead>\n",
       "    <tr>\n",
       "      <th></th>\n",
       "      <th colspan=\"5\" halign=\"left\">NWP (£m)</th>\n",
       "      <th colspan=\"5\" halign=\"left\">SCR (£m)</th>\n",
       "      <th>...</th>\n",
       "      <th colspan=\"5\" halign=\"left\">Total liabilities (£m)</th>\n",
       "      <th colspan=\"5\" halign=\"left\">Excess of assets over liabilities (£m) [= equity]</th>\n",
       "    </tr>\n",
       "    <tr>\n",
       "      <th></th>\n",
       "      <th>2016YE</th>\n",
       "      <th>2017YE</th>\n",
       "      <th>2018YE</th>\n",
       "      <th>2019YE</th>\n",
       "      <th>2020YE</th>\n",
       "      <th>2016YE</th>\n",
       "      <th>2017YE</th>\n",
       "      <th>2018YE</th>\n",
       "      <th>2019YE</th>\n",
       "      <th>2020YE</th>\n",
       "      <th>...</th>\n",
       "      <th>2016YE</th>\n",
       "      <th>2017YE</th>\n",
       "      <th>2018YE</th>\n",
       "      <th>2019YE</th>\n",
       "      <th>2020YE</th>\n",
       "      <th>2016YE</th>\n",
       "      <th>2017YE</th>\n",
       "      <th>2018YE</th>\n",
       "      <th>2019YE</th>\n",
       "      <th>2020YE</th>\n",
       "    </tr>\n",
       "  </thead>\n",
       "  <tbody>\n",
       "    <tr>\n",
       "      <th>7</th>\n",
       "      <td>0.0</td>\n",
       "      <td>0.0</td>\n",
       "      <td>0.0</td>\n",
       "      <td>0.0</td>\n",
       "      <td>0.0</td>\n",
       "      <td>0.0</td>\n",
       "      <td>0.0</td>\n",
       "      <td>0.0</td>\n",
       "      <td>0.0</td>\n",
       "      <td>0.0</td>\n",
       "      <td>...</td>\n",
       "      <td>0.0</td>\n",
       "      <td>0.0</td>\n",
       "      <td>0.0</td>\n",
       "      <td>0.0</td>\n",
       "      <td>0.0</td>\n",
       "      <td>0.0</td>\n",
       "      <td>0.0</td>\n",
       "      <td>0.0</td>\n",
       "      <td>0.0</td>\n",
       "      <td>0.0</td>\n",
       "    </tr>\n",
       "    <tr>\n",
       "      <th>10</th>\n",
       "      <td>0.0</td>\n",
       "      <td>0.0</td>\n",
       "      <td>0.0</td>\n",
       "      <td>0.0</td>\n",
       "      <td>0.0</td>\n",
       "      <td>0.0</td>\n",
       "      <td>0.0</td>\n",
       "      <td>0.0</td>\n",
       "      <td>0.0</td>\n",
       "      <td>0.0</td>\n",
       "      <td>...</td>\n",
       "      <td>0.0</td>\n",
       "      <td>0.0</td>\n",
       "      <td>0.0</td>\n",
       "      <td>0.0</td>\n",
       "      <td>0.0</td>\n",
       "      <td>0.0</td>\n",
       "      <td>0.0</td>\n",
       "      <td>0.0</td>\n",
       "      <td>0.0</td>\n",
       "      <td>0.0</td>\n",
       "    </tr>\n",
       "    <tr>\n",
       "      <th>28</th>\n",
       "      <td>0.0</td>\n",
       "      <td>0.0</td>\n",
       "      <td>0.0</td>\n",
       "      <td>0.0</td>\n",
       "      <td>0.0</td>\n",
       "      <td>0.0</td>\n",
       "      <td>0.0</td>\n",
       "      <td>0.0</td>\n",
       "      <td>0.0</td>\n",
       "      <td>0.0</td>\n",
       "      <td>...</td>\n",
       "      <td>0.0</td>\n",
       "      <td>0.0</td>\n",
       "      <td>0.0</td>\n",
       "      <td>0.0</td>\n",
       "      <td>0.0</td>\n",
       "      <td>0.0</td>\n",
       "      <td>0.0</td>\n",
       "      <td>0.0</td>\n",
       "      <td>0.0</td>\n",
       "      <td>0.0</td>\n",
       "    </tr>\n",
       "    <tr>\n",
       "      <th>49</th>\n",
       "      <td>0.0</td>\n",
       "      <td>0.0</td>\n",
       "      <td>0.0</td>\n",
       "      <td>0.0</td>\n",
       "      <td>0.0</td>\n",
       "      <td>0.0</td>\n",
       "      <td>0.0</td>\n",
       "      <td>0.0</td>\n",
       "      <td>0.0</td>\n",
       "      <td>0.0</td>\n",
       "      <td>...</td>\n",
       "      <td>0.0</td>\n",
       "      <td>0.0</td>\n",
       "      <td>0.0</td>\n",
       "      <td>0.0</td>\n",
       "      <td>0.0</td>\n",
       "      <td>0.0</td>\n",
       "      <td>0.0</td>\n",
       "      <td>0.0</td>\n",
       "      <td>0.0</td>\n",
       "      <td>0.0</td>\n",
       "    </tr>\n",
       "    <tr>\n",
       "      <th>64</th>\n",
       "      <td>0.0</td>\n",
       "      <td>0.0</td>\n",
       "      <td>0.0</td>\n",
       "      <td>0.0</td>\n",
       "      <td>0.0</td>\n",
       "      <td>0.0</td>\n",
       "      <td>0.0</td>\n",
       "      <td>0.0</td>\n",
       "      <td>0.0</td>\n",
       "      <td>0.0</td>\n",
       "      <td>...</td>\n",
       "      <td>0.0</td>\n",
       "      <td>0.0</td>\n",
       "      <td>0.0</td>\n",
       "      <td>0.0</td>\n",
       "      <td>0.0</td>\n",
       "      <td>0.0</td>\n",
       "      <td>0.0</td>\n",
       "      <td>0.0</td>\n",
       "      <td>0.0</td>\n",
       "      <td>0.0</td>\n",
       "    </tr>\n",
       "    <tr>\n",
       "      <th>67</th>\n",
       "      <td>0.0</td>\n",
       "      <td>0.0</td>\n",
       "      <td>0.0</td>\n",
       "      <td>0.0</td>\n",
       "      <td>0.0</td>\n",
       "      <td>0.0</td>\n",
       "      <td>0.0</td>\n",
       "      <td>0.0</td>\n",
       "      <td>0.0</td>\n",
       "      <td>0.0</td>\n",
       "      <td>...</td>\n",
       "      <td>0.0</td>\n",
       "      <td>0.0</td>\n",
       "      <td>0.0</td>\n",
       "      <td>0.0</td>\n",
       "      <td>0.0</td>\n",
       "      <td>0.0</td>\n",
       "      <td>0.0</td>\n",
       "      <td>0.0</td>\n",
       "      <td>0.0</td>\n",
       "      <td>0.0</td>\n",
       "    </tr>\n",
       "    <tr>\n",
       "      <th>111</th>\n",
       "      <td>0.0</td>\n",
       "      <td>0.0</td>\n",
       "      <td>0.0</td>\n",
       "      <td>0.0</td>\n",
       "      <td>0.0</td>\n",
       "      <td>0.0</td>\n",
       "      <td>0.0</td>\n",
       "      <td>0.0</td>\n",
       "      <td>0.0</td>\n",
       "      <td>0.0</td>\n",
       "      <td>...</td>\n",
       "      <td>0.0</td>\n",
       "      <td>0.0</td>\n",
       "      <td>0.0</td>\n",
       "      <td>0.0</td>\n",
       "      <td>0.0</td>\n",
       "      <td>0.0</td>\n",
       "      <td>0.0</td>\n",
       "      <td>0.0</td>\n",
       "      <td>0.0</td>\n",
       "      <td>0.0</td>\n",
       "    </tr>\n",
       "    <tr>\n",
       "      <th>115</th>\n",
       "      <td>0.0</td>\n",
       "      <td>0.0</td>\n",
       "      <td>0.0</td>\n",
       "      <td>0.0</td>\n",
       "      <td>0.0</td>\n",
       "      <td>0.0</td>\n",
       "      <td>0.0</td>\n",
       "      <td>0.0</td>\n",
       "      <td>0.0</td>\n",
       "      <td>0.0</td>\n",
       "      <td>...</td>\n",
       "      <td>0.0</td>\n",
       "      <td>0.0</td>\n",
       "      <td>0.0</td>\n",
       "      <td>0.0</td>\n",
       "      <td>0.0</td>\n",
       "      <td>0.0</td>\n",
       "      <td>0.0</td>\n",
       "      <td>0.0</td>\n",
       "      <td>0.0</td>\n",
       "      <td>0.0</td>\n",
       "    </tr>\n",
       "    <tr>\n",
       "      <th>118</th>\n",
       "      <td>0.0</td>\n",
       "      <td>0.0</td>\n",
       "      <td>0.0</td>\n",
       "      <td>0.0</td>\n",
       "      <td>0.0</td>\n",
       "      <td>0.0</td>\n",
       "      <td>0.0</td>\n",
       "      <td>0.0</td>\n",
       "      <td>0.0</td>\n",
       "      <td>0.0</td>\n",
       "      <td>...</td>\n",
       "      <td>0.0</td>\n",
       "      <td>0.0</td>\n",
       "      <td>0.0</td>\n",
       "      <td>0.0</td>\n",
       "      <td>0.0</td>\n",
       "      <td>0.0</td>\n",
       "      <td>0.0</td>\n",
       "      <td>0.0</td>\n",
       "      <td>0.0</td>\n",
       "      <td>0.0</td>\n",
       "    </tr>\n",
       "    <tr>\n",
       "      <th>127</th>\n",
       "      <td>0.0</td>\n",
       "      <td>0.0</td>\n",
       "      <td>0.0</td>\n",
       "      <td>0.0</td>\n",
       "      <td>0.0</td>\n",
       "      <td>0.0</td>\n",
       "      <td>0.0</td>\n",
       "      <td>0.0</td>\n",
       "      <td>0.0</td>\n",
       "      <td>0.0</td>\n",
       "      <td>...</td>\n",
       "      <td>0.0</td>\n",
       "      <td>0.0</td>\n",
       "      <td>0.0</td>\n",
       "      <td>0.0</td>\n",
       "      <td>0.0</td>\n",
       "      <td>0.0</td>\n",
       "      <td>0.0</td>\n",
       "      <td>0.0</td>\n",
       "      <td>0.0</td>\n",
       "      <td>0.0</td>\n",
       "    </tr>\n",
       "    <tr>\n",
       "      <th>161</th>\n",
       "      <td>0.0</td>\n",
       "      <td>0.0</td>\n",
       "      <td>0.0</td>\n",
       "      <td>0.0</td>\n",
       "      <td>0.0</td>\n",
       "      <td>0.0</td>\n",
       "      <td>0.0</td>\n",
       "      <td>0.0</td>\n",
       "      <td>0.0</td>\n",
       "      <td>0.0</td>\n",
       "      <td>...</td>\n",
       "      <td>0.0</td>\n",
       "      <td>0.0</td>\n",
       "      <td>0.0</td>\n",
       "      <td>0.0</td>\n",
       "      <td>0.0</td>\n",
       "      <td>0.0</td>\n",
       "      <td>0.0</td>\n",
       "      <td>0.0</td>\n",
       "      <td>0.0</td>\n",
       "      <td>0.0</td>\n",
       "    </tr>\n",
       "    <tr>\n",
       "      <th>175</th>\n",
       "      <td>0.0</td>\n",
       "      <td>0.0</td>\n",
       "      <td>0.0</td>\n",
       "      <td>0.0</td>\n",
       "      <td>0.0</td>\n",
       "      <td>0.0</td>\n",
       "      <td>0.0</td>\n",
       "      <td>0.0</td>\n",
       "      <td>0.0</td>\n",
       "      <td>0.0</td>\n",
       "      <td>...</td>\n",
       "      <td>0.0</td>\n",
       "      <td>0.0</td>\n",
       "      <td>0.0</td>\n",
       "      <td>0.0</td>\n",
       "      <td>0.0</td>\n",
       "      <td>0.0</td>\n",
       "      <td>0.0</td>\n",
       "      <td>0.0</td>\n",
       "      <td>0.0</td>\n",
       "      <td>0.0</td>\n",
       "    </tr>\n",
       "    <tr>\n",
       "      <th>197</th>\n",
       "      <td>0.0</td>\n",
       "      <td>0.0</td>\n",
       "      <td>0.0</td>\n",
       "      <td>0.0</td>\n",
       "      <td>0.0</td>\n",
       "      <td>0.0</td>\n",
       "      <td>0.0</td>\n",
       "      <td>0.0</td>\n",
       "      <td>0.0</td>\n",
       "      <td>0.0</td>\n",
       "      <td>...</td>\n",
       "      <td>0.0</td>\n",
       "      <td>0.0</td>\n",
       "      <td>0.0</td>\n",
       "      <td>0.0</td>\n",
       "      <td>0.0</td>\n",
       "      <td>0.0</td>\n",
       "      <td>0.0</td>\n",
       "      <td>0.0</td>\n",
       "      <td>0.0</td>\n",
       "      <td>0.0</td>\n",
       "    </tr>\n",
       "    <tr>\n",
       "      <th>205</th>\n",
       "      <td>0.0</td>\n",
       "      <td>0.0</td>\n",
       "      <td>0.0</td>\n",
       "      <td>0.0</td>\n",
       "      <td>0.0</td>\n",
       "      <td>0.0</td>\n",
       "      <td>0.0</td>\n",
       "      <td>0.0</td>\n",
       "      <td>0.0</td>\n",
       "      <td>0.0</td>\n",
       "      <td>...</td>\n",
       "      <td>0.0</td>\n",
       "      <td>0.0</td>\n",
       "      <td>0.0</td>\n",
       "      <td>0.0</td>\n",
       "      <td>0.0</td>\n",
       "      <td>0.0</td>\n",
       "      <td>0.0</td>\n",
       "      <td>0.0</td>\n",
       "      <td>0.0</td>\n",
       "      <td>0.0</td>\n",
       "    </tr>\n",
       "    <tr>\n",
       "      <th>250</th>\n",
       "      <td>0.0</td>\n",
       "      <td>0.0</td>\n",
       "      <td>0.0</td>\n",
       "      <td>0.0</td>\n",
       "      <td>0.0</td>\n",
       "      <td>0.0</td>\n",
       "      <td>0.0</td>\n",
       "      <td>0.0</td>\n",
       "      <td>0.0</td>\n",
       "      <td>0.0</td>\n",
       "      <td>...</td>\n",
       "      <td>0.0</td>\n",
       "      <td>0.0</td>\n",
       "      <td>0.0</td>\n",
       "      <td>0.0</td>\n",
       "      <td>0.0</td>\n",
       "      <td>0.0</td>\n",
       "      <td>0.0</td>\n",
       "      <td>0.0</td>\n",
       "      <td>0.0</td>\n",
       "      <td>0.0</td>\n",
       "    </tr>\n",
       "    <tr>\n",
       "      <th>256</th>\n",
       "      <td>0.0</td>\n",
       "      <td>0.0</td>\n",
       "      <td>0.0</td>\n",
       "      <td>0.0</td>\n",
       "      <td>0.0</td>\n",
       "      <td>0.0</td>\n",
       "      <td>0.0</td>\n",
       "      <td>0.0</td>\n",
       "      <td>0.0</td>\n",
       "      <td>0.0</td>\n",
       "      <td>...</td>\n",
       "      <td>0.0</td>\n",
       "      <td>0.0</td>\n",
       "      <td>0.0</td>\n",
       "      <td>0.0</td>\n",
       "      <td>0.0</td>\n",
       "      <td>0.0</td>\n",
       "      <td>0.0</td>\n",
       "      <td>0.0</td>\n",
       "      <td>0.0</td>\n",
       "      <td>0.0</td>\n",
       "    </tr>\n",
       "    <tr>\n",
       "      <th>258</th>\n",
       "      <td>0.0</td>\n",
       "      <td>0.0</td>\n",
       "      <td>0.0</td>\n",
       "      <td>0.0</td>\n",
       "      <td>0.0</td>\n",
       "      <td>0.0</td>\n",
       "      <td>0.0</td>\n",
       "      <td>0.0</td>\n",
       "      <td>0.0</td>\n",
       "      <td>0.0</td>\n",
       "      <td>...</td>\n",
       "      <td>0.0</td>\n",
       "      <td>0.0</td>\n",
       "      <td>0.0</td>\n",
       "      <td>0.0</td>\n",
       "      <td>0.0</td>\n",
       "      <td>0.0</td>\n",
       "      <td>0.0</td>\n",
       "      <td>0.0</td>\n",
       "      <td>0.0</td>\n",
       "      <td>0.0</td>\n",
       "    </tr>\n",
       "    <tr>\n",
       "      <th>260</th>\n",
       "      <td>0.0</td>\n",
       "      <td>0.0</td>\n",
       "      <td>0.0</td>\n",
       "      <td>0.0</td>\n",
       "      <td>0.0</td>\n",
       "      <td>0.0</td>\n",
       "      <td>0.0</td>\n",
       "      <td>0.0</td>\n",
       "      <td>0.0</td>\n",
       "      <td>0.0</td>\n",
       "      <td>...</td>\n",
       "      <td>0.0</td>\n",
       "      <td>0.0</td>\n",
       "      <td>0.0</td>\n",
       "      <td>0.0</td>\n",
       "      <td>0.0</td>\n",
       "      <td>0.0</td>\n",
       "      <td>0.0</td>\n",
       "      <td>0.0</td>\n",
       "      <td>0.0</td>\n",
       "      <td>0.0</td>\n",
       "    </tr>\n",
       "    <tr>\n",
       "      <th>309</th>\n",
       "      <td>0.0</td>\n",
       "      <td>0.0</td>\n",
       "      <td>0.0</td>\n",
       "      <td>0.0</td>\n",
       "      <td>0.0</td>\n",
       "      <td>0.0</td>\n",
       "      <td>0.0</td>\n",
       "      <td>0.0</td>\n",
       "      <td>0.0</td>\n",
       "      <td>0.0</td>\n",
       "      <td>...</td>\n",
       "      <td>0.0</td>\n",
       "      <td>0.0</td>\n",
       "      <td>0.0</td>\n",
       "      <td>0.0</td>\n",
       "      <td>0.0</td>\n",
       "      <td>0.0</td>\n",
       "      <td>0.0</td>\n",
       "      <td>0.0</td>\n",
       "      <td>0.0</td>\n",
       "      <td>0.0</td>\n",
       "    </tr>\n",
       "  </tbody>\n",
       "</table>\n",
       "<p>19 rows × 40 columns</p>\n",
       "</div>"
      ],
      "text/plain": [
       "    NWP (£m)                              SCR (£m)                       \\\n",
       "       2016YE 2017YE 2018YE 2019YE 2020YE   2016YE 2017YE 2018YE 2019YE   \n",
       "7         0.0    0.0    0.0    0.0    0.0      0.0    0.0    0.0    0.0   \n",
       "10        0.0    0.0    0.0    0.0    0.0      0.0    0.0    0.0    0.0   \n",
       "28        0.0    0.0    0.0    0.0    0.0      0.0    0.0    0.0    0.0   \n",
       "49        0.0    0.0    0.0    0.0    0.0      0.0    0.0    0.0    0.0   \n",
       "64        0.0    0.0    0.0    0.0    0.0      0.0    0.0    0.0    0.0   \n",
       "67        0.0    0.0    0.0    0.0    0.0      0.0    0.0    0.0    0.0   \n",
       "111       0.0    0.0    0.0    0.0    0.0      0.0    0.0    0.0    0.0   \n",
       "115       0.0    0.0    0.0    0.0    0.0      0.0    0.0    0.0    0.0   \n",
       "118       0.0    0.0    0.0    0.0    0.0      0.0    0.0    0.0    0.0   \n",
       "127       0.0    0.0    0.0    0.0    0.0      0.0    0.0    0.0    0.0   \n",
       "161       0.0    0.0    0.0    0.0    0.0      0.0    0.0    0.0    0.0   \n",
       "175       0.0    0.0    0.0    0.0    0.0      0.0    0.0    0.0    0.0   \n",
       "197       0.0    0.0    0.0    0.0    0.0      0.0    0.0    0.0    0.0   \n",
       "205       0.0    0.0    0.0    0.0    0.0      0.0    0.0    0.0    0.0   \n",
       "250       0.0    0.0    0.0    0.0    0.0      0.0    0.0    0.0    0.0   \n",
       "256       0.0    0.0    0.0    0.0    0.0      0.0    0.0    0.0    0.0   \n",
       "258       0.0    0.0    0.0    0.0    0.0      0.0    0.0    0.0    0.0   \n",
       "260       0.0    0.0    0.0    0.0    0.0      0.0    0.0    0.0    0.0   \n",
       "309       0.0    0.0    0.0    0.0    0.0      0.0    0.0    0.0    0.0   \n",
       "\n",
       "            ... Total liabilities (£m)                              \\\n",
       "    2020YE  ...                 2016YE 2017YE 2018YE 2019YE 2020YE   \n",
       "7      0.0  ...                    0.0    0.0    0.0    0.0    0.0   \n",
       "10     0.0  ...                    0.0    0.0    0.0    0.0    0.0   \n",
       "28     0.0  ...                    0.0    0.0    0.0    0.0    0.0   \n",
       "49     0.0  ...                    0.0    0.0    0.0    0.0    0.0   \n",
       "64     0.0  ...                    0.0    0.0    0.0    0.0    0.0   \n",
       "67     0.0  ...                    0.0    0.0    0.0    0.0    0.0   \n",
       "111    0.0  ...                    0.0    0.0    0.0    0.0    0.0   \n",
       "115    0.0  ...                    0.0    0.0    0.0    0.0    0.0   \n",
       "118    0.0  ...                    0.0    0.0    0.0    0.0    0.0   \n",
       "127    0.0  ...                    0.0    0.0    0.0    0.0    0.0   \n",
       "161    0.0  ...                    0.0    0.0    0.0    0.0    0.0   \n",
       "175    0.0  ...                    0.0    0.0    0.0    0.0    0.0   \n",
       "197    0.0  ...                    0.0    0.0    0.0    0.0    0.0   \n",
       "205    0.0  ...                    0.0    0.0    0.0    0.0    0.0   \n",
       "250    0.0  ...                    0.0    0.0    0.0    0.0    0.0   \n",
       "256    0.0  ...                    0.0    0.0    0.0    0.0    0.0   \n",
       "258    0.0  ...                    0.0    0.0    0.0    0.0    0.0   \n",
       "260    0.0  ...                    0.0    0.0    0.0    0.0    0.0   \n",
       "309    0.0  ...                    0.0    0.0    0.0    0.0    0.0   \n",
       "\n",
       "    Excess of assets over liabilities (£m) [= equity]                       \\\n",
       "                                               2016YE 2017YE 2018YE 2019YE   \n",
       "7                                                 0.0    0.0    0.0    0.0   \n",
       "10                                                0.0    0.0    0.0    0.0   \n",
       "28                                                0.0    0.0    0.0    0.0   \n",
       "49                                                0.0    0.0    0.0    0.0   \n",
       "64                                                0.0    0.0    0.0    0.0   \n",
       "67                                                0.0    0.0    0.0    0.0   \n",
       "111                                               0.0    0.0    0.0    0.0   \n",
       "115                                               0.0    0.0    0.0    0.0   \n",
       "118                                               0.0    0.0    0.0    0.0   \n",
       "127                                               0.0    0.0    0.0    0.0   \n",
       "161                                               0.0    0.0    0.0    0.0   \n",
       "175                                               0.0    0.0    0.0    0.0   \n",
       "197                                               0.0    0.0    0.0    0.0   \n",
       "205                                               0.0    0.0    0.0    0.0   \n",
       "250                                               0.0    0.0    0.0    0.0   \n",
       "256                                               0.0    0.0    0.0    0.0   \n",
       "258                                               0.0    0.0    0.0    0.0   \n",
       "260                                               0.0    0.0    0.0    0.0   \n",
       "309                                               0.0    0.0    0.0    0.0   \n",
       "\n",
       "            \n",
       "    2020YE  \n",
       "7      0.0  \n",
       "10     0.0  \n",
       "28     0.0  \n",
       "49     0.0  \n",
       "64     0.0  \n",
       "67     0.0  \n",
       "111    0.0  \n",
       "115    0.0  \n",
       "118    0.0  \n",
       "127    0.0  \n",
       "161    0.0  \n",
       "175    0.0  \n",
       "197    0.0  \n",
       "205    0.0  \n",
       "250    0.0  \n",
       "256    0.0  \n",
       "258    0.0  \n",
       "260    0.0  \n",
       "309    0.0  \n",
       "\n",
       "[19 rows x 40 columns]"
      ]
     },
     "execution_count": 6,
     "metadata": {},
     "output_type": "execute_result"
    }
   ],
   "source": [
    "df_general_zeros = df_general_drop[(df_general_drop == 0).all(axis=1)]\n",
    "df_general_zeros"
   ]
  },
  {
   "cell_type": "code",
   "execution_count": 7,
   "metadata": {},
   "outputs": [
    {
     "data": {
      "text/html": [
       "<div>\n",
       "<style scoped>\n",
       "    .dataframe tbody tr th:only-of-type {\n",
       "        vertical-align: middle;\n",
       "    }\n",
       "\n",
       "    .dataframe tbody tr th {\n",
       "        vertical-align: top;\n",
       "    }\n",
       "\n",
       "    .dataframe thead tr th {\n",
       "        text-align: left;\n",
       "    }\n",
       "</style>\n",
       "<table border=\"1\" class=\"dataframe\">\n",
       "  <thead>\n",
       "    <tr>\n",
       "      <th></th>\n",
       "      <th colspan=\"5\" halign=\"left\">Gross claims incurred (£m)</th>\n",
       "      <th colspan=\"5\" halign=\"left\">Gross BEL (inc. TPs as whole, pre-TMTP) (£m)</th>\n",
       "      <th>...</th>\n",
       "      <th colspan=\"5\" halign=\"left\">Gross expense ratio</th>\n",
       "      <th colspan=\"5\" halign=\"left\">Gross combined ratio</th>\n",
       "    </tr>\n",
       "    <tr>\n",
       "      <th></th>\n",
       "      <th>2016YE</th>\n",
       "      <th>2017YE</th>\n",
       "      <th>2018YE</th>\n",
       "      <th>2019YE</th>\n",
       "      <th>2020YE</th>\n",
       "      <th>2016YE</th>\n",
       "      <th>2017YE</th>\n",
       "      <th>2018YE</th>\n",
       "      <th>2019YE</th>\n",
       "      <th>2020YE</th>\n",
       "      <th>...</th>\n",
       "      <th>2016YE</th>\n",
       "      <th>2017YE</th>\n",
       "      <th>2018YE</th>\n",
       "      <th>2019YE</th>\n",
       "      <th>2020YE</th>\n",
       "      <th>2016YE</th>\n",
       "      <th>2017YE</th>\n",
       "      <th>2018YE</th>\n",
       "      <th>2019YE</th>\n",
       "      <th>2020YE</th>\n",
       "    </tr>\n",
       "  </thead>\n",
       "  <tbody>\n",
       "    <tr>\n",
       "      <th>2</th>\n",
       "      <td>0.0</td>\n",
       "      <td>0.0</td>\n",
       "      <td>0.0</td>\n",
       "      <td>0.0</td>\n",
       "      <td>0.0</td>\n",
       "      <td>0.0</td>\n",
       "      <td>0.0</td>\n",
       "      <td>0.0</td>\n",
       "      <td>0.0</td>\n",
       "      <td>0.0</td>\n",
       "      <td>...</td>\n",
       "      <td>0.0</td>\n",
       "      <td>0.0</td>\n",
       "      <td>0.0</td>\n",
       "      <td>0.0</td>\n",
       "      <td>0.0</td>\n",
       "      <td>0.0</td>\n",
       "      <td>0.0</td>\n",
       "      <td>0.0</td>\n",
       "      <td>0.0</td>\n",
       "      <td>0.0</td>\n",
       "    </tr>\n",
       "    <tr>\n",
       "      <th>6</th>\n",
       "      <td>0.0</td>\n",
       "      <td>0.0</td>\n",
       "      <td>0.0</td>\n",
       "      <td>0.0</td>\n",
       "      <td>0.0</td>\n",
       "      <td>0.0</td>\n",
       "      <td>0.0</td>\n",
       "      <td>0.0</td>\n",
       "      <td>0.0</td>\n",
       "      <td>0.0</td>\n",
       "      <td>...</td>\n",
       "      <td>0.0</td>\n",
       "      <td>0.0</td>\n",
       "      <td>0.0</td>\n",
       "      <td>0.0</td>\n",
       "      <td>0.0</td>\n",
       "      <td>0.0</td>\n",
       "      <td>0.0</td>\n",
       "      <td>0.0</td>\n",
       "      <td>0.0</td>\n",
       "      <td>0.0</td>\n",
       "    </tr>\n",
       "    <tr>\n",
       "      <th>12</th>\n",
       "      <td>0.0</td>\n",
       "      <td>0.0</td>\n",
       "      <td>0.0</td>\n",
       "      <td>0.0</td>\n",
       "      <td>0.0</td>\n",
       "      <td>0.0</td>\n",
       "      <td>0.0</td>\n",
       "      <td>0.0</td>\n",
       "      <td>0.0</td>\n",
       "      <td>0.0</td>\n",
       "      <td>...</td>\n",
       "      <td>0.0</td>\n",
       "      <td>0.0</td>\n",
       "      <td>0.0</td>\n",
       "      <td>0.0</td>\n",
       "      <td>0.0</td>\n",
       "      <td>0.0</td>\n",
       "      <td>0.0</td>\n",
       "      <td>0.0</td>\n",
       "      <td>0.0</td>\n",
       "      <td>0.0</td>\n",
       "    </tr>\n",
       "    <tr>\n",
       "      <th>14</th>\n",
       "      <td>0.0</td>\n",
       "      <td>0.0</td>\n",
       "      <td>0.0</td>\n",
       "      <td>0.0</td>\n",
       "      <td>0.0</td>\n",
       "      <td>0.0</td>\n",
       "      <td>0.0</td>\n",
       "      <td>0.0</td>\n",
       "      <td>0.0</td>\n",
       "      <td>0.0</td>\n",
       "      <td>...</td>\n",
       "      <td>0.0</td>\n",
       "      <td>0.0</td>\n",
       "      <td>0.0</td>\n",
       "      <td>0.0</td>\n",
       "      <td>0.0</td>\n",
       "      <td>0.0</td>\n",
       "      <td>0.0</td>\n",
       "      <td>0.0</td>\n",
       "      <td>0.0</td>\n",
       "      <td>0.0</td>\n",
       "    </tr>\n",
       "    <tr>\n",
       "      <th>15</th>\n",
       "      <td>0.0</td>\n",
       "      <td>0.0</td>\n",
       "      <td>0.0</td>\n",
       "      <td>0.0</td>\n",
       "      <td>0.0</td>\n",
       "      <td>0.0</td>\n",
       "      <td>0.0</td>\n",
       "      <td>0.0</td>\n",
       "      <td>0.0</td>\n",
       "      <td>0.0</td>\n",
       "      <td>...</td>\n",
       "      <td>0.0</td>\n",
       "      <td>0.0</td>\n",
       "      <td>0.0</td>\n",
       "      <td>0.0</td>\n",
       "      <td>0.0</td>\n",
       "      <td>0.0</td>\n",
       "      <td>0.0</td>\n",
       "      <td>0.0</td>\n",
       "      <td>0.0</td>\n",
       "      <td>0.0</td>\n",
       "    </tr>\n",
       "    <tr>\n",
       "      <th>...</th>\n",
       "      <td>...</td>\n",
       "      <td>...</td>\n",
       "      <td>...</td>\n",
       "      <td>...</td>\n",
       "      <td>...</td>\n",
       "      <td>...</td>\n",
       "      <td>...</td>\n",
       "      <td>...</td>\n",
       "      <td>...</td>\n",
       "      <td>...</td>\n",
       "      <td>...</td>\n",
       "      <td>...</td>\n",
       "      <td>...</td>\n",
       "      <td>...</td>\n",
       "      <td>...</td>\n",
       "      <td>...</td>\n",
       "      <td>...</td>\n",
       "      <td>...</td>\n",
       "      <td>...</td>\n",
       "      <td>...</td>\n",
       "      <td>...</td>\n",
       "    </tr>\n",
       "    <tr>\n",
       "      <th>443</th>\n",
       "      <td>0.0</td>\n",
       "      <td>0.0</td>\n",
       "      <td>0.0</td>\n",
       "      <td>0.0</td>\n",
       "      <td>0.0</td>\n",
       "      <td>0.0</td>\n",
       "      <td>0.0</td>\n",
       "      <td>0.0</td>\n",
       "      <td>0.0</td>\n",
       "      <td>0.0</td>\n",
       "      <td>...</td>\n",
       "      <td>0.0</td>\n",
       "      <td>0.0</td>\n",
       "      <td>0.0</td>\n",
       "      <td>0.0</td>\n",
       "      <td>0.0</td>\n",
       "      <td>0.0</td>\n",
       "      <td>0.0</td>\n",
       "      <td>0.0</td>\n",
       "      <td>0.0</td>\n",
       "      <td>0.0</td>\n",
       "    </tr>\n",
       "    <tr>\n",
       "      <th>445</th>\n",
       "      <td>0.0</td>\n",
       "      <td>0.0</td>\n",
       "      <td>0.0</td>\n",
       "      <td>0.0</td>\n",
       "      <td>0.0</td>\n",
       "      <td>0.0</td>\n",
       "      <td>0.0</td>\n",
       "      <td>0.0</td>\n",
       "      <td>0.0</td>\n",
       "      <td>0.0</td>\n",
       "      <td>...</td>\n",
       "      <td>0.0</td>\n",
       "      <td>0.0</td>\n",
       "      <td>0.0</td>\n",
       "      <td>0.0</td>\n",
       "      <td>0.0</td>\n",
       "      <td>0.0</td>\n",
       "      <td>0.0</td>\n",
       "      <td>0.0</td>\n",
       "      <td>0.0</td>\n",
       "      <td>0.0</td>\n",
       "    </tr>\n",
       "    <tr>\n",
       "      <th>447</th>\n",
       "      <td>0.0</td>\n",
       "      <td>0.0</td>\n",
       "      <td>0.0</td>\n",
       "      <td>0.0</td>\n",
       "      <td>0.0</td>\n",
       "      <td>0.0</td>\n",
       "      <td>0.0</td>\n",
       "      <td>0.0</td>\n",
       "      <td>0.0</td>\n",
       "      <td>0.0</td>\n",
       "      <td>...</td>\n",
       "      <td>0.0</td>\n",
       "      <td>0.0</td>\n",
       "      <td>0.0</td>\n",
       "      <td>0.0</td>\n",
       "      <td>0.0</td>\n",
       "      <td>0.0</td>\n",
       "      <td>0.0</td>\n",
       "      <td>0.0</td>\n",
       "      <td>0.0</td>\n",
       "      <td>0.0</td>\n",
       "    </tr>\n",
       "    <tr>\n",
       "      <th>451</th>\n",
       "      <td>0.0</td>\n",
       "      <td>0.0</td>\n",
       "      <td>0.0</td>\n",
       "      <td>0.0</td>\n",
       "      <td>0.0</td>\n",
       "      <td>0.0</td>\n",
       "      <td>0.0</td>\n",
       "      <td>0.0</td>\n",
       "      <td>0.0</td>\n",
       "      <td>0.0</td>\n",
       "      <td>...</td>\n",
       "      <td>0.0</td>\n",
       "      <td>0.0</td>\n",
       "      <td>0.0</td>\n",
       "      <td>0.0</td>\n",
       "      <td>0.0</td>\n",
       "      <td>0.0</td>\n",
       "      <td>0.0</td>\n",
       "      <td>0.0</td>\n",
       "      <td>0.0</td>\n",
       "      <td>0.0</td>\n",
       "    </tr>\n",
       "    <tr>\n",
       "      <th>455</th>\n",
       "      <td>0.0</td>\n",
       "      <td>0.0</td>\n",
       "      <td>0.0</td>\n",
       "      <td>0.0</td>\n",
       "      <td>0.0</td>\n",
       "      <td>0.0</td>\n",
       "      <td>0.0</td>\n",
       "      <td>0.0</td>\n",
       "      <td>0.0</td>\n",
       "      <td>0.0</td>\n",
       "      <td>...</td>\n",
       "      <td>0.0</td>\n",
       "      <td>0.0</td>\n",
       "      <td>0.0</td>\n",
       "      <td>0.0</td>\n",
       "      <td>0.0</td>\n",
       "      <td>0.0</td>\n",
       "      <td>0.0</td>\n",
       "      <td>0.0</td>\n",
       "      <td>0.0</td>\n",
       "      <td>0.0</td>\n",
       "    </tr>\n",
       "  </tbody>\n",
       "</table>\n",
       "<p>116 rows × 45 columns</p>\n",
       "</div>"
      ],
      "text/plain": [
       "    Gross claims incurred (£m)                              \\\n",
       "                        2016YE 2017YE 2018YE 2019YE 2020YE   \n",
       "2                          0.0    0.0    0.0    0.0    0.0   \n",
       "6                          0.0    0.0    0.0    0.0    0.0   \n",
       "12                         0.0    0.0    0.0    0.0    0.0   \n",
       "14                         0.0    0.0    0.0    0.0    0.0   \n",
       "15                         0.0    0.0    0.0    0.0    0.0   \n",
       "..                         ...    ...    ...    ...    ...   \n",
       "443                        0.0    0.0    0.0    0.0    0.0   \n",
       "445                        0.0    0.0    0.0    0.0    0.0   \n",
       "447                        0.0    0.0    0.0    0.0    0.0   \n",
       "451                        0.0    0.0    0.0    0.0    0.0   \n",
       "455                        0.0    0.0    0.0    0.0    0.0   \n",
       "\n",
       "    Gross BEL (inc. TPs as whole, pre-TMTP) (£m)                              \\\n",
       "                                          2016YE 2017YE 2018YE 2019YE 2020YE   \n",
       "2                                            0.0    0.0    0.0    0.0    0.0   \n",
       "6                                            0.0    0.0    0.0    0.0    0.0   \n",
       "12                                           0.0    0.0    0.0    0.0    0.0   \n",
       "14                                           0.0    0.0    0.0    0.0    0.0   \n",
       "15                                           0.0    0.0    0.0    0.0    0.0   \n",
       "..                                           ...    ...    ...    ...    ...   \n",
       "443                                          0.0    0.0    0.0    0.0    0.0   \n",
       "445                                          0.0    0.0    0.0    0.0    0.0   \n",
       "447                                          0.0    0.0    0.0    0.0    0.0   \n",
       "451                                          0.0    0.0    0.0    0.0    0.0   \n",
       "455                                          0.0    0.0    0.0    0.0    0.0   \n",
       "\n",
       "     ... Gross expense ratio                             Gross combined ratio  \\\n",
       "     ...              2016YE 2017YE 2018YE 2019YE 2020YE               2016YE   \n",
       "2    ...                 0.0    0.0    0.0    0.0    0.0                  0.0   \n",
       "6    ...                 0.0    0.0    0.0    0.0    0.0                  0.0   \n",
       "12   ...                 0.0    0.0    0.0    0.0    0.0                  0.0   \n",
       "14   ...                 0.0    0.0    0.0    0.0    0.0                  0.0   \n",
       "15   ...                 0.0    0.0    0.0    0.0    0.0                  0.0   \n",
       "..   ...                 ...    ...    ...    ...    ...                  ...   \n",
       "443  ...                 0.0    0.0    0.0    0.0    0.0                  0.0   \n",
       "445  ...                 0.0    0.0    0.0    0.0    0.0                  0.0   \n",
       "447  ...                 0.0    0.0    0.0    0.0    0.0                  0.0   \n",
       "451  ...                 0.0    0.0    0.0    0.0    0.0                  0.0   \n",
       "455  ...                 0.0    0.0    0.0    0.0    0.0                  0.0   \n",
       "\n",
       "                                 \n",
       "    2017YE 2018YE 2019YE 2020YE  \n",
       "2      0.0    0.0    0.0    0.0  \n",
       "6      0.0    0.0    0.0    0.0  \n",
       "12     0.0    0.0    0.0    0.0  \n",
       "14     0.0    0.0    0.0    0.0  \n",
       "15     0.0    0.0    0.0    0.0  \n",
       "..     ...    ...    ...    ...  \n",
       "443    0.0    0.0    0.0    0.0  \n",
       "445    0.0    0.0    0.0    0.0  \n",
       "447    0.0    0.0    0.0    0.0  \n",
       "451    0.0    0.0    0.0    0.0  \n",
       "455    0.0    0.0    0.0    0.0  \n",
       "\n",
       "[116 rows x 45 columns]"
      ]
     },
     "execution_count": 7,
     "metadata": {},
     "output_type": "execute_result"
    }
   ],
   "source": [
    "df_insurance_zeros = df_insurance_drop[(df_insurance_drop == 0).all(axis=1)]\n",
    "df_insurance_zeros"
   ]
  },
  {
   "cell_type": "markdown",
   "metadata": {},
   "source": [
    "### Remove zero rows from each dataframe then merge"
   ]
  },
  {
   "cell_type": "code",
   "execution_count": 8,
   "metadata": {},
   "outputs": [],
   "source": [
    "df_general = df_general.drop(df_general_zeros.index)\n",
    "df_insurance = df_insurance.drop(df_insurance_zeros.index)"
   ]
  },
  {
   "cell_type": "code",
   "execution_count": 9,
   "metadata": {},
   "outputs": [
    {
     "data": {
      "text/html": [
       "<div>\n",
       "<style scoped>\n",
       "    .dataframe tbody tr th:only-of-type {\n",
       "        vertical-align: middle;\n",
       "    }\n",
       "\n",
       "    .dataframe tbody tr th {\n",
       "        vertical-align: top;\n",
       "    }\n",
       "\n",
       "    .dataframe thead tr th {\n",
       "        text-align: left;\n",
       "    }\n",
       "</style>\n",
       "<table border=\"1\" class=\"dataframe\">\n",
       "  <thead>\n",
       "    <tr>\n",
       "      <th></th>\n",
       "      <th>Firms_x</th>\n",
       "      <th colspan=\"5\" halign=\"left\">NWP (£m)</th>\n",
       "      <th colspan=\"4\" halign=\"left\">SCR (£m)</th>\n",
       "      <th>...</th>\n",
       "      <th colspan=\"5\" halign=\"left\">Gross expense ratio</th>\n",
       "      <th colspan=\"5\" halign=\"left\">Gross combined ratio</th>\n",
       "    </tr>\n",
       "    <tr>\n",
       "      <th></th>\n",
       "      <th>Firms_x</th>\n",
       "      <th>2016YE</th>\n",
       "      <th>2017YE</th>\n",
       "      <th>2018YE</th>\n",
       "      <th>2019YE</th>\n",
       "      <th>2020YE</th>\n",
       "      <th>2016YE</th>\n",
       "      <th>2017YE</th>\n",
       "      <th>2018YE</th>\n",
       "      <th>2019YE</th>\n",
       "      <th>...</th>\n",
       "      <th>2016YE</th>\n",
       "      <th>2017YE</th>\n",
       "      <th>2018YE</th>\n",
       "      <th>2019YE</th>\n",
       "      <th>2020YE</th>\n",
       "      <th>2016YE</th>\n",
       "      <th>2017YE</th>\n",
       "      <th>2018YE</th>\n",
       "      <th>2019YE</th>\n",
       "      <th>2020YE</th>\n",
       "    </tr>\n",
       "  </thead>\n",
       "  <tbody>\n",
       "    <tr>\n",
       "      <th>0</th>\n",
       "      <td>Firm 1</td>\n",
       "      <td>-17754.100486</td>\n",
       "      <td>0.000000</td>\n",
       "      <td>0.000000</td>\n",
       "      <td>0.000000</td>\n",
       "      <td>0.000000</td>\n",
       "      <td>2021.321862</td>\n",
       "      <td>6.940043e-09</td>\n",
       "      <td>0.000000</td>\n",
       "      <td>0.000000</td>\n",
       "      <td>...</td>\n",
       "      <td>0.000000</td>\n",
       "      <td>77.251254</td>\n",
       "      <td>0.000000</td>\n",
       "      <td>0.000000</td>\n",
       "      <td>0.000000</td>\n",
       "      <td>0.000000</td>\n",
       "      <td>0.675051</td>\n",
       "      <td>0.000000</td>\n",
       "      <td>0.000000</td>\n",
       "      <td>0.000000</td>\n",
       "    </tr>\n",
       "    <tr>\n",
       "      <th>1</th>\n",
       "      <td>Firm 2</td>\n",
       "      <td>9.244369</td>\n",
       "      <td>0.098771</td>\n",
       "      <td>40.812426</td>\n",
       "      <td>35.643071</td>\n",
       "      <td>13.626145</td>\n",
       "      <td>16.459756</td>\n",
       "      <td>1.500907e+01</td>\n",
       "      <td>14.227214</td>\n",
       "      <td>15.037066</td>\n",
       "      <td>...</td>\n",
       "      <td>0.391179</td>\n",
       "      <td>0.685941</td>\n",
       "      <td>1.433284</td>\n",
       "      <td>0.000000</td>\n",
       "      <td>0.000000</td>\n",
       "      <td>1.750946</td>\n",
       "      <td>1.321523</td>\n",
       "      <td>1.545325</td>\n",
       "      <td>0.000000</td>\n",
       "      <td>0.000000</td>\n",
       "    </tr>\n",
       "    <tr>\n",
       "      <th>2</th>\n",
       "      <td>Firm 3</td>\n",
       "      <td>0.000000</td>\n",
       "      <td>0.806130</td>\n",
       "      <td>36.620199</td>\n",
       "      <td>86.630018</td>\n",
       "      <td>54.744180</td>\n",
       "      <td>486.887796</td>\n",
       "      <td>4.957863e+02</td>\n",
       "      <td>626.612217</td>\n",
       "      <td>81.242579</td>\n",
       "      <td>...</td>\n",
       "      <td>NaN</td>\n",
       "      <td>NaN</td>\n",
       "      <td>NaN</td>\n",
       "      <td>NaN</td>\n",
       "      <td>NaN</td>\n",
       "      <td>NaN</td>\n",
       "      <td>NaN</td>\n",
       "      <td>NaN</td>\n",
       "      <td>NaN</td>\n",
       "      <td>NaN</td>\n",
       "    </tr>\n",
       "    <tr>\n",
       "      <th>3</th>\n",
       "      <td>Firm 4</td>\n",
       "      <td>19677.453353</td>\n",
       "      <td>41072.816156</td>\n",
       "      <td>20885.506445</td>\n",
       "      <td>14719.672914</td>\n",
       "      <td>49204.465136</td>\n",
       "      <td>15975.652771</td>\n",
       "      <td>1.536789e+04</td>\n",
       "      <td>10797.123319</td>\n",
       "      <td>22788.359468</td>\n",
       "      <td>...</td>\n",
       "      <td>0.231139</td>\n",
       "      <td>0.285471</td>\n",
       "      <td>0.054150</td>\n",
       "      <td>0.051848</td>\n",
       "      <td>-0.162883</td>\n",
       "      <td>1.047234</td>\n",
       "      <td>0.476384</td>\n",
       "      <td>3.307379</td>\n",
       "      <td>1.247403</td>\n",
       "      <td>-2.303093</td>\n",
       "    </tr>\n",
       "    <tr>\n",
       "      <th>4</th>\n",
       "      <td>Firm 5</td>\n",
       "      <td>128.812208</td>\n",
       "      <td>10.407371</td>\n",
       "      <td>79.579663</td>\n",
       "      <td>79.423623</td>\n",
       "      <td>61.727295</td>\n",
       "      <td>32.742279</td>\n",
       "      <td>4.395404e+01</td>\n",
       "      <td>31.622572</td>\n",
       "      <td>30.119285</td>\n",
       "      <td>...</td>\n",
       "      <td>0.236128</td>\n",
       "      <td>0.232725</td>\n",
       "      <td>0.204508</td>\n",
       "      <td>0.131739</td>\n",
       "      <td>0.048703</td>\n",
       "      <td>0.243611</td>\n",
       "      <td>1.977732</td>\n",
       "      <td>2.495287</td>\n",
       "      <td>0.365455</td>\n",
       "      <td>1.133645</td>\n",
       "    </tr>\n",
       "    <tr>\n",
       "      <th>...</th>\n",
       "      <td>...</td>\n",
       "      <td>...</td>\n",
       "      <td>...</td>\n",
       "      <td>...</td>\n",
       "      <td>...</td>\n",
       "      <td>...</td>\n",
       "      <td>...</td>\n",
       "      <td>...</td>\n",
       "      <td>...</td>\n",
       "      <td>...</td>\n",
       "      <td>...</td>\n",
       "      <td>...</td>\n",
       "      <td>...</td>\n",
       "      <td>...</td>\n",
       "      <td>...</td>\n",
       "      <td>...</td>\n",
       "      <td>...</td>\n",
       "      <td>...</td>\n",
       "      <td>...</td>\n",
       "      <td>...</td>\n",
       "      <td>...</td>\n",
       "    </tr>\n",
       "    <tr>\n",
       "      <th>301</th>\n",
       "      <td>Firm 321</td>\n",
       "      <td>0.000000</td>\n",
       "      <td>0.000000</td>\n",
       "      <td>-0.167178</td>\n",
       "      <td>-6.813367</td>\n",
       "      <td>31.258806</td>\n",
       "      <td>0.000000</td>\n",
       "      <td>3.652140e-01</td>\n",
       "      <td>70.399156</td>\n",
       "      <td>68.655722</td>\n",
       "      <td>...</td>\n",
       "      <td>0.296448</td>\n",
       "      <td>0.191321</td>\n",
       "      <td>0.032038</td>\n",
       "      <td>0.396320</td>\n",
       "      <td>0.227326</td>\n",
       "      <td>0.839221</td>\n",
       "      <td>1.814716</td>\n",
       "      <td>0.344145</td>\n",
       "      <td>0.872099</td>\n",
       "      <td>1.164540</td>\n",
       "    </tr>\n",
       "    <tr>\n",
       "      <th>302</th>\n",
       "      <td>Firm 322</td>\n",
       "      <td>3315.466643</td>\n",
       "      <td>4136.476625</td>\n",
       "      <td>2192.750865</td>\n",
       "      <td>2252.917257</td>\n",
       "      <td>2780.628432</td>\n",
       "      <td>578.238997</td>\n",
       "      <td>1.926540e+03</td>\n",
       "      <td>1366.552217</td>\n",
       "      <td>849.073657</td>\n",
       "      <td>...</td>\n",
       "      <td>0.499785</td>\n",
       "      <td>0.323232</td>\n",
       "      <td>0.753450</td>\n",
       "      <td>0.390250</td>\n",
       "      <td>0.513934</td>\n",
       "      <td>0.063623</td>\n",
       "      <td>0.761518</td>\n",
       "      <td>0.998770</td>\n",
       "      <td>1.064060</td>\n",
       "      <td>1.984687</td>\n",
       "    </tr>\n",
       "    <tr>\n",
       "      <th>303</th>\n",
       "      <td>Firm 323</td>\n",
       "      <td>0.000000</td>\n",
       "      <td>0.000000</td>\n",
       "      <td>0.000000</td>\n",
       "      <td>0.000000</td>\n",
       "      <td>0.000000</td>\n",
       "      <td>6.459131</td>\n",
       "      <td>2.803774e+01</td>\n",
       "      <td>5.689804</td>\n",
       "      <td>1.674462</td>\n",
       "      <td>...</td>\n",
       "      <td>NaN</td>\n",
       "      <td>NaN</td>\n",
       "      <td>NaN</td>\n",
       "      <td>NaN</td>\n",
       "      <td>NaN</td>\n",
       "      <td>NaN</td>\n",
       "      <td>NaN</td>\n",
       "      <td>NaN</td>\n",
       "      <td>NaN</td>\n",
       "      <td>NaN</td>\n",
       "    </tr>\n",
       "    <tr>\n",
       "      <th>304</th>\n",
       "      <td>Firm 324</td>\n",
       "      <td>29.811172</td>\n",
       "      <td>21.003008</td>\n",
       "      <td>13.551740</td>\n",
       "      <td>6.145755</td>\n",
       "      <td>49.793157</td>\n",
       "      <td>45.967315</td>\n",
       "      <td>5.732320e+01</td>\n",
       "      <td>36.910810</td>\n",
       "      <td>1.012305</td>\n",
       "      <td>...</td>\n",
       "      <td>0.166180</td>\n",
       "      <td>0.328329</td>\n",
       "      <td>0.278285</td>\n",
       "      <td>0.238669</td>\n",
       "      <td>0.228917</td>\n",
       "      <td>1.812040</td>\n",
       "      <td>1.868333</td>\n",
       "      <td>0.800207</td>\n",
       "      <td>0.420591</td>\n",
       "      <td>1.515067</td>\n",
       "    </tr>\n",
       "    <tr>\n",
       "      <th>305</th>\n",
       "      <td>Firm 325</td>\n",
       "      <td>108.471899</td>\n",
       "      <td>496.296030</td>\n",
       "      <td>437.217641</td>\n",
       "      <td>120.652291</td>\n",
       "      <td>0.000000</td>\n",
       "      <td>402.002179</td>\n",
       "      <td>4.082730e+02</td>\n",
       "      <td>477.423649</td>\n",
       "      <td>346.976664</td>\n",
       "      <td>...</td>\n",
       "      <td>0.012621</td>\n",
       "      <td>0.039664</td>\n",
       "      <td>0.029074</td>\n",
       "      <td>0.007590</td>\n",
       "      <td>0.045571</td>\n",
       "      <td>0.077135</td>\n",
       "      <td>0.009230</td>\n",
       "      <td>0.724871</td>\n",
       "      <td>0.430852</td>\n",
       "      <td>0.157979</td>\n",
       "    </tr>\n",
       "  </tbody>\n",
       "</table>\n",
       "<p>306 rows × 87 columns</p>\n",
       "</div>"
      ],
      "text/plain": [
       "      Firms_x     NWP (£m)                                             \\\n",
       "      Firms_x        2016YE        2017YE        2018YE        2019YE   \n",
       "0      Firm 1 -17754.100486      0.000000      0.000000      0.000000   \n",
       "1      Firm 2      9.244369      0.098771     40.812426     35.643071   \n",
       "2      Firm 3      0.000000      0.806130     36.620199     86.630018   \n",
       "3      Firm 4  19677.453353  41072.816156  20885.506445  14719.672914   \n",
       "4      Firm 5    128.812208     10.407371     79.579663     79.423623   \n",
       "..        ...           ...           ...           ...           ...   \n",
       "301  Firm 321      0.000000      0.000000     -0.167178     -6.813367   \n",
       "302  Firm 322   3315.466643   4136.476625   2192.750865   2252.917257   \n",
       "303  Firm 323      0.000000      0.000000      0.000000      0.000000   \n",
       "304  Firm 324     29.811172     21.003008     13.551740      6.145755   \n",
       "305  Firm 325    108.471899    496.296030    437.217641    120.652291   \n",
       "\n",
       "                       SCR (£m)                                            \\\n",
       "           2020YE        2016YE        2017YE        2018YE        2019YE   \n",
       "0        0.000000   2021.321862  6.940043e-09      0.000000      0.000000   \n",
       "1       13.626145     16.459756  1.500907e+01     14.227214     15.037066   \n",
       "2       54.744180    486.887796  4.957863e+02    626.612217     81.242579   \n",
       "3    49204.465136  15975.652771  1.536789e+04  10797.123319  22788.359468   \n",
       "4       61.727295     32.742279  4.395404e+01     31.622572     30.119285   \n",
       "..            ...           ...           ...           ...           ...   \n",
       "301     31.258806      0.000000  3.652140e-01     70.399156     68.655722   \n",
       "302   2780.628432    578.238997  1.926540e+03   1366.552217    849.073657   \n",
       "303      0.000000      6.459131  2.803774e+01      5.689804      1.674462   \n",
       "304     49.793157     45.967315  5.732320e+01     36.910810      1.012305   \n",
       "305      0.000000    402.002179  4.082730e+02    477.423649    346.976664   \n",
       "\n",
       "     ... Gross expense ratio                                           \\\n",
       "     ...              2016YE     2017YE    2018YE    2019YE    2020YE   \n",
       "0    ...            0.000000  77.251254  0.000000  0.000000  0.000000   \n",
       "1    ...            0.391179   0.685941  1.433284  0.000000  0.000000   \n",
       "2    ...                 NaN        NaN       NaN       NaN       NaN   \n",
       "3    ...            0.231139   0.285471  0.054150  0.051848 -0.162883   \n",
       "4    ...            0.236128   0.232725  0.204508  0.131739  0.048703   \n",
       "..   ...                 ...        ...       ...       ...       ...   \n",
       "301  ...            0.296448   0.191321  0.032038  0.396320  0.227326   \n",
       "302  ...            0.499785   0.323232  0.753450  0.390250  0.513934   \n",
       "303  ...                 NaN        NaN       NaN       NaN       NaN   \n",
       "304  ...            0.166180   0.328329  0.278285  0.238669  0.228917   \n",
       "305  ...            0.012621   0.039664  0.029074  0.007590  0.045571   \n",
       "\n",
       "    Gross combined ratio                                          \n",
       "                  2016YE    2017YE    2018YE    2019YE    2020YE  \n",
       "0               0.000000  0.675051  0.000000  0.000000  0.000000  \n",
       "1               1.750946  1.321523  1.545325  0.000000  0.000000  \n",
       "2                    NaN       NaN       NaN       NaN       NaN  \n",
       "3               1.047234  0.476384  3.307379  1.247403 -2.303093  \n",
       "4               0.243611  1.977732  2.495287  0.365455  1.133645  \n",
       "..                   ...       ...       ...       ...       ...  \n",
       "301             0.839221  1.814716  0.344145  0.872099  1.164540  \n",
       "302             0.063623  0.761518  0.998770  1.064060  1.984687  \n",
       "303                  NaN       NaN       NaN       NaN       NaN  \n",
       "304             1.812040  1.868333  0.800207  0.420591  1.515067  \n",
       "305             0.077135  0.009230  0.724871  0.430852  0.157979  \n",
       "\n",
       "[306 rows x 87 columns]"
      ]
     },
     "execution_count": 9,
     "metadata": {},
     "output_type": "execute_result"
    }
   ],
   "source": [
    "df_merged = pd.merge(df_general, df_insurance, how='left', left_on=df_general[('Firms', 'Firms')], right_on=df_insurance[('Firms', 'Firms')])\n",
    "df_merged = df_merged.drop(('key_0', ''), axis=1)\n",
    "df_merged"
   ]
  },
  {
   "attachments": {},
   "cell_type": "markdown",
   "metadata": {},
   "source": [
    "# Filter by size\n",
    "\n",
    "First remove firms with GWP equal to or less than zero"
   ]
  },
  {
   "cell_type": "code",
   "execution_count": 10,
   "metadata": {},
   "outputs": [
    {
     "data": {
      "text/html": [
       "<div>\n",
       "<style scoped>\n",
       "    .dataframe tbody tr th:only-of-type {\n",
       "        vertical-align: middle;\n",
       "    }\n",
       "\n",
       "    .dataframe tbody tr th {\n",
       "        vertical-align: top;\n",
       "    }\n",
       "\n",
       "    .dataframe thead tr th {\n",
       "        text-align: left;\n",
       "    }\n",
       "</style>\n",
       "<table border=\"1\" class=\"dataframe\">\n",
       "  <thead>\n",
       "    <tr>\n",
       "      <th></th>\n",
       "      <th>Firms_x</th>\n",
       "      <th colspan=\"5\" halign=\"left\">NWP (£m)</th>\n",
       "      <th colspan=\"4\" halign=\"left\">SCR (£m)</th>\n",
       "      <th>...</th>\n",
       "      <th colspan=\"5\" halign=\"left\">Gross expense ratio</th>\n",
       "      <th colspan=\"5\" halign=\"left\">Gross combined ratio</th>\n",
       "    </tr>\n",
       "    <tr>\n",
       "      <th></th>\n",
       "      <th>Firms_x</th>\n",
       "      <th>2016YE</th>\n",
       "      <th>2017YE</th>\n",
       "      <th>2018YE</th>\n",
       "      <th>2019YE</th>\n",
       "      <th>2020YE</th>\n",
       "      <th>2016YE</th>\n",
       "      <th>2017YE</th>\n",
       "      <th>2018YE</th>\n",
       "      <th>2019YE</th>\n",
       "      <th>...</th>\n",
       "      <th>2016YE</th>\n",
       "      <th>2017YE</th>\n",
       "      <th>2018YE</th>\n",
       "      <th>2019YE</th>\n",
       "      <th>2020YE</th>\n",
       "      <th>2016YE</th>\n",
       "      <th>2017YE</th>\n",
       "      <th>2018YE</th>\n",
       "      <th>2019YE</th>\n",
       "      <th>2020YE</th>\n",
       "    </tr>\n",
       "  </thead>\n",
       "  <tbody>\n",
       "    <tr>\n",
       "      <th>9</th>\n",
       "      <td>Firm 12</td>\n",
       "      <td>0.000000</td>\n",
       "      <td>0.000000</td>\n",
       "      <td>0.000000</td>\n",
       "      <td>0.000000</td>\n",
       "      <td>0.000000</td>\n",
       "      <td>1.126037e+00</td>\n",
       "      <td>0.947228</td>\n",
       "      <td>1.216207e+00</td>\n",
       "      <td>1.725935e+00</td>\n",
       "      <td>...</td>\n",
       "      <td>0.632425</td>\n",
       "      <td>0.155162</td>\n",
       "      <td>0.279423</td>\n",
       "      <td>0.049536</td>\n",
       "      <td>0.045109</td>\n",
       "      <td>1.879972</td>\n",
       "      <td>1.251861</td>\n",
       "      <td>0.851867</td>\n",
       "      <td>0.162458</td>\n",
       "      <td>0.917823</td>\n",
       "    </tr>\n",
       "    <tr>\n",
       "      <th>13</th>\n",
       "      <td>Firm 16</td>\n",
       "      <td>0.000000</td>\n",
       "      <td>0.000000</td>\n",
       "      <td>0.000000</td>\n",
       "      <td>0.000000</td>\n",
       "      <td>0.000000</td>\n",
       "      <td>7.158603e+00</td>\n",
       "      <td>0.056225</td>\n",
       "      <td>1.196284e+00</td>\n",
       "      <td>0.000000e+00</td>\n",
       "      <td>...</td>\n",
       "      <td>NaN</td>\n",
       "      <td>NaN</td>\n",
       "      <td>NaN</td>\n",
       "      <td>NaN</td>\n",
       "      <td>NaN</td>\n",
       "      <td>NaN</td>\n",
       "      <td>NaN</td>\n",
       "      <td>NaN</td>\n",
       "      <td>NaN</td>\n",
       "      <td>NaN</td>\n",
       "    </tr>\n",
       "    <tr>\n",
       "      <th>15</th>\n",
       "      <td>Firm 18</td>\n",
       "      <td>0.000000</td>\n",
       "      <td>0.000000</td>\n",
       "      <td>0.000000</td>\n",
       "      <td>0.000000</td>\n",
       "      <td>0.000000</td>\n",
       "      <td>3.732730e-01</td>\n",
       "      <td>0.265942</td>\n",
       "      <td>4.839817e-01</td>\n",
       "      <td>5.203933e-01</td>\n",
       "      <td>...</td>\n",
       "      <td>0.066052</td>\n",
       "      <td>0.204031</td>\n",
       "      <td>0.291916</td>\n",
       "      <td>0.042798</td>\n",
       "      <td>0.269948</td>\n",
       "      <td>0.132124</td>\n",
       "      <td>2.322264</td>\n",
       "      <td>1.282563</td>\n",
       "      <td>1.082186</td>\n",
       "      <td>0.096483</td>\n",
       "    </tr>\n",
       "    <tr>\n",
       "      <th>18</th>\n",
       "      <td>Firm 21</td>\n",
       "      <td>0.000000</td>\n",
       "      <td>0.000000</td>\n",
       "      <td>0.000000</td>\n",
       "      <td>0.000000</td>\n",
       "      <td>0.027259</td>\n",
       "      <td>3.507516e-01</td>\n",
       "      <td>0.385866</td>\n",
       "      <td>3.080330e-02</td>\n",
       "      <td>1.318841e+01</td>\n",
       "      <td>...</td>\n",
       "      <td>0.614482</td>\n",
       "      <td>0.043525</td>\n",
       "      <td>0.495126</td>\n",
       "      <td>0.215699</td>\n",
       "      <td>0.325099</td>\n",
       "      <td>0.038587</td>\n",
       "      <td>1.040741</td>\n",
       "      <td>0.755522</td>\n",
       "      <td>0.608990</td>\n",
       "      <td>3.099208</td>\n",
       "    </tr>\n",
       "    <tr>\n",
       "      <th>27</th>\n",
       "      <td>Firm 31</td>\n",
       "      <td>0.001498</td>\n",
       "      <td>0.000000</td>\n",
       "      <td>0.000000</td>\n",
       "      <td>0.000000</td>\n",
       "      <td>0.000000</td>\n",
       "      <td>1.605136e+00</td>\n",
       "      <td>0.035144</td>\n",
       "      <td>0.000000e+00</td>\n",
       "      <td>0.000000e+00</td>\n",
       "      <td>...</td>\n",
       "      <td>1.642902</td>\n",
       "      <td>1.704734</td>\n",
       "      <td>0.846897</td>\n",
       "      <td>0.173807</td>\n",
       "      <td>0.022744</td>\n",
       "      <td>0.551403</td>\n",
       "      <td>2.089571</td>\n",
       "      <td>1.702403</td>\n",
       "      <td>1.346599</td>\n",
       "      <td>0.486225</td>\n",
       "    </tr>\n",
       "    <tr>\n",
       "      <th>39</th>\n",
       "      <td>Firm 43</td>\n",
       "      <td>0.000000</td>\n",
       "      <td>0.000000</td>\n",
       "      <td>0.000000</td>\n",
       "      <td>0.000000</td>\n",
       "      <td>0.000000</td>\n",
       "      <td>3.620191e+00</td>\n",
       "      <td>2.554780</td>\n",
       "      <td>2.123101e+00</td>\n",
       "      <td>2.765866e+00</td>\n",
       "      <td>...</td>\n",
       "      <td>NaN</td>\n",
       "      <td>NaN</td>\n",
       "      <td>NaN</td>\n",
       "      <td>NaN</td>\n",
       "      <td>NaN</td>\n",
       "      <td>NaN</td>\n",
       "      <td>NaN</td>\n",
       "      <td>NaN</td>\n",
       "      <td>NaN</td>\n",
       "      <td>NaN</td>\n",
       "    </tr>\n",
       "    <tr>\n",
       "      <th>51</th>\n",
       "      <td>Firm 56</td>\n",
       "      <td>-0.051840</td>\n",
       "      <td>0.000000</td>\n",
       "      <td>0.000000</td>\n",
       "      <td>0.000000</td>\n",
       "      <td>0.000000</td>\n",
       "      <td>1.405326e+00</td>\n",
       "      <td>0.454588</td>\n",
       "      <td>1.928810e-01</td>\n",
       "      <td>1.038713e+00</td>\n",
       "      <td>...</td>\n",
       "      <td>0.095949</td>\n",
       "      <td>0.301992</td>\n",
       "      <td>0.567297</td>\n",
       "      <td>0.374609</td>\n",
       "      <td>0.236317</td>\n",
       "      <td>0.726875</td>\n",
       "      <td>0.485915</td>\n",
       "      <td>0.994784</td>\n",
       "      <td>2.284585</td>\n",
       "      <td>1.010373</td>\n",
       "    </tr>\n",
       "    <tr>\n",
       "      <th>56</th>\n",
       "      <td>Firm 61</td>\n",
       "      <td>0.838222</td>\n",
       "      <td>-0.663091</td>\n",
       "      <td>-4.750917</td>\n",
       "      <td>-0.271076</td>\n",
       "      <td>0.653909</td>\n",
       "      <td>2.058780e+02</td>\n",
       "      <td>193.255078</td>\n",
       "      <td>5.045995e+01</td>\n",
       "      <td>5.435876e+01</td>\n",
       "      <td>...</td>\n",
       "      <td>0.320231</td>\n",
       "      <td>0.336651</td>\n",
       "      <td>0.275312</td>\n",
       "      <td>0.000000</td>\n",
       "      <td>0.000000</td>\n",
       "      <td>1.936716</td>\n",
       "      <td>0.703010</td>\n",
       "      <td>3.119979</td>\n",
       "      <td>0.000000</td>\n",
       "      <td>0.000000</td>\n",
       "    </tr>\n",
       "    <tr>\n",
       "      <th>76</th>\n",
       "      <td>Firm 83</td>\n",
       "      <td>0.000000</td>\n",
       "      <td>0.000000</td>\n",
       "      <td>0.000000</td>\n",
       "      <td>0.000000</td>\n",
       "      <td>0.000000</td>\n",
       "      <td>3.451869e+01</td>\n",
       "      <td>17.922179</td>\n",
       "      <td>1.649927e+01</td>\n",
       "      <td>2.205415e+01</td>\n",
       "      <td>...</td>\n",
       "      <td>0.000000</td>\n",
       "      <td>3.493759</td>\n",
       "      <td>31.720896</td>\n",
       "      <td>0.000000</td>\n",
       "      <td>0.000000</td>\n",
       "      <td>0.000000</td>\n",
       "      <td>15.311627</td>\n",
       "      <td>21.653104</td>\n",
       "      <td>0.000000</td>\n",
       "      <td>0.000000</td>\n",
       "    </tr>\n",
       "    <tr>\n",
       "      <th>77</th>\n",
       "      <td>Firm 84</td>\n",
       "      <td>0.000000</td>\n",
       "      <td>0.000000</td>\n",
       "      <td>0.000000</td>\n",
       "      <td>0.000000</td>\n",
       "      <td>0.000000</td>\n",
       "      <td>0.000000e+00</td>\n",
       "      <td>0.000000</td>\n",
       "      <td>0.000000e+00</td>\n",
       "      <td>1.930661e-01</td>\n",
       "      <td>...</td>\n",
       "      <td>0.499494</td>\n",
       "      <td>0.022747</td>\n",
       "      <td>0.176417</td>\n",
       "      <td>0.125874</td>\n",
       "      <td>0.013417</td>\n",
       "      <td>0.793664</td>\n",
       "      <td>1.958503</td>\n",
       "      <td>0.026023</td>\n",
       "      <td>2.247808</td>\n",
       "      <td>0.700372</td>\n",
       "    </tr>\n",
       "    <tr>\n",
       "      <th>78</th>\n",
       "      <td>Firm 85</td>\n",
       "      <td>0.000000</td>\n",
       "      <td>0.000000</td>\n",
       "      <td>0.000000</td>\n",
       "      <td>0.000000</td>\n",
       "      <td>0.000000</td>\n",
       "      <td>1.977941e+01</td>\n",
       "      <td>24.806332</td>\n",
       "      <td>1.173557e+01</td>\n",
       "      <td>2.360870e+01</td>\n",
       "      <td>...</td>\n",
       "      <td>0.215486</td>\n",
       "      <td>0.453992</td>\n",
       "      <td>0.176896</td>\n",
       "      <td>0.136802</td>\n",
       "      <td>0.280590</td>\n",
       "      <td>0.485749</td>\n",
       "      <td>0.544119</td>\n",
       "      <td>1.509551</td>\n",
       "      <td>1.327087</td>\n",
       "      <td>1.403564</td>\n",
       "    </tr>\n",
       "    <tr>\n",
       "      <th>87</th>\n",
       "      <td>Firm 94</td>\n",
       "      <td>0.000000</td>\n",
       "      <td>0.000000</td>\n",
       "      <td>0.000000</td>\n",
       "      <td>0.000000</td>\n",
       "      <td>0.000000</td>\n",
       "      <td>1.067017e-02</td>\n",
       "      <td>0.620516</td>\n",
       "      <td>1.011288e+00</td>\n",
       "      <td>1.306946e+00</td>\n",
       "      <td>...</td>\n",
       "      <td>0.268892</td>\n",
       "      <td>0.546842</td>\n",
       "      <td>0.504310</td>\n",
       "      <td>0.412781</td>\n",
       "      <td>0.159026</td>\n",
       "      <td>0.921398</td>\n",
       "      <td>0.575705</td>\n",
       "      <td>1.106064</td>\n",
       "      <td>0.366503</td>\n",
       "      <td>0.219741</td>\n",
       "    </tr>\n",
       "    <tr>\n",
       "      <th>89</th>\n",
       "      <td>Firm 96</td>\n",
       "      <td>-0.019008</td>\n",
       "      <td>0.003815</td>\n",
       "      <td>0.000000</td>\n",
       "      <td>0.000000</td>\n",
       "      <td>0.000000</td>\n",
       "      <td>1.036972e+01</td>\n",
       "      <td>33.593303</td>\n",
       "      <td>0.000000e+00</td>\n",
       "      <td>0.000000e+00</td>\n",
       "      <td>...</td>\n",
       "      <td>0.616412</td>\n",
       "      <td>0.440711</td>\n",
       "      <td>0.561195</td>\n",
       "      <td>0.000000</td>\n",
       "      <td>0.000000</td>\n",
       "      <td>1.616303</td>\n",
       "      <td>0.930160</td>\n",
       "      <td>0.631420</td>\n",
       "      <td>0.000000</td>\n",
       "      <td>0.000000</td>\n",
       "    </tr>\n",
       "    <tr>\n",
       "      <th>91</th>\n",
       "      <td>Firm 98</td>\n",
       "      <td>0.000000</td>\n",
       "      <td>0.000000</td>\n",
       "      <td>0.000000</td>\n",
       "      <td>0.000000</td>\n",
       "      <td>0.000000</td>\n",
       "      <td>0.000000e+00</td>\n",
       "      <td>0.000000</td>\n",
       "      <td>0.000000e+00</td>\n",
       "      <td>2.950606e+00</td>\n",
       "      <td>...</td>\n",
       "      <td>NaN</td>\n",
       "      <td>NaN</td>\n",
       "      <td>NaN</td>\n",
       "      <td>NaN</td>\n",
       "      <td>NaN</td>\n",
       "      <td>NaN</td>\n",
       "      <td>NaN</td>\n",
       "      <td>NaN</td>\n",
       "      <td>NaN</td>\n",
       "      <td>NaN</td>\n",
       "    </tr>\n",
       "    <tr>\n",
       "      <th>95</th>\n",
       "      <td>Firm 102</td>\n",
       "      <td>0.000000</td>\n",
       "      <td>0.000000</td>\n",
       "      <td>0.000000</td>\n",
       "      <td>0.000000</td>\n",
       "      <td>0.000000</td>\n",
       "      <td>0.000000e+00</td>\n",
       "      <td>0.665272</td>\n",
       "      <td>0.000000e+00</td>\n",
       "      <td>0.000000e+00</td>\n",
       "      <td>...</td>\n",
       "      <td>0.267615</td>\n",
       "      <td>0.123200</td>\n",
       "      <td>0.774337</td>\n",
       "      <td>0.520459</td>\n",
       "      <td>1.085284</td>\n",
       "      <td>1.506229</td>\n",
       "      <td>0.890565</td>\n",
       "      <td>1.351558</td>\n",
       "      <td>1.114826</td>\n",
       "      <td>0.852866</td>\n",
       "    </tr>\n",
       "    <tr>\n",
       "      <th>96</th>\n",
       "      <td>Firm 103</td>\n",
       "      <td>0.000000</td>\n",
       "      <td>0.000000</td>\n",
       "      <td>0.000000</td>\n",
       "      <td>0.000000</td>\n",
       "      <td>0.000000</td>\n",
       "      <td>1.005624e+00</td>\n",
       "      <td>1.631688</td>\n",
       "      <td>1.123171e+00</td>\n",
       "      <td>5.374486e-01</td>\n",
       "      <td>...</td>\n",
       "      <td>NaN</td>\n",
       "      <td>NaN</td>\n",
       "      <td>NaN</td>\n",
       "      <td>NaN</td>\n",
       "      <td>NaN</td>\n",
       "      <td>NaN</td>\n",
       "      <td>NaN</td>\n",
       "      <td>NaN</td>\n",
       "      <td>NaN</td>\n",
       "      <td>NaN</td>\n",
       "    </tr>\n",
       "    <tr>\n",
       "      <th>101</th>\n",
       "      <td>Firm 108</td>\n",
       "      <td>0.000000</td>\n",
       "      <td>0.000000</td>\n",
       "      <td>0.000000</td>\n",
       "      <td>0.000000</td>\n",
       "      <td>0.000000</td>\n",
       "      <td>2.658587e-01</td>\n",
       "      <td>1.409419</td>\n",
       "      <td>4.550693e-01</td>\n",
       "      <td>1.049790e+00</td>\n",
       "      <td>...</td>\n",
       "      <td>0.000000</td>\n",
       "      <td>0.313265</td>\n",
       "      <td>0.389803</td>\n",
       "      <td>0.050132</td>\n",
       "      <td>0.204951</td>\n",
       "      <td>0.000000</td>\n",
       "      <td>0.572305</td>\n",
       "      <td>0.927753</td>\n",
       "      <td>0.338826</td>\n",
       "      <td>0.982480</td>\n",
       "    </tr>\n",
       "    <tr>\n",
       "      <th>102</th>\n",
       "      <td>Firm 109</td>\n",
       "      <td>0.000000</td>\n",
       "      <td>0.000000</td>\n",
       "      <td>0.000000</td>\n",
       "      <td>0.000000</td>\n",
       "      <td>0.000000</td>\n",
       "      <td>2.582207e+01</td>\n",
       "      <td>8.073924</td>\n",
       "      <td>3.338429e+01</td>\n",
       "      <td>1.508984e+02</td>\n",
       "      <td>...</td>\n",
       "      <td>0.060850</td>\n",
       "      <td>0.437488</td>\n",
       "      <td>0.000000</td>\n",
       "      <td>0.000000</td>\n",
       "      <td>0.000000</td>\n",
       "      <td>0.286225</td>\n",
       "      <td>0.174160</td>\n",
       "      <td>0.000000</td>\n",
       "      <td>0.000000</td>\n",
       "      <td>0.000000</td>\n",
       "    </tr>\n",
       "    <tr>\n",
       "      <th>112</th>\n",
       "      <td>Firm 122</td>\n",
       "      <td>0.000000</td>\n",
       "      <td>0.000000</td>\n",
       "      <td>0.000000</td>\n",
       "      <td>0.000000</td>\n",
       "      <td>0.000000</td>\n",
       "      <td>4.386420e-01</td>\n",
       "      <td>2.780188</td>\n",
       "      <td>2.637863e+00</td>\n",
       "      <td>6.325162e+00</td>\n",
       "      <td>...</td>\n",
       "      <td>0.000000</td>\n",
       "      <td>0.000000</td>\n",
       "      <td>0.000000</td>\n",
       "      <td>0.000000</td>\n",
       "      <td>0.000000</td>\n",
       "      <td>0.000000</td>\n",
       "      <td>0.000000</td>\n",
       "      <td>0.000000</td>\n",
       "      <td>0.000000</td>\n",
       "      <td>0.000000</td>\n",
       "    </tr>\n",
       "    <tr>\n",
       "      <th>117</th>\n",
       "      <td>Firm 127</td>\n",
       "      <td>0.000000</td>\n",
       "      <td>0.000000</td>\n",
       "      <td>0.000000</td>\n",
       "      <td>0.000000</td>\n",
       "      <td>0.000000</td>\n",
       "      <td>1.121213e-07</td>\n",
       "      <td>0.000002</td>\n",
       "      <td>4.145982e-07</td>\n",
       "      <td>1.070607e-07</td>\n",
       "      <td>...</td>\n",
       "      <td>0.000000</td>\n",
       "      <td>0.000000</td>\n",
       "      <td>0.000000</td>\n",
       "      <td>0.000000</td>\n",
       "      <td>0.000000</td>\n",
       "      <td>0.000000</td>\n",
       "      <td>0.000000</td>\n",
       "      <td>0.000000</td>\n",
       "      <td>0.000000</td>\n",
       "      <td>0.000000</td>\n",
       "    </tr>\n",
       "    <tr>\n",
       "      <th>118</th>\n",
       "      <td>Firm 129</td>\n",
       "      <td>0.000000</td>\n",
       "      <td>0.000000</td>\n",
       "      <td>0.000000</td>\n",
       "      <td>0.000000</td>\n",
       "      <td>0.000000</td>\n",
       "      <td>1.679018e+01</td>\n",
       "      <td>13.487806</td>\n",
       "      <td>4.837806e-01</td>\n",
       "      <td>8.392572e+00</td>\n",
       "      <td>...</td>\n",
       "      <td>0.337604</td>\n",
       "      <td>0.562138</td>\n",
       "      <td>0.241175</td>\n",
       "      <td>0.116812</td>\n",
       "      <td>0.361133</td>\n",
       "      <td>0.913320</td>\n",
       "      <td>1.394555</td>\n",
       "      <td>0.687030</td>\n",
       "      <td>3.646353</td>\n",
       "      <td>0.074070</td>\n",
       "    </tr>\n",
       "    <tr>\n",
       "      <th>124</th>\n",
       "      <td>Firm 135</td>\n",
       "      <td>0.000000</td>\n",
       "      <td>0.000000</td>\n",
       "      <td>0.000000</td>\n",
       "      <td>0.000000</td>\n",
       "      <td>0.000000</td>\n",
       "      <td>1.808554e+01</td>\n",
       "      <td>5.899800</td>\n",
       "      <td>1.086932e+01</td>\n",
       "      <td>8.999086e-01</td>\n",
       "      <td>...</td>\n",
       "      <td>0.617822</td>\n",
       "      <td>0.166194</td>\n",
       "      <td>0.668096</td>\n",
       "      <td>0.548463</td>\n",
       "      <td>0.352990</td>\n",
       "      <td>1.273150</td>\n",
       "      <td>0.647211</td>\n",
       "      <td>0.139765</td>\n",
       "      <td>0.875534</td>\n",
       "      <td>1.116742</td>\n",
       "    </tr>\n",
       "    <tr>\n",
       "      <th>130</th>\n",
       "      <td>Firm 141</td>\n",
       "      <td>0.000000</td>\n",
       "      <td>0.000000</td>\n",
       "      <td>0.000000</td>\n",
       "      <td>0.000000</td>\n",
       "      <td>0.000000</td>\n",
       "      <td>8.441410e+01</td>\n",
       "      <td>192.142011</td>\n",
       "      <td>1.964996e+02</td>\n",
       "      <td>1.116612e+02</td>\n",
       "      <td>...</td>\n",
       "      <td>0.297179</td>\n",
       "      <td>0.727549</td>\n",
       "      <td>0.399658</td>\n",
       "      <td>0.920454</td>\n",
       "      <td>0.084463</td>\n",
       "      <td>1.060099</td>\n",
       "      <td>0.924486</td>\n",
       "      <td>0.316956</td>\n",
       "      <td>0.382957</td>\n",
       "      <td>0.037905</td>\n",
       "    </tr>\n",
       "    <tr>\n",
       "      <th>134</th>\n",
       "      <td>Firm 145</td>\n",
       "      <td>0.000000</td>\n",
       "      <td>0.000000</td>\n",
       "      <td>0.000000</td>\n",
       "      <td>0.000000</td>\n",
       "      <td>0.000000</td>\n",
       "      <td>2.142746e+00</td>\n",
       "      <td>2.670563</td>\n",
       "      <td>2.291829e+00</td>\n",
       "      <td>6.328942e-01</td>\n",
       "      <td>...</td>\n",
       "      <td>0.000000</td>\n",
       "      <td>0.000000</td>\n",
       "      <td>0.000000</td>\n",
       "      <td>0.000000</td>\n",
       "      <td>0.000000</td>\n",
       "      <td>0.000000</td>\n",
       "      <td>0.000000</td>\n",
       "      <td>0.000000</td>\n",
       "      <td>0.000000</td>\n",
       "      <td>0.000000</td>\n",
       "    </tr>\n",
       "    <tr>\n",
       "      <th>136</th>\n",
       "      <td>Firm 147</td>\n",
       "      <td>0.000000</td>\n",
       "      <td>0.000000</td>\n",
       "      <td>0.000000</td>\n",
       "      <td>0.000000</td>\n",
       "      <td>0.000000</td>\n",
       "      <td>4.607096e+00</td>\n",
       "      <td>0.664129</td>\n",
       "      <td>1.196393e-01</td>\n",
       "      <td>3.827802e+00</td>\n",
       "      <td>...</td>\n",
       "      <td>NaN</td>\n",
       "      <td>NaN</td>\n",
       "      <td>NaN</td>\n",
       "      <td>NaN</td>\n",
       "      <td>NaN</td>\n",
       "      <td>NaN</td>\n",
       "      <td>NaN</td>\n",
       "      <td>NaN</td>\n",
       "      <td>NaN</td>\n",
       "      <td>NaN</td>\n",
       "    </tr>\n",
       "    <tr>\n",
       "      <th>156</th>\n",
       "      <td>Firm 168</td>\n",
       "      <td>0.000000</td>\n",
       "      <td>0.000000</td>\n",
       "      <td>0.000000</td>\n",
       "      <td>0.000000</td>\n",
       "      <td>0.000000</td>\n",
       "      <td>8.967226e-01</td>\n",
       "      <td>0.041706</td>\n",
       "      <td>4.600418e-01</td>\n",
       "      <td>2.742542e-01</td>\n",
       "      <td>...</td>\n",
       "      <td>NaN</td>\n",
       "      <td>NaN</td>\n",
       "      <td>NaN</td>\n",
       "      <td>NaN</td>\n",
       "      <td>NaN</td>\n",
       "      <td>NaN</td>\n",
       "      <td>NaN</td>\n",
       "      <td>NaN</td>\n",
       "      <td>NaN</td>\n",
       "      <td>NaN</td>\n",
       "    </tr>\n",
       "    <tr>\n",
       "      <th>160</th>\n",
       "      <td>Firm 172</td>\n",
       "      <td>0.000000</td>\n",
       "      <td>0.000000</td>\n",
       "      <td>0.000000</td>\n",
       "      <td>0.000000</td>\n",
       "      <td>0.000000</td>\n",
       "      <td>9.079356e+00</td>\n",
       "      <td>8.016838</td>\n",
       "      <td>8.063309e+00</td>\n",
       "      <td>1.417331e+00</td>\n",
       "      <td>...</td>\n",
       "      <td>NaN</td>\n",
       "      <td>NaN</td>\n",
       "      <td>NaN</td>\n",
       "      <td>NaN</td>\n",
       "      <td>NaN</td>\n",
       "      <td>NaN</td>\n",
       "      <td>NaN</td>\n",
       "      <td>NaN</td>\n",
       "      <td>NaN</td>\n",
       "      <td>NaN</td>\n",
       "    </tr>\n",
       "    <tr>\n",
       "      <th>177</th>\n",
       "      <td>Firm 190</td>\n",
       "      <td>0.000000</td>\n",
       "      <td>0.000000</td>\n",
       "      <td>0.000000</td>\n",
       "      <td>0.000000</td>\n",
       "      <td>0.000000</td>\n",
       "      <td>9.364743e-01</td>\n",
       "      <td>2.321110</td>\n",
       "      <td>1.003918e-01</td>\n",
       "      <td>7.863050e-01</td>\n",
       "      <td>...</td>\n",
       "      <td>-0.034357</td>\n",
       "      <td>-1.034156</td>\n",
       "      <td>0.421091</td>\n",
       "      <td>0.186410</td>\n",
       "      <td>0.405606</td>\n",
       "      <td>-0.012349</td>\n",
       "      <td>-0.314472</td>\n",
       "      <td>0.233579</td>\n",
       "      <td>0.046917</td>\n",
       "      <td>0.431692</td>\n",
       "    </tr>\n",
       "    <tr>\n",
       "      <th>192</th>\n",
       "      <td>Firm 207</td>\n",
       "      <td>-0.963861</td>\n",
       "      <td>-1.390090</td>\n",
       "      <td>0.000000</td>\n",
       "      <td>0.000000</td>\n",
       "      <td>0.000000</td>\n",
       "      <td>4.511842e+01</td>\n",
       "      <td>97.952199</td>\n",
       "      <td>0.000000e+00</td>\n",
       "      <td>0.000000e+00</td>\n",
       "      <td>...</td>\n",
       "      <td>0.321747</td>\n",
       "      <td>0.707030</td>\n",
       "      <td>0.270368</td>\n",
       "      <td>0.110381</td>\n",
       "      <td>0.410307</td>\n",
       "      <td>0.104212</td>\n",
       "      <td>0.595023</td>\n",
       "      <td>0.395029</td>\n",
       "      <td>0.523825</td>\n",
       "      <td>0.907985</td>\n",
       "    </tr>\n",
       "    <tr>\n",
       "      <th>202</th>\n",
       "      <td>Firm 217</td>\n",
       "      <td>0.000000</td>\n",
       "      <td>0.000000</td>\n",
       "      <td>0.000000</td>\n",
       "      <td>0.000000</td>\n",
       "      <td>0.000000</td>\n",
       "      <td>2.492465e+01</td>\n",
       "      <td>22.651395</td>\n",
       "      <td>3.254229e+01</td>\n",
       "      <td>0.000000e+00</td>\n",
       "      <td>...</td>\n",
       "      <td>0.000000</td>\n",
       "      <td>0.000000</td>\n",
       "      <td>0.152231</td>\n",
       "      <td>0.000000</td>\n",
       "      <td>0.000000</td>\n",
       "      <td>0.000000</td>\n",
       "      <td>0.000000</td>\n",
       "      <td>0.215050</td>\n",
       "      <td>0.000000</td>\n",
       "      <td>0.000000</td>\n",
       "    </tr>\n",
       "    <tr>\n",
       "      <th>209</th>\n",
       "      <td>Firm 224</td>\n",
       "      <td>0.000000</td>\n",
       "      <td>0.000000</td>\n",
       "      <td>0.000000</td>\n",
       "      <td>0.000000</td>\n",
       "      <td>0.000000</td>\n",
       "      <td>5.146415e-01</td>\n",
       "      <td>0.629344</td>\n",
       "      <td>1.534162e-02</td>\n",
       "      <td>4.268440e-01</td>\n",
       "      <td>...</td>\n",
       "      <td>0.013199</td>\n",
       "      <td>0.175283</td>\n",
       "      <td>0.006947</td>\n",
       "      <td>-0.007557</td>\n",
       "      <td>0.000000</td>\n",
       "      <td>0.044393</td>\n",
       "      <td>0.451124</td>\n",
       "      <td>2.835989</td>\n",
       "      <td>0.035819</td>\n",
       "      <td>0.000000</td>\n",
       "    </tr>\n",
       "    <tr>\n",
       "      <th>210</th>\n",
       "      <td>Firm 225</td>\n",
       "      <td>-0.037127</td>\n",
       "      <td>0.000098</td>\n",
       "      <td>0.004784</td>\n",
       "      <td>0.000000</td>\n",
       "      <td>0.000000</td>\n",
       "      <td>2.304387e+00</td>\n",
       "      <td>8.986124</td>\n",
       "      <td>7.064597e+00</td>\n",
       "      <td>0.000000e+00</td>\n",
       "      <td>...</td>\n",
       "      <td>0.439970</td>\n",
       "      <td>0.348245</td>\n",
       "      <td>0.153211</td>\n",
       "      <td>0.216850</td>\n",
       "      <td>0.166121</td>\n",
       "      <td>1.686933</td>\n",
       "      <td>0.728656</td>\n",
       "      <td>0.069735</td>\n",
       "      <td>1.281783</td>\n",
       "      <td>1.150541</td>\n",
       "    </tr>\n",
       "    <tr>\n",
       "      <th>217</th>\n",
       "      <td>Firm 232</td>\n",
       "      <td>0.000000</td>\n",
       "      <td>0.000000</td>\n",
       "      <td>0.000000</td>\n",
       "      <td>0.000000</td>\n",
       "      <td>0.000000</td>\n",
       "      <td>7.808473e-02</td>\n",
       "      <td>0.609130</td>\n",
       "      <td>5.315459e-02</td>\n",
       "      <td>4.799485e-01</td>\n",
       "      <td>...</td>\n",
       "      <td>NaN</td>\n",
       "      <td>NaN</td>\n",
       "      <td>NaN</td>\n",
       "      <td>NaN</td>\n",
       "      <td>NaN</td>\n",
       "      <td>NaN</td>\n",
       "      <td>NaN</td>\n",
       "      <td>NaN</td>\n",
       "      <td>NaN</td>\n",
       "      <td>NaN</td>\n",
       "    </tr>\n",
       "    <tr>\n",
       "      <th>218</th>\n",
       "      <td>Firm 233</td>\n",
       "      <td>0.000000</td>\n",
       "      <td>0.000000</td>\n",
       "      <td>0.000000</td>\n",
       "      <td>0.000000</td>\n",
       "      <td>0.166024</td>\n",
       "      <td>3.339310e+00</td>\n",
       "      <td>0.599519</td>\n",
       "      <td>4.202162e+00</td>\n",
       "      <td>6.403705e+00</td>\n",
       "      <td>...</td>\n",
       "      <td>0.488420</td>\n",
       "      <td>0.095626</td>\n",
       "      <td>0.118973</td>\n",
       "      <td>0.067035</td>\n",
       "      <td>0.393961</td>\n",
       "      <td>1.345028</td>\n",
       "      <td>0.352050</td>\n",
       "      <td>1.255259</td>\n",
       "      <td>0.482150</td>\n",
       "      <td>1.403873</td>\n",
       "    </tr>\n",
       "    <tr>\n",
       "      <th>223</th>\n",
       "      <td>Firm 238</td>\n",
       "      <td>0.000000</td>\n",
       "      <td>0.000000</td>\n",
       "      <td>0.000000</td>\n",
       "      <td>0.000000</td>\n",
       "      <td>0.000000</td>\n",
       "      <td>4.862705e-01</td>\n",
       "      <td>0.199591</td>\n",
       "      <td>1.825299e-01</td>\n",
       "      <td>5.006835e-01</td>\n",
       "      <td>...</td>\n",
       "      <td>0.234972</td>\n",
       "      <td>0.071291</td>\n",
       "      <td>0.972361</td>\n",
       "      <td>0.476874</td>\n",
       "      <td>0.797546</td>\n",
       "      <td>0.640651</td>\n",
       "      <td>1.349681</td>\n",
       "      <td>0.211317</td>\n",
       "      <td>0.647428</td>\n",
       "      <td>1.736298</td>\n",
       "    </tr>\n",
       "    <tr>\n",
       "      <th>224</th>\n",
       "      <td>Firm 239</td>\n",
       "      <td>0.000000</td>\n",
       "      <td>0.000000</td>\n",
       "      <td>0.000000</td>\n",
       "      <td>0.000000</td>\n",
       "      <td>0.000000</td>\n",
       "      <td>3.101172e+00</td>\n",
       "      <td>0.592915</td>\n",
       "      <td>2.307788e+00</td>\n",
       "      <td>1.486778e+00</td>\n",
       "      <td>...</td>\n",
       "      <td>0.376665</td>\n",
       "      <td>0.200594</td>\n",
       "      <td>0.394631</td>\n",
       "      <td>0.649329</td>\n",
       "      <td>0.255432</td>\n",
       "      <td>0.855031</td>\n",
       "      <td>0.987208</td>\n",
       "      <td>1.995135</td>\n",
       "      <td>1.293141</td>\n",
       "      <td>2.456388</td>\n",
       "    </tr>\n",
       "    <tr>\n",
       "      <th>234</th>\n",
       "      <td>Firm 249</td>\n",
       "      <td>0.000000</td>\n",
       "      <td>0.000000</td>\n",
       "      <td>0.000000</td>\n",
       "      <td>0.000000</td>\n",
       "      <td>0.000000</td>\n",
       "      <td>0.000000e+00</td>\n",
       "      <td>0.000000</td>\n",
       "      <td>0.000000e+00</td>\n",
       "      <td>2.115877e+01</td>\n",
       "      <td>...</td>\n",
       "      <td>0.000000</td>\n",
       "      <td>0.045599</td>\n",
       "      <td>0.474609</td>\n",
       "      <td>0.408714</td>\n",
       "      <td>0.425330</td>\n",
       "      <td>0.000000</td>\n",
       "      <td>1.228811</td>\n",
       "      <td>1.184604</td>\n",
       "      <td>0.537374</td>\n",
       "      <td>0.506973</td>\n",
       "    </tr>\n",
       "    <tr>\n",
       "      <th>240</th>\n",
       "      <td>Firm 256</td>\n",
       "      <td>0.000000</td>\n",
       "      <td>0.000000</td>\n",
       "      <td>0.000000</td>\n",
       "      <td>0.000000</td>\n",
       "      <td>0.000000</td>\n",
       "      <td>7.235792e+00</td>\n",
       "      <td>49.965828</td>\n",
       "      <td>3.401661e+01</td>\n",
       "      <td>3.232486e+01</td>\n",
       "      <td>...</td>\n",
       "      <td>0.016228</td>\n",
       "      <td>0.097458</td>\n",
       "      <td>0.011973</td>\n",
       "      <td>0.026378</td>\n",
       "      <td>0.004055</td>\n",
       "      <td>0.296044</td>\n",
       "      <td>0.315086</td>\n",
       "      <td>1.571686</td>\n",
       "      <td>0.797251</td>\n",
       "      <td>1.346920</td>\n",
       "    </tr>\n",
       "    <tr>\n",
       "      <th>250</th>\n",
       "      <td>Firm 269</td>\n",
       "      <td>0.000000</td>\n",
       "      <td>0.000000</td>\n",
       "      <td>0.000000</td>\n",
       "      <td>0.000000</td>\n",
       "      <td>0.000000</td>\n",
       "      <td>2.130992e+01</td>\n",
       "      <td>16.155759</td>\n",
       "      <td>2.139844e+00</td>\n",
       "      <td>7.282932e+00</td>\n",
       "      <td>...</td>\n",
       "      <td>NaN</td>\n",
       "      <td>NaN</td>\n",
       "      <td>NaN</td>\n",
       "      <td>NaN</td>\n",
       "      <td>NaN</td>\n",
       "      <td>NaN</td>\n",
       "      <td>NaN</td>\n",
       "      <td>NaN</td>\n",
       "      <td>NaN</td>\n",
       "      <td>NaN</td>\n",
       "    </tr>\n",
       "    <tr>\n",
       "      <th>251</th>\n",
       "      <td>Firm 270</td>\n",
       "      <td>0.000000</td>\n",
       "      <td>0.000000</td>\n",
       "      <td>0.000000</td>\n",
       "      <td>0.000000</td>\n",
       "      <td>0.000000</td>\n",
       "      <td>3.781871e-01</td>\n",
       "      <td>0.214554</td>\n",
       "      <td>2.578794e-01</td>\n",
       "      <td>1.684134e-01</td>\n",
       "      <td>...</td>\n",
       "      <td>0.351509</td>\n",
       "      <td>0.410150</td>\n",
       "      <td>0.703238</td>\n",
       "      <td>-4.856660</td>\n",
       "      <td>4.181817</td>\n",
       "      <td>-540.896015</td>\n",
       "      <td>-179.994480</td>\n",
       "      <td>-210.458456</td>\n",
       "      <td>-1618.214787</td>\n",
       "      <td>1597.329087</td>\n",
       "    </tr>\n",
       "    <tr>\n",
       "      <th>252</th>\n",
       "      <td>Firm 271</td>\n",
       "      <td>0.000000</td>\n",
       "      <td>0.000000</td>\n",
       "      <td>0.000000</td>\n",
       "      <td>0.000000</td>\n",
       "      <td>0.000000</td>\n",
       "      <td>2.025565e+00</td>\n",
       "      <td>0.389881</td>\n",
       "      <td>8.279261e-01</td>\n",
       "      <td>6.897899e-01</td>\n",
       "      <td>...</td>\n",
       "      <td>0.036111</td>\n",
       "      <td>-0.001680</td>\n",
       "      <td>0.000000</td>\n",
       "      <td>0.000000</td>\n",
       "      <td>0.000000</td>\n",
       "      <td>1.457959</td>\n",
       "      <td>0.174350</td>\n",
       "      <td>0.000000</td>\n",
       "      <td>0.000000</td>\n",
       "      <td>0.000000</td>\n",
       "    </tr>\n",
       "    <tr>\n",
       "      <th>258</th>\n",
       "      <td>Firm 277</td>\n",
       "      <td>-0.438653</td>\n",
       "      <td>-0.029825</td>\n",
       "      <td>-0.157063</td>\n",
       "      <td>-0.033910</td>\n",
       "      <td>0.000000</td>\n",
       "      <td>3.907264e-01</td>\n",
       "      <td>1.795750</td>\n",
       "      <td>1.488909e+00</td>\n",
       "      <td>1.316228e+00</td>\n",
       "      <td>...</td>\n",
       "      <td>NaN</td>\n",
       "      <td>NaN</td>\n",
       "      <td>NaN</td>\n",
       "      <td>NaN</td>\n",
       "      <td>NaN</td>\n",
       "      <td>NaN</td>\n",
       "      <td>NaN</td>\n",
       "      <td>NaN</td>\n",
       "      <td>NaN</td>\n",
       "      <td>NaN</td>\n",
       "    </tr>\n",
       "    <tr>\n",
       "      <th>272</th>\n",
       "      <td>Firm 291</td>\n",
       "      <td>0.000000</td>\n",
       "      <td>0.000000</td>\n",
       "      <td>0.000000</td>\n",
       "      <td>0.000000</td>\n",
       "      <td>0.000000</td>\n",
       "      <td>1.209135e-01</td>\n",
       "      <td>0.044344</td>\n",
       "      <td>7.230925e-02</td>\n",
       "      <td>3.833760e-02</td>\n",
       "      <td>...</td>\n",
       "      <td>0.118346</td>\n",
       "      <td>0.312742</td>\n",
       "      <td>0.742911</td>\n",
       "      <td>0.181312</td>\n",
       "      <td>0.190721</td>\n",
       "      <td>1.812700</td>\n",
       "      <td>0.864772</td>\n",
       "      <td>0.831632</td>\n",
       "      <td>0.368473</td>\n",
       "      <td>0.803652</td>\n",
       "    </tr>\n",
       "    <tr>\n",
       "      <th>281</th>\n",
       "      <td>Firm 300</td>\n",
       "      <td>0.000000</td>\n",
       "      <td>0.000000</td>\n",
       "      <td>0.000000</td>\n",
       "      <td>0.000000</td>\n",
       "      <td>0.000000</td>\n",
       "      <td>1.254419e+00</td>\n",
       "      <td>1.566942</td>\n",
       "      <td>1.461068e+00</td>\n",
       "      <td>1.583550e+00</td>\n",
       "      <td>...</td>\n",
       "      <td>0.037027</td>\n",
       "      <td>0.429597</td>\n",
       "      <td>0.521934</td>\n",
       "      <td>0.536236</td>\n",
       "      <td>0.159998</td>\n",
       "      <td>0.481859</td>\n",
       "      <td>0.710062</td>\n",
       "      <td>1.414475</td>\n",
       "      <td>2.212957</td>\n",
       "      <td>0.468923</td>\n",
       "    </tr>\n",
       "    <tr>\n",
       "      <th>292</th>\n",
       "      <td>Firm 312</td>\n",
       "      <td>0.000000</td>\n",
       "      <td>0.000000</td>\n",
       "      <td>0.000000</td>\n",
       "      <td>0.000000</td>\n",
       "      <td>0.000000</td>\n",
       "      <td>3.904599e-01</td>\n",
       "      <td>0.396993</td>\n",
       "      <td>2.310148e-01</td>\n",
       "      <td>1.981536e-03</td>\n",
       "      <td>...</td>\n",
       "      <td>NaN</td>\n",
       "      <td>NaN</td>\n",
       "      <td>NaN</td>\n",
       "      <td>NaN</td>\n",
       "      <td>NaN</td>\n",
       "      <td>NaN</td>\n",
       "      <td>NaN</td>\n",
       "      <td>NaN</td>\n",
       "      <td>NaN</td>\n",
       "      <td>NaN</td>\n",
       "    </tr>\n",
       "    <tr>\n",
       "      <th>294</th>\n",
       "      <td>Firm 314</td>\n",
       "      <td>0.000000</td>\n",
       "      <td>0.000000</td>\n",
       "      <td>0.000000</td>\n",
       "      <td>0.000000</td>\n",
       "      <td>0.000000</td>\n",
       "      <td>3.303004e-01</td>\n",
       "      <td>0.389679</td>\n",
       "      <td>2.511469e-01</td>\n",
       "      <td>0.000000e+00</td>\n",
       "      <td>...</td>\n",
       "      <td>0.591756</td>\n",
       "      <td>0.477499</td>\n",
       "      <td>0.147823</td>\n",
       "      <td>0.200753</td>\n",
       "      <td>1.025910</td>\n",
       "      <td>0.614155</td>\n",
       "      <td>0.654353</td>\n",
       "      <td>0.960414</td>\n",
       "      <td>0.839564</td>\n",
       "      <td>0.602899</td>\n",
       "    </tr>\n",
       "    <tr>\n",
       "      <th>300</th>\n",
       "      <td>Firm 320</td>\n",
       "      <td>0.000000</td>\n",
       "      <td>0.000000</td>\n",
       "      <td>0.000000</td>\n",
       "      <td>0.000000</td>\n",
       "      <td>0.000000</td>\n",
       "      <td>1.412290e-06</td>\n",
       "      <td>3.074932</td>\n",
       "      <td>5.926279e+00</td>\n",
       "      <td>4.441699e+00</td>\n",
       "      <td>...</td>\n",
       "      <td>NaN</td>\n",
       "      <td>NaN</td>\n",
       "      <td>NaN</td>\n",
       "      <td>NaN</td>\n",
       "      <td>NaN</td>\n",
       "      <td>NaN</td>\n",
       "      <td>NaN</td>\n",
       "      <td>NaN</td>\n",
       "      <td>NaN</td>\n",
       "      <td>NaN</td>\n",
       "    </tr>\n",
       "    <tr>\n",
       "      <th>303</th>\n",
       "      <td>Firm 323</td>\n",
       "      <td>0.000000</td>\n",
       "      <td>0.000000</td>\n",
       "      <td>0.000000</td>\n",
       "      <td>0.000000</td>\n",
       "      <td>0.000000</td>\n",
       "      <td>6.459131e+00</td>\n",
       "      <td>28.037740</td>\n",
       "      <td>5.689804e+00</td>\n",
       "      <td>1.674462e+00</td>\n",
       "      <td>...</td>\n",
       "      <td>NaN</td>\n",
       "      <td>NaN</td>\n",
       "      <td>NaN</td>\n",
       "      <td>NaN</td>\n",
       "      <td>NaN</td>\n",
       "      <td>NaN</td>\n",
       "      <td>NaN</td>\n",
       "      <td>NaN</td>\n",
       "      <td>NaN</td>\n",
       "      <td>NaN</td>\n",
       "    </tr>\n",
       "  </tbody>\n",
       "</table>\n",
       "<p>48 rows × 87 columns</p>\n",
       "</div>"
      ],
      "text/plain": [
       "      Firms_x NWP (£m)                                               SCR (£m)  \\\n",
       "      Firms_x    2016YE    2017YE    2018YE    2019YE    2020YE        2016YE   \n",
       "9     Firm 12  0.000000  0.000000  0.000000  0.000000  0.000000  1.126037e+00   \n",
       "13    Firm 16  0.000000  0.000000  0.000000  0.000000  0.000000  7.158603e+00   \n",
       "15    Firm 18  0.000000  0.000000  0.000000  0.000000  0.000000  3.732730e-01   \n",
       "18    Firm 21  0.000000  0.000000  0.000000  0.000000  0.027259  3.507516e-01   \n",
       "27    Firm 31  0.001498  0.000000  0.000000  0.000000  0.000000  1.605136e+00   \n",
       "39    Firm 43  0.000000  0.000000  0.000000  0.000000  0.000000  3.620191e+00   \n",
       "51    Firm 56 -0.051840  0.000000  0.000000  0.000000  0.000000  1.405326e+00   \n",
       "56    Firm 61  0.838222 -0.663091 -4.750917 -0.271076  0.653909  2.058780e+02   \n",
       "76    Firm 83  0.000000  0.000000  0.000000  0.000000  0.000000  3.451869e+01   \n",
       "77    Firm 84  0.000000  0.000000  0.000000  0.000000  0.000000  0.000000e+00   \n",
       "78    Firm 85  0.000000  0.000000  0.000000  0.000000  0.000000  1.977941e+01   \n",
       "87    Firm 94  0.000000  0.000000  0.000000  0.000000  0.000000  1.067017e-02   \n",
       "89    Firm 96 -0.019008  0.003815  0.000000  0.000000  0.000000  1.036972e+01   \n",
       "91    Firm 98  0.000000  0.000000  0.000000  0.000000  0.000000  0.000000e+00   \n",
       "95   Firm 102  0.000000  0.000000  0.000000  0.000000  0.000000  0.000000e+00   \n",
       "96   Firm 103  0.000000  0.000000  0.000000  0.000000  0.000000  1.005624e+00   \n",
       "101  Firm 108  0.000000  0.000000  0.000000  0.000000  0.000000  2.658587e-01   \n",
       "102  Firm 109  0.000000  0.000000  0.000000  0.000000  0.000000  2.582207e+01   \n",
       "112  Firm 122  0.000000  0.000000  0.000000  0.000000  0.000000  4.386420e-01   \n",
       "117  Firm 127  0.000000  0.000000  0.000000  0.000000  0.000000  1.121213e-07   \n",
       "118  Firm 129  0.000000  0.000000  0.000000  0.000000  0.000000  1.679018e+01   \n",
       "124  Firm 135  0.000000  0.000000  0.000000  0.000000  0.000000  1.808554e+01   \n",
       "130  Firm 141  0.000000  0.000000  0.000000  0.000000  0.000000  8.441410e+01   \n",
       "134  Firm 145  0.000000  0.000000  0.000000  0.000000  0.000000  2.142746e+00   \n",
       "136  Firm 147  0.000000  0.000000  0.000000  0.000000  0.000000  4.607096e+00   \n",
       "156  Firm 168  0.000000  0.000000  0.000000  0.000000  0.000000  8.967226e-01   \n",
       "160  Firm 172  0.000000  0.000000  0.000000  0.000000  0.000000  9.079356e+00   \n",
       "177  Firm 190  0.000000  0.000000  0.000000  0.000000  0.000000  9.364743e-01   \n",
       "192  Firm 207 -0.963861 -1.390090  0.000000  0.000000  0.000000  4.511842e+01   \n",
       "202  Firm 217  0.000000  0.000000  0.000000  0.000000  0.000000  2.492465e+01   \n",
       "209  Firm 224  0.000000  0.000000  0.000000  0.000000  0.000000  5.146415e-01   \n",
       "210  Firm 225 -0.037127  0.000098  0.004784  0.000000  0.000000  2.304387e+00   \n",
       "217  Firm 232  0.000000  0.000000  0.000000  0.000000  0.000000  7.808473e-02   \n",
       "218  Firm 233  0.000000  0.000000  0.000000  0.000000  0.166024  3.339310e+00   \n",
       "223  Firm 238  0.000000  0.000000  0.000000  0.000000  0.000000  4.862705e-01   \n",
       "224  Firm 239  0.000000  0.000000  0.000000  0.000000  0.000000  3.101172e+00   \n",
       "234  Firm 249  0.000000  0.000000  0.000000  0.000000  0.000000  0.000000e+00   \n",
       "240  Firm 256  0.000000  0.000000  0.000000  0.000000  0.000000  7.235792e+00   \n",
       "250  Firm 269  0.000000  0.000000  0.000000  0.000000  0.000000  2.130992e+01   \n",
       "251  Firm 270  0.000000  0.000000  0.000000  0.000000  0.000000  3.781871e-01   \n",
       "252  Firm 271  0.000000  0.000000  0.000000  0.000000  0.000000  2.025565e+00   \n",
       "258  Firm 277 -0.438653 -0.029825 -0.157063 -0.033910  0.000000  3.907264e-01   \n",
       "272  Firm 291  0.000000  0.000000  0.000000  0.000000  0.000000  1.209135e-01   \n",
       "281  Firm 300  0.000000  0.000000  0.000000  0.000000  0.000000  1.254419e+00   \n",
       "292  Firm 312  0.000000  0.000000  0.000000  0.000000  0.000000  3.904599e-01   \n",
       "294  Firm 314  0.000000  0.000000  0.000000  0.000000  0.000000  3.303004e-01   \n",
       "300  Firm 320  0.000000  0.000000  0.000000  0.000000  0.000000  1.412290e-06   \n",
       "303  Firm 323  0.000000  0.000000  0.000000  0.000000  0.000000  6.459131e+00   \n",
       "\n",
       "                                             ... Gross expense ratio  \\\n",
       "         2017YE        2018YE        2019YE  ...              2016YE   \n",
       "9      0.947228  1.216207e+00  1.725935e+00  ...            0.632425   \n",
       "13     0.056225  1.196284e+00  0.000000e+00  ...                 NaN   \n",
       "15     0.265942  4.839817e-01  5.203933e-01  ...            0.066052   \n",
       "18     0.385866  3.080330e-02  1.318841e+01  ...            0.614482   \n",
       "27     0.035144  0.000000e+00  0.000000e+00  ...            1.642902   \n",
       "39     2.554780  2.123101e+00  2.765866e+00  ...                 NaN   \n",
       "51     0.454588  1.928810e-01  1.038713e+00  ...            0.095949   \n",
       "56   193.255078  5.045995e+01  5.435876e+01  ...            0.320231   \n",
       "76    17.922179  1.649927e+01  2.205415e+01  ...            0.000000   \n",
       "77     0.000000  0.000000e+00  1.930661e-01  ...            0.499494   \n",
       "78    24.806332  1.173557e+01  2.360870e+01  ...            0.215486   \n",
       "87     0.620516  1.011288e+00  1.306946e+00  ...            0.268892   \n",
       "89    33.593303  0.000000e+00  0.000000e+00  ...            0.616412   \n",
       "91     0.000000  0.000000e+00  2.950606e+00  ...                 NaN   \n",
       "95     0.665272  0.000000e+00  0.000000e+00  ...            0.267615   \n",
       "96     1.631688  1.123171e+00  5.374486e-01  ...                 NaN   \n",
       "101    1.409419  4.550693e-01  1.049790e+00  ...            0.000000   \n",
       "102    8.073924  3.338429e+01  1.508984e+02  ...            0.060850   \n",
       "112    2.780188  2.637863e+00  6.325162e+00  ...            0.000000   \n",
       "117    0.000002  4.145982e-07  1.070607e-07  ...            0.000000   \n",
       "118   13.487806  4.837806e-01  8.392572e+00  ...            0.337604   \n",
       "124    5.899800  1.086932e+01  8.999086e-01  ...            0.617822   \n",
       "130  192.142011  1.964996e+02  1.116612e+02  ...            0.297179   \n",
       "134    2.670563  2.291829e+00  6.328942e-01  ...            0.000000   \n",
       "136    0.664129  1.196393e-01  3.827802e+00  ...                 NaN   \n",
       "156    0.041706  4.600418e-01  2.742542e-01  ...                 NaN   \n",
       "160    8.016838  8.063309e+00  1.417331e+00  ...                 NaN   \n",
       "177    2.321110  1.003918e-01  7.863050e-01  ...           -0.034357   \n",
       "192   97.952199  0.000000e+00  0.000000e+00  ...            0.321747   \n",
       "202   22.651395  3.254229e+01  0.000000e+00  ...            0.000000   \n",
       "209    0.629344  1.534162e-02  4.268440e-01  ...            0.013199   \n",
       "210    8.986124  7.064597e+00  0.000000e+00  ...            0.439970   \n",
       "217    0.609130  5.315459e-02  4.799485e-01  ...                 NaN   \n",
       "218    0.599519  4.202162e+00  6.403705e+00  ...            0.488420   \n",
       "223    0.199591  1.825299e-01  5.006835e-01  ...            0.234972   \n",
       "224    0.592915  2.307788e+00  1.486778e+00  ...            0.376665   \n",
       "234    0.000000  0.000000e+00  2.115877e+01  ...            0.000000   \n",
       "240   49.965828  3.401661e+01  3.232486e+01  ...            0.016228   \n",
       "250   16.155759  2.139844e+00  7.282932e+00  ...                 NaN   \n",
       "251    0.214554  2.578794e-01  1.684134e-01  ...            0.351509   \n",
       "252    0.389881  8.279261e-01  6.897899e-01  ...            0.036111   \n",
       "258    1.795750  1.488909e+00  1.316228e+00  ...                 NaN   \n",
       "272    0.044344  7.230925e-02  3.833760e-02  ...            0.118346   \n",
       "281    1.566942  1.461068e+00  1.583550e+00  ...            0.037027   \n",
       "292    0.396993  2.310148e-01  1.981536e-03  ...                 NaN   \n",
       "294    0.389679  2.511469e-01  0.000000e+00  ...            0.591756   \n",
       "300    3.074932  5.926279e+00  4.441699e+00  ...                 NaN   \n",
       "303   28.037740  5.689804e+00  1.674462e+00  ...                 NaN   \n",
       "\n",
       "                                             Gross combined ratio              \\\n",
       "       2017YE     2018YE    2019YE    2020YE               2016YE      2017YE   \n",
       "9    0.155162   0.279423  0.049536  0.045109             1.879972    1.251861   \n",
       "13        NaN        NaN       NaN       NaN                  NaN         NaN   \n",
       "15   0.204031   0.291916  0.042798  0.269948             0.132124    2.322264   \n",
       "18   0.043525   0.495126  0.215699  0.325099             0.038587    1.040741   \n",
       "27   1.704734   0.846897  0.173807  0.022744             0.551403    2.089571   \n",
       "39        NaN        NaN       NaN       NaN                  NaN         NaN   \n",
       "51   0.301992   0.567297  0.374609  0.236317             0.726875    0.485915   \n",
       "56   0.336651   0.275312  0.000000  0.000000             1.936716    0.703010   \n",
       "76   3.493759  31.720896  0.000000  0.000000             0.000000   15.311627   \n",
       "77   0.022747   0.176417  0.125874  0.013417             0.793664    1.958503   \n",
       "78   0.453992   0.176896  0.136802  0.280590             0.485749    0.544119   \n",
       "87   0.546842   0.504310  0.412781  0.159026             0.921398    0.575705   \n",
       "89   0.440711   0.561195  0.000000  0.000000             1.616303    0.930160   \n",
       "91        NaN        NaN       NaN       NaN                  NaN         NaN   \n",
       "95   0.123200   0.774337  0.520459  1.085284             1.506229    0.890565   \n",
       "96        NaN        NaN       NaN       NaN                  NaN         NaN   \n",
       "101  0.313265   0.389803  0.050132  0.204951             0.000000    0.572305   \n",
       "102  0.437488   0.000000  0.000000  0.000000             0.286225    0.174160   \n",
       "112  0.000000   0.000000  0.000000  0.000000             0.000000    0.000000   \n",
       "117  0.000000   0.000000  0.000000  0.000000             0.000000    0.000000   \n",
       "118  0.562138   0.241175  0.116812  0.361133             0.913320    1.394555   \n",
       "124  0.166194   0.668096  0.548463  0.352990             1.273150    0.647211   \n",
       "130  0.727549   0.399658  0.920454  0.084463             1.060099    0.924486   \n",
       "134  0.000000   0.000000  0.000000  0.000000             0.000000    0.000000   \n",
       "136       NaN        NaN       NaN       NaN                  NaN         NaN   \n",
       "156       NaN        NaN       NaN       NaN                  NaN         NaN   \n",
       "160       NaN        NaN       NaN       NaN                  NaN         NaN   \n",
       "177 -1.034156   0.421091  0.186410  0.405606            -0.012349   -0.314472   \n",
       "192  0.707030   0.270368  0.110381  0.410307             0.104212    0.595023   \n",
       "202  0.000000   0.152231  0.000000  0.000000             0.000000    0.000000   \n",
       "209  0.175283   0.006947 -0.007557  0.000000             0.044393    0.451124   \n",
       "210  0.348245   0.153211  0.216850  0.166121             1.686933    0.728656   \n",
       "217       NaN        NaN       NaN       NaN                  NaN         NaN   \n",
       "218  0.095626   0.118973  0.067035  0.393961             1.345028    0.352050   \n",
       "223  0.071291   0.972361  0.476874  0.797546             0.640651    1.349681   \n",
       "224  0.200594   0.394631  0.649329  0.255432             0.855031    0.987208   \n",
       "234  0.045599   0.474609  0.408714  0.425330             0.000000    1.228811   \n",
       "240  0.097458   0.011973  0.026378  0.004055             0.296044    0.315086   \n",
       "250       NaN        NaN       NaN       NaN                  NaN         NaN   \n",
       "251  0.410150   0.703238 -4.856660  4.181817          -540.896015 -179.994480   \n",
       "252 -0.001680   0.000000  0.000000  0.000000             1.457959    0.174350   \n",
       "258       NaN        NaN       NaN       NaN                  NaN         NaN   \n",
       "272  0.312742   0.742911  0.181312  0.190721             1.812700    0.864772   \n",
       "281  0.429597   0.521934  0.536236  0.159998             0.481859    0.710062   \n",
       "292       NaN        NaN       NaN       NaN                  NaN         NaN   \n",
       "294  0.477499   0.147823  0.200753  1.025910             0.614155    0.654353   \n",
       "300       NaN        NaN       NaN       NaN                  NaN         NaN   \n",
       "303       NaN        NaN       NaN       NaN                  NaN         NaN   \n",
       "\n",
       "                                           \n",
       "         2018YE       2019YE       2020YE  \n",
       "9      0.851867     0.162458     0.917823  \n",
       "13          NaN          NaN          NaN  \n",
       "15     1.282563     1.082186     0.096483  \n",
       "18     0.755522     0.608990     3.099208  \n",
       "27     1.702403     1.346599     0.486225  \n",
       "39          NaN          NaN          NaN  \n",
       "51     0.994784     2.284585     1.010373  \n",
       "56     3.119979     0.000000     0.000000  \n",
       "76    21.653104     0.000000     0.000000  \n",
       "77     0.026023     2.247808     0.700372  \n",
       "78     1.509551     1.327087     1.403564  \n",
       "87     1.106064     0.366503     0.219741  \n",
       "89     0.631420     0.000000     0.000000  \n",
       "91          NaN          NaN          NaN  \n",
       "95     1.351558     1.114826     0.852866  \n",
       "96          NaN          NaN          NaN  \n",
       "101    0.927753     0.338826     0.982480  \n",
       "102    0.000000     0.000000     0.000000  \n",
       "112    0.000000     0.000000     0.000000  \n",
       "117    0.000000     0.000000     0.000000  \n",
       "118    0.687030     3.646353     0.074070  \n",
       "124    0.139765     0.875534     1.116742  \n",
       "130    0.316956     0.382957     0.037905  \n",
       "134    0.000000     0.000000     0.000000  \n",
       "136         NaN          NaN          NaN  \n",
       "156         NaN          NaN          NaN  \n",
       "160         NaN          NaN          NaN  \n",
       "177    0.233579     0.046917     0.431692  \n",
       "192    0.395029     0.523825     0.907985  \n",
       "202    0.215050     0.000000     0.000000  \n",
       "209    2.835989     0.035819     0.000000  \n",
       "210    0.069735     1.281783     1.150541  \n",
       "217         NaN          NaN          NaN  \n",
       "218    1.255259     0.482150     1.403873  \n",
       "223    0.211317     0.647428     1.736298  \n",
       "224    1.995135     1.293141     2.456388  \n",
       "234    1.184604     0.537374     0.506973  \n",
       "240    1.571686     0.797251     1.346920  \n",
       "250         NaN          NaN          NaN  \n",
       "251 -210.458456 -1618.214787  1597.329087  \n",
       "252    0.000000     0.000000     0.000000  \n",
       "258         NaN          NaN          NaN  \n",
       "272    0.831632     0.368473     0.803652  \n",
       "281    1.414475     2.212957     0.468923  \n",
       "292         NaN          NaN          NaN  \n",
       "294    0.960414     0.839564     0.602899  \n",
       "300         NaN          NaN          NaN  \n",
       "303         NaN          NaN          NaN  \n",
       "\n",
       "[48 rows x 87 columns]"
      ]
     },
     "execution_count": 10,
     "metadata": {},
     "output_type": "execute_result"
    }
   ],
   "source": [
    "df_merged[df_merged['GWP (£m)'].sum(axis=1) <= 0]"
   ]
  },
  {
   "cell_type": "code",
   "execution_count": 11,
   "metadata": {},
   "outputs": [],
   "source": [
    "df_merged = df_merged[df_merged['GWP (£m)'].sum(axis=1) > 0]"
   ]
  },
  {
   "cell_type": "markdown",
   "metadata": {},
   "source": [
    "## PRA GWP threshold pre 2023 = £5M\n",
    "How many firms does this include? \n",
    "\n",
    "Rouhgly 187 firms, after taking the median GWP across all years - too many firms"
   ]
  },
  {
   "cell_type": "code",
   "execution_count": 12,
   "metadata": {},
   "outputs": [
    {
     "data": {
      "text/html": [
       "<div>\n",
       "<style scoped>\n",
       "    .dataframe tbody tr th:only-of-type {\n",
       "        vertical-align: middle;\n",
       "    }\n",
       "\n",
       "    .dataframe tbody tr th {\n",
       "        vertical-align: top;\n",
       "    }\n",
       "\n",
       "    .dataframe thead tr th {\n",
       "        text-align: left;\n",
       "    }\n",
       "</style>\n",
       "<table border=\"1\" class=\"dataframe\">\n",
       "  <thead>\n",
       "    <tr>\n",
       "      <th></th>\n",
       "      <th>Firms_x</th>\n",
       "      <th colspan=\"5\" halign=\"left\">NWP (£m)</th>\n",
       "      <th colspan=\"4\" halign=\"left\">SCR (£m)</th>\n",
       "      <th>...</th>\n",
       "      <th colspan=\"5\" halign=\"left\">Gross expense ratio</th>\n",
       "      <th colspan=\"5\" halign=\"left\">Gross combined ratio</th>\n",
       "    </tr>\n",
       "    <tr>\n",
       "      <th></th>\n",
       "      <th>Firms_x</th>\n",
       "      <th>2016YE</th>\n",
       "      <th>2017YE</th>\n",
       "      <th>2018YE</th>\n",
       "      <th>2019YE</th>\n",
       "      <th>2020YE</th>\n",
       "      <th>2016YE</th>\n",
       "      <th>2017YE</th>\n",
       "      <th>2018YE</th>\n",
       "      <th>2019YE</th>\n",
       "      <th>...</th>\n",
       "      <th>2016YE</th>\n",
       "      <th>2017YE</th>\n",
       "      <th>2018YE</th>\n",
       "      <th>2019YE</th>\n",
       "      <th>2020YE</th>\n",
       "      <th>2016YE</th>\n",
       "      <th>2017YE</th>\n",
       "      <th>2018YE</th>\n",
       "      <th>2019YE</th>\n",
       "      <th>2020YE</th>\n",
       "    </tr>\n",
       "  </thead>\n",
       "  <tbody>\n",
       "    <tr>\n",
       "      <th>1</th>\n",
       "      <td>Firm 2</td>\n",
       "      <td>9.244369</td>\n",
       "      <td>0.098771</td>\n",
       "      <td>40.812426</td>\n",
       "      <td>35.643071</td>\n",
       "      <td>13.626145</td>\n",
       "      <td>16.459756</td>\n",
       "      <td>15.009073</td>\n",
       "      <td>14.227214</td>\n",
       "      <td>15.037066</td>\n",
       "      <td>...</td>\n",
       "      <td>0.391179</td>\n",
       "      <td>0.685941</td>\n",
       "      <td>1.433284</td>\n",
       "      <td>0.000000</td>\n",
       "      <td>0.000000</td>\n",
       "      <td>1.750946</td>\n",
       "      <td>1.321523</td>\n",
       "      <td>1.545325</td>\n",
       "      <td>0.000000</td>\n",
       "      <td>0.000000</td>\n",
       "    </tr>\n",
       "    <tr>\n",
       "      <th>2</th>\n",
       "      <td>Firm 3</td>\n",
       "      <td>0.000000</td>\n",
       "      <td>0.806130</td>\n",
       "      <td>36.620199</td>\n",
       "      <td>86.630018</td>\n",
       "      <td>54.744180</td>\n",
       "      <td>486.887796</td>\n",
       "      <td>495.786299</td>\n",
       "      <td>626.612217</td>\n",
       "      <td>81.242579</td>\n",
       "      <td>...</td>\n",
       "      <td>NaN</td>\n",
       "      <td>NaN</td>\n",
       "      <td>NaN</td>\n",
       "      <td>NaN</td>\n",
       "      <td>NaN</td>\n",
       "      <td>NaN</td>\n",
       "      <td>NaN</td>\n",
       "      <td>NaN</td>\n",
       "      <td>NaN</td>\n",
       "      <td>NaN</td>\n",
       "    </tr>\n",
       "    <tr>\n",
       "      <th>3</th>\n",
       "      <td>Firm 4</td>\n",
       "      <td>19677.453353</td>\n",
       "      <td>41072.816156</td>\n",
       "      <td>20885.506445</td>\n",
       "      <td>14719.672914</td>\n",
       "      <td>49204.465136</td>\n",
       "      <td>15975.652771</td>\n",
       "      <td>15367.887099</td>\n",
       "      <td>10797.123319</td>\n",
       "      <td>22788.359468</td>\n",
       "      <td>...</td>\n",
       "      <td>0.231139</td>\n",
       "      <td>0.285471</td>\n",
       "      <td>0.054150</td>\n",
       "      <td>0.051848</td>\n",
       "      <td>-0.162883</td>\n",
       "      <td>1.047234</td>\n",
       "      <td>0.476384</td>\n",
       "      <td>3.307379</td>\n",
       "      <td>1.247403</td>\n",
       "      <td>-2.303093</td>\n",
       "    </tr>\n",
       "    <tr>\n",
       "      <th>4</th>\n",
       "      <td>Firm 5</td>\n",
       "      <td>128.812208</td>\n",
       "      <td>10.407371</td>\n",
       "      <td>79.579663</td>\n",
       "      <td>79.423623</td>\n",
       "      <td>61.727295</td>\n",
       "      <td>32.742279</td>\n",
       "      <td>43.954039</td>\n",
       "      <td>31.622572</td>\n",
       "      <td>30.119285</td>\n",
       "      <td>...</td>\n",
       "      <td>0.236128</td>\n",
       "      <td>0.232725</td>\n",
       "      <td>0.204508</td>\n",
       "      <td>0.131739</td>\n",
       "      <td>0.048703</td>\n",
       "      <td>0.243611</td>\n",
       "      <td>1.977732</td>\n",
       "      <td>2.495287</td>\n",
       "      <td>0.365455</td>\n",
       "      <td>1.133645</td>\n",
       "    </tr>\n",
       "    <tr>\n",
       "      <th>5</th>\n",
       "      <td>Firm 6</td>\n",
       "      <td>3091.392118</td>\n",
       "      <td>3357.934035</td>\n",
       "      <td>3215.472967</td>\n",
       "      <td>53.217589</td>\n",
       "      <td>5969.707516</td>\n",
       "      <td>5127.365839</td>\n",
       "      <td>5252.809367</td>\n",
       "      <td>5460.800869</td>\n",
       "      <td>4581.916567</td>\n",
       "      <td>...</td>\n",
       "      <td>0.105267</td>\n",
       "      <td>0.451178</td>\n",
       "      <td>0.239576</td>\n",
       "      <td>0.261323</td>\n",
       "      <td>0.065710</td>\n",
       "      <td>0.650369</td>\n",
       "      <td>0.904271</td>\n",
       "      <td>0.147146</td>\n",
       "      <td>0.351034</td>\n",
       "      <td>0.687860</td>\n",
       "    </tr>\n",
       "    <tr>\n",
       "      <th>...</th>\n",
       "      <td>...</td>\n",
       "      <td>...</td>\n",
       "      <td>...</td>\n",
       "      <td>...</td>\n",
       "      <td>...</td>\n",
       "      <td>...</td>\n",
       "      <td>...</td>\n",
       "      <td>...</td>\n",
       "      <td>...</td>\n",
       "      <td>...</td>\n",
       "      <td>...</td>\n",
       "      <td>...</td>\n",
       "      <td>...</td>\n",
       "      <td>...</td>\n",
       "      <td>...</td>\n",
       "      <td>...</td>\n",
       "      <td>...</td>\n",
       "      <td>...</td>\n",
       "      <td>...</td>\n",
       "      <td>...</td>\n",
       "      <td>...</td>\n",
       "    </tr>\n",
       "    <tr>\n",
       "      <th>297</th>\n",
       "      <td>Firm 317</td>\n",
       "      <td>1635.740935</td>\n",
       "      <td>4105.052125</td>\n",
       "      <td>4838.904507</td>\n",
       "      <td>4451.743449</td>\n",
       "      <td>3479.287464</td>\n",
       "      <td>57.943592</td>\n",
       "      <td>221.532471</td>\n",
       "      <td>99.388160</td>\n",
       "      <td>131.898114</td>\n",
       "      <td>...</td>\n",
       "      <td>0.481435</td>\n",
       "      <td>0.369913</td>\n",
       "      <td>0.042752</td>\n",
       "      <td>0.097238</td>\n",
       "      <td>0.060318</td>\n",
       "      <td>0.262281</td>\n",
       "      <td>0.077431</td>\n",
       "      <td>1.742934</td>\n",
       "      <td>0.519823</td>\n",
       "      <td>0.512366</td>\n",
       "    </tr>\n",
       "    <tr>\n",
       "      <th>298</th>\n",
       "      <td>Firm 318</td>\n",
       "      <td>102.017050</td>\n",
       "      <td>74.829159</td>\n",
       "      <td>83.869961</td>\n",
       "      <td>310.067014</td>\n",
       "      <td>0.000000</td>\n",
       "      <td>472.640615</td>\n",
       "      <td>609.931305</td>\n",
       "      <td>119.423876</td>\n",
       "      <td>274.780500</td>\n",
       "      <td>...</td>\n",
       "      <td>0.416867</td>\n",
       "      <td>0.043522</td>\n",
       "      <td>1.018493</td>\n",
       "      <td>1.105734</td>\n",
       "      <td>0.859473</td>\n",
       "      <td>0.174716</td>\n",
       "      <td>-0.115464</td>\n",
       "      <td>1.470637</td>\n",
       "      <td>0.218232</td>\n",
       "      <td>0.558187</td>\n",
       "    </tr>\n",
       "    <tr>\n",
       "      <th>302</th>\n",
       "      <td>Firm 322</td>\n",
       "      <td>3315.466643</td>\n",
       "      <td>4136.476625</td>\n",
       "      <td>2192.750865</td>\n",
       "      <td>2252.917257</td>\n",
       "      <td>2780.628432</td>\n",
       "      <td>578.238997</td>\n",
       "      <td>1926.540266</td>\n",
       "      <td>1366.552217</td>\n",
       "      <td>849.073657</td>\n",
       "      <td>...</td>\n",
       "      <td>0.499785</td>\n",
       "      <td>0.323232</td>\n",
       "      <td>0.753450</td>\n",
       "      <td>0.390250</td>\n",
       "      <td>0.513934</td>\n",
       "      <td>0.063623</td>\n",
       "      <td>0.761518</td>\n",
       "      <td>0.998770</td>\n",
       "      <td>1.064060</td>\n",
       "      <td>1.984687</td>\n",
       "    </tr>\n",
       "    <tr>\n",
       "      <th>304</th>\n",
       "      <td>Firm 324</td>\n",
       "      <td>29.811172</td>\n",
       "      <td>21.003008</td>\n",
       "      <td>13.551740</td>\n",
       "      <td>6.145755</td>\n",
       "      <td>49.793157</td>\n",
       "      <td>45.967315</td>\n",
       "      <td>57.323200</td>\n",
       "      <td>36.910810</td>\n",
       "      <td>1.012305</td>\n",
       "      <td>...</td>\n",
       "      <td>0.166180</td>\n",
       "      <td>0.328329</td>\n",
       "      <td>0.278285</td>\n",
       "      <td>0.238669</td>\n",
       "      <td>0.228917</td>\n",
       "      <td>1.812040</td>\n",
       "      <td>1.868333</td>\n",
       "      <td>0.800207</td>\n",
       "      <td>0.420591</td>\n",
       "      <td>1.515067</td>\n",
       "    </tr>\n",
       "    <tr>\n",
       "      <th>305</th>\n",
       "      <td>Firm 325</td>\n",
       "      <td>108.471899</td>\n",
       "      <td>496.296030</td>\n",
       "      <td>437.217641</td>\n",
       "      <td>120.652291</td>\n",
       "      <td>0.000000</td>\n",
       "      <td>402.002179</td>\n",
       "      <td>408.272986</td>\n",
       "      <td>477.423649</td>\n",
       "      <td>346.976664</td>\n",
       "      <td>...</td>\n",
       "      <td>0.012621</td>\n",
       "      <td>0.039664</td>\n",
       "      <td>0.029074</td>\n",
       "      <td>0.007590</td>\n",
       "      <td>0.045571</td>\n",
       "      <td>0.077135</td>\n",
       "      <td>0.009230</td>\n",
       "      <td>0.724871</td>\n",
       "      <td>0.430852</td>\n",
       "      <td>0.157979</td>\n",
       "    </tr>\n",
       "  </tbody>\n",
       "</table>\n",
       "<p>187 rows × 87 columns</p>\n",
       "</div>"
      ],
      "text/plain": [
       "      Firms_x     NWP (£m)                                             \\\n",
       "      Firms_x        2016YE        2017YE        2018YE        2019YE   \n",
       "1      Firm 2      9.244369      0.098771     40.812426     35.643071   \n",
       "2      Firm 3      0.000000      0.806130     36.620199     86.630018   \n",
       "3      Firm 4  19677.453353  41072.816156  20885.506445  14719.672914   \n",
       "4      Firm 5    128.812208     10.407371     79.579663     79.423623   \n",
       "5      Firm 6   3091.392118   3357.934035   3215.472967     53.217589   \n",
       "..        ...           ...           ...           ...           ...   \n",
       "297  Firm 317   1635.740935   4105.052125   4838.904507   4451.743449   \n",
       "298  Firm 318    102.017050     74.829159     83.869961    310.067014   \n",
       "302  Firm 322   3315.466643   4136.476625   2192.750865   2252.917257   \n",
       "304  Firm 324     29.811172     21.003008     13.551740      6.145755   \n",
       "305  Firm 325    108.471899    496.296030    437.217641    120.652291   \n",
       "\n",
       "                       SCR (£m)                                            \\\n",
       "           2020YE        2016YE        2017YE        2018YE        2019YE   \n",
       "1       13.626145     16.459756     15.009073     14.227214     15.037066   \n",
       "2       54.744180    486.887796    495.786299    626.612217     81.242579   \n",
       "3    49204.465136  15975.652771  15367.887099  10797.123319  22788.359468   \n",
       "4       61.727295     32.742279     43.954039     31.622572     30.119285   \n",
       "5     5969.707516   5127.365839   5252.809367   5460.800869   4581.916567   \n",
       "..            ...           ...           ...           ...           ...   \n",
       "297   3479.287464     57.943592    221.532471     99.388160    131.898114   \n",
       "298      0.000000    472.640615    609.931305    119.423876    274.780500   \n",
       "302   2780.628432    578.238997   1926.540266   1366.552217    849.073657   \n",
       "304     49.793157     45.967315     57.323200     36.910810      1.012305   \n",
       "305      0.000000    402.002179    408.272986    477.423649    346.976664   \n",
       "\n",
       "     ... Gross expense ratio                                          \\\n",
       "     ...              2016YE    2017YE    2018YE    2019YE    2020YE   \n",
       "1    ...            0.391179  0.685941  1.433284  0.000000  0.000000   \n",
       "2    ...                 NaN       NaN       NaN       NaN       NaN   \n",
       "3    ...            0.231139  0.285471  0.054150  0.051848 -0.162883   \n",
       "4    ...            0.236128  0.232725  0.204508  0.131739  0.048703   \n",
       "5    ...            0.105267  0.451178  0.239576  0.261323  0.065710   \n",
       "..   ...                 ...       ...       ...       ...       ...   \n",
       "297  ...            0.481435  0.369913  0.042752  0.097238  0.060318   \n",
       "298  ...            0.416867  0.043522  1.018493  1.105734  0.859473   \n",
       "302  ...            0.499785  0.323232  0.753450  0.390250  0.513934   \n",
       "304  ...            0.166180  0.328329  0.278285  0.238669  0.228917   \n",
       "305  ...            0.012621  0.039664  0.029074  0.007590  0.045571   \n",
       "\n",
       "    Gross combined ratio                                          \n",
       "                  2016YE    2017YE    2018YE    2019YE    2020YE  \n",
       "1               1.750946  1.321523  1.545325  0.000000  0.000000  \n",
       "2                    NaN       NaN       NaN       NaN       NaN  \n",
       "3               1.047234  0.476384  3.307379  1.247403 -2.303093  \n",
       "4               0.243611  1.977732  2.495287  0.365455  1.133645  \n",
       "5               0.650369  0.904271  0.147146  0.351034  0.687860  \n",
       "..                   ...       ...       ...       ...       ...  \n",
       "297             0.262281  0.077431  1.742934  0.519823  0.512366  \n",
       "298             0.174716 -0.115464  1.470637  0.218232  0.558187  \n",
       "302             0.063623  0.761518  0.998770  1.064060  1.984687  \n",
       "304             1.812040  1.868333  0.800207  0.420591  1.515067  \n",
       "305             0.077135  0.009230  0.724871  0.430852  0.157979  \n",
       "\n",
       "[187 rows x 87 columns]"
      ]
     },
     "execution_count": 12,
     "metadata": {},
     "output_type": "execute_result"
    }
   ],
   "source": [
    "df_merged[df_merged['GWP (£m)'].median(axis=1) > 5]"
   ]
  },
  {
   "cell_type": "markdown",
   "metadata": {},
   "source": [
    "## Get top decile"
   ]
  },
  {
   "cell_type": "code",
   "execution_count": 13,
   "metadata": {},
   "outputs": [
    {
     "data": {
      "application/vnd.plotly.v1+json": {
       "config": {
        "plotlyServerURL": "https://plot.ly"
       },
       "data": [
        {
         "name": "GWP (£m)",
         "type": "bar",
         "x": [
          10,
          20,
          30,
          40,
          50,
          60,
          70,
          80,
          90
         ],
         "y": [
          3.0915109228352553,
          24.8613179229269,
          67.05468752111577,
          124.96507787232848,
          368.7459106422639,
          746.2564605988046,
          1292.218151771573,
          2868.5806778230744,
          10947.537027343016
         ]
        }
       ],
       "layout": {
        "template": {
         "data": {
          "bar": [
           {
            "error_x": {
             "color": "#2a3f5f"
            },
            "error_y": {
             "color": "#2a3f5f"
            },
            "marker": {
             "line": {
              "color": "#E5ECF6",
              "width": 0.5
             },
             "pattern": {
              "fillmode": "overlay",
              "size": 10,
              "solidity": 0.2
             }
            },
            "type": "bar"
           }
          ],
          "barpolar": [
           {
            "marker": {
             "line": {
              "color": "#E5ECF6",
              "width": 0.5
             },
             "pattern": {
              "fillmode": "overlay",
              "size": 10,
              "solidity": 0.2
             }
            },
            "type": "barpolar"
           }
          ],
          "carpet": [
           {
            "aaxis": {
             "endlinecolor": "#2a3f5f",
             "gridcolor": "white",
             "linecolor": "white",
             "minorgridcolor": "white",
             "startlinecolor": "#2a3f5f"
            },
            "baxis": {
             "endlinecolor": "#2a3f5f",
             "gridcolor": "white",
             "linecolor": "white",
             "minorgridcolor": "white",
             "startlinecolor": "#2a3f5f"
            },
            "type": "carpet"
           }
          ],
          "choropleth": [
           {
            "colorbar": {
             "outlinewidth": 0,
             "ticks": ""
            },
            "type": "choropleth"
           }
          ],
          "contour": [
           {
            "colorbar": {
             "outlinewidth": 0,
             "ticks": ""
            },
            "colorscale": [
             [
              0,
              "#0d0887"
             ],
             [
              0.1111111111111111,
              "#46039f"
             ],
             [
              0.2222222222222222,
              "#7201a8"
             ],
             [
              0.3333333333333333,
              "#9c179e"
             ],
             [
              0.4444444444444444,
              "#bd3786"
             ],
             [
              0.5555555555555556,
              "#d8576b"
             ],
             [
              0.6666666666666666,
              "#ed7953"
             ],
             [
              0.7777777777777778,
              "#fb9f3a"
             ],
             [
              0.8888888888888888,
              "#fdca26"
             ],
             [
              1,
              "#f0f921"
             ]
            ],
            "type": "contour"
           }
          ],
          "contourcarpet": [
           {
            "colorbar": {
             "outlinewidth": 0,
             "ticks": ""
            },
            "type": "contourcarpet"
           }
          ],
          "heatmap": [
           {
            "colorbar": {
             "outlinewidth": 0,
             "ticks": ""
            },
            "colorscale": [
             [
              0,
              "#0d0887"
             ],
             [
              0.1111111111111111,
              "#46039f"
             ],
             [
              0.2222222222222222,
              "#7201a8"
             ],
             [
              0.3333333333333333,
              "#9c179e"
             ],
             [
              0.4444444444444444,
              "#bd3786"
             ],
             [
              0.5555555555555556,
              "#d8576b"
             ],
             [
              0.6666666666666666,
              "#ed7953"
             ],
             [
              0.7777777777777778,
              "#fb9f3a"
             ],
             [
              0.8888888888888888,
              "#fdca26"
             ],
             [
              1,
              "#f0f921"
             ]
            ],
            "type": "heatmap"
           }
          ],
          "heatmapgl": [
           {
            "colorbar": {
             "outlinewidth": 0,
             "ticks": ""
            },
            "colorscale": [
             [
              0,
              "#0d0887"
             ],
             [
              0.1111111111111111,
              "#46039f"
             ],
             [
              0.2222222222222222,
              "#7201a8"
             ],
             [
              0.3333333333333333,
              "#9c179e"
             ],
             [
              0.4444444444444444,
              "#bd3786"
             ],
             [
              0.5555555555555556,
              "#d8576b"
             ],
             [
              0.6666666666666666,
              "#ed7953"
             ],
             [
              0.7777777777777778,
              "#fb9f3a"
             ],
             [
              0.8888888888888888,
              "#fdca26"
             ],
             [
              1,
              "#f0f921"
             ]
            ],
            "type": "heatmapgl"
           }
          ],
          "histogram": [
           {
            "marker": {
             "pattern": {
              "fillmode": "overlay",
              "size": 10,
              "solidity": 0.2
             }
            },
            "type": "histogram"
           }
          ],
          "histogram2d": [
           {
            "colorbar": {
             "outlinewidth": 0,
             "ticks": ""
            },
            "colorscale": [
             [
              0,
              "#0d0887"
             ],
             [
              0.1111111111111111,
              "#46039f"
             ],
             [
              0.2222222222222222,
              "#7201a8"
             ],
             [
              0.3333333333333333,
              "#9c179e"
             ],
             [
              0.4444444444444444,
              "#bd3786"
             ],
             [
              0.5555555555555556,
              "#d8576b"
             ],
             [
              0.6666666666666666,
              "#ed7953"
             ],
             [
              0.7777777777777778,
              "#fb9f3a"
             ],
             [
              0.8888888888888888,
              "#fdca26"
             ],
             [
              1,
              "#f0f921"
             ]
            ],
            "type": "histogram2d"
           }
          ],
          "histogram2dcontour": [
           {
            "colorbar": {
             "outlinewidth": 0,
             "ticks": ""
            },
            "colorscale": [
             [
              0,
              "#0d0887"
             ],
             [
              0.1111111111111111,
              "#46039f"
             ],
             [
              0.2222222222222222,
              "#7201a8"
             ],
             [
              0.3333333333333333,
              "#9c179e"
             ],
             [
              0.4444444444444444,
              "#bd3786"
             ],
             [
              0.5555555555555556,
              "#d8576b"
             ],
             [
              0.6666666666666666,
              "#ed7953"
             ],
             [
              0.7777777777777778,
              "#fb9f3a"
             ],
             [
              0.8888888888888888,
              "#fdca26"
             ],
             [
              1,
              "#f0f921"
             ]
            ],
            "type": "histogram2dcontour"
           }
          ],
          "mesh3d": [
           {
            "colorbar": {
             "outlinewidth": 0,
             "ticks": ""
            },
            "type": "mesh3d"
           }
          ],
          "parcoords": [
           {
            "line": {
             "colorbar": {
              "outlinewidth": 0,
              "ticks": ""
             }
            },
            "type": "parcoords"
           }
          ],
          "pie": [
           {
            "automargin": true,
            "type": "pie"
           }
          ],
          "scatter": [
           {
            "fillpattern": {
             "fillmode": "overlay",
             "size": 10,
             "solidity": 0.2
            },
            "type": "scatter"
           }
          ],
          "scatter3d": [
           {
            "line": {
             "colorbar": {
              "outlinewidth": 0,
              "ticks": ""
             }
            },
            "marker": {
             "colorbar": {
              "outlinewidth": 0,
              "ticks": ""
             }
            },
            "type": "scatter3d"
           }
          ],
          "scattercarpet": [
           {
            "marker": {
             "colorbar": {
              "outlinewidth": 0,
              "ticks": ""
             }
            },
            "type": "scattercarpet"
           }
          ],
          "scattergeo": [
           {
            "marker": {
             "colorbar": {
              "outlinewidth": 0,
              "ticks": ""
             }
            },
            "type": "scattergeo"
           }
          ],
          "scattergl": [
           {
            "marker": {
             "colorbar": {
              "outlinewidth": 0,
              "ticks": ""
             }
            },
            "type": "scattergl"
           }
          ],
          "scattermapbox": [
           {
            "marker": {
             "colorbar": {
              "outlinewidth": 0,
              "ticks": ""
             }
            },
            "type": "scattermapbox"
           }
          ],
          "scatterpolar": [
           {
            "marker": {
             "colorbar": {
              "outlinewidth": 0,
              "ticks": ""
             }
            },
            "type": "scatterpolar"
           }
          ],
          "scatterpolargl": [
           {
            "marker": {
             "colorbar": {
              "outlinewidth": 0,
              "ticks": ""
             }
            },
            "type": "scatterpolargl"
           }
          ],
          "scatterternary": [
           {
            "marker": {
             "colorbar": {
              "outlinewidth": 0,
              "ticks": ""
             }
            },
            "type": "scatterternary"
           }
          ],
          "surface": [
           {
            "colorbar": {
             "outlinewidth": 0,
             "ticks": ""
            },
            "colorscale": [
             [
              0,
              "#0d0887"
             ],
             [
              0.1111111111111111,
              "#46039f"
             ],
             [
              0.2222222222222222,
              "#7201a8"
             ],
             [
              0.3333333333333333,
              "#9c179e"
             ],
             [
              0.4444444444444444,
              "#bd3786"
             ],
             [
              0.5555555555555556,
              "#d8576b"
             ],
             [
              0.6666666666666666,
              "#ed7953"
             ],
             [
              0.7777777777777778,
              "#fb9f3a"
             ],
             [
              0.8888888888888888,
              "#fdca26"
             ],
             [
              1,
              "#f0f921"
             ]
            ],
            "type": "surface"
           }
          ],
          "table": [
           {
            "cells": {
             "fill": {
              "color": "#EBF0F8"
             },
             "line": {
              "color": "white"
             }
            },
            "header": {
             "fill": {
              "color": "#C8D4E3"
             },
             "line": {
              "color": "white"
             }
            },
            "type": "table"
           }
          ]
         },
         "layout": {
          "annotationdefaults": {
           "arrowcolor": "#2a3f5f",
           "arrowhead": 0,
           "arrowwidth": 1
          },
          "autotypenumbers": "strict",
          "coloraxis": {
           "colorbar": {
            "outlinewidth": 0,
            "ticks": ""
           }
          },
          "colorscale": {
           "diverging": [
            [
             0,
             "#8e0152"
            ],
            [
             0.1,
             "#c51b7d"
            ],
            [
             0.2,
             "#de77ae"
            ],
            [
             0.3,
             "#f1b6da"
            ],
            [
             0.4,
             "#fde0ef"
            ],
            [
             0.5,
             "#f7f7f7"
            ],
            [
             0.6,
             "#e6f5d0"
            ],
            [
             0.7,
             "#b8e186"
            ],
            [
             0.8,
             "#7fbc41"
            ],
            [
             0.9,
             "#4d9221"
            ],
            [
             1,
             "#276419"
            ]
           ],
           "sequential": [
            [
             0,
             "#0d0887"
            ],
            [
             0.1111111111111111,
             "#46039f"
            ],
            [
             0.2222222222222222,
             "#7201a8"
            ],
            [
             0.3333333333333333,
             "#9c179e"
            ],
            [
             0.4444444444444444,
             "#bd3786"
            ],
            [
             0.5555555555555556,
             "#d8576b"
            ],
            [
             0.6666666666666666,
             "#ed7953"
            ],
            [
             0.7777777777777778,
             "#fb9f3a"
            ],
            [
             0.8888888888888888,
             "#fdca26"
            ],
            [
             1,
             "#f0f921"
            ]
           ],
           "sequentialminus": [
            [
             0,
             "#0d0887"
            ],
            [
             0.1111111111111111,
             "#46039f"
            ],
            [
             0.2222222222222222,
             "#7201a8"
            ],
            [
             0.3333333333333333,
             "#9c179e"
            ],
            [
             0.4444444444444444,
             "#bd3786"
            ],
            [
             0.5555555555555556,
             "#d8576b"
            ],
            [
             0.6666666666666666,
             "#ed7953"
            ],
            [
             0.7777777777777778,
             "#fb9f3a"
            ],
            [
             0.8888888888888888,
             "#fdca26"
            ],
            [
             1,
             "#f0f921"
            ]
           ]
          },
          "colorway": [
           "#636efa",
           "#EF553B",
           "#00cc96",
           "#ab63fa",
           "#FFA15A",
           "#19d3f3",
           "#FF6692",
           "#B6E880",
           "#FF97FF",
           "#FECB52"
          ],
          "font": {
           "color": "#2a3f5f"
          },
          "geo": {
           "bgcolor": "white",
           "lakecolor": "white",
           "landcolor": "#E5ECF6",
           "showlakes": true,
           "showland": true,
           "subunitcolor": "white"
          },
          "hoverlabel": {
           "align": "left"
          },
          "hovermode": "closest",
          "mapbox": {
           "style": "light"
          },
          "paper_bgcolor": "white",
          "plot_bgcolor": "#E5ECF6",
          "polar": {
           "angularaxis": {
            "gridcolor": "white",
            "linecolor": "white",
            "ticks": ""
           },
           "bgcolor": "#E5ECF6",
           "radialaxis": {
            "gridcolor": "white",
            "linecolor": "white",
            "ticks": ""
           }
          },
          "scene": {
           "xaxis": {
            "backgroundcolor": "#E5ECF6",
            "gridcolor": "white",
            "gridwidth": 2,
            "linecolor": "white",
            "showbackground": true,
            "ticks": "",
            "zerolinecolor": "white"
           },
           "yaxis": {
            "backgroundcolor": "#E5ECF6",
            "gridcolor": "white",
            "gridwidth": 2,
            "linecolor": "white",
            "showbackground": true,
            "ticks": "",
            "zerolinecolor": "white"
           },
           "zaxis": {
            "backgroundcolor": "#E5ECF6",
            "gridcolor": "white",
            "gridwidth": 2,
            "linecolor": "white",
            "showbackground": true,
            "ticks": "",
            "zerolinecolor": "white"
           }
          },
          "shapedefaults": {
           "line": {
            "color": "#2a3f5f"
           }
          },
          "ternary": {
           "aaxis": {
            "gridcolor": "white",
            "linecolor": "white",
            "ticks": ""
           },
           "baxis": {
            "gridcolor": "white",
            "linecolor": "white",
            "ticks": ""
           },
           "bgcolor": "#E5ECF6",
           "caxis": {
            "gridcolor": "white",
            "linecolor": "white",
            "ticks": ""
           }
          },
          "title": {
           "x": 0.05
          },
          "xaxis": {
           "automargin": true,
           "gridcolor": "white",
           "linecolor": "white",
           "ticks": "",
           "title": {
            "standoff": 15
           },
           "zerolinecolor": "white",
           "zerolinewidth": 2
          },
          "yaxis": {
           "automargin": true,
           "gridcolor": "white",
           "linecolor": "white",
           "ticks": "",
           "title": {
            "standoff": 15
           },
           "zerolinecolor": "white",
           "zerolinewidth": 2
          }
         }
        }
       }
      }
     },
     "metadata": {},
     "output_type": "display_data"
    }
   ],
   "source": [
    "# Create an array of percentiles\n",
    "percentiles_16_20 = np.array(range(10, 100, 10))\n",
    "\n",
    "# Calculate deciles\n",
    "deciles_16_20 = np.percentile(df_merged['GWP (£m)'].sum(axis=1).values, percentiles_16_20)\n",
    "\n",
    "# Create a bar plot of the decile counts\n",
    "fig = go.Figure()\n",
    "fig.add_trace(\n",
    "    go.Bar(\n",
    "        x=percentiles_16_20,\n",
    "        y=deciles_16_20,\n",
    "        name='GWP (£m)'\n",
    "    )\n",
    ")"
   ]
  },
  {
   "cell_type": "markdown",
   "metadata": {},
   "source": [
    "We will first filter the firms to get the top 10% of firms in terms of size.\n",
    "\n",
    "This equates to a total GWP value of over 10,000 million, i.e. 10 billion, over the 2016-2022 period."
   ]
  },
  {
   "cell_type": "markdown",
   "metadata": {},
   "source": [
    "## top 10 percentile firms"
   ]
  },
  {
   "cell_type": "code",
   "execution_count": 14,
   "metadata": {},
   "outputs": [
    {
     "data": {
      "text/html": [
       "<div>\n",
       "<style scoped>\n",
       "    .dataframe tbody tr th:only-of-type {\n",
       "        vertical-align: middle;\n",
       "    }\n",
       "\n",
       "    .dataframe tbody tr th {\n",
       "        vertical-align: top;\n",
       "    }\n",
       "\n",
       "    .dataframe thead tr th {\n",
       "        text-align: left;\n",
       "    }\n",
       "</style>\n",
       "<table border=\"1\" class=\"dataframe\">\n",
       "  <thead>\n",
       "    <tr>\n",
       "      <th></th>\n",
       "      <th>Firms_x</th>\n",
       "      <th colspan=\"5\" halign=\"left\">NWP (£m)</th>\n",
       "      <th colspan=\"4\" halign=\"left\">SCR (£m)</th>\n",
       "      <th>...</th>\n",
       "      <th colspan=\"5\" halign=\"left\">Gross expense ratio</th>\n",
       "      <th colspan=\"5\" halign=\"left\">Gross combined ratio</th>\n",
       "    </tr>\n",
       "    <tr>\n",
       "      <th></th>\n",
       "      <th>Firms_x</th>\n",
       "      <th>2016YE</th>\n",
       "      <th>2017YE</th>\n",
       "      <th>2018YE</th>\n",
       "      <th>2019YE</th>\n",
       "      <th>2020YE</th>\n",
       "      <th>2016YE</th>\n",
       "      <th>2017YE</th>\n",
       "      <th>2018YE</th>\n",
       "      <th>2019YE</th>\n",
       "      <th>...</th>\n",
       "      <th>2016YE</th>\n",
       "      <th>2017YE</th>\n",
       "      <th>2018YE</th>\n",
       "      <th>2019YE</th>\n",
       "      <th>2020YE</th>\n",
       "      <th>2016YE</th>\n",
       "      <th>2017YE</th>\n",
       "      <th>2018YE</th>\n",
       "      <th>2019YE</th>\n",
       "      <th>2020YE</th>\n",
       "    </tr>\n",
       "  </thead>\n",
       "  <tbody>\n",
       "    <tr>\n",
       "      <th>3</th>\n",
       "      <td>Firm 4</td>\n",
       "      <td>19677.453353</td>\n",
       "      <td>41072.816156</td>\n",
       "      <td>20885.506445</td>\n",
       "      <td>14719.672914</td>\n",
       "      <td>49204.465136</td>\n",
       "      <td>15975.652771</td>\n",
       "      <td>15367.887099</td>\n",
       "      <td>10797.123319</td>\n",
       "      <td>22788.359468</td>\n",
       "      <td>...</td>\n",
       "      <td>0.231139</td>\n",
       "      <td>0.285471</td>\n",
       "      <td>0.054150</td>\n",
       "      <td>0.051848</td>\n",
       "      <td>-0.162883</td>\n",
       "      <td>1.047234</td>\n",
       "      <td>0.476384</td>\n",
       "      <td>3.307379</td>\n",
       "      <td>1.247403</td>\n",
       "      <td>-2.303093</td>\n",
       "    </tr>\n",
       "    <tr>\n",
       "      <th>5</th>\n",
       "      <td>Firm 6</td>\n",
       "      <td>3091.392118</td>\n",
       "      <td>3357.934035</td>\n",
       "      <td>3215.472967</td>\n",
       "      <td>53.217589</td>\n",
       "      <td>5969.707516</td>\n",
       "      <td>5127.365839</td>\n",
       "      <td>5252.809367</td>\n",
       "      <td>5460.800869</td>\n",
       "      <td>4581.916567</td>\n",
       "      <td>...</td>\n",
       "      <td>0.105267</td>\n",
       "      <td>0.451178</td>\n",
       "      <td>0.239576</td>\n",
       "      <td>0.261323</td>\n",
       "      <td>0.065710</td>\n",
       "      <td>0.650369</td>\n",
       "      <td>0.904271</td>\n",
       "      <td>0.147146</td>\n",
       "      <td>0.351034</td>\n",
       "      <td>0.687860</td>\n",
       "    </tr>\n",
       "    <tr>\n",
       "      <th>6</th>\n",
       "      <td>Firm 7</td>\n",
       "      <td>3148.478356</td>\n",
       "      <td>3307.129485</td>\n",
       "      <td>713.846420</td>\n",
       "      <td>18232.376510</td>\n",
       "      <td>6486.658898</td>\n",
       "      <td>3352.500439</td>\n",
       "      <td>2155.201622</td>\n",
       "      <td>4246.239082</td>\n",
       "      <td>7597.763417</td>\n",
       "      <td>...</td>\n",
       "      <td>NaN</td>\n",
       "      <td>NaN</td>\n",
       "      <td>NaN</td>\n",
       "      <td>NaN</td>\n",
       "      <td>NaN</td>\n",
       "      <td>NaN</td>\n",
       "      <td>NaN</td>\n",
       "      <td>NaN</td>\n",
       "      <td>NaN</td>\n",
       "      <td>NaN</td>\n",
       "    </tr>\n",
       "    <tr>\n",
       "      <th>8</th>\n",
       "      <td>Firm 10</td>\n",
       "      <td>404.116022</td>\n",
       "      <td>3882.087306</td>\n",
       "      <td>6640.433866</td>\n",
       "      <td>5196.618355</td>\n",
       "      <td>221.986516</td>\n",
       "      <td>3839.041694</td>\n",
       "      <td>5102.458601</td>\n",
       "      <td>2578.827206</td>\n",
       "      <td>323.481575</td>\n",
       "      <td>...</td>\n",
       "      <td>0.126954</td>\n",
       "      <td>0.025789</td>\n",
       "      <td>0.605825</td>\n",
       "      <td>0.455562</td>\n",
       "      <td>0.374612</td>\n",
       "      <td>1.520116</td>\n",
       "      <td>0.350161</td>\n",
       "      <td>1.291962</td>\n",
       "      <td>0.357412</td>\n",
       "      <td>0.306303</td>\n",
       "    </tr>\n",
       "    <tr>\n",
       "      <th>14</th>\n",
       "      <td>Firm 17</td>\n",
       "      <td>5210.936051</td>\n",
       "      <td>1146.930176</td>\n",
       "      <td>1620.223253</td>\n",
       "      <td>1256.934295</td>\n",
       "      <td>0.000000</td>\n",
       "      <td>173.807351</td>\n",
       "      <td>153.049331</td>\n",
       "      <td>136.491987</td>\n",
       "      <td>12.368766</td>\n",
       "      <td>...</td>\n",
       "      <td>0.162091</td>\n",
       "      <td>0.256304</td>\n",
       "      <td>0.087496</td>\n",
       "      <td>0.141326</td>\n",
       "      <td>0.178456</td>\n",
       "      <td>1.090493</td>\n",
       "      <td>1.576529</td>\n",
       "      <td>1.575259</td>\n",
       "      <td>0.596478</td>\n",
       "      <td>1.129964</td>\n",
       "    </tr>\n",
       "    <tr>\n",
       "      <th>22</th>\n",
       "      <td>Firm 25</td>\n",
       "      <td>9622.277578</td>\n",
       "      <td>2356.626073</td>\n",
       "      <td>1227.714013</td>\n",
       "      <td>7134.648741</td>\n",
       "      <td>9765.612912</td>\n",
       "      <td>11.952215</td>\n",
       "      <td>10.593245</td>\n",
       "      <td>2.196166</td>\n",
       "      <td>1.771300</td>\n",
       "      <td>...</td>\n",
       "      <td>0.464859</td>\n",
       "      <td>0.361293</td>\n",
       "      <td>0.747789</td>\n",
       "      <td>0.000000</td>\n",
       "      <td>0.000000</td>\n",
       "      <td>0.874980</td>\n",
       "      <td>1.080769</td>\n",
       "      <td>1.187106</td>\n",
       "      <td>0.000000</td>\n",
       "      <td>0.000000</td>\n",
       "    </tr>\n",
       "    <tr>\n",
       "      <th>23</th>\n",
       "      <td>Firm 26</td>\n",
       "      <td>75526.673293</td>\n",
       "      <td>2187.587977</td>\n",
       "      <td>11251.347661</td>\n",
       "      <td>6683.963247</td>\n",
       "      <td>16395.671694</td>\n",
       "      <td>4282.790194</td>\n",
       "      <td>3851.999871</td>\n",
       "      <td>1061.571588</td>\n",
       "      <td>98.028981</td>\n",
       "      <td>...</td>\n",
       "      <td>0.605200</td>\n",
       "      <td>0.248585</td>\n",
       "      <td>0.584427</td>\n",
       "      <td>0.333017</td>\n",
       "      <td>0.411128</td>\n",
       "      <td>1.639587</td>\n",
       "      <td>0.733022</td>\n",
       "      <td>0.253679</td>\n",
       "      <td>0.143545</td>\n",
       "      <td>1.031633</td>\n",
       "    </tr>\n",
       "    <tr>\n",
       "      <th>26</th>\n",
       "      <td>Firm 30</td>\n",
       "      <td>198.455726</td>\n",
       "      <td>5260.728479</td>\n",
       "      <td>9063.121471</td>\n",
       "      <td>6124.600246</td>\n",
       "      <td>3396.242957</td>\n",
       "      <td>2801.422895</td>\n",
       "      <td>3545.731490</td>\n",
       "      <td>3476.431962</td>\n",
       "      <td>1392.059988</td>\n",
       "      <td>...</td>\n",
       "      <td>0.597921</td>\n",
       "      <td>0.109913</td>\n",
       "      <td>0.829085</td>\n",
       "      <td>0.000000</td>\n",
       "      <td>0.000000</td>\n",
       "      <td>0.342532</td>\n",
       "      <td>22.799331</td>\n",
       "      <td>11.911513</td>\n",
       "      <td>0.000000</td>\n",
       "      <td>0.000000</td>\n",
       "    </tr>\n",
       "    <tr>\n",
       "      <th>30</th>\n",
       "      <td>Firm 34</td>\n",
       "      <td>10135.258636</td>\n",
       "      <td>3630.292355</td>\n",
       "      <td>3530.844212</td>\n",
       "      <td>-184.091940</td>\n",
       "      <td>6105.500028</td>\n",
       "      <td>8785.961467</td>\n",
       "      <td>3011.610527</td>\n",
       "      <td>5924.159038</td>\n",
       "      <td>3884.820732</td>\n",
       "      <td>...</td>\n",
       "      <td>0.000000</td>\n",
       "      <td>0.101059</td>\n",
       "      <td>1.068645</td>\n",
       "      <td>0.913817</td>\n",
       "      <td>0.030353</td>\n",
       "      <td>0.000000</td>\n",
       "      <td>0.930897</td>\n",
       "      <td>1.983448</td>\n",
       "      <td>0.327643</td>\n",
       "      <td>2.187807</td>\n",
       "    </tr>\n",
       "    <tr>\n",
       "      <th>34</th>\n",
       "      <td>Firm 38</td>\n",
       "      <td>6060.193694</td>\n",
       "      <td>3345.293341</td>\n",
       "      <td>1666.572447</td>\n",
       "      <td>0.000000</td>\n",
       "      <td>0.000000</td>\n",
       "      <td>3315.022557</td>\n",
       "      <td>4255.464361</td>\n",
       "      <td>3786.532326</td>\n",
       "      <td>0.000000</td>\n",
       "      <td>...</td>\n",
       "      <td>0.502711</td>\n",
       "      <td>0.277131</td>\n",
       "      <td>0.367190</td>\n",
       "      <td>0.426257</td>\n",
       "      <td>0.578936</td>\n",
       "      <td>0.616670</td>\n",
       "      <td>0.230957</td>\n",
       "      <td>1.334053</td>\n",
       "      <td>1.637039</td>\n",
       "      <td>1.087538</td>\n",
       "    </tr>\n",
       "    <tr>\n",
       "      <th>46</th>\n",
       "      <td>Firm 51</td>\n",
       "      <td>0.000000</td>\n",
       "      <td>427.488826</td>\n",
       "      <td>3812.031443</td>\n",
       "      <td>5655.158598</td>\n",
       "      <td>3789.882711</td>\n",
       "      <td>9.381618</td>\n",
       "      <td>12.507525</td>\n",
       "      <td>8.730373</td>\n",
       "      <td>3.953666</td>\n",
       "      <td>...</td>\n",
       "      <td>-30.692808</td>\n",
       "      <td>65.787587</td>\n",
       "      <td>0.000000</td>\n",
       "      <td>0.000000</td>\n",
       "      <td>0.000000</td>\n",
       "      <td>-0.536358</td>\n",
       "      <td>-50.991523</td>\n",
       "      <td>0.000000</td>\n",
       "      <td>0.000000</td>\n",
       "      <td>0.000000</td>\n",
       "    </tr>\n",
       "    <tr>\n",
       "      <th>66</th>\n",
       "      <td>Firm 73</td>\n",
       "      <td>8118.728208</td>\n",
       "      <td>880.739085</td>\n",
       "      <td>6813.491255</td>\n",
       "      <td>11752.057330</td>\n",
       "      <td>4073.346848</td>\n",
       "      <td>2801.479556</td>\n",
       "      <td>2877.728511</td>\n",
       "      <td>114.351700</td>\n",
       "      <td>1482.493976</td>\n",
       "      <td>...</td>\n",
       "      <td>0.000000</td>\n",
       "      <td>0.000000</td>\n",
       "      <td>0.147555</td>\n",
       "      <td>0.289675</td>\n",
       "      <td>0.491820</td>\n",
       "      <td>0.000000</td>\n",
       "      <td>0.000000</td>\n",
       "      <td>0.846490</td>\n",
       "      <td>0.658037</td>\n",
       "      <td>1.773573</td>\n",
       "    </tr>\n",
       "    <tr>\n",
       "      <th>94</th>\n",
       "      <td>Firm 101</td>\n",
       "      <td>7932.403100</td>\n",
       "      <td>3304.202645</td>\n",
       "      <td>2397.454118</td>\n",
       "      <td>4804.131318</td>\n",
       "      <td>0.000000</td>\n",
       "      <td>438.929248</td>\n",
       "      <td>7521.082011</td>\n",
       "      <td>7134.264916</td>\n",
       "      <td>3369.613372</td>\n",
       "      <td>...</td>\n",
       "      <td>NaN</td>\n",
       "      <td>NaN</td>\n",
       "      <td>NaN</td>\n",
       "      <td>NaN</td>\n",
       "      <td>NaN</td>\n",
       "      <td>NaN</td>\n",
       "      <td>NaN</td>\n",
       "      <td>NaN</td>\n",
       "      <td>NaN</td>\n",
       "      <td>NaN</td>\n",
       "    </tr>\n",
       "    <tr>\n",
       "      <th>97</th>\n",
       "      <td>Firm 104</td>\n",
       "      <td>12.743263</td>\n",
       "      <td>63.765439</td>\n",
       "      <td>18870.464612</td>\n",
       "      <td>1697.619649</td>\n",
       "      <td>6174.582162</td>\n",
       "      <td>2.618417</td>\n",
       "      <td>0.009747</td>\n",
       "      <td>3.089429</td>\n",
       "      <td>12.813155</td>\n",
       "      <td>...</td>\n",
       "      <td>0.377663</td>\n",
       "      <td>0.000000</td>\n",
       "      <td>0.000000</td>\n",
       "      <td>0.000000</td>\n",
       "      <td>0.000000</td>\n",
       "      <td>0.273447</td>\n",
       "      <td>0.000000</td>\n",
       "      <td>0.000000</td>\n",
       "      <td>0.000000</td>\n",
       "      <td>0.000000</td>\n",
       "    </tr>\n",
       "    <tr>\n",
       "      <th>98</th>\n",
       "      <td>Firm 105</td>\n",
       "      <td>41465.110343</td>\n",
       "      <td>18539.933748</td>\n",
       "      <td>-11.983526</td>\n",
       "      <td>21335.956931</td>\n",
       "      <td>2612.553473</td>\n",
       "      <td>18258.886129</td>\n",
       "      <td>17563.273844</td>\n",
       "      <td>4194.659090</td>\n",
       "      <td>16716.945095</td>\n",
       "      <td>...</td>\n",
       "      <td>0.081370</td>\n",
       "      <td>0.545727</td>\n",
       "      <td>0.228483</td>\n",
       "      <td>0.549208</td>\n",
       "      <td>0.311819</td>\n",
       "      <td>1.444053</td>\n",
       "      <td>0.340131</td>\n",
       "      <td>1.647887</td>\n",
       "      <td>0.443959</td>\n",
       "      <td>0.983198</td>\n",
       "    </tr>\n",
       "    <tr>\n",
       "      <th>100</th>\n",
       "      <td>Firm 107</td>\n",
       "      <td>4240.167742</td>\n",
       "      <td>279.984489</td>\n",
       "      <td>3969.084444</td>\n",
       "      <td>1213.256492</td>\n",
       "      <td>2626.465219</td>\n",
       "      <td>1430.846691</td>\n",
       "      <td>2461.859809</td>\n",
       "      <td>134.101122</td>\n",
       "      <td>2123.074932</td>\n",
       "      <td>...</td>\n",
       "      <td>0.000000</td>\n",
       "      <td>0.348463</td>\n",
       "      <td>0.168275</td>\n",
       "      <td>0.022791</td>\n",
       "      <td>0.023880</td>\n",
       "      <td>0.000000</td>\n",
       "      <td>1.061733</td>\n",
       "      <td>1.142975</td>\n",
       "      <td>1.293313</td>\n",
       "      <td>0.072622</td>\n",
       "    </tr>\n",
       "    <tr>\n",
       "      <th>110</th>\n",
       "      <td>Firm 120</td>\n",
       "      <td>534.840652</td>\n",
       "      <td>2406.779146</td>\n",
       "      <td>6902.885913</td>\n",
       "      <td>4542.235555</td>\n",
       "      <td>687.591337</td>\n",
       "      <td>1670.773502</td>\n",
       "      <td>767.585517</td>\n",
       "      <td>237.708483</td>\n",
       "      <td>1477.826751</td>\n",
       "      <td>...</td>\n",
       "      <td>0.000000</td>\n",
       "      <td>0.000000</td>\n",
       "      <td>0.000000</td>\n",
       "      <td>0.000000</td>\n",
       "      <td>0.000000</td>\n",
       "      <td>0.000000</td>\n",
       "      <td>0.000000</td>\n",
       "      <td>0.000000</td>\n",
       "      <td>0.000000</td>\n",
       "      <td>0.000000</td>\n",
       "    </tr>\n",
       "    <tr>\n",
       "      <th>140</th>\n",
       "      <td>Firm 151</td>\n",
       "      <td>-1578.071724</td>\n",
       "      <td>10665.118064</td>\n",
       "      <td>12231.905984</td>\n",
       "      <td>7970.539382</td>\n",
       "      <td>5554.254802</td>\n",
       "      <td>777.618407</td>\n",
       "      <td>1636.952736</td>\n",
       "      <td>335.459445</td>\n",
       "      <td>1468.616696</td>\n",
       "      <td>...</td>\n",
       "      <td>0.972695</td>\n",
       "      <td>0.848063</td>\n",
       "      <td>0.616229</td>\n",
       "      <td>0.545959</td>\n",
       "      <td>0.475717</td>\n",
       "      <td>-0.496272</td>\n",
       "      <td>-0.276755</td>\n",
       "      <td>-6.226915</td>\n",
       "      <td>-0.805354</td>\n",
       "      <td>0.019297</td>\n",
       "    </tr>\n",
       "    <tr>\n",
       "      <th>185</th>\n",
       "      <td>Firm 199</td>\n",
       "      <td>1.217636</td>\n",
       "      <td>10050.601335</td>\n",
       "      <td>11509.508404</td>\n",
       "      <td>3395.026046</td>\n",
       "      <td>13133.461750</td>\n",
       "      <td>1758.634428</td>\n",
       "      <td>4068.120993</td>\n",
       "      <td>565.326745</td>\n",
       "      <td>1934.741620</td>\n",
       "      <td>...</td>\n",
       "      <td>-34.077411</td>\n",
       "      <td>-2.355838</td>\n",
       "      <td>0.060794</td>\n",
       "      <td>0.087385</td>\n",
       "      <td>0.035470</td>\n",
       "      <td>2.702875</td>\n",
       "      <td>2.724142</td>\n",
       "      <td>0.045757</td>\n",
       "      <td>1.443435</td>\n",
       "      <td>0.944690</td>\n",
       "    </tr>\n",
       "    <tr>\n",
       "      <th>195</th>\n",
       "      <td>Firm 210</td>\n",
       "      <td>30031.048551</td>\n",
       "      <td>19261.406692</td>\n",
       "      <td>41591.397560</td>\n",
       "      <td>25473.307182</td>\n",
       "      <td>60699.953265</td>\n",
       "      <td>381.753797</td>\n",
       "      <td>236.783571</td>\n",
       "      <td>270.236997</td>\n",
       "      <td>345.806646</td>\n",
       "      <td>...</td>\n",
       "      <td>0.666234</td>\n",
       "      <td>0.357614</td>\n",
       "      <td>0.384633</td>\n",
       "      <td>0.157922</td>\n",
       "      <td>0.216404</td>\n",
       "      <td>1.607224</td>\n",
       "      <td>1.548505</td>\n",
       "      <td>1.759389</td>\n",
       "      <td>0.282968</td>\n",
       "      <td>0.975301</td>\n",
       "    </tr>\n",
       "    <tr>\n",
       "      <th>219</th>\n",
       "      <td>Firm 234</td>\n",
       "      <td>3700.803327</td>\n",
       "      <td>5344.309755</td>\n",
       "      <td>1155.111534</td>\n",
       "      <td>3998.978113</td>\n",
       "      <td>1569.098440</td>\n",
       "      <td>2540.583338</td>\n",
       "      <td>3375.307912</td>\n",
       "      <td>2125.732382</td>\n",
       "      <td>2635.938596</td>\n",
       "      <td>...</td>\n",
       "      <td>0.324399</td>\n",
       "      <td>0.434771</td>\n",
       "      <td>0.105111</td>\n",
       "      <td>0.037389</td>\n",
       "      <td>0.350771</td>\n",
       "      <td>0.095618</td>\n",
       "      <td>0.124333</td>\n",
       "      <td>1.494161</td>\n",
       "      <td>0.338396</td>\n",
       "      <td>1.671975</td>\n",
       "    </tr>\n",
       "    <tr>\n",
       "      <th>232</th>\n",
       "      <td>Firm 247</td>\n",
       "      <td>2489.220023</td>\n",
       "      <td>25897.338404</td>\n",
       "      <td>6237.267910</td>\n",
       "      <td>6512.232956</td>\n",
       "      <td>191.590179</td>\n",
       "      <td>76.521717</td>\n",
       "      <td>56.920352</td>\n",
       "      <td>18.731132</td>\n",
       "      <td>1.019865</td>\n",
       "      <td>...</td>\n",
       "      <td>0.108137</td>\n",
       "      <td>0.214567</td>\n",
       "      <td>0.439227</td>\n",
       "      <td>0.152939</td>\n",
       "      <td>0.491021</td>\n",
       "      <td>0.235978</td>\n",
       "      <td>0.509785</td>\n",
       "      <td>0.020226</td>\n",
       "      <td>0.275845</td>\n",
       "      <td>0.728247</td>\n",
       "    </tr>\n",
       "    <tr>\n",
       "      <th>257</th>\n",
       "      <td>Firm 276</td>\n",
       "      <td>-0.003989</td>\n",
       "      <td>9897.767779</td>\n",
       "      <td>2565.770457</td>\n",
       "      <td>1179.993877</td>\n",
       "      <td>3073.774783</td>\n",
       "      <td>131.025364</td>\n",
       "      <td>310.558627</td>\n",
       "      <td>89.452935</td>\n",
       "      <td>150.299525</td>\n",
       "      <td>...</td>\n",
       "      <td>NaN</td>\n",
       "      <td>NaN</td>\n",
       "      <td>NaN</td>\n",
       "      <td>NaN</td>\n",
       "      <td>NaN</td>\n",
       "      <td>NaN</td>\n",
       "      <td>NaN</td>\n",
       "      <td>NaN</td>\n",
       "      <td>NaN</td>\n",
       "      <td>NaN</td>\n",
       "    </tr>\n",
       "    <tr>\n",
       "      <th>282</th>\n",
       "      <td>Firm 301</td>\n",
       "      <td>-1123.890314</td>\n",
       "      <td>325.967010</td>\n",
       "      <td>615.719690</td>\n",
       "      <td>1962.978284</td>\n",
       "      <td>4643.040629</td>\n",
       "      <td>868.370592</td>\n",
       "      <td>824.939796</td>\n",
       "      <td>330.953244</td>\n",
       "      <td>1427.309465</td>\n",
       "      <td>...</td>\n",
       "      <td>NaN</td>\n",
       "      <td>NaN</td>\n",
       "      <td>NaN</td>\n",
       "      <td>NaN</td>\n",
       "      <td>NaN</td>\n",
       "      <td>NaN</td>\n",
       "      <td>NaN</td>\n",
       "      <td>NaN</td>\n",
       "      <td>NaN</td>\n",
       "      <td>NaN</td>\n",
       "    </tr>\n",
       "    <tr>\n",
       "      <th>291</th>\n",
       "      <td>Firm 311</td>\n",
       "      <td>-15.161236</td>\n",
       "      <td>14897.664119</td>\n",
       "      <td>12734.766714</td>\n",
       "      <td>381.198271</td>\n",
       "      <td>14566.280927</td>\n",
       "      <td>2394.748642</td>\n",
       "      <td>12441.324415</td>\n",
       "      <td>6189.586851</td>\n",
       "      <td>641.418249</td>\n",
       "      <td>...</td>\n",
       "      <td>0.000000</td>\n",
       "      <td>0.000000</td>\n",
       "      <td>0.470995</td>\n",
       "      <td>0.130499</td>\n",
       "      <td>0.312233</td>\n",
       "      <td>0.000000</td>\n",
       "      <td>0.000000</td>\n",
       "      <td>1.115284</td>\n",
       "      <td>0.735252</td>\n",
       "      <td>0.459989</td>\n",
       "    </tr>\n",
       "    <tr>\n",
       "      <th>297</th>\n",
       "      <td>Firm 317</td>\n",
       "      <td>1635.740935</td>\n",
       "      <td>4105.052125</td>\n",
       "      <td>4838.904507</td>\n",
       "      <td>4451.743449</td>\n",
       "      <td>3479.287464</td>\n",
       "      <td>57.943592</td>\n",
       "      <td>221.532471</td>\n",
       "      <td>99.388160</td>\n",
       "      <td>131.898114</td>\n",
       "      <td>...</td>\n",
       "      <td>0.481435</td>\n",
       "      <td>0.369913</td>\n",
       "      <td>0.042752</td>\n",
       "      <td>0.097238</td>\n",
       "      <td>0.060318</td>\n",
       "      <td>0.262281</td>\n",
       "      <td>0.077431</td>\n",
       "      <td>1.742934</td>\n",
       "      <td>0.519823</td>\n",
       "      <td>0.512366</td>\n",
       "    </tr>\n",
       "  </tbody>\n",
       "</table>\n",
       "<p>26 rows × 87 columns</p>\n",
       "</div>"
      ],
      "text/plain": [
       "      Firms_x     NWP (£m)                                             \\\n",
       "      Firms_x        2016YE        2017YE        2018YE        2019YE   \n",
       "3      Firm 4  19677.453353  41072.816156  20885.506445  14719.672914   \n",
       "5      Firm 6   3091.392118   3357.934035   3215.472967     53.217589   \n",
       "6      Firm 7   3148.478356   3307.129485    713.846420  18232.376510   \n",
       "8     Firm 10    404.116022   3882.087306   6640.433866   5196.618355   \n",
       "14    Firm 17   5210.936051   1146.930176   1620.223253   1256.934295   \n",
       "22    Firm 25   9622.277578   2356.626073   1227.714013   7134.648741   \n",
       "23    Firm 26  75526.673293   2187.587977  11251.347661   6683.963247   \n",
       "26    Firm 30    198.455726   5260.728479   9063.121471   6124.600246   \n",
       "30    Firm 34  10135.258636   3630.292355   3530.844212   -184.091940   \n",
       "34    Firm 38   6060.193694   3345.293341   1666.572447      0.000000   \n",
       "46    Firm 51      0.000000    427.488826   3812.031443   5655.158598   \n",
       "66    Firm 73   8118.728208    880.739085   6813.491255  11752.057330   \n",
       "94   Firm 101   7932.403100   3304.202645   2397.454118   4804.131318   \n",
       "97   Firm 104     12.743263     63.765439  18870.464612   1697.619649   \n",
       "98   Firm 105  41465.110343  18539.933748    -11.983526  21335.956931   \n",
       "100  Firm 107   4240.167742    279.984489   3969.084444   1213.256492   \n",
       "110  Firm 120    534.840652   2406.779146   6902.885913   4542.235555   \n",
       "140  Firm 151  -1578.071724  10665.118064  12231.905984   7970.539382   \n",
       "185  Firm 199      1.217636  10050.601335  11509.508404   3395.026046   \n",
       "195  Firm 210  30031.048551  19261.406692  41591.397560  25473.307182   \n",
       "219  Firm 234   3700.803327   5344.309755   1155.111534   3998.978113   \n",
       "232  Firm 247   2489.220023  25897.338404   6237.267910   6512.232956   \n",
       "257  Firm 276     -0.003989   9897.767779   2565.770457   1179.993877   \n",
       "282  Firm 301  -1123.890314    325.967010    615.719690   1962.978284   \n",
       "291  Firm 311    -15.161236  14897.664119  12734.766714    381.198271   \n",
       "297  Firm 317   1635.740935   4105.052125   4838.904507   4451.743449   \n",
       "\n",
       "                       SCR (£m)                                            \\\n",
       "           2020YE        2016YE        2017YE        2018YE        2019YE   \n",
       "3    49204.465136  15975.652771  15367.887099  10797.123319  22788.359468   \n",
       "5     5969.707516   5127.365839   5252.809367   5460.800869   4581.916567   \n",
       "6     6486.658898   3352.500439   2155.201622   4246.239082   7597.763417   \n",
       "8      221.986516   3839.041694   5102.458601   2578.827206    323.481575   \n",
       "14       0.000000    173.807351    153.049331    136.491987     12.368766   \n",
       "22    9765.612912     11.952215     10.593245      2.196166      1.771300   \n",
       "23   16395.671694   4282.790194   3851.999871   1061.571588     98.028981   \n",
       "26    3396.242957   2801.422895   3545.731490   3476.431962   1392.059988   \n",
       "30    6105.500028   8785.961467   3011.610527   5924.159038   3884.820732   \n",
       "34       0.000000   3315.022557   4255.464361   3786.532326      0.000000   \n",
       "46    3789.882711      9.381618     12.507525      8.730373      3.953666   \n",
       "66    4073.346848   2801.479556   2877.728511    114.351700   1482.493976   \n",
       "94       0.000000    438.929248   7521.082011   7134.264916   3369.613372   \n",
       "97    6174.582162      2.618417      0.009747      3.089429     12.813155   \n",
       "98    2612.553473  18258.886129  17563.273844   4194.659090  16716.945095   \n",
       "100   2626.465219   1430.846691   2461.859809    134.101122   2123.074932   \n",
       "110    687.591337   1670.773502    767.585517    237.708483   1477.826751   \n",
       "140   5554.254802    777.618407   1636.952736    335.459445   1468.616696   \n",
       "185  13133.461750   1758.634428   4068.120993    565.326745   1934.741620   \n",
       "195  60699.953265    381.753797    236.783571    270.236997    345.806646   \n",
       "219   1569.098440   2540.583338   3375.307912   2125.732382   2635.938596   \n",
       "232    191.590179     76.521717     56.920352     18.731132      1.019865   \n",
       "257   3073.774783    131.025364    310.558627     89.452935    150.299525   \n",
       "282   4643.040629    868.370592    824.939796    330.953244   1427.309465   \n",
       "291  14566.280927   2394.748642  12441.324415   6189.586851    641.418249   \n",
       "297   3479.287464     57.943592    221.532471     99.388160    131.898114   \n",
       "\n",
       "     ... Gross expense ratio                                           \\\n",
       "     ...              2016YE     2017YE    2018YE    2019YE    2020YE   \n",
       "3    ...            0.231139   0.285471  0.054150  0.051848 -0.162883   \n",
       "5    ...            0.105267   0.451178  0.239576  0.261323  0.065710   \n",
       "6    ...                 NaN        NaN       NaN       NaN       NaN   \n",
       "8    ...            0.126954   0.025789  0.605825  0.455562  0.374612   \n",
       "14   ...            0.162091   0.256304  0.087496  0.141326  0.178456   \n",
       "22   ...            0.464859   0.361293  0.747789  0.000000  0.000000   \n",
       "23   ...            0.605200   0.248585  0.584427  0.333017  0.411128   \n",
       "26   ...            0.597921   0.109913  0.829085  0.000000  0.000000   \n",
       "30   ...            0.000000   0.101059  1.068645  0.913817  0.030353   \n",
       "34   ...            0.502711   0.277131  0.367190  0.426257  0.578936   \n",
       "46   ...          -30.692808  65.787587  0.000000  0.000000  0.000000   \n",
       "66   ...            0.000000   0.000000  0.147555  0.289675  0.491820   \n",
       "94   ...                 NaN        NaN       NaN       NaN       NaN   \n",
       "97   ...            0.377663   0.000000  0.000000  0.000000  0.000000   \n",
       "98   ...            0.081370   0.545727  0.228483  0.549208  0.311819   \n",
       "100  ...            0.000000   0.348463  0.168275  0.022791  0.023880   \n",
       "110  ...            0.000000   0.000000  0.000000  0.000000  0.000000   \n",
       "140  ...            0.972695   0.848063  0.616229  0.545959  0.475717   \n",
       "185  ...          -34.077411  -2.355838  0.060794  0.087385  0.035470   \n",
       "195  ...            0.666234   0.357614  0.384633  0.157922  0.216404   \n",
       "219  ...            0.324399   0.434771  0.105111  0.037389  0.350771   \n",
       "232  ...            0.108137   0.214567  0.439227  0.152939  0.491021   \n",
       "257  ...                 NaN        NaN       NaN       NaN       NaN   \n",
       "282  ...                 NaN        NaN       NaN       NaN       NaN   \n",
       "291  ...            0.000000   0.000000  0.470995  0.130499  0.312233   \n",
       "297  ...            0.481435   0.369913  0.042752  0.097238  0.060318   \n",
       "\n",
       "    Gross combined ratio                                            \n",
       "                  2016YE     2017YE     2018YE    2019YE    2020YE  \n",
       "3               1.047234   0.476384   3.307379  1.247403 -2.303093  \n",
       "5               0.650369   0.904271   0.147146  0.351034  0.687860  \n",
       "6                    NaN        NaN        NaN       NaN       NaN  \n",
       "8               1.520116   0.350161   1.291962  0.357412  0.306303  \n",
       "14              1.090493   1.576529   1.575259  0.596478  1.129964  \n",
       "22              0.874980   1.080769   1.187106  0.000000  0.000000  \n",
       "23              1.639587   0.733022   0.253679  0.143545  1.031633  \n",
       "26              0.342532  22.799331  11.911513  0.000000  0.000000  \n",
       "30              0.000000   0.930897   1.983448  0.327643  2.187807  \n",
       "34              0.616670   0.230957   1.334053  1.637039  1.087538  \n",
       "46             -0.536358 -50.991523   0.000000  0.000000  0.000000  \n",
       "66              0.000000   0.000000   0.846490  0.658037  1.773573  \n",
       "94                   NaN        NaN        NaN       NaN       NaN  \n",
       "97              0.273447   0.000000   0.000000  0.000000  0.000000  \n",
       "98              1.444053   0.340131   1.647887  0.443959  0.983198  \n",
       "100             0.000000   1.061733   1.142975  1.293313  0.072622  \n",
       "110             0.000000   0.000000   0.000000  0.000000  0.000000  \n",
       "140            -0.496272  -0.276755  -6.226915 -0.805354  0.019297  \n",
       "185             2.702875   2.724142   0.045757  1.443435  0.944690  \n",
       "195             1.607224   1.548505   1.759389  0.282968  0.975301  \n",
       "219             0.095618   0.124333   1.494161  0.338396  1.671975  \n",
       "232             0.235978   0.509785   0.020226  0.275845  0.728247  \n",
       "257                  NaN        NaN        NaN       NaN       NaN  \n",
       "282                  NaN        NaN        NaN       NaN       NaN  \n",
       "291             0.000000   0.000000   1.115284  0.735252  0.459989  \n",
       "297             0.262281   0.077431   1.742934  0.519823  0.512366  \n",
       "\n",
       "[26 rows x 87 columns]"
      ]
     },
     "execution_count": 14,
     "metadata": {},
     "output_type": "execute_result"
    }
   ],
   "source": [
    "largest_firms_16_20 = df_merged[df_merged['GWP (£m)'].sum(axis=1) > deciles_16_20[-1]]\n",
    "largest_firms_16_20"
   ]
  },
  {
   "cell_type": "markdown",
   "metadata": {},
   "source": [
    "### Do the firms have all the data we're interested in?"
   ]
  },
  {
   "cell_type": "code",
   "execution_count": 15,
   "metadata": {},
   "outputs": [
    {
     "data": {
      "text/html": [
       "<div>\n",
       "<style scoped>\n",
       "    .dataframe tbody tr th:only-of-type {\n",
       "        vertical-align: middle;\n",
       "    }\n",
       "\n",
       "    .dataframe tbody tr th {\n",
       "        vertical-align: top;\n",
       "    }\n",
       "\n",
       "    .dataframe thead th {\n",
       "        text-align: right;\n",
       "    }\n",
       "</style>\n",
       "<table border=\"1\" class=\"dataframe\">\n",
       "  <thead>\n",
       "    <tr style=\"text-align: right;\">\n",
       "      <th></th>\n",
       "      <th>SCR coverage ratio</th>\n",
       "      <th>NWP (£m)</th>\n",
       "      <th>GWP (£m)</th>\n",
       "      <th>Net combined ratio</th>\n",
       "      <th>Gross claims incurred (£m)</th>\n",
       "      <th>Excess of assets over liabilities (£m) [= equity]</th>\n",
       "      <th>Total liabilities (£m)</th>\n",
       "    </tr>\n",
       "  </thead>\n",
       "  <tbody>\n",
       "    <tr>\n",
       "      <th>Firm 4</th>\n",
       "      <td>1.224834</td>\n",
       "      <td>20885.506445</td>\n",
       "      <td>41081.453449</td>\n",
       "      <td>1.841528</td>\n",
       "      <td>42.280402</td>\n",
       "      <td>12910.346383</td>\n",
       "      <td>68145.069079</td>\n",
       "    </tr>\n",
       "    <tr>\n",
       "      <th>Firm 6</th>\n",
       "      <td>1.104387</td>\n",
       "      <td>3215.472967</td>\n",
       "      <td>4061.617189</td>\n",
       "      <td>0.496601</td>\n",
       "      <td>268.527873</td>\n",
       "      <td>4848.816357</td>\n",
       "      <td>29794.425246</td>\n",
       "    </tr>\n",
       "    <tr>\n",
       "      <th>Firm 7</th>\n",
       "      <td>1.649018</td>\n",
       "      <td>3307.129485</td>\n",
       "      <td>5814.003842</td>\n",
       "      <td>NaN</td>\n",
       "      <td>NaN</td>\n",
       "      <td>11434.723658</td>\n",
       "      <td>9079.892449</td>\n",
       "    </tr>\n",
       "    <tr>\n",
       "      <th>Firm 10</th>\n",
       "      <td>1.112032</td>\n",
       "      <td>3882.087306</td>\n",
       "      <td>9002.108895</td>\n",
       "      <td>0.795576</td>\n",
       "      <td>122.984554</td>\n",
       "      <td>7807.061167</td>\n",
       "      <td>193831.906382</td>\n",
       "    </tr>\n",
       "    <tr>\n",
       "      <th>Firm 17</th>\n",
       "      <td>1.278596</td>\n",
       "      <td>1256.934295</td>\n",
       "      <td>2037.685268</td>\n",
       "      <td>0.439327</td>\n",
       "      <td>1420.733285</td>\n",
       "      <td>89.061371</td>\n",
       "      <td>8108.999581</td>\n",
       "    </tr>\n",
       "    <tr>\n",
       "      <th>Firm 25</th>\n",
       "      <td>3.155166</td>\n",
       "      <td>7134.648741</td>\n",
       "      <td>4169.962819</td>\n",
       "      <td>0.504087</td>\n",
       "      <td>1146.991043</td>\n",
       "      <td>23.885705</td>\n",
       "      <td>30445.542807</td>\n",
       "    </tr>\n",
       "    <tr>\n",
       "      <th>Firm 26</th>\n",
       "      <td>1.794204</td>\n",
       "      <td>11251.347661</td>\n",
       "      <td>10352.250388</td>\n",
       "      <td>0.973190</td>\n",
       "      <td>315.841298</td>\n",
       "      <td>7266.408767</td>\n",
       "      <td>68511.986170</td>\n",
       "    </tr>\n",
       "    <tr>\n",
       "      <th>Firm 30</th>\n",
       "      <td>1.906925</td>\n",
       "      <td>5260.728479</td>\n",
       "      <td>2301.225209</td>\n",
       "      <td>0.000000</td>\n",
       "      <td>0.000000</td>\n",
       "      <td>4611.238915</td>\n",
       "      <td>70632.721322</td>\n",
       "    </tr>\n",
       "    <tr>\n",
       "      <th>Firm 34</th>\n",
       "      <td>2.602542</td>\n",
       "      <td>3630.292355</td>\n",
       "      <td>8107.790888</td>\n",
       "      <td>1.610048</td>\n",
       "      <td>5.663691</td>\n",
       "      <td>11528.901477</td>\n",
       "      <td>167736.855249</td>\n",
       "    </tr>\n",
       "    <tr>\n",
       "      <th>Firm 38</th>\n",
       "      <td>1.338800</td>\n",
       "      <td>1666.572447</td>\n",
       "      <td>4720.203774</td>\n",
       "      <td>1.379684</td>\n",
       "      <td>360.052219</td>\n",
       "      <td>2531.593485</td>\n",
       "      <td>5844.001778</td>\n",
       "    </tr>\n",
       "    <tr>\n",
       "      <th>Firm 51</th>\n",
       "      <td>0.882185</td>\n",
       "      <td>3789.882711</td>\n",
       "      <td>2524.616078</td>\n",
       "      <td>0.000000</td>\n",
       "      <td>0.000000</td>\n",
       "      <td>8.798237</td>\n",
       "      <td>13789.810771</td>\n",
       "    </tr>\n",
       "    <tr>\n",
       "      <th>Firm 73</th>\n",
       "      <td>1.792024</td>\n",
       "      <td>6813.491255</td>\n",
       "      <td>6173.505533</td>\n",
       "      <td>0.785479</td>\n",
       "      <td>18.308926</td>\n",
       "      <td>2581.690432</td>\n",
       "      <td>55884.046635</td>\n",
       "    </tr>\n",
       "    <tr>\n",
       "      <th>Firm 101</th>\n",
       "      <td>1.407634</td>\n",
       "      <td>3304.202645</td>\n",
       "      <td>4418.482952</td>\n",
       "      <td>NaN</td>\n",
       "      <td>NaN</td>\n",
       "      <td>10807.461907</td>\n",
       "      <td>161113.140524</td>\n",
       "    </tr>\n",
       "    <tr>\n",
       "      <th>Firm 104</th>\n",
       "      <td>5.625303</td>\n",
       "      <td>1697.619649</td>\n",
       "      <td>1852.233765</td>\n",
       "      <td>0.000000</td>\n",
       "      <td>0.000000</td>\n",
       "      <td>43.158548</td>\n",
       "      <td>4106.211163</td>\n",
       "    </tr>\n",
       "    <tr>\n",
       "      <th>Firm 105</th>\n",
       "      <td>2.158239</td>\n",
       "      <td>18539.933748</td>\n",
       "      <td>11934.118361</td>\n",
       "      <td>1.437999</td>\n",
       "      <td>3223.760583</td>\n",
       "      <td>24780.597177</td>\n",
       "      <td>207902.758113</td>\n",
       "    </tr>\n",
       "    <tr>\n",
       "      <th>Firm 107</th>\n",
       "      <td>1.327431</td>\n",
       "      <td>2626.465219</td>\n",
       "      <td>3523.327642</td>\n",
       "      <td>0.473779</td>\n",
       "      <td>46.330295</td>\n",
       "      <td>2465.928164</td>\n",
       "      <td>5504.754730</td>\n",
       "    </tr>\n",
       "    <tr>\n",
       "      <th>Firm 120</th>\n",
       "      <td>0.945031</td>\n",
       "      <td>2406.779146</td>\n",
       "      <td>3032.328669</td>\n",
       "      <td>0.000000</td>\n",
       "      <td>0.000000</td>\n",
       "      <td>1369.723293</td>\n",
       "      <td>59619.096016</td>\n",
       "    </tr>\n",
       "    <tr>\n",
       "      <th>Firm 151</th>\n",
       "      <td>1.481910</td>\n",
       "      <td>7970.539382</td>\n",
       "      <td>8634.614029</td>\n",
       "      <td>-0.282104</td>\n",
       "      <td>-14.256461</td>\n",
       "      <td>2085.785726</td>\n",
       "      <td>93986.990393</td>\n",
       "    </tr>\n",
       "    <tr>\n",
       "      <th>Firm 199</th>\n",
       "      <td>1.629625</td>\n",
       "      <td>10050.601335</td>\n",
       "      <td>4428.237048</td>\n",
       "      <td>0.654217</td>\n",
       "      <td>6.344826</td>\n",
       "      <td>1911.596561</td>\n",
       "      <td>57630.291509</td>\n",
       "    </tr>\n",
       "    <tr>\n",
       "      <th>Firm 210</th>\n",
       "      <td>1.319283</td>\n",
       "      <td>30031.048551</td>\n",
       "      <td>69697.928286</td>\n",
       "      <td>0.707528</td>\n",
       "      <td>437.090537</td>\n",
       "      <td>445.726650</td>\n",
       "      <td>244235.769420</td>\n",
       "    </tr>\n",
       "    <tr>\n",
       "      <th>Firm 234</th>\n",
       "      <td>2.195637</td>\n",
       "      <td>3700.803327</td>\n",
       "      <td>3665.817601</td>\n",
       "      <td>0.155449</td>\n",
       "      <td>1248.740155</td>\n",
       "      <td>2514.535454</td>\n",
       "      <td>12880.698644</td>\n",
       "    </tr>\n",
       "    <tr>\n",
       "      <th>Firm 247</th>\n",
       "      <td>7.973924</td>\n",
       "      <td>6237.267910</td>\n",
       "      <td>9115.194999</td>\n",
       "      <td>0.281600</td>\n",
       "      <td>1.701172</td>\n",
       "      <td>18.396557</td>\n",
       "      <td>79654.872788</td>\n",
       "    </tr>\n",
       "    <tr>\n",
       "      <th>Firm 276</th>\n",
       "      <td>1.474873</td>\n",
       "      <td>2565.770457</td>\n",
       "      <td>5385.561561</td>\n",
       "      <td>NaN</td>\n",
       "      <td>NaN</td>\n",
       "      <td>257.563878</td>\n",
       "      <td>44395.668883</td>\n",
       "    </tr>\n",
       "    <tr>\n",
       "      <th>Firm 301</th>\n",
       "      <td>1.078399</td>\n",
       "      <td>615.719690</td>\n",
       "      <td>2339.220517</td>\n",
       "      <td>NaN</td>\n",
       "      <td>NaN</td>\n",
       "      <td>1068.302949</td>\n",
       "      <td>10750.087353</td>\n",
       "    </tr>\n",
       "    <tr>\n",
       "      <th>Firm 311</th>\n",
       "      <td>0.868950</td>\n",
       "      <td>12734.766714</td>\n",
       "      <td>21432.675231</td>\n",
       "      <td>0.230455</td>\n",
       "      <td>1.870085</td>\n",
       "      <td>7807.214711</td>\n",
       "      <td>206378.510861</td>\n",
       "    </tr>\n",
       "    <tr>\n",
       "      <th>Firm 317</th>\n",
       "      <td>1.312616</td>\n",
       "      <td>4105.052125</td>\n",
       "      <td>2476.648069</td>\n",
       "      <td>0.866139</td>\n",
       "      <td>67.248420</td>\n",
       "      <td>76.518686</td>\n",
       "      <td>11775.211292</td>\n",
       "    </tr>\n",
       "  </tbody>\n",
       "</table>\n",
       "</div>"
      ],
      "text/plain": [
       "          SCR coverage ratio     NWP (£m)       GWP (£m)  Net combined ratio  \\\n",
       "Firm 4              1.224834  20885.506445  41081.453449            1.841528   \n",
       "Firm 6              1.104387   3215.472967   4061.617189            0.496601   \n",
       "Firm 7              1.649018   3307.129485   5814.003842                 NaN   \n",
       "Firm 10             1.112032   3882.087306   9002.108895            0.795576   \n",
       "Firm 17             1.278596   1256.934295   2037.685268            0.439327   \n",
       "Firm 25             3.155166   7134.648741   4169.962819            0.504087   \n",
       "Firm 26             1.794204  11251.347661  10352.250388            0.973190   \n",
       "Firm 30             1.906925   5260.728479   2301.225209            0.000000   \n",
       "Firm 34             2.602542   3630.292355   8107.790888            1.610048   \n",
       "Firm 38             1.338800   1666.572447   4720.203774            1.379684   \n",
       "Firm 51             0.882185   3789.882711   2524.616078            0.000000   \n",
       "Firm 73             1.792024   6813.491255   6173.505533            0.785479   \n",
       "Firm 101            1.407634   3304.202645   4418.482952                 NaN   \n",
       "Firm 104            5.625303   1697.619649   1852.233765            0.000000   \n",
       "Firm 105            2.158239  18539.933748  11934.118361            1.437999   \n",
       "Firm 107            1.327431   2626.465219   3523.327642            0.473779   \n",
       "Firm 120            0.945031   2406.779146   3032.328669            0.000000   \n",
       "Firm 151            1.481910   7970.539382   8634.614029           -0.282104   \n",
       "Firm 199            1.629625  10050.601335   4428.237048            0.654217   \n",
       "Firm 210            1.319283  30031.048551  69697.928286            0.707528   \n",
       "Firm 234            2.195637   3700.803327   3665.817601            0.155449   \n",
       "Firm 247            7.973924   6237.267910   9115.194999            0.281600   \n",
       "Firm 276            1.474873   2565.770457   5385.561561                 NaN   \n",
       "Firm 301            1.078399    615.719690   2339.220517                 NaN   \n",
       "Firm 311            0.868950  12734.766714  21432.675231            0.230455   \n",
       "Firm 317            1.312616   4105.052125   2476.648069            0.866139   \n",
       "\n",
       "          Gross claims incurred (£m)  \\\n",
       "Firm 4                     42.280402   \n",
       "Firm 6                    268.527873   \n",
       "Firm 7                           NaN   \n",
       "Firm 10                   122.984554   \n",
       "Firm 17                  1420.733285   \n",
       "Firm 25                  1146.991043   \n",
       "Firm 26                   315.841298   \n",
       "Firm 30                     0.000000   \n",
       "Firm 34                     5.663691   \n",
       "Firm 38                   360.052219   \n",
       "Firm 51                     0.000000   \n",
       "Firm 73                    18.308926   \n",
       "Firm 101                         NaN   \n",
       "Firm 104                    0.000000   \n",
       "Firm 105                 3223.760583   \n",
       "Firm 107                   46.330295   \n",
       "Firm 120                    0.000000   \n",
       "Firm 151                  -14.256461   \n",
       "Firm 199                    6.344826   \n",
       "Firm 210                  437.090537   \n",
       "Firm 234                 1248.740155   \n",
       "Firm 247                    1.701172   \n",
       "Firm 276                         NaN   \n",
       "Firm 301                         NaN   \n",
       "Firm 311                    1.870085   \n",
       "Firm 317                   67.248420   \n",
       "\n",
       "          Excess of assets over liabilities (£m) [= equity]  \\\n",
       "Firm 4                                         12910.346383   \n",
       "Firm 6                                          4848.816357   \n",
       "Firm 7                                         11434.723658   \n",
       "Firm 10                                         7807.061167   \n",
       "Firm 17                                           89.061371   \n",
       "Firm 25                                           23.885705   \n",
       "Firm 26                                         7266.408767   \n",
       "Firm 30                                         4611.238915   \n",
       "Firm 34                                        11528.901477   \n",
       "Firm 38                                         2531.593485   \n",
       "Firm 51                                            8.798237   \n",
       "Firm 73                                         2581.690432   \n",
       "Firm 101                                       10807.461907   \n",
       "Firm 104                                          43.158548   \n",
       "Firm 105                                       24780.597177   \n",
       "Firm 107                                        2465.928164   \n",
       "Firm 120                                        1369.723293   \n",
       "Firm 151                                        2085.785726   \n",
       "Firm 199                                        1911.596561   \n",
       "Firm 210                                         445.726650   \n",
       "Firm 234                                        2514.535454   \n",
       "Firm 247                                          18.396557   \n",
       "Firm 276                                         257.563878   \n",
       "Firm 301                                        1068.302949   \n",
       "Firm 311                                        7807.214711   \n",
       "Firm 317                                          76.518686   \n",
       "\n",
       "          Total liabilities (£m)  \n",
       "Firm 4              68145.069079  \n",
       "Firm 6              29794.425246  \n",
       "Firm 7               9079.892449  \n",
       "Firm 10            193831.906382  \n",
       "Firm 17              8108.999581  \n",
       "Firm 25             30445.542807  \n",
       "Firm 26             68511.986170  \n",
       "Firm 30             70632.721322  \n",
       "Firm 34            167736.855249  \n",
       "Firm 38              5844.001778  \n",
       "Firm 51             13789.810771  \n",
       "Firm 73             55884.046635  \n",
       "Firm 101           161113.140524  \n",
       "Firm 104             4106.211163  \n",
       "Firm 105           207902.758113  \n",
       "Firm 107             5504.754730  \n",
       "Firm 120            59619.096016  \n",
       "Firm 151            93986.990393  \n",
       "Firm 199            57630.291509  \n",
       "Firm 210           244235.769420  \n",
       "Firm 234            12880.698644  \n",
       "Firm 247            79654.872788  \n",
       "Firm 276            44395.668883  \n",
       "Firm 301            10750.087353  \n",
       "Firm 311           206378.510861  \n",
       "Firm 317            11775.211292  "
      ]
     },
     "execution_count": 15,
     "metadata": {},
     "output_type": "execute_result"
    }
   ],
   "source": [
    "cols = [\n",
    "    'SCR coverage ratio',\n",
    "    'NWP (£m) ',\n",
    "    'GWP (£m)',\n",
    "    'Net combined ratio',\n",
    "    'Gross claims incurred (£m)',\n",
    "    'Excess of assets over liabilities (£m) [= equity]',\n",
    "    'Total liabilities (£m)',\n",
    "]\n",
    "\n",
    "data = {}\n",
    "for col in cols:\n",
    "    data[col] = largest_firms_16_20[col].median(axis=1).values\n",
    "\n",
    "largest_firms_20 = pd.DataFrame(data=data, index=largest_firms_16_20['Firms_x']['Firms_x'].values)\n",
    "# largest_firms_20_subset = largest_firms_20_subset.fillna(0) # REPLACE WITH 2016-2019 MEAN!!!!\n",
    "largest_firms_20"
   ]
  },
  {
   "cell_type": "markdown",
   "metadata": {},
   "source": [
    "The below firms do not have complete data for Net combined ratio or Gross claims icurred. This is likely a reporting error. Therefore we will remove them as only four values"
   ]
  },
  {
   "cell_type": "code",
   "execution_count": 16,
   "metadata": {},
   "outputs": [
    {
     "data": {
      "text/html": [
       "<div>\n",
       "<style scoped>\n",
       "    .dataframe tbody tr th:only-of-type {\n",
       "        vertical-align: middle;\n",
       "    }\n",
       "\n",
       "    .dataframe tbody tr th {\n",
       "        vertical-align: top;\n",
       "    }\n",
       "\n",
       "    .dataframe thead th {\n",
       "        text-align: right;\n",
       "    }\n",
       "</style>\n",
       "<table border=\"1\" class=\"dataframe\">\n",
       "  <thead>\n",
       "    <tr style=\"text-align: right;\">\n",
       "      <th></th>\n",
       "      <th>SCR coverage ratio</th>\n",
       "      <th>NWP (£m)</th>\n",
       "      <th>GWP (£m)</th>\n",
       "      <th>Net combined ratio</th>\n",
       "      <th>Gross claims incurred (£m)</th>\n",
       "      <th>Excess of assets over liabilities (£m) [= equity]</th>\n",
       "      <th>Total liabilities (£m)</th>\n",
       "    </tr>\n",
       "  </thead>\n",
       "  <tbody>\n",
       "    <tr>\n",
       "      <th>Firm 7</th>\n",
       "      <td>1.649018</td>\n",
       "      <td>3307.129485</td>\n",
       "      <td>5814.003842</td>\n",
       "      <td>NaN</td>\n",
       "      <td>NaN</td>\n",
       "      <td>11434.723658</td>\n",
       "      <td>9079.892449</td>\n",
       "    </tr>\n",
       "    <tr>\n",
       "      <th>Firm 101</th>\n",
       "      <td>1.407634</td>\n",
       "      <td>3304.202645</td>\n",
       "      <td>4418.482952</td>\n",
       "      <td>NaN</td>\n",
       "      <td>NaN</td>\n",
       "      <td>10807.461907</td>\n",
       "      <td>161113.140524</td>\n",
       "    </tr>\n",
       "    <tr>\n",
       "      <th>Firm 276</th>\n",
       "      <td>1.474873</td>\n",
       "      <td>2565.770457</td>\n",
       "      <td>5385.561561</td>\n",
       "      <td>NaN</td>\n",
       "      <td>NaN</td>\n",
       "      <td>257.563878</td>\n",
       "      <td>44395.668883</td>\n",
       "    </tr>\n",
       "    <tr>\n",
       "      <th>Firm 301</th>\n",
       "      <td>1.078399</td>\n",
       "      <td>615.719690</td>\n",
       "      <td>2339.220517</td>\n",
       "      <td>NaN</td>\n",
       "      <td>NaN</td>\n",
       "      <td>1068.302949</td>\n",
       "      <td>10750.087353</td>\n",
       "    </tr>\n",
       "  </tbody>\n",
       "</table>\n",
       "</div>"
      ],
      "text/plain": [
       "          SCR coverage ratio    NWP (£m)      GWP (£m)  Net combined ratio  \\\n",
       "Firm 7              1.649018  3307.129485  5814.003842                 NaN   \n",
       "Firm 101            1.407634  3304.202645  4418.482952                 NaN   \n",
       "Firm 276            1.474873  2565.770457  5385.561561                 NaN   \n",
       "Firm 301            1.078399   615.719690  2339.220517                 NaN   \n",
       "\n",
       "          Gross claims incurred (£m)  \\\n",
       "Firm 7                           NaN   \n",
       "Firm 101                         NaN   \n",
       "Firm 276                         NaN   \n",
       "Firm 301                         NaN   \n",
       "\n",
       "          Excess of assets over liabilities (£m) [= equity]  \\\n",
       "Firm 7                                         11434.723658   \n",
       "Firm 101                                       10807.461907   \n",
       "Firm 276                                         257.563878   \n",
       "Firm 301                                        1068.302949   \n",
       "\n",
       "          Total liabilities (£m)  \n",
       "Firm 7               9079.892449  \n",
       "Firm 101           161113.140524  \n",
       "Firm 276            44395.668883  \n",
       "Firm 301            10750.087353  "
      ]
     },
     "execution_count": 16,
     "metadata": {},
     "output_type": "execute_result"
    }
   ],
   "source": [
    "largest_firms_20[largest_firms_20.isna().any(axis=1)]"
   ]
  },
  {
   "cell_type": "code",
   "execution_count": 17,
   "metadata": {},
   "outputs": [
    {
     "data": {
      "text/html": [
       "<div>\n",
       "<style scoped>\n",
       "    .dataframe tbody tr th:only-of-type {\n",
       "        vertical-align: middle;\n",
       "    }\n",
       "\n",
       "    .dataframe tbody tr th {\n",
       "        vertical-align: top;\n",
       "    }\n",
       "\n",
       "    .dataframe thead th {\n",
       "        text-align: right;\n",
       "    }\n",
       "</style>\n",
       "<table border=\"1\" class=\"dataframe\">\n",
       "  <thead>\n",
       "    <tr style=\"text-align: right;\">\n",
       "      <th></th>\n",
       "      <th>SCR coverage ratio</th>\n",
       "      <th>NWP (£m)</th>\n",
       "      <th>GWP (£m)</th>\n",
       "      <th>Net combined ratio</th>\n",
       "      <th>Gross claims incurred (£m)</th>\n",
       "      <th>Excess of assets over liabilities (£m) [= equity]</th>\n",
       "      <th>Total liabilities (£m)</th>\n",
       "    </tr>\n",
       "  </thead>\n",
       "  <tbody>\n",
       "    <tr>\n",
       "      <th>Firm 4</th>\n",
       "      <td>1.224834</td>\n",
       "      <td>20885.506445</td>\n",
       "      <td>41081.453449</td>\n",
       "      <td>1.841528</td>\n",
       "      <td>42.280402</td>\n",
       "      <td>12910.346383</td>\n",
       "      <td>68145.069079</td>\n",
       "    </tr>\n",
       "    <tr>\n",
       "      <th>Firm 6</th>\n",
       "      <td>1.104387</td>\n",
       "      <td>3215.472967</td>\n",
       "      <td>4061.617189</td>\n",
       "      <td>0.496601</td>\n",
       "      <td>268.527873</td>\n",
       "      <td>4848.816357</td>\n",
       "      <td>29794.425246</td>\n",
       "    </tr>\n",
       "    <tr>\n",
       "      <th>Firm 10</th>\n",
       "      <td>1.112032</td>\n",
       "      <td>3882.087306</td>\n",
       "      <td>9002.108895</td>\n",
       "      <td>0.795576</td>\n",
       "      <td>122.984554</td>\n",
       "      <td>7807.061167</td>\n",
       "      <td>193831.906382</td>\n",
       "    </tr>\n",
       "    <tr>\n",
       "      <th>Firm 17</th>\n",
       "      <td>1.278596</td>\n",
       "      <td>1256.934295</td>\n",
       "      <td>2037.685268</td>\n",
       "      <td>0.439327</td>\n",
       "      <td>1420.733285</td>\n",
       "      <td>89.061371</td>\n",
       "      <td>8108.999581</td>\n",
       "    </tr>\n",
       "    <tr>\n",
       "      <th>Firm 25</th>\n",
       "      <td>3.155166</td>\n",
       "      <td>7134.648741</td>\n",
       "      <td>4169.962819</td>\n",
       "      <td>0.504087</td>\n",
       "      <td>1146.991043</td>\n",
       "      <td>23.885705</td>\n",
       "      <td>30445.542807</td>\n",
       "    </tr>\n",
       "    <tr>\n",
       "      <th>Firm 26</th>\n",
       "      <td>1.794204</td>\n",
       "      <td>11251.347661</td>\n",
       "      <td>10352.250388</td>\n",
       "      <td>0.973190</td>\n",
       "      <td>315.841298</td>\n",
       "      <td>7266.408767</td>\n",
       "      <td>68511.986170</td>\n",
       "    </tr>\n",
       "    <tr>\n",
       "      <th>Firm 30</th>\n",
       "      <td>1.906925</td>\n",
       "      <td>5260.728479</td>\n",
       "      <td>2301.225209</td>\n",
       "      <td>0.000000</td>\n",
       "      <td>0.000000</td>\n",
       "      <td>4611.238915</td>\n",
       "      <td>70632.721322</td>\n",
       "    </tr>\n",
       "    <tr>\n",
       "      <th>Firm 34</th>\n",
       "      <td>2.602542</td>\n",
       "      <td>3630.292355</td>\n",
       "      <td>8107.790888</td>\n",
       "      <td>1.610048</td>\n",
       "      <td>5.663691</td>\n",
       "      <td>11528.901477</td>\n",
       "      <td>167736.855249</td>\n",
       "    </tr>\n",
       "    <tr>\n",
       "      <th>Firm 38</th>\n",
       "      <td>1.338800</td>\n",
       "      <td>1666.572447</td>\n",
       "      <td>4720.203774</td>\n",
       "      <td>1.379684</td>\n",
       "      <td>360.052219</td>\n",
       "      <td>2531.593485</td>\n",
       "      <td>5844.001778</td>\n",
       "    </tr>\n",
       "    <tr>\n",
       "      <th>Firm 51</th>\n",
       "      <td>0.882185</td>\n",
       "      <td>3789.882711</td>\n",
       "      <td>2524.616078</td>\n",
       "      <td>0.000000</td>\n",
       "      <td>0.000000</td>\n",
       "      <td>8.798237</td>\n",
       "      <td>13789.810771</td>\n",
       "    </tr>\n",
       "    <tr>\n",
       "      <th>Firm 73</th>\n",
       "      <td>1.792024</td>\n",
       "      <td>6813.491255</td>\n",
       "      <td>6173.505533</td>\n",
       "      <td>0.785479</td>\n",
       "      <td>18.308926</td>\n",
       "      <td>2581.690432</td>\n",
       "      <td>55884.046635</td>\n",
       "    </tr>\n",
       "    <tr>\n",
       "      <th>Firm 104</th>\n",
       "      <td>5.625303</td>\n",
       "      <td>1697.619649</td>\n",
       "      <td>1852.233765</td>\n",
       "      <td>0.000000</td>\n",
       "      <td>0.000000</td>\n",
       "      <td>43.158548</td>\n",
       "      <td>4106.211163</td>\n",
       "    </tr>\n",
       "    <tr>\n",
       "      <th>Firm 105</th>\n",
       "      <td>2.158239</td>\n",
       "      <td>18539.933748</td>\n",
       "      <td>11934.118361</td>\n",
       "      <td>1.437999</td>\n",
       "      <td>3223.760583</td>\n",
       "      <td>24780.597177</td>\n",
       "      <td>207902.758113</td>\n",
       "    </tr>\n",
       "    <tr>\n",
       "      <th>Firm 107</th>\n",
       "      <td>1.327431</td>\n",
       "      <td>2626.465219</td>\n",
       "      <td>3523.327642</td>\n",
       "      <td>0.473779</td>\n",
       "      <td>46.330295</td>\n",
       "      <td>2465.928164</td>\n",
       "      <td>5504.754730</td>\n",
       "    </tr>\n",
       "    <tr>\n",
       "      <th>Firm 120</th>\n",
       "      <td>0.945031</td>\n",
       "      <td>2406.779146</td>\n",
       "      <td>3032.328669</td>\n",
       "      <td>0.000000</td>\n",
       "      <td>0.000000</td>\n",
       "      <td>1369.723293</td>\n",
       "      <td>59619.096016</td>\n",
       "    </tr>\n",
       "    <tr>\n",
       "      <th>Firm 151</th>\n",
       "      <td>1.481910</td>\n",
       "      <td>7970.539382</td>\n",
       "      <td>8634.614029</td>\n",
       "      <td>-0.282104</td>\n",
       "      <td>-14.256461</td>\n",
       "      <td>2085.785726</td>\n",
       "      <td>93986.990393</td>\n",
       "    </tr>\n",
       "    <tr>\n",
       "      <th>Firm 199</th>\n",
       "      <td>1.629625</td>\n",
       "      <td>10050.601335</td>\n",
       "      <td>4428.237048</td>\n",
       "      <td>0.654217</td>\n",
       "      <td>6.344826</td>\n",
       "      <td>1911.596561</td>\n",
       "      <td>57630.291509</td>\n",
       "    </tr>\n",
       "    <tr>\n",
       "      <th>Firm 210</th>\n",
       "      <td>1.319283</td>\n",
       "      <td>30031.048551</td>\n",
       "      <td>69697.928286</td>\n",
       "      <td>0.707528</td>\n",
       "      <td>437.090537</td>\n",
       "      <td>445.726650</td>\n",
       "      <td>244235.769420</td>\n",
       "    </tr>\n",
       "    <tr>\n",
       "      <th>Firm 234</th>\n",
       "      <td>2.195637</td>\n",
       "      <td>3700.803327</td>\n",
       "      <td>3665.817601</td>\n",
       "      <td>0.155449</td>\n",
       "      <td>1248.740155</td>\n",
       "      <td>2514.535454</td>\n",
       "      <td>12880.698644</td>\n",
       "    </tr>\n",
       "    <tr>\n",
       "      <th>Firm 247</th>\n",
       "      <td>7.973924</td>\n",
       "      <td>6237.267910</td>\n",
       "      <td>9115.194999</td>\n",
       "      <td>0.281600</td>\n",
       "      <td>1.701172</td>\n",
       "      <td>18.396557</td>\n",
       "      <td>79654.872788</td>\n",
       "    </tr>\n",
       "    <tr>\n",
       "      <th>Firm 311</th>\n",
       "      <td>0.868950</td>\n",
       "      <td>12734.766714</td>\n",
       "      <td>21432.675231</td>\n",
       "      <td>0.230455</td>\n",
       "      <td>1.870085</td>\n",
       "      <td>7807.214711</td>\n",
       "      <td>206378.510861</td>\n",
       "    </tr>\n",
       "    <tr>\n",
       "      <th>Firm 317</th>\n",
       "      <td>1.312616</td>\n",
       "      <td>4105.052125</td>\n",
       "      <td>2476.648069</td>\n",
       "      <td>0.866139</td>\n",
       "      <td>67.248420</td>\n",
       "      <td>76.518686</td>\n",
       "      <td>11775.211292</td>\n",
       "    </tr>\n",
       "  </tbody>\n",
       "</table>\n",
       "</div>"
      ],
      "text/plain": [
       "          SCR coverage ratio     NWP (£m)       GWP (£m)  Net combined ratio  \\\n",
       "Firm 4              1.224834  20885.506445  41081.453449            1.841528   \n",
       "Firm 6              1.104387   3215.472967   4061.617189            0.496601   \n",
       "Firm 10             1.112032   3882.087306   9002.108895            0.795576   \n",
       "Firm 17             1.278596   1256.934295   2037.685268            0.439327   \n",
       "Firm 25             3.155166   7134.648741   4169.962819            0.504087   \n",
       "Firm 26             1.794204  11251.347661  10352.250388            0.973190   \n",
       "Firm 30             1.906925   5260.728479   2301.225209            0.000000   \n",
       "Firm 34             2.602542   3630.292355   8107.790888            1.610048   \n",
       "Firm 38             1.338800   1666.572447   4720.203774            1.379684   \n",
       "Firm 51             0.882185   3789.882711   2524.616078            0.000000   \n",
       "Firm 73             1.792024   6813.491255   6173.505533            0.785479   \n",
       "Firm 104            5.625303   1697.619649   1852.233765            0.000000   \n",
       "Firm 105            2.158239  18539.933748  11934.118361            1.437999   \n",
       "Firm 107            1.327431   2626.465219   3523.327642            0.473779   \n",
       "Firm 120            0.945031   2406.779146   3032.328669            0.000000   \n",
       "Firm 151            1.481910   7970.539382   8634.614029           -0.282104   \n",
       "Firm 199            1.629625  10050.601335   4428.237048            0.654217   \n",
       "Firm 210            1.319283  30031.048551  69697.928286            0.707528   \n",
       "Firm 234            2.195637   3700.803327   3665.817601            0.155449   \n",
       "Firm 247            7.973924   6237.267910   9115.194999            0.281600   \n",
       "Firm 311            0.868950  12734.766714  21432.675231            0.230455   \n",
       "Firm 317            1.312616   4105.052125   2476.648069            0.866139   \n",
       "\n",
       "          Gross claims incurred (£m)  \\\n",
       "Firm 4                     42.280402   \n",
       "Firm 6                    268.527873   \n",
       "Firm 10                   122.984554   \n",
       "Firm 17                  1420.733285   \n",
       "Firm 25                  1146.991043   \n",
       "Firm 26                   315.841298   \n",
       "Firm 30                     0.000000   \n",
       "Firm 34                     5.663691   \n",
       "Firm 38                   360.052219   \n",
       "Firm 51                     0.000000   \n",
       "Firm 73                    18.308926   \n",
       "Firm 104                    0.000000   \n",
       "Firm 105                 3223.760583   \n",
       "Firm 107                   46.330295   \n",
       "Firm 120                    0.000000   \n",
       "Firm 151                  -14.256461   \n",
       "Firm 199                    6.344826   \n",
       "Firm 210                  437.090537   \n",
       "Firm 234                 1248.740155   \n",
       "Firm 247                    1.701172   \n",
       "Firm 311                    1.870085   \n",
       "Firm 317                   67.248420   \n",
       "\n",
       "          Excess of assets over liabilities (£m) [= equity]  \\\n",
       "Firm 4                                         12910.346383   \n",
       "Firm 6                                          4848.816357   \n",
       "Firm 10                                         7807.061167   \n",
       "Firm 17                                           89.061371   \n",
       "Firm 25                                           23.885705   \n",
       "Firm 26                                         7266.408767   \n",
       "Firm 30                                         4611.238915   \n",
       "Firm 34                                        11528.901477   \n",
       "Firm 38                                         2531.593485   \n",
       "Firm 51                                            8.798237   \n",
       "Firm 73                                         2581.690432   \n",
       "Firm 104                                          43.158548   \n",
       "Firm 105                                       24780.597177   \n",
       "Firm 107                                        2465.928164   \n",
       "Firm 120                                        1369.723293   \n",
       "Firm 151                                        2085.785726   \n",
       "Firm 199                                        1911.596561   \n",
       "Firm 210                                         445.726650   \n",
       "Firm 234                                        2514.535454   \n",
       "Firm 247                                          18.396557   \n",
       "Firm 311                                        7807.214711   \n",
       "Firm 317                                          76.518686   \n",
       "\n",
       "          Total liabilities (£m)  \n",
       "Firm 4              68145.069079  \n",
       "Firm 6              29794.425246  \n",
       "Firm 10            193831.906382  \n",
       "Firm 17              8108.999581  \n",
       "Firm 25             30445.542807  \n",
       "Firm 26             68511.986170  \n",
       "Firm 30             70632.721322  \n",
       "Firm 34            167736.855249  \n",
       "Firm 38              5844.001778  \n",
       "Firm 51             13789.810771  \n",
       "Firm 73             55884.046635  \n",
       "Firm 104             4106.211163  \n",
       "Firm 105           207902.758113  \n",
       "Firm 107             5504.754730  \n",
       "Firm 120            59619.096016  \n",
       "Firm 151            93986.990393  \n",
       "Firm 199            57630.291509  \n",
       "Firm 210           244235.769420  \n",
       "Firm 234            12880.698644  \n",
       "Firm 247            79654.872788  \n",
       "Firm 311           206378.510861  \n",
       "Firm 317            11775.211292  "
      ]
     },
     "execution_count": 17,
     "metadata": {},
     "output_type": "execute_result"
    }
   ],
   "source": [
    "largest_firms_20 = largest_firms_20.dropna()\n",
    "largest_firms_20"
   ]
  },
  {
   "cell_type": "markdown",
   "metadata": {},
   "source": [
    "### Visualise largest firms based on size"
   ]
  },
  {
   "cell_type": "markdown",
   "metadata": {},
   "source": [
    "#### median size"
   ]
  },
  {
   "cell_type": "code",
   "execution_count": 18,
   "metadata": {},
   "outputs": [
    {
     "data": {
      "application/vnd.plotly.v1+json": {
       "config": {
        "plotlyServerURL": "https://plot.ly"
       },
       "data": [
        {
         "boxmean": true,
         "name": "2016YE",
         "type": "box",
         "y": [
          43375.806960310176,
          1966.0631189349251,
          4169.537704096357,
          678.2237701851045,
          3651.616243699532,
          4169.962818598366,
          17208.38618329814,
          2213.1087152491054,
          7875.720223472357,
          7063.975512188138,
          0,
          4615.597182523066,
          12011.61972033483,
          546.9768872753936,
          29995.224154702075,
          3523.3276417231236,
          1263.0853567825006,
          12222.424865568506,
          29.25544274771309,
          18971.28604737319,
          5694.660400640636,
          5681.610290033707,
          0.015801122823591352,
          2339.220517215635,
          845.5234311947981,
          2476.648068554825
         ]
        },
        {
         "boxmean": true,
         "name": "2017YE",
         "type": "box",
         "y": [
          23689.616366977127,
          1199.6570697644295,
          12689.066336204962,
          9887.800615569791,
          5132.976594809986,
          1758.1946928597697,
          13019.600407599937,
          436.67399124195424,
          4506.760102213277,
          6202.571939566987,
          675.1412136410212,
          2419.7033474012733,
          12883.16956527509,
          561.6734550820423,
          362.6870167073233,
          5981.029359013771,
          5740.063816262242,
          8634.614028967737,
          4428.237047861742,
          30581.956746948108,
          2437.361320200491,
          43569.20153787212,
          861.8095709456937,
          4340.86983335948,
          17291.29320126039,
          2105.032391383422
         ]
        },
        {
         "boxmean": true,
         "name": "2018YE",
         "type": "box",
         "y": [
          68276.76399735965,
          4061.617189379182,
          5814.003841907128,
          9002.10889465722,
          344.3417592689417,
          5927.700638289539,
          3419.6925607842136,
          6803.615805230791,
          8107.790888154519,
          4720.203774416391,
          4289.494824471314,
          10334.86146803298,
          3854.215480799787,
          15841.841020392627,
          11934.118360710367,
          627.0283676595251,
          3032.3286694143003,
          94.58336628095452,
          14072.905754807265,
          74078.63584908053,
          1717.3480046661427,
          12047.809027625684,
          9830.576467652976,
          907.3025567872826,
          21432.675230756333,
          2833.7659227675585
         ]
        },
        {
         "boxmean": true,
         "name": "2019YE",
         "type": "box",
         "y": [
          41081.45344852722,
          7464.344111727662,
          4224.697702034796,
          10552.586689501439,
          2037.685268259684,
          1198.2470712008412,
          8013.277031728727,
          2301.2252087838165,
          11427.64388227252,
          0,
          6855.903432804299,
          23667.380816123034,
          4418.4829521469555,
          1852.2337645264097,
          18504.741252277956,
          5989.985194690473,
          4823.981169419413,
          2494.6506445818713,
          9572.917260772347,
          72456.77287862495,
          3665.817601377194,
          7300.862736460369,
          5385.561561137745,
          1801.9665141476821,
          21730.53308796822,
          234.70432329564218
         ]
        },
        {
         "boxmean": true,
         "name": "2020YE",
         "type": "box",
         "y": [
          37761.88332103191,
          4209.115926295028,
          16183.565613808138,
          882.4791584372625,
          0,
          7031.517004879747,
          10352.2503876286,
          3093.817453308451,
          19274.956158991667,
          0,
          2524.6160780767045,
          6173.50553316142,
          0,
          5256.831640034237,
          5857.037438484294,
          954.7736668168894,
          131.68253618965335,
          15824.69245685633,
          2305.4106267190155,
          69697.92828567937,
          4051.5117565777014,
          9115.194998903235,
          5587.206833546253,
          2471.3285358790426,
          24251.48135795329,
          3716.1027063138918
         ]
        },
        {
         "boxmean": true,
         "name": "2016-2020 median",
         "type": "box",
         "y": [
          41081.45344852722,
          4061.617189379182,
          5814.003841907128,
          9002.10889465722,
          2037.685268259684,
          4169.962818598366,
          10352.2503876286,
          2301.2252087838165,
          8107.790888154519,
          4720.203774416391,
          2524.6160780767045,
          6173.50553316142,
          4418.4829521469555,
          1852.2337645264097,
          11934.118360710367,
          3523.3276417231236,
          3032.3286694143003,
          8634.614028967737,
          4428.237047861742,
          69697.92828567937,
          3665.817601377194,
          9115.194998903235,
          5385.561561137745,
          2339.220517215635,
          21432.675230756333,
          2476.648068554825
         ]
        }
       ],
       "layout": {
        "template": {
         "data": {
          "bar": [
           {
            "error_x": {
             "color": "#2a3f5f"
            },
            "error_y": {
             "color": "#2a3f5f"
            },
            "marker": {
             "line": {
              "color": "#E5ECF6",
              "width": 0.5
             },
             "pattern": {
              "fillmode": "overlay",
              "size": 10,
              "solidity": 0.2
             }
            },
            "type": "bar"
           }
          ],
          "barpolar": [
           {
            "marker": {
             "line": {
              "color": "#E5ECF6",
              "width": 0.5
             },
             "pattern": {
              "fillmode": "overlay",
              "size": 10,
              "solidity": 0.2
             }
            },
            "type": "barpolar"
           }
          ],
          "carpet": [
           {
            "aaxis": {
             "endlinecolor": "#2a3f5f",
             "gridcolor": "white",
             "linecolor": "white",
             "minorgridcolor": "white",
             "startlinecolor": "#2a3f5f"
            },
            "baxis": {
             "endlinecolor": "#2a3f5f",
             "gridcolor": "white",
             "linecolor": "white",
             "minorgridcolor": "white",
             "startlinecolor": "#2a3f5f"
            },
            "type": "carpet"
           }
          ],
          "choropleth": [
           {
            "colorbar": {
             "outlinewidth": 0,
             "ticks": ""
            },
            "type": "choropleth"
           }
          ],
          "contour": [
           {
            "colorbar": {
             "outlinewidth": 0,
             "ticks": ""
            },
            "colorscale": [
             [
              0,
              "#0d0887"
             ],
             [
              0.1111111111111111,
              "#46039f"
             ],
             [
              0.2222222222222222,
              "#7201a8"
             ],
             [
              0.3333333333333333,
              "#9c179e"
             ],
             [
              0.4444444444444444,
              "#bd3786"
             ],
             [
              0.5555555555555556,
              "#d8576b"
             ],
             [
              0.6666666666666666,
              "#ed7953"
             ],
             [
              0.7777777777777778,
              "#fb9f3a"
             ],
             [
              0.8888888888888888,
              "#fdca26"
             ],
             [
              1,
              "#f0f921"
             ]
            ],
            "type": "contour"
           }
          ],
          "contourcarpet": [
           {
            "colorbar": {
             "outlinewidth": 0,
             "ticks": ""
            },
            "type": "contourcarpet"
           }
          ],
          "heatmap": [
           {
            "colorbar": {
             "outlinewidth": 0,
             "ticks": ""
            },
            "colorscale": [
             [
              0,
              "#0d0887"
             ],
             [
              0.1111111111111111,
              "#46039f"
             ],
             [
              0.2222222222222222,
              "#7201a8"
             ],
             [
              0.3333333333333333,
              "#9c179e"
             ],
             [
              0.4444444444444444,
              "#bd3786"
             ],
             [
              0.5555555555555556,
              "#d8576b"
             ],
             [
              0.6666666666666666,
              "#ed7953"
             ],
             [
              0.7777777777777778,
              "#fb9f3a"
             ],
             [
              0.8888888888888888,
              "#fdca26"
             ],
             [
              1,
              "#f0f921"
             ]
            ],
            "type": "heatmap"
           }
          ],
          "heatmapgl": [
           {
            "colorbar": {
             "outlinewidth": 0,
             "ticks": ""
            },
            "colorscale": [
             [
              0,
              "#0d0887"
             ],
             [
              0.1111111111111111,
              "#46039f"
             ],
             [
              0.2222222222222222,
              "#7201a8"
             ],
             [
              0.3333333333333333,
              "#9c179e"
             ],
             [
              0.4444444444444444,
              "#bd3786"
             ],
             [
              0.5555555555555556,
              "#d8576b"
             ],
             [
              0.6666666666666666,
              "#ed7953"
             ],
             [
              0.7777777777777778,
              "#fb9f3a"
             ],
             [
              0.8888888888888888,
              "#fdca26"
             ],
             [
              1,
              "#f0f921"
             ]
            ],
            "type": "heatmapgl"
           }
          ],
          "histogram": [
           {
            "marker": {
             "pattern": {
              "fillmode": "overlay",
              "size": 10,
              "solidity": 0.2
             }
            },
            "type": "histogram"
           }
          ],
          "histogram2d": [
           {
            "colorbar": {
             "outlinewidth": 0,
             "ticks": ""
            },
            "colorscale": [
             [
              0,
              "#0d0887"
             ],
             [
              0.1111111111111111,
              "#46039f"
             ],
             [
              0.2222222222222222,
              "#7201a8"
             ],
             [
              0.3333333333333333,
              "#9c179e"
             ],
             [
              0.4444444444444444,
              "#bd3786"
             ],
             [
              0.5555555555555556,
              "#d8576b"
             ],
             [
              0.6666666666666666,
              "#ed7953"
             ],
             [
              0.7777777777777778,
              "#fb9f3a"
             ],
             [
              0.8888888888888888,
              "#fdca26"
             ],
             [
              1,
              "#f0f921"
             ]
            ],
            "type": "histogram2d"
           }
          ],
          "histogram2dcontour": [
           {
            "colorbar": {
             "outlinewidth": 0,
             "ticks": ""
            },
            "colorscale": [
             [
              0,
              "#0d0887"
             ],
             [
              0.1111111111111111,
              "#46039f"
             ],
             [
              0.2222222222222222,
              "#7201a8"
             ],
             [
              0.3333333333333333,
              "#9c179e"
             ],
             [
              0.4444444444444444,
              "#bd3786"
             ],
             [
              0.5555555555555556,
              "#d8576b"
             ],
             [
              0.6666666666666666,
              "#ed7953"
             ],
             [
              0.7777777777777778,
              "#fb9f3a"
             ],
             [
              0.8888888888888888,
              "#fdca26"
             ],
             [
              1,
              "#f0f921"
             ]
            ],
            "type": "histogram2dcontour"
           }
          ],
          "mesh3d": [
           {
            "colorbar": {
             "outlinewidth": 0,
             "ticks": ""
            },
            "type": "mesh3d"
           }
          ],
          "parcoords": [
           {
            "line": {
             "colorbar": {
              "outlinewidth": 0,
              "ticks": ""
             }
            },
            "type": "parcoords"
           }
          ],
          "pie": [
           {
            "automargin": true,
            "type": "pie"
           }
          ],
          "scatter": [
           {
            "fillpattern": {
             "fillmode": "overlay",
             "size": 10,
             "solidity": 0.2
            },
            "type": "scatter"
           }
          ],
          "scatter3d": [
           {
            "line": {
             "colorbar": {
              "outlinewidth": 0,
              "ticks": ""
             }
            },
            "marker": {
             "colorbar": {
              "outlinewidth": 0,
              "ticks": ""
             }
            },
            "type": "scatter3d"
           }
          ],
          "scattercarpet": [
           {
            "marker": {
             "colorbar": {
              "outlinewidth": 0,
              "ticks": ""
             }
            },
            "type": "scattercarpet"
           }
          ],
          "scattergeo": [
           {
            "marker": {
             "colorbar": {
              "outlinewidth": 0,
              "ticks": ""
             }
            },
            "type": "scattergeo"
           }
          ],
          "scattergl": [
           {
            "marker": {
             "colorbar": {
              "outlinewidth": 0,
              "ticks": ""
             }
            },
            "type": "scattergl"
           }
          ],
          "scattermapbox": [
           {
            "marker": {
             "colorbar": {
              "outlinewidth": 0,
              "ticks": ""
             }
            },
            "type": "scattermapbox"
           }
          ],
          "scatterpolar": [
           {
            "marker": {
             "colorbar": {
              "outlinewidth": 0,
              "ticks": ""
             }
            },
            "type": "scatterpolar"
           }
          ],
          "scatterpolargl": [
           {
            "marker": {
             "colorbar": {
              "outlinewidth": 0,
              "ticks": ""
             }
            },
            "type": "scatterpolargl"
           }
          ],
          "scatterternary": [
           {
            "marker": {
             "colorbar": {
              "outlinewidth": 0,
              "ticks": ""
             }
            },
            "type": "scatterternary"
           }
          ],
          "surface": [
           {
            "colorbar": {
             "outlinewidth": 0,
             "ticks": ""
            },
            "colorscale": [
             [
              0,
              "#0d0887"
             ],
             [
              0.1111111111111111,
              "#46039f"
             ],
             [
              0.2222222222222222,
              "#7201a8"
             ],
             [
              0.3333333333333333,
              "#9c179e"
             ],
             [
              0.4444444444444444,
              "#bd3786"
             ],
             [
              0.5555555555555556,
              "#d8576b"
             ],
             [
              0.6666666666666666,
              "#ed7953"
             ],
             [
              0.7777777777777778,
              "#fb9f3a"
             ],
             [
              0.8888888888888888,
              "#fdca26"
             ],
             [
              1,
              "#f0f921"
             ]
            ],
            "type": "surface"
           }
          ],
          "table": [
           {
            "cells": {
             "fill": {
              "color": "#EBF0F8"
             },
             "line": {
              "color": "white"
             }
            },
            "header": {
             "fill": {
              "color": "#C8D4E3"
             },
             "line": {
              "color": "white"
             }
            },
            "type": "table"
           }
          ]
         },
         "layout": {
          "annotationdefaults": {
           "arrowcolor": "#2a3f5f",
           "arrowhead": 0,
           "arrowwidth": 1
          },
          "autotypenumbers": "strict",
          "coloraxis": {
           "colorbar": {
            "outlinewidth": 0,
            "ticks": ""
           }
          },
          "colorscale": {
           "diverging": [
            [
             0,
             "#8e0152"
            ],
            [
             0.1,
             "#c51b7d"
            ],
            [
             0.2,
             "#de77ae"
            ],
            [
             0.3,
             "#f1b6da"
            ],
            [
             0.4,
             "#fde0ef"
            ],
            [
             0.5,
             "#f7f7f7"
            ],
            [
             0.6,
             "#e6f5d0"
            ],
            [
             0.7,
             "#b8e186"
            ],
            [
             0.8,
             "#7fbc41"
            ],
            [
             0.9,
             "#4d9221"
            ],
            [
             1,
             "#276419"
            ]
           ],
           "sequential": [
            [
             0,
             "#0d0887"
            ],
            [
             0.1111111111111111,
             "#46039f"
            ],
            [
             0.2222222222222222,
             "#7201a8"
            ],
            [
             0.3333333333333333,
             "#9c179e"
            ],
            [
             0.4444444444444444,
             "#bd3786"
            ],
            [
             0.5555555555555556,
             "#d8576b"
            ],
            [
             0.6666666666666666,
             "#ed7953"
            ],
            [
             0.7777777777777778,
             "#fb9f3a"
            ],
            [
             0.8888888888888888,
             "#fdca26"
            ],
            [
             1,
             "#f0f921"
            ]
           ],
           "sequentialminus": [
            [
             0,
             "#0d0887"
            ],
            [
             0.1111111111111111,
             "#46039f"
            ],
            [
             0.2222222222222222,
             "#7201a8"
            ],
            [
             0.3333333333333333,
             "#9c179e"
            ],
            [
             0.4444444444444444,
             "#bd3786"
            ],
            [
             0.5555555555555556,
             "#d8576b"
            ],
            [
             0.6666666666666666,
             "#ed7953"
            ],
            [
             0.7777777777777778,
             "#fb9f3a"
            ],
            [
             0.8888888888888888,
             "#fdca26"
            ],
            [
             1,
             "#f0f921"
            ]
           ]
          },
          "colorway": [
           "#636efa",
           "#EF553B",
           "#00cc96",
           "#ab63fa",
           "#FFA15A",
           "#19d3f3",
           "#FF6692",
           "#B6E880",
           "#FF97FF",
           "#FECB52"
          ],
          "font": {
           "color": "#2a3f5f"
          },
          "geo": {
           "bgcolor": "white",
           "lakecolor": "white",
           "landcolor": "#E5ECF6",
           "showlakes": true,
           "showland": true,
           "subunitcolor": "white"
          },
          "hoverlabel": {
           "align": "left"
          },
          "hovermode": "closest",
          "mapbox": {
           "style": "light"
          },
          "paper_bgcolor": "white",
          "plot_bgcolor": "#E5ECF6",
          "polar": {
           "angularaxis": {
            "gridcolor": "white",
            "linecolor": "white",
            "ticks": ""
           },
           "bgcolor": "#E5ECF6",
           "radialaxis": {
            "gridcolor": "white",
            "linecolor": "white",
            "ticks": ""
           }
          },
          "scene": {
           "xaxis": {
            "backgroundcolor": "#E5ECF6",
            "gridcolor": "white",
            "gridwidth": 2,
            "linecolor": "white",
            "showbackground": true,
            "ticks": "",
            "zerolinecolor": "white"
           },
           "yaxis": {
            "backgroundcolor": "#E5ECF6",
            "gridcolor": "white",
            "gridwidth": 2,
            "linecolor": "white",
            "showbackground": true,
            "ticks": "",
            "zerolinecolor": "white"
           },
           "zaxis": {
            "backgroundcolor": "#E5ECF6",
            "gridcolor": "white",
            "gridwidth": 2,
            "linecolor": "white",
            "showbackground": true,
            "ticks": "",
            "zerolinecolor": "white"
           }
          },
          "shapedefaults": {
           "line": {
            "color": "#2a3f5f"
           }
          },
          "ternary": {
           "aaxis": {
            "gridcolor": "white",
            "linecolor": "white",
            "ticks": ""
           },
           "baxis": {
            "gridcolor": "white",
            "linecolor": "white",
            "ticks": ""
           },
           "bgcolor": "#E5ECF6",
           "caxis": {
            "gridcolor": "white",
            "linecolor": "white",
            "ticks": ""
           }
          },
          "title": {
           "x": 0.05
          },
          "xaxis": {
           "automargin": true,
           "gridcolor": "white",
           "linecolor": "white",
           "ticks": "",
           "title": {
            "standoff": 15
           },
           "zerolinecolor": "white",
           "zerolinewidth": 2
          },
          "yaxis": {
           "automargin": true,
           "gridcolor": "white",
           "linecolor": "white",
           "ticks": "",
           "title": {
            "standoff": 15
           },
           "zerolinecolor": "white",
           "zerolinewidth": 2
          }
         }
        },
        "title": {
         "text": "Largest firms"
        },
        "yaxis": {
         "title": {
          "text": "Amount (£m)"
         }
        }
       }
      }
     },
     "metadata": {},
     "output_type": "display_data"
    }
   ],
   "source": [
    "fig = go.Figure()\n",
    "\n",
    "for col in largest_firms_16_20['GWP (£m)'].columns:\n",
    "    fig.add_trace(\n",
    "        go.Box(\n",
    "            y=largest_firms_16_20['GWP (£m)'][col],\n",
    "            name=col,\n",
    "            boxmean=True\n",
    "        )\n",
    "    )\n",
    "\n",
    "fig.add_trace(\n",
    "        go.Box(\n",
    "            y=largest_firms_16_20['GWP (£m)'].median(axis=1),\n",
    "            name='2016-2020 median',\n",
    "            boxmean=True\n",
    "        )\n",
    "    )\n",
    "\n",
    "fig.update_layout(\n",
    "    title='Largest firms',\n",
    "    yaxis_title='Amount (£m)'\n",
    ")\n",
    "\n",
    "fig.show()"
   ]
  },
  {
   "cell_type": "markdown",
   "metadata": {},
   "source": [
    "#### over time"
   ]
  },
  {
   "cell_type": "code",
   "execution_count": 19,
   "metadata": {},
   "outputs": [
    {
     "data": {
      "application/vnd.plotly.v1+json": {
       "config": {
        "plotlyServerURL": "https://plot.ly"
       },
       "data": [
        {
         "line": {
          "width": 2
         },
         "mode": "lines",
         "name": "Firm 4",
         "type": "scatter",
         "x": [
          2016,
          2017,
          2018,
          2019,
          2020
         ],
         "y": [
          43375.806960310176,
          23689.616366977127,
          68276.76399735965,
          41081.45344852722,
          37761.88332103191
         ]
        },
        {
         "line": {
          "width": 2
         },
         "mode": "lines",
         "name": "Firm 6",
         "type": "scatter",
         "x": [
          2016,
          2017,
          2018,
          2019,
          2020
         ],
         "y": [
          1966.0631189349251,
          1199.6570697644295,
          4061.617189379182,
          7464.344111727662,
          4209.115926295028
         ]
        },
        {
         "line": {
          "width": 2
         },
         "mode": "lines",
         "name": "Firm 7",
         "type": "scatter",
         "x": [
          2016,
          2017,
          2018,
          2019,
          2020
         ],
         "y": [
          4169.537704096357,
          12689.066336204962,
          5814.003841907128,
          4224.697702034796,
          16183.565613808138
         ]
        },
        {
         "line": {
          "width": 2
         },
         "mode": "lines",
         "name": "Firm 10",
         "type": "scatter",
         "x": [
          2016,
          2017,
          2018,
          2019,
          2020
         ],
         "y": [
          678.2237701851045,
          9887.800615569791,
          9002.10889465722,
          10552.586689501439,
          882.4791584372625
         ]
        },
        {
         "line": {
          "width": 2
         },
         "mode": "lines",
         "name": "Firm 17",
         "type": "scatter",
         "x": [
          2016,
          2017,
          2018,
          2019,
          2020
         ],
         "y": [
          3651.616243699532,
          5132.976594809986,
          344.3417592689417,
          2037.685268259684,
          0
         ]
        },
        {
         "line": {
          "width": 2
         },
         "mode": "lines",
         "name": "Firm 25",
         "type": "scatter",
         "x": [
          2016,
          2017,
          2018,
          2019,
          2020
         ],
         "y": [
          4169.962818598366,
          1758.1946928597697,
          5927.700638289539,
          1198.2470712008412,
          7031.517004879747
         ]
        },
        {
         "line": {
          "width": 2
         },
         "mode": "lines",
         "name": "Firm 26",
         "type": "scatter",
         "x": [
          2016,
          2017,
          2018,
          2019,
          2020
         ],
         "y": [
          17208.38618329814,
          13019.600407599937,
          3419.6925607842136,
          8013.277031728727,
          10352.2503876286
         ]
        },
        {
         "line": {
          "width": 2
         },
         "mode": "lines",
         "name": "Firm 30",
         "type": "scatter",
         "x": [
          2016,
          2017,
          2018,
          2019,
          2020
         ],
         "y": [
          2213.1087152491054,
          436.67399124195424,
          6803.615805230791,
          2301.2252087838165,
          3093.817453308451
         ]
        },
        {
         "line": {
          "width": 2
         },
         "mode": "lines",
         "name": "Firm 34",
         "type": "scatter",
         "x": [
          2016,
          2017,
          2018,
          2019,
          2020
         ],
         "y": [
          7875.720223472357,
          4506.760102213277,
          8107.790888154519,
          11427.64388227252,
          19274.956158991667
         ]
        },
        {
         "line": {
          "width": 2
         },
         "mode": "lines",
         "name": "Firm 38",
         "type": "scatter",
         "x": [
          2016,
          2017,
          2018,
          2019,
          2020
         ],
         "y": [
          7063.975512188138,
          6202.571939566987,
          4720.203774416391,
          0,
          0
         ]
        },
        {
         "line": {
          "width": 2
         },
         "mode": "lines",
         "name": "Firm 51",
         "type": "scatter",
         "x": [
          2016,
          2017,
          2018,
          2019,
          2020
         ],
         "y": [
          0,
          675.1412136410212,
          4289.494824471314,
          6855.903432804299,
          2524.6160780767045
         ]
        },
        {
         "line": {
          "width": 2
         },
         "mode": "lines",
         "name": "Firm 73",
         "type": "scatter",
         "x": [
          2016,
          2017,
          2018,
          2019,
          2020
         ],
         "y": [
          4615.597182523066,
          2419.7033474012733,
          10334.86146803298,
          23667.380816123034,
          6173.50553316142
         ]
        },
        {
         "line": {
          "width": 2
         },
         "mode": "lines",
         "name": "Firm 101",
         "type": "scatter",
         "x": [
          2016,
          2017,
          2018,
          2019,
          2020
         ],
         "y": [
          12011.61972033483,
          12883.16956527509,
          3854.215480799787,
          4418.4829521469555,
          0
         ]
        },
        {
         "line": {
          "width": 2
         },
         "mode": "lines",
         "name": "Firm 104",
         "type": "scatter",
         "x": [
          2016,
          2017,
          2018,
          2019,
          2020
         ],
         "y": [
          546.9768872753936,
          561.6734550820423,
          15841.841020392627,
          1852.2337645264097,
          5256.831640034237
         ]
        },
        {
         "line": {
          "width": 2
         },
         "mode": "lines",
         "name": "Firm 105",
         "type": "scatter",
         "x": [
          2016,
          2017,
          2018,
          2019,
          2020
         ],
         "y": [
          29995.224154702075,
          362.6870167073233,
          11934.118360710367,
          18504.741252277956,
          5857.037438484294
         ]
        },
        {
         "line": {
          "width": 2
         },
         "mode": "lines",
         "name": "Firm 107",
         "type": "scatter",
         "x": [
          2016,
          2017,
          2018,
          2019,
          2020
         ],
         "y": [
          3523.3276417231236,
          5981.029359013771,
          627.0283676595251,
          5989.985194690473,
          954.7736668168894
         ]
        },
        {
         "line": {
          "width": 2
         },
         "mode": "lines",
         "name": "Firm 120",
         "type": "scatter",
         "x": [
          2016,
          2017,
          2018,
          2019,
          2020
         ],
         "y": [
          1263.0853567825006,
          5740.063816262242,
          3032.3286694143003,
          4823.981169419413,
          131.68253618965335
         ]
        },
        {
         "line": {
          "width": 2
         },
         "mode": "lines",
         "name": "Firm 151",
         "type": "scatter",
         "x": [
          2016,
          2017,
          2018,
          2019,
          2020
         ],
         "y": [
          12222.424865568506,
          8634.614028967737,
          94.58336628095452,
          2494.6506445818713,
          15824.69245685633
         ]
        },
        {
         "line": {
          "width": 2
         },
         "mode": "lines",
         "name": "Firm 199",
         "type": "scatter",
         "x": [
          2016,
          2017,
          2018,
          2019,
          2020
         ],
         "y": [
          29.25544274771309,
          4428.237047861742,
          14072.905754807265,
          9572.917260772347,
          2305.4106267190155
         ]
        },
        {
         "line": {
          "width": 2
         },
         "mode": "lines",
         "name": "Firm 210",
         "type": "scatter",
         "x": [
          2016,
          2017,
          2018,
          2019,
          2020
         ],
         "y": [
          18971.28604737319,
          30581.956746948108,
          74078.63584908053,
          72456.77287862495,
          69697.92828567937
         ]
        },
        {
         "line": {
          "width": 2
         },
         "mode": "lines",
         "name": "Firm 234",
         "type": "scatter",
         "x": [
          2016,
          2017,
          2018,
          2019,
          2020
         ],
         "y": [
          5694.660400640636,
          2437.361320200491,
          1717.3480046661427,
          3665.817601377194,
          4051.5117565777014
         ]
        },
        {
         "line": {
          "width": 2
         },
         "mode": "lines",
         "name": "Firm 247",
         "type": "scatter",
         "x": [
          2016,
          2017,
          2018,
          2019,
          2020
         ],
         "y": [
          5681.610290033707,
          43569.20153787212,
          12047.809027625684,
          7300.862736460369,
          9115.194998903235
         ]
        },
        {
         "line": {
          "width": 2
         },
         "mode": "lines",
         "name": "Firm 276",
         "type": "scatter",
         "x": [
          2016,
          2017,
          2018,
          2019,
          2020
         ],
         "y": [
          0.015801122823591352,
          861.8095709456937,
          9830.576467652976,
          5385.561561137745,
          5587.206833546253
         ]
        },
        {
         "line": {
          "width": 2
         },
         "mode": "lines",
         "name": "Firm 301",
         "type": "scatter",
         "x": [
          2016,
          2017,
          2018,
          2019,
          2020
         ],
         "y": [
          2339.220517215635,
          4340.86983335948,
          907.3025567872826,
          1801.9665141476821,
          2471.3285358790426
         ]
        },
        {
         "line": {
          "width": 2
         },
         "mode": "lines",
         "name": "Firm 311",
         "type": "scatter",
         "x": [
          2016,
          2017,
          2018,
          2019,
          2020
         ],
         "y": [
          845.5234311947981,
          17291.29320126039,
          21432.675230756333,
          21730.53308796822,
          24251.48135795329
         ]
        },
        {
         "line": {
          "width": 2
         },
         "mode": "lines",
         "name": "Firm 317",
         "type": "scatter",
         "x": [
          2016,
          2017,
          2018,
          2019,
          2020
         ],
         "y": [
          2476.648068554825,
          2105.032391383422,
          2833.7659227675585,
          234.70432329564218,
          3716.1027063138918
         ]
        }
       ],
       "layout": {
        "height": 500,
        "template": {
         "data": {
          "bar": [
           {
            "error_x": {
             "color": "#2a3f5f"
            },
            "error_y": {
             "color": "#2a3f5f"
            },
            "marker": {
             "line": {
              "color": "#E5ECF6",
              "width": 0.5
             },
             "pattern": {
              "fillmode": "overlay",
              "size": 10,
              "solidity": 0.2
             }
            },
            "type": "bar"
           }
          ],
          "barpolar": [
           {
            "marker": {
             "line": {
              "color": "#E5ECF6",
              "width": 0.5
             },
             "pattern": {
              "fillmode": "overlay",
              "size": 10,
              "solidity": 0.2
             }
            },
            "type": "barpolar"
           }
          ],
          "carpet": [
           {
            "aaxis": {
             "endlinecolor": "#2a3f5f",
             "gridcolor": "white",
             "linecolor": "white",
             "minorgridcolor": "white",
             "startlinecolor": "#2a3f5f"
            },
            "baxis": {
             "endlinecolor": "#2a3f5f",
             "gridcolor": "white",
             "linecolor": "white",
             "minorgridcolor": "white",
             "startlinecolor": "#2a3f5f"
            },
            "type": "carpet"
           }
          ],
          "choropleth": [
           {
            "colorbar": {
             "outlinewidth": 0,
             "ticks": ""
            },
            "type": "choropleth"
           }
          ],
          "contour": [
           {
            "colorbar": {
             "outlinewidth": 0,
             "ticks": ""
            },
            "colorscale": [
             [
              0,
              "#0d0887"
             ],
             [
              0.1111111111111111,
              "#46039f"
             ],
             [
              0.2222222222222222,
              "#7201a8"
             ],
             [
              0.3333333333333333,
              "#9c179e"
             ],
             [
              0.4444444444444444,
              "#bd3786"
             ],
             [
              0.5555555555555556,
              "#d8576b"
             ],
             [
              0.6666666666666666,
              "#ed7953"
             ],
             [
              0.7777777777777778,
              "#fb9f3a"
             ],
             [
              0.8888888888888888,
              "#fdca26"
             ],
             [
              1,
              "#f0f921"
             ]
            ],
            "type": "contour"
           }
          ],
          "contourcarpet": [
           {
            "colorbar": {
             "outlinewidth": 0,
             "ticks": ""
            },
            "type": "contourcarpet"
           }
          ],
          "heatmap": [
           {
            "colorbar": {
             "outlinewidth": 0,
             "ticks": ""
            },
            "colorscale": [
             [
              0,
              "#0d0887"
             ],
             [
              0.1111111111111111,
              "#46039f"
             ],
             [
              0.2222222222222222,
              "#7201a8"
             ],
             [
              0.3333333333333333,
              "#9c179e"
             ],
             [
              0.4444444444444444,
              "#bd3786"
             ],
             [
              0.5555555555555556,
              "#d8576b"
             ],
             [
              0.6666666666666666,
              "#ed7953"
             ],
             [
              0.7777777777777778,
              "#fb9f3a"
             ],
             [
              0.8888888888888888,
              "#fdca26"
             ],
             [
              1,
              "#f0f921"
             ]
            ],
            "type": "heatmap"
           }
          ],
          "heatmapgl": [
           {
            "colorbar": {
             "outlinewidth": 0,
             "ticks": ""
            },
            "colorscale": [
             [
              0,
              "#0d0887"
             ],
             [
              0.1111111111111111,
              "#46039f"
             ],
             [
              0.2222222222222222,
              "#7201a8"
             ],
             [
              0.3333333333333333,
              "#9c179e"
             ],
             [
              0.4444444444444444,
              "#bd3786"
             ],
             [
              0.5555555555555556,
              "#d8576b"
             ],
             [
              0.6666666666666666,
              "#ed7953"
             ],
             [
              0.7777777777777778,
              "#fb9f3a"
             ],
             [
              0.8888888888888888,
              "#fdca26"
             ],
             [
              1,
              "#f0f921"
             ]
            ],
            "type": "heatmapgl"
           }
          ],
          "histogram": [
           {
            "marker": {
             "pattern": {
              "fillmode": "overlay",
              "size": 10,
              "solidity": 0.2
             }
            },
            "type": "histogram"
           }
          ],
          "histogram2d": [
           {
            "colorbar": {
             "outlinewidth": 0,
             "ticks": ""
            },
            "colorscale": [
             [
              0,
              "#0d0887"
             ],
             [
              0.1111111111111111,
              "#46039f"
             ],
             [
              0.2222222222222222,
              "#7201a8"
             ],
             [
              0.3333333333333333,
              "#9c179e"
             ],
             [
              0.4444444444444444,
              "#bd3786"
             ],
             [
              0.5555555555555556,
              "#d8576b"
             ],
             [
              0.6666666666666666,
              "#ed7953"
             ],
             [
              0.7777777777777778,
              "#fb9f3a"
             ],
             [
              0.8888888888888888,
              "#fdca26"
             ],
             [
              1,
              "#f0f921"
             ]
            ],
            "type": "histogram2d"
           }
          ],
          "histogram2dcontour": [
           {
            "colorbar": {
             "outlinewidth": 0,
             "ticks": ""
            },
            "colorscale": [
             [
              0,
              "#0d0887"
             ],
             [
              0.1111111111111111,
              "#46039f"
             ],
             [
              0.2222222222222222,
              "#7201a8"
             ],
             [
              0.3333333333333333,
              "#9c179e"
             ],
             [
              0.4444444444444444,
              "#bd3786"
             ],
             [
              0.5555555555555556,
              "#d8576b"
             ],
             [
              0.6666666666666666,
              "#ed7953"
             ],
             [
              0.7777777777777778,
              "#fb9f3a"
             ],
             [
              0.8888888888888888,
              "#fdca26"
             ],
             [
              1,
              "#f0f921"
             ]
            ],
            "type": "histogram2dcontour"
           }
          ],
          "mesh3d": [
           {
            "colorbar": {
             "outlinewidth": 0,
             "ticks": ""
            },
            "type": "mesh3d"
           }
          ],
          "parcoords": [
           {
            "line": {
             "colorbar": {
              "outlinewidth": 0,
              "ticks": ""
             }
            },
            "type": "parcoords"
           }
          ],
          "pie": [
           {
            "automargin": true,
            "type": "pie"
           }
          ],
          "scatter": [
           {
            "fillpattern": {
             "fillmode": "overlay",
             "size": 10,
             "solidity": 0.2
            },
            "type": "scatter"
           }
          ],
          "scatter3d": [
           {
            "line": {
             "colorbar": {
              "outlinewidth": 0,
              "ticks": ""
             }
            },
            "marker": {
             "colorbar": {
              "outlinewidth": 0,
              "ticks": ""
             }
            },
            "type": "scatter3d"
           }
          ],
          "scattercarpet": [
           {
            "marker": {
             "colorbar": {
              "outlinewidth": 0,
              "ticks": ""
             }
            },
            "type": "scattercarpet"
           }
          ],
          "scattergeo": [
           {
            "marker": {
             "colorbar": {
              "outlinewidth": 0,
              "ticks": ""
             }
            },
            "type": "scattergeo"
           }
          ],
          "scattergl": [
           {
            "marker": {
             "colorbar": {
              "outlinewidth": 0,
              "ticks": ""
             }
            },
            "type": "scattergl"
           }
          ],
          "scattermapbox": [
           {
            "marker": {
             "colorbar": {
              "outlinewidth": 0,
              "ticks": ""
             }
            },
            "type": "scattermapbox"
           }
          ],
          "scatterpolar": [
           {
            "marker": {
             "colorbar": {
              "outlinewidth": 0,
              "ticks": ""
             }
            },
            "type": "scatterpolar"
           }
          ],
          "scatterpolargl": [
           {
            "marker": {
             "colorbar": {
              "outlinewidth": 0,
              "ticks": ""
             }
            },
            "type": "scatterpolargl"
           }
          ],
          "scatterternary": [
           {
            "marker": {
             "colorbar": {
              "outlinewidth": 0,
              "ticks": ""
             }
            },
            "type": "scatterternary"
           }
          ],
          "surface": [
           {
            "colorbar": {
             "outlinewidth": 0,
             "ticks": ""
            },
            "colorscale": [
             [
              0,
              "#0d0887"
             ],
             [
              0.1111111111111111,
              "#46039f"
             ],
             [
              0.2222222222222222,
              "#7201a8"
             ],
             [
              0.3333333333333333,
              "#9c179e"
             ],
             [
              0.4444444444444444,
              "#bd3786"
             ],
             [
              0.5555555555555556,
              "#d8576b"
             ],
             [
              0.6666666666666666,
              "#ed7953"
             ],
             [
              0.7777777777777778,
              "#fb9f3a"
             ],
             [
              0.8888888888888888,
              "#fdca26"
             ],
             [
              1,
              "#f0f921"
             ]
            ],
            "type": "surface"
           }
          ],
          "table": [
           {
            "cells": {
             "fill": {
              "color": "#EBF0F8"
             },
             "line": {
              "color": "white"
             }
            },
            "header": {
             "fill": {
              "color": "#C8D4E3"
             },
             "line": {
              "color": "white"
             }
            },
            "type": "table"
           }
          ]
         },
         "layout": {
          "annotationdefaults": {
           "arrowcolor": "#2a3f5f",
           "arrowhead": 0,
           "arrowwidth": 1
          },
          "autotypenumbers": "strict",
          "coloraxis": {
           "colorbar": {
            "outlinewidth": 0,
            "ticks": ""
           }
          },
          "colorscale": {
           "diverging": [
            [
             0,
             "#8e0152"
            ],
            [
             0.1,
             "#c51b7d"
            ],
            [
             0.2,
             "#de77ae"
            ],
            [
             0.3,
             "#f1b6da"
            ],
            [
             0.4,
             "#fde0ef"
            ],
            [
             0.5,
             "#f7f7f7"
            ],
            [
             0.6,
             "#e6f5d0"
            ],
            [
             0.7,
             "#b8e186"
            ],
            [
             0.8,
             "#7fbc41"
            ],
            [
             0.9,
             "#4d9221"
            ],
            [
             1,
             "#276419"
            ]
           ],
           "sequential": [
            [
             0,
             "#0d0887"
            ],
            [
             0.1111111111111111,
             "#46039f"
            ],
            [
             0.2222222222222222,
             "#7201a8"
            ],
            [
             0.3333333333333333,
             "#9c179e"
            ],
            [
             0.4444444444444444,
             "#bd3786"
            ],
            [
             0.5555555555555556,
             "#d8576b"
            ],
            [
             0.6666666666666666,
             "#ed7953"
            ],
            [
             0.7777777777777778,
             "#fb9f3a"
            ],
            [
             0.8888888888888888,
             "#fdca26"
            ],
            [
             1,
             "#f0f921"
            ]
           ],
           "sequentialminus": [
            [
             0,
             "#0d0887"
            ],
            [
             0.1111111111111111,
             "#46039f"
            ],
            [
             0.2222222222222222,
             "#7201a8"
            ],
            [
             0.3333333333333333,
             "#9c179e"
            ],
            [
             0.4444444444444444,
             "#bd3786"
            ],
            [
             0.5555555555555556,
             "#d8576b"
            ],
            [
             0.6666666666666666,
             "#ed7953"
            ],
            [
             0.7777777777777778,
             "#fb9f3a"
            ],
            [
             0.8888888888888888,
             "#fdca26"
            ],
            [
             1,
             "#f0f921"
            ]
           ]
          },
          "colorway": [
           "#636efa",
           "#EF553B",
           "#00cc96",
           "#ab63fa",
           "#FFA15A",
           "#19d3f3",
           "#FF6692",
           "#B6E880",
           "#FF97FF",
           "#FECB52"
          ],
          "font": {
           "color": "#2a3f5f"
          },
          "geo": {
           "bgcolor": "white",
           "lakecolor": "white",
           "landcolor": "#E5ECF6",
           "showlakes": true,
           "showland": true,
           "subunitcolor": "white"
          },
          "hoverlabel": {
           "align": "left"
          },
          "hovermode": "closest",
          "mapbox": {
           "style": "light"
          },
          "paper_bgcolor": "white",
          "plot_bgcolor": "#E5ECF6",
          "polar": {
           "angularaxis": {
            "gridcolor": "white",
            "linecolor": "white",
            "ticks": ""
           },
           "bgcolor": "#E5ECF6",
           "radialaxis": {
            "gridcolor": "white",
            "linecolor": "white",
            "ticks": ""
           }
          },
          "scene": {
           "xaxis": {
            "backgroundcolor": "#E5ECF6",
            "gridcolor": "white",
            "gridwidth": 2,
            "linecolor": "white",
            "showbackground": true,
            "ticks": "",
            "zerolinecolor": "white"
           },
           "yaxis": {
            "backgroundcolor": "#E5ECF6",
            "gridcolor": "white",
            "gridwidth": 2,
            "linecolor": "white",
            "showbackground": true,
            "ticks": "",
            "zerolinecolor": "white"
           },
           "zaxis": {
            "backgroundcolor": "#E5ECF6",
            "gridcolor": "white",
            "gridwidth": 2,
            "linecolor": "white",
            "showbackground": true,
            "ticks": "",
            "zerolinecolor": "white"
           }
          },
          "shapedefaults": {
           "line": {
            "color": "#2a3f5f"
           }
          },
          "ternary": {
           "aaxis": {
            "gridcolor": "white",
            "linecolor": "white",
            "ticks": ""
           },
           "baxis": {
            "gridcolor": "white",
            "linecolor": "white",
            "ticks": ""
           },
           "bgcolor": "#E5ECF6",
           "caxis": {
            "gridcolor": "white",
            "linecolor": "white",
            "ticks": ""
           }
          },
          "title": {
           "x": 0.05
          },
          "xaxis": {
           "automargin": true,
           "gridcolor": "white",
           "linecolor": "white",
           "ticks": "",
           "title": {
            "standoff": 15
           },
           "zerolinecolor": "white",
           "zerolinewidth": 2
          },
          "yaxis": {
           "automargin": true,
           "gridcolor": "white",
           "linecolor": "white",
           "ticks": "",
           "title": {
            "standoff": 15
           },
           "zerolinecolor": "white",
           "zerolinewidth": 2
          }
         }
        },
        "title": {
         "text": "GWP (£m)"
        },
        "width": 1200,
        "xaxis": {
         "title": {
          "text": "Year"
         }
        },
        "yaxis": {
         "title": {
          "text": "GWP (£m)"
         }
        }
       }
      }
     },
     "metadata": {},
     "output_type": "display_data"
    }
   ],
   "source": [
    "gwp = largest_firms_16_20[['Firms_x','GWP (£m)']].droplevel(0, axis=1).T\n",
    "gwp.columns = gwp.iloc[0]\n",
    "gwp = gwp.drop('Firms_x')\n",
    "\n",
    "fig = go.Figure()\n",
    "\n",
    "for col in gwp.columns:\n",
    "    fig.add_trace(\n",
    "        go.Scatter(\n",
    "            x=[2016, 2017, 2018, 2019, 2020],\n",
    "            y=gwp[col],\n",
    "            name=col,\n",
    "            mode='lines',\n",
    "            line=dict(width=2)\n",
    "        )\n",
    "    )\n",
    "\n",
    "fig.update_layout(\n",
    "    title='GWP (£m)',\n",
    "    xaxis_title='Year',\n",
    "    # xaxis_range=[2016, 2020],\n",
    "    # yaxis_range=[0, 4],\n",
    "    yaxis_title='GWP (£m)',\n",
    "    width=1200,\n",
    "    height=500\n",
    ")\n",
    "\n",
    "fig.show()"
   ]
  },
  {
   "cell_type": "markdown",
   "metadata": {},
   "source": [
    "# Assessing financial stability"
   ]
  },
  {
   "cell_type": "markdown",
   "metadata": {},
   "source": [
    "## Composite rank analysis"
   ]
  },
  {
   "cell_type": "code",
   "execution_count": 20,
   "metadata": {},
   "outputs": [
    {
     "data": {
      "text/html": [
       "<div>\n",
       "<style scoped>\n",
       "    .dataframe tbody tr th:only-of-type {\n",
       "        vertical-align: middle;\n",
       "    }\n",
       "\n",
       "    .dataframe tbody tr th {\n",
       "        vertical-align: top;\n",
       "    }\n",
       "\n",
       "    .dataframe thead th {\n",
       "        text-align: right;\n",
       "    }\n",
       "</style>\n",
       "<table border=\"1\" class=\"dataframe\">\n",
       "  <thead>\n",
       "    <tr style=\"text-align: right;\">\n",
       "      <th></th>\n",
       "      <th>SCR coverage ratio</th>\n",
       "      <th>Net combined ratio</th>\n",
       "      <th>Gross claims incurred (£m)</th>\n",
       "      <th>Excess of assets over liabilities (£m) [= equity]</th>\n",
       "      <th>NWP/GWP</th>\n",
       "      <th>debt-equity-ratio</th>\n",
       "      <th>composite_score</th>\n",
       "    </tr>\n",
       "  </thead>\n",
       "  <tbody>\n",
       "    <tr>\n",
       "      <th>Firm 51</th>\n",
       "      <td>0.018158</td>\n",
       "      <td>0.000000</td>\n",
       "      <td>0.990807</td>\n",
       "      <td>0.000000</td>\n",
       "      <td>0.294252</td>\n",
       "      <td>0.072412</td>\n",
       "      <td>0.144826</td>\n",
       "    </tr>\n",
       "    <tr>\n",
       "      <th>Firm 17</th>\n",
       "      <td>0.000000</td>\n",
       "      <td>0.505285</td>\n",
       "      <td>0.456455</td>\n",
       "      <td>0.006263</td>\n",
       "      <td>0.219615</td>\n",
       "      <td>0.973066</td>\n",
       "      <td>0.216068</td>\n",
       "    </tr>\n",
       "    <tr>\n",
       "      <th>Firm 38</th>\n",
       "      <td>0.032992</td>\n",
       "      <td>0.388403</td>\n",
       "      <td>0.879854</td>\n",
       "      <td>0.099861</td>\n",
       "      <td>0.095277</td>\n",
       "      <td>0.999912</td>\n",
       "      <td>0.262827</td>\n",
       "    </tr>\n",
       "    <tr>\n",
       "      <th>Firm 210</th>\n",
       "      <td>0.092762</td>\n",
       "      <td>0.541952</td>\n",
       "      <td>0.835101</td>\n",
       "      <td>0.027133</td>\n",
       "      <td>0.125028</td>\n",
       "      <td>0.715030</td>\n",
       "      <td>0.270805</td>\n",
       "    </tr>\n",
       "    <tr>\n",
       "      <th>Firm 10</th>\n",
       "      <td>0.036851</td>\n",
       "      <td>0.503175</td>\n",
       "      <td>0.951878</td>\n",
       "      <td>0.350604</td>\n",
       "      <td>0.043322</td>\n",
       "      <td>0.985546</td>\n",
       "      <td>0.301878</td>\n",
       "    </tr>\n",
       "    <tr>\n",
       "      <th>Firm 301</th>\n",
       "      <td>0.032247</td>\n",
       "      <td>0.760366</td>\n",
       "      <td>0.990953</td>\n",
       "      <td>0.066901</td>\n",
       "      <td>0.051786</td>\n",
       "      <td>0.996488</td>\n",
       "      <td>0.302773</td>\n",
       "    </tr>\n",
       "    <tr>\n",
       "      <th>Firm 311</th>\n",
       "      <td>0.046134</td>\n",
       "      <td>0.515018</td>\n",
       "      <td>0.988145</td>\n",
       "      <td>0.300263</td>\n",
       "      <td>0.025871</td>\n",
       "      <td>0.974143</td>\n",
       "      <td>0.303411</td>\n",
       "    </tr>\n",
       "    <tr>\n",
       "      <th>Firm 234</th>\n",
       "      <td>0.133604</td>\n",
       "      <td>0.698559</td>\n",
       "      <td>0.340815</td>\n",
       "      <td>0.091562</td>\n",
       "      <td>0.261131</td>\n",
       "      <td>0.997318</td>\n",
       "      <td>0.305740</td>\n",
       "    </tr>\n",
       "    <tr>\n",
       "      <th>Firm 107</th>\n",
       "      <td>0.052564</td>\n",
       "      <td>0.548809</td>\n",
       "      <td>0.970956</td>\n",
       "      <td>0.124765</td>\n",
       "      <td>0.157861</td>\n",
       "      <td>1.000000</td>\n",
       "      <td>0.306521</td>\n",
       "    </tr>\n",
       "    <tr>\n",
       "      <th>Firm 120</th>\n",
       "      <td>0.006819</td>\n",
       "      <td>0.760366</td>\n",
       "      <td>0.990948</td>\n",
       "      <td>0.067632</td>\n",
       "      <td>0.324593</td>\n",
       "      <td>0.977039</td>\n",
       "      <td>0.315467</td>\n",
       "    </tr>\n",
       "    <tr>\n",
       "      <th>Firm 25</th>\n",
       "      <td>0.263608</td>\n",
       "      <td>0.594933</td>\n",
       "      <td>0.627337</td>\n",
       "      <td>0.000319</td>\n",
       "      <td>0.614707</td>\n",
       "      <td>0.000000</td>\n",
       "      <td>0.315534</td>\n",
       "    </tr>\n",
       "    <tr>\n",
       "      <th>Firm 276</th>\n",
       "      <td>0.056621</td>\n",
       "      <td>0.760366</td>\n",
       "      <td>0.990953</td>\n",
       "      <td>0.013558</td>\n",
       "      <td>0.187039</td>\n",
       "      <td>0.933614</td>\n",
       "      <td>0.316864</td>\n",
       "    </tr>\n",
       "    <tr>\n",
       "      <th>Firm 6</th>\n",
       "      <td>0.060554</td>\n",
       "      <td>0.543783</td>\n",
       "      <td>0.887400</td>\n",
       "      <td>0.239907</td>\n",
       "      <td>0.221369</td>\n",
       "      <td>0.996323</td>\n",
       "      <td>0.319155</td>\n",
       "    </tr>\n",
       "    <tr>\n",
       "      <th>Firm 105</th>\n",
       "      <td>0.111716</td>\n",
       "      <td>0.263133</td>\n",
       "      <td>0.000000</td>\n",
       "      <td>1.000000</td>\n",
       "      <td>0.473841</td>\n",
       "      <td>0.995381</td>\n",
       "      <td>0.329094</td>\n",
       "    </tr>\n",
       "    <tr>\n",
       "      <th>Firm 317</th>\n",
       "      <td>0.056362</td>\n",
       "      <td>0.442065</td>\n",
       "      <td>0.945804</td>\n",
       "      <td>0.005667</td>\n",
       "      <td>0.690939</td>\n",
       "      <td>0.936106</td>\n",
       "      <td>0.330239</td>\n",
       "    </tr>\n",
       "    <tr>\n",
       "      <th>Firm 101</th>\n",
       "      <td>0.032307</td>\n",
       "      <td>0.760366</td>\n",
       "      <td>0.990953</td>\n",
       "      <td>0.371846</td>\n",
       "      <td>0.060199</td>\n",
       "      <td>0.989892</td>\n",
       "      <td>0.333479</td>\n",
       "    </tr>\n",
       "    <tr>\n",
       "      <th>Firm 199</th>\n",
       "      <td>0.090172</td>\n",
       "      <td>0.546529</td>\n",
       "      <td>0.915285</td>\n",
       "      <td>0.087716</td>\n",
       "      <td>0.469860</td>\n",
       "      <td>0.974643</td>\n",
       "      <td>0.344490</td>\n",
       "    </tr>\n",
       "    <tr>\n",
       "      <th>Firm 73</th>\n",
       "      <td>0.172535</td>\n",
       "      <td>0.442480</td>\n",
       "      <td>0.974409</td>\n",
       "      <td>0.198005</td>\n",
       "      <td>0.127371</td>\n",
       "      <td>0.992180</td>\n",
       "      <td>0.359712</td>\n",
       "    </tr>\n",
       "    <tr>\n",
       "      <th>Firm 7</th>\n",
       "      <td>0.048620</td>\n",
       "      <td>0.760366</td>\n",
       "      <td>0.990953</td>\n",
       "      <td>0.492383</td>\n",
       "      <td>0.168564</td>\n",
       "      <td>0.996921</td>\n",
       "      <td>0.365228</td>\n",
       "    </tr>\n",
       "    <tr>\n",
       "      <th>Firm 34</th>\n",
       "      <td>0.199341</td>\n",
       "      <td>0.146754</td>\n",
       "      <td>0.987723</td>\n",
       "      <td>0.595416</td>\n",
       "      <td>0.000000</td>\n",
       "      <td>0.992664</td>\n",
       "      <td>0.371926</td>\n",
       "    </tr>\n",
       "    <tr>\n",
       "      <th>Firm 151</th>\n",
       "      <td>0.095340</td>\n",
       "      <td>1.000000</td>\n",
       "      <td>1.000000</td>\n",
       "      <td>0.112812</td>\n",
       "      <td>0.255040</td>\n",
       "      <td>0.976079</td>\n",
       "      <td>0.382063</td>\n",
       "    </tr>\n",
       "    <tr>\n",
       "      <th>Firm 4</th>\n",
       "      <td>0.095010</td>\n",
       "      <td>0.455236</td>\n",
       "      <td>0.975532</td>\n",
       "      <td>0.786355</td>\n",
       "      <td>0.132928</td>\n",
       "      <td>0.998812</td>\n",
       "      <td>0.382391</td>\n",
       "    </tr>\n",
       "    <tr>\n",
       "      <th>Firm 26</th>\n",
       "      <td>0.107627</td>\n",
       "      <td>0.478783</td>\n",
       "      <td>0.869225</td>\n",
       "      <td>0.283852</td>\n",
       "      <td>1.000000</td>\n",
       "      <td>0.994995</td>\n",
       "      <td>0.416499</td>\n",
       "    </tr>\n",
       "    <tr>\n",
       "      <th>Firm 30</th>\n",
       "      <td>0.120695</td>\n",
       "      <td>0.760366</td>\n",
       "      <td>0.988631</td>\n",
       "      <td>0.229926</td>\n",
       "      <td>0.685451</td>\n",
       "      <td>0.993949</td>\n",
       "      <td>0.426180</td>\n",
       "    </tr>\n",
       "    <tr>\n",
       "      <th>Firm 247</th>\n",
       "      <td>0.820750</td>\n",
       "      <td>0.664681</td>\n",
       "      <td>0.989938</td>\n",
       "      <td>0.004220</td>\n",
       "      <td>0.046013</td>\n",
       "      <td>0.407368</td>\n",
       "      <td>0.621597</td>\n",
       "    </tr>\n",
       "    <tr>\n",
       "      <th>Firm 104</th>\n",
       "      <td>1.000000</td>\n",
       "      <td>0.717075</td>\n",
       "      <td>0.971390</td>\n",
       "      <td>0.001216</td>\n",
       "      <td>0.388775</td>\n",
       "      <td>0.800541</td>\n",
       "      <td>0.787900</td>\n",
       "    </tr>\n",
       "  </tbody>\n",
       "</table>\n",
       "</div>"
      ],
      "text/plain": [
       "          SCR coverage ratio  Net combined ratio  Gross claims incurred (£m)  \\\n",
       "Firm 51             0.018158            0.000000                    0.990807   \n",
       "Firm 17             0.000000            0.505285                    0.456455   \n",
       "Firm 38             0.032992            0.388403                    0.879854   \n",
       "Firm 210            0.092762            0.541952                    0.835101   \n",
       "Firm 10             0.036851            0.503175                    0.951878   \n",
       "Firm 301            0.032247            0.760366                    0.990953   \n",
       "Firm 311            0.046134            0.515018                    0.988145   \n",
       "Firm 234            0.133604            0.698559                    0.340815   \n",
       "Firm 107            0.052564            0.548809                    0.970956   \n",
       "Firm 120            0.006819            0.760366                    0.990948   \n",
       "Firm 25             0.263608            0.594933                    0.627337   \n",
       "Firm 276            0.056621            0.760366                    0.990953   \n",
       "Firm 6              0.060554            0.543783                    0.887400   \n",
       "Firm 105            0.111716            0.263133                    0.000000   \n",
       "Firm 317            0.056362            0.442065                    0.945804   \n",
       "Firm 101            0.032307            0.760366                    0.990953   \n",
       "Firm 199            0.090172            0.546529                    0.915285   \n",
       "Firm 73             0.172535            0.442480                    0.974409   \n",
       "Firm 7              0.048620            0.760366                    0.990953   \n",
       "Firm 34             0.199341            0.146754                    0.987723   \n",
       "Firm 151            0.095340            1.000000                    1.000000   \n",
       "Firm 4              0.095010            0.455236                    0.975532   \n",
       "Firm 26             0.107627            0.478783                    0.869225   \n",
       "Firm 30             0.120695            0.760366                    0.988631   \n",
       "Firm 247            0.820750            0.664681                    0.989938   \n",
       "Firm 104            1.000000            0.717075                    0.971390   \n",
       "\n",
       "          Excess of assets over liabilities (£m) [= equity]   NWP/GWP  \\\n",
       "Firm 51                                            0.000000  0.294252   \n",
       "Firm 17                                            0.006263  0.219615   \n",
       "Firm 38                                            0.099861  0.095277   \n",
       "Firm 210                                           0.027133  0.125028   \n",
       "Firm 10                                            0.350604  0.043322   \n",
       "Firm 301                                           0.066901  0.051786   \n",
       "Firm 311                                           0.300263  0.025871   \n",
       "Firm 234                                           0.091562  0.261131   \n",
       "Firm 107                                           0.124765  0.157861   \n",
       "Firm 120                                           0.067632  0.324593   \n",
       "Firm 25                                            0.000319  0.614707   \n",
       "Firm 276                                           0.013558  0.187039   \n",
       "Firm 6                                             0.239907  0.221369   \n",
       "Firm 105                                           1.000000  0.473841   \n",
       "Firm 317                                           0.005667  0.690939   \n",
       "Firm 101                                           0.371846  0.060199   \n",
       "Firm 199                                           0.087716  0.469860   \n",
       "Firm 73                                            0.198005  0.127371   \n",
       "Firm 7                                             0.492383  0.168564   \n",
       "Firm 34                                            0.595416  0.000000   \n",
       "Firm 151                                           0.112812  0.255040   \n",
       "Firm 4                                             0.786355  0.132928   \n",
       "Firm 26                                            0.283852  1.000000   \n",
       "Firm 30                                            0.229926  0.685451   \n",
       "Firm 247                                           0.004220  0.046013   \n",
       "Firm 104                                           0.001216  0.388775   \n",
       "\n",
       "          debt-equity-ratio  composite_score  \n",
       "Firm 51            0.072412         0.144826  \n",
       "Firm 17            0.973066         0.216068  \n",
       "Firm 38            0.999912         0.262827  \n",
       "Firm 210           0.715030         0.270805  \n",
       "Firm 10            0.985546         0.301878  \n",
       "Firm 301           0.996488         0.302773  \n",
       "Firm 311           0.974143         0.303411  \n",
       "Firm 234           0.997318         0.305740  \n",
       "Firm 107           1.000000         0.306521  \n",
       "Firm 120           0.977039         0.315467  \n",
       "Firm 25            0.000000         0.315534  \n",
       "Firm 276           0.933614         0.316864  \n",
       "Firm 6             0.996323         0.319155  \n",
       "Firm 105           0.995381         0.329094  \n",
       "Firm 317           0.936106         0.330239  \n",
       "Firm 101           0.989892         0.333479  \n",
       "Firm 199           0.974643         0.344490  \n",
       "Firm 73            0.992180         0.359712  \n",
       "Firm 7             0.996921         0.365228  \n",
       "Firm 34            0.992664         0.371926  \n",
       "Firm 151           0.976079         0.382063  \n",
       "Firm 4             0.998812         0.382391  \n",
       "Firm 26            0.994995         0.416499  \n",
       "Firm 30            0.993949         0.426180  \n",
       "Firm 247           0.407368         0.621597  \n",
       "Firm 104           0.800541         0.787900  "
      ]
     },
     "execution_count": 20,
     "metadata": {},
     "output_type": "execute_result"
    }
   ],
   "source": [
    "cols = [\n",
    "    'SCR coverage ratio',\n",
    "    'NWP (£m) ',\n",
    "    'GWP (£m)',\n",
    "    'Net combined ratio',\n",
    "    'Gross claims incurred (£m)',\n",
    "    'Excess of assets over liabilities (£m) [= equity]',\n",
    "    'Total liabilities (£m)',\n",
    "]\n",
    "\n",
    "scaler = MinMaxScaler()\n",
    "data = {}\n",
    "for col in cols:\n",
    "    data[col] = largest_firms_16_20[col].mean(axis=1).values\n",
    "\n",
    "largest_firms_20 = pd.DataFrame(data=data, index=largest_firms_16_20['Firms_x']['Firms_x'].values)\n",
    "largest_firms_20 = largest_firms_20.fillna(0) # REPLACE WITH 2016-2019 MEAN!!!!\n",
    "largest_firms_20['NWP/GWP'] = largest_firms_20['NWP (£m) '] / largest_firms_20['GWP (£m)']\n",
    "largest_firms_20['debt-equity-ratio'] = largest_firms_20['Total liabilities (£m)'] / largest_firms_20['Excess of assets over liabilities (£m) [= equity]']\n",
    "largest_firms_20 = largest_firms_20.drop(['NWP (£m) ', 'GWP (£m)', 'Total liabilities (£m)'], axis=1)\n",
    "\n",
    "# min max scaling\n",
    "data_norm = {}\n",
    "for col in largest_firms_20.columns:\n",
    "    # where high values are good\n",
    "    if col in ['SCR coverage ratio', 'Excess of assets over liabilities (£m) [= equity]', 'NWP/GWP']:\n",
    "        data_norm[col] = largest_firms_20[col].apply(lambda x: (x - largest_firms_20[col].min()) / (largest_firms_20[col].max() - largest_firms_20[col].min())).values\n",
    "\n",
    "    # where low values are good\n",
    "    elif col in ['Net combined ratio', 'Gross claims incurred (£m)', 'debt-equity-ratio']:\n",
    "        data_norm[col] = largest_firms_20[col].apply(lambda x: (largest_firms_20[col].max() - x) / (largest_firms_20[col].max() - largest_firms_20[col].min())).values\n",
    "\n",
    "largest_firms_20_norm = pd.DataFrame(data=data_norm, index=largest_firms_20.index)\n",
    "largest_firms_20_norm['composite_score'] = (\n",
    "    (largest_firms_20_norm['SCR coverage ratio'] * 0.5) + \n",
    "    (largest_firms_20_norm['Net combined ratio'] * 0.1) +\n",
    "    (largest_firms_20_norm['Gross claims incurred (£m)'] * 0.1) +\n",
    "    (largest_firms_20_norm['Excess of assets over liabilities (£m) [= equity]'] * 0.1) +\n",
    "    (largest_firms_20_norm['NWP/GWP'] * 0.1) +\n",
    "    (largest_firms_20_norm['debt-equity-ratio'] * 0.1)\n",
    ")\n",
    "largest_firms_20_norm = largest_firms_20_norm.sort_values('composite_score', ascending=True)\n",
    "largest_firms_20_norm"
   ]
  },
  {
   "cell_type": "markdown",
   "metadata": {},
   "source": [
    "get lowest five ranked firms"
   ]
  },
  {
   "cell_type": "code",
   "execution_count": 21,
   "metadata": {},
   "outputs": [
    {
     "data": {
      "text/plain": [
       "['Firm 51', 'Firm 17', 'Firm 38', 'Firm 210', 'Firm 10']"
      ]
     },
     "execution_count": 21,
     "metadata": {},
     "output_type": "execute_result"
    }
   ],
   "source": [
    "worst_five = list(largest_firms_20_norm.index[:5])\n",
    "worst_five"
   ]
  },
  {
   "cell_type": "markdown",
   "metadata": {},
   "source": [
    "add composite score value back to original data"
   ]
  },
  {
   "cell_type": "code",
   "execution_count": 22,
   "metadata": {},
   "outputs": [
    {
     "data": {
      "text/html": [
       "<div>\n",
       "<style scoped>\n",
       "    .dataframe tbody tr th:only-of-type {\n",
       "        vertical-align: middle;\n",
       "    }\n",
       "\n",
       "    .dataframe tbody tr th {\n",
       "        vertical-align: top;\n",
       "    }\n",
       "\n",
       "    .dataframe thead th {\n",
       "        text-align: right;\n",
       "    }\n",
       "</style>\n",
       "<table border=\"1\" class=\"dataframe\">\n",
       "  <thead>\n",
       "    <tr style=\"text-align: right;\">\n",
       "      <th></th>\n",
       "      <th>SCR coverage ratio</th>\n",
       "      <th>Net combined ratio</th>\n",
       "      <th>Gross claims incurred (£m)</th>\n",
       "      <th>Excess of assets over liabilities (£m) [= equity]</th>\n",
       "      <th>NWP/GWP</th>\n",
       "      <th>debt-equity-ratio</th>\n",
       "      <th>composite_score</th>\n",
       "    </tr>\n",
       "  </thead>\n",
       "  <tbody>\n",
       "    <tr>\n",
       "      <th>Firm 51</th>\n",
       "      <td>0.973635</td>\n",
       "      <td>2.377042</td>\n",
       "      <td>0.412983</td>\n",
       "      <td>9.936573</td>\n",
       "      <td>0.953950</td>\n",
       "      <td>1387.795002</td>\n",
       "      <td>0.144826</td>\n",
       "    </tr>\n",
       "    <tr>\n",
       "      <th>Firm 17</th>\n",
       "      <td>0.833952</td>\n",
       "      <td>0.797427</td>\n",
       "      <td>1519.991917</td>\n",
       "      <td>139.974490</td>\n",
       "      <td>0.827021</td>\n",
       "      <td>42.525131</td>\n",
       "      <td>0.216068</td>\n",
       "    </tr>\n",
       "    <tr>\n",
       "      <th>Firm 38</th>\n",
       "      <td>1.087744</td>\n",
       "      <td>1.162823</td>\n",
       "      <td>315.939660</td>\n",
       "      <td>2083.197348</td>\n",
       "      <td>0.615567</td>\n",
       "      <td>2.425468</td>\n",
       "      <td>0.262827</td>\n",
       "    </tr>\n",
       "    <tr>\n",
       "      <th>Firm 210</th>\n",
       "      <td>1.547534</td>\n",
       "      <td>0.682800</td>\n",
       "      <td>443.206819</td>\n",
       "      <td>573.266443</td>\n",
       "      <td>0.666163</td>\n",
       "      <td>427.943241</td>\n",
       "      <td>0.270805</td>\n",
       "    </tr>\n",
       "    <tr>\n",
       "      <th>Firm 10</th>\n",
       "      <td>1.117433</td>\n",
       "      <td>0.804023</td>\n",
       "      <td>111.119240</td>\n",
       "      <td>7289.002534</td>\n",
       "      <td>0.527211</td>\n",
       "      <td>23.883245</td>\n",
       "      <td>0.301878</td>\n",
       "    </tr>\n",
       "  </tbody>\n",
       "</table>\n",
       "</div>"
      ],
      "text/plain": [
       "          SCR coverage ratio  Net combined ratio  Gross claims incurred (£m)  \\\n",
       "Firm 51             0.973635            2.377042                    0.412983   \n",
       "Firm 17             0.833952            0.797427                 1519.991917   \n",
       "Firm 38             1.087744            1.162823                  315.939660   \n",
       "Firm 210            1.547534            0.682800                  443.206819   \n",
       "Firm 10             1.117433            0.804023                  111.119240   \n",
       "\n",
       "          Excess of assets over liabilities (£m) [= equity]   NWP/GWP  \\\n",
       "Firm 51                                            9.936573  0.953950   \n",
       "Firm 17                                          139.974490  0.827021   \n",
       "Firm 38                                         2083.197348  0.615567   \n",
       "Firm 210                                         573.266443  0.666163   \n",
       "Firm 10                                         7289.002534  0.527211   \n",
       "\n",
       "          debt-equity-ratio  composite_score  \n",
       "Firm 51         1387.795002         0.144826  \n",
       "Firm 17           42.525131         0.216068  \n",
       "Firm 38            2.425468         0.262827  \n",
       "Firm 210         427.943241         0.270805  \n",
       "Firm 10           23.883245         0.301878  "
      ]
     },
     "execution_count": 22,
     "metadata": {},
     "output_type": "execute_result"
    }
   ],
   "source": [
    "largest_firms_20 = pd.merge(left=largest_firms_20, right=largest_firms_20_norm[['composite_score']], how='left', left_on=largest_firms_20.index, right_on=largest_firms_20_norm.index)\n",
    "largest_firms_20 = largest_firms_20.rename(columns={'key_0': 'Firms'})\n",
    "largest_firms_20 = largest_firms_20.sort_values('composite_score', ascending=True)\n",
    "largest_firms_20 = largest_firms_20.set_index('Firms')\n",
    "largest_firms_20 = largest_firms_20.rename_axis(None)\n",
    "largest_firms_20.head()"
   ]
  },
  {
   "cell_type": "markdown",
   "metadata": {},
   "source": [
    "## Plan is to take the top five/ten of these metrics and add them to charts to show where the end up!\n",
    "\n",
    "What are we looking for in our analysis:\n",
    "- Solvency position\n",
    "  - SCR ratio coverage vs owners equity - this will highlight firms how well a firm can weather losses?\n",
    "  - Owner's Equity vs. Gross Claims Incurred\n",
    "  - Solvency Capital Ratio Coverage Ratio vs. Debt-Equity Ratio\n",
    "- Risk exposure\n",
    "  - Gross Claims incurred vs Net combined ratio - shows how higher claims might have impacted profits, if the number of claims is high and the profit is low or negative this would indicate poor underwriting standards.\n",
    "- going through existing insolvency?\n",
    "  - see if any firms have very low or no assets in 2020\n",
    "- volatility in claims as well as net combined ratio (profit), just do a visual analysis."
   ]
  },
  {
   "cell_type": "code",
   "execution_count": 23,
   "metadata": {},
   "outputs": [
    {
     "data": {
      "text/plain": [
       "Index(['SCR coverage ratio', 'Net combined ratio',\n",
       "       'Gross claims incurred (£m)',\n",
       "       'Excess of assets over liabilities (£m) [= equity]', 'NWP/GWP',\n",
       "       'debt-equity-ratio', 'composite_score'],\n",
       "      dtype='object')"
      ]
     },
     "execution_count": 23,
     "metadata": {},
     "output_type": "execute_result"
    }
   ],
   "source": [
    "largest_firms_20_norm.columns"
   ]
  },
  {
   "cell_type": "markdown",
   "metadata": {},
   "source": [
    "### Solvency position"
   ]
  },
  {
   "cell_type": "markdown",
   "metadata": {},
   "source": [
    "#### SCR ratio coverage vs owners equity\n",
    "The worst identified firms have low SCR coverage ratio as well as owners equity"
   ]
  },
  {
   "cell_type": "code",
   "execution_count": 25,
   "metadata": {},
   "outputs": [
    {
     "data": {
      "application/vnd.plotly.v1+json": {
       "config": {
        "plotlyServerURL": "https://plot.ly"
       },
       "data": [
        {
         "hovertext": [
          "Firm 51",
          "Firm 17",
          "Firm 38",
          "Firm 210",
          "Firm 10",
          "Firm 301",
          "Firm 311",
          "Firm 234",
          "Firm 107",
          "Firm 120",
          "Firm 25",
          "Firm 276",
          "Firm 6",
          "Firm 105",
          "Firm 317",
          "Firm 101",
          "Firm 199",
          "Firm 73",
          "Firm 7",
          "Firm 34",
          "Firm 151",
          "Firm 4",
          "Firm 26",
          "Firm 30",
          "Firm 247",
          "Firm 104"
         ],
         "marker": {
          "color": [
           0.14482617625126148,
           0.2160684862089275,
           0.26282654688209756,
           0.2708052833693006,
           0.3018781482746264,
           0.3027729309566417,
           0.30341088861871046,
           0.30574027615880295,
           0.3065210341816317,
           0.31546713792223247,
           0.31553382216278103,
           0.31686362008048113,
           0.3191553289095668,
           0.3290937821533065,
           0.3302389049651142,
           0.33347917774965186,
           0.34448953274764277,
           0.35971196309645476,
           0.36522831748186163,
           0.3719261946805625,
           0.3820631347208885,
           0.38239111415419286,
           0.416498923368986,
           0.4261796597000662,
           0.6215971626313281,
           0.787899678644508
          ],
          "colorscale": [
           [
            0,
            "rgb(103,0,31)"
           ],
           [
            0.1,
            "rgb(178,24,43)"
           ],
           [
            0.2,
            "rgb(214,96,77)"
           ],
           [
            0.3,
            "rgb(244,165,130)"
           ],
           [
            0.4,
            "rgb(253,219,199)"
           ],
           [
            0.5,
            "rgb(247,247,247)"
           ],
           [
            0.6,
            "rgb(209,229,240)"
           ],
           [
            0.7,
            "rgb(146,197,222)"
           ],
           [
            0.8,
            "rgb(67,147,195)"
           ],
           [
            0.9,
            "rgb(33,102,172)"
           ],
           [
            1,
            "rgb(5,48,97)"
           ]
          ],
          "showscale": true,
          "size": 16
         },
         "mode": "markers",
         "showlegend": false,
         "type": "scatter",
         "x": [
          0.9736351245996632,
          0.8339516146533299,
          1.0877442933652486,
          1.5475335225593254,
          1.1174334717563223,
          1.0820163986114981,
          1.188843670443597,
          1.8617160497124268,
          1.2383063096013067,
          0.8864069761599099,
          2.8617960993017513,
          1.269519092943175,
          1.2997744068226136,
          1.6933454113676931,
          1.2675223732582654,
          1.0824813485533276,
          1.5276150878126113,
          2.161199156874159,
          1.2079641791401787,
          2.3674111045336783,
          1.5673678676388545,
          1.5648258880997914,
          1.6618845325629756,
          1.7624111520885868,
          7.147685710829853,
          8.52658921816612
         ],
         "y": [
          9.936573362601953,
          139.97448954095202,
          2083.197348264533,
          573.2664433133452,
          7289.002534230091,
          1398.911593457146,
          6243.842523021006,
          1910.8939082575027,
          2600.239697475102,
          1414.0737207300313,
          16.566851563282164,
          291.42973632908445,
          4990.7623624326325,
          20771.45450490621,
          127.59157409559648,
          7730.0177066785645,
          1831.0573768020454,
          4120.829542581321,
          10232.547756475657,
          12371.677830314376,
          2352.086073256542,
          16335.857691782532,
          5903.135198886671,
          4783.557310036633,
          97.54712729150562,
          35.184320810297315
         ]
        },
        {
         "hovertext": [
          "Firm 51",
          "Firm 17",
          "Firm 38",
          "Firm 210",
          "Firm 10",
          "Firm 301",
          "Firm 311",
          "Firm 234",
          "Firm 107",
          "Firm 120",
          "Firm 25",
          "Firm 276",
          "Firm 6",
          "Firm 105",
          "Firm 317",
          "Firm 101",
          "Firm 199",
          "Firm 73",
          "Firm 7",
          "Firm 34",
          "Firm 151",
          "Firm 4",
          "Firm 26",
          "Firm 30",
          "Firm 247",
          "Firm 104"
         ],
         "marker": {
          "color": "yellow",
          "opacity": 0.8,
          "size": 8,
          "symbol": "star"
         },
         "mode": "markers",
         "showlegend": false,
         "type": "scatter",
         "x": [
          0.9736351245996632,
          0.8339516146533299,
          1.0877442933652486,
          1.5475335225593254,
          1.1174334717563223
         ],
         "y": [
          9.936573362601953,
          139.97448954095202,
          2083.197348264533,
          573.2664433133452,
          7289.002534230091
         ]
        }
       ],
       "layout": {
        "font": {
         "size": 16
        },
        "height": 500,
        "template": {
         "data": {
          "bar": [
           {
            "error_x": {
             "color": "#2a3f5f"
            },
            "error_y": {
             "color": "#2a3f5f"
            },
            "marker": {
             "line": {
              "color": "white",
              "width": 0.5
             },
             "pattern": {
              "fillmode": "overlay",
              "size": 10,
              "solidity": 0.2
             }
            },
            "type": "bar"
           }
          ],
          "barpolar": [
           {
            "marker": {
             "line": {
              "color": "white",
              "width": 0.5
             },
             "pattern": {
              "fillmode": "overlay",
              "size": 10,
              "solidity": 0.2
             }
            },
            "type": "barpolar"
           }
          ],
          "carpet": [
           {
            "aaxis": {
             "endlinecolor": "#2a3f5f",
             "gridcolor": "#C8D4E3",
             "linecolor": "#C8D4E3",
             "minorgridcolor": "#C8D4E3",
             "startlinecolor": "#2a3f5f"
            },
            "baxis": {
             "endlinecolor": "#2a3f5f",
             "gridcolor": "#C8D4E3",
             "linecolor": "#C8D4E3",
             "minorgridcolor": "#C8D4E3",
             "startlinecolor": "#2a3f5f"
            },
            "type": "carpet"
           }
          ],
          "choropleth": [
           {
            "colorbar": {
             "outlinewidth": 0,
             "ticks": ""
            },
            "type": "choropleth"
           }
          ],
          "contour": [
           {
            "colorbar": {
             "outlinewidth": 0,
             "ticks": ""
            },
            "colorscale": [
             [
              0,
              "#0d0887"
             ],
             [
              0.1111111111111111,
              "#46039f"
             ],
             [
              0.2222222222222222,
              "#7201a8"
             ],
             [
              0.3333333333333333,
              "#9c179e"
             ],
             [
              0.4444444444444444,
              "#bd3786"
             ],
             [
              0.5555555555555556,
              "#d8576b"
             ],
             [
              0.6666666666666666,
              "#ed7953"
             ],
             [
              0.7777777777777778,
              "#fb9f3a"
             ],
             [
              0.8888888888888888,
              "#fdca26"
             ],
             [
              1,
              "#f0f921"
             ]
            ],
            "type": "contour"
           }
          ],
          "contourcarpet": [
           {
            "colorbar": {
             "outlinewidth": 0,
             "ticks": ""
            },
            "type": "contourcarpet"
           }
          ],
          "heatmap": [
           {
            "colorbar": {
             "outlinewidth": 0,
             "ticks": ""
            },
            "colorscale": [
             [
              0,
              "#0d0887"
             ],
             [
              0.1111111111111111,
              "#46039f"
             ],
             [
              0.2222222222222222,
              "#7201a8"
             ],
             [
              0.3333333333333333,
              "#9c179e"
             ],
             [
              0.4444444444444444,
              "#bd3786"
             ],
             [
              0.5555555555555556,
              "#d8576b"
             ],
             [
              0.6666666666666666,
              "#ed7953"
             ],
             [
              0.7777777777777778,
              "#fb9f3a"
             ],
             [
              0.8888888888888888,
              "#fdca26"
             ],
             [
              1,
              "#f0f921"
             ]
            ],
            "type": "heatmap"
           }
          ],
          "heatmapgl": [
           {
            "colorbar": {
             "outlinewidth": 0,
             "ticks": ""
            },
            "colorscale": [
             [
              0,
              "#0d0887"
             ],
             [
              0.1111111111111111,
              "#46039f"
             ],
             [
              0.2222222222222222,
              "#7201a8"
             ],
             [
              0.3333333333333333,
              "#9c179e"
             ],
             [
              0.4444444444444444,
              "#bd3786"
             ],
             [
              0.5555555555555556,
              "#d8576b"
             ],
             [
              0.6666666666666666,
              "#ed7953"
             ],
             [
              0.7777777777777778,
              "#fb9f3a"
             ],
             [
              0.8888888888888888,
              "#fdca26"
             ],
             [
              1,
              "#f0f921"
             ]
            ],
            "type": "heatmapgl"
           }
          ],
          "histogram": [
           {
            "marker": {
             "pattern": {
              "fillmode": "overlay",
              "size": 10,
              "solidity": 0.2
             }
            },
            "type": "histogram"
           }
          ],
          "histogram2d": [
           {
            "colorbar": {
             "outlinewidth": 0,
             "ticks": ""
            },
            "colorscale": [
             [
              0,
              "#0d0887"
             ],
             [
              0.1111111111111111,
              "#46039f"
             ],
             [
              0.2222222222222222,
              "#7201a8"
             ],
             [
              0.3333333333333333,
              "#9c179e"
             ],
             [
              0.4444444444444444,
              "#bd3786"
             ],
             [
              0.5555555555555556,
              "#d8576b"
             ],
             [
              0.6666666666666666,
              "#ed7953"
             ],
             [
              0.7777777777777778,
              "#fb9f3a"
             ],
             [
              0.8888888888888888,
              "#fdca26"
             ],
             [
              1,
              "#f0f921"
             ]
            ],
            "type": "histogram2d"
           }
          ],
          "histogram2dcontour": [
           {
            "colorbar": {
             "outlinewidth": 0,
             "ticks": ""
            },
            "colorscale": [
             [
              0,
              "#0d0887"
             ],
             [
              0.1111111111111111,
              "#46039f"
             ],
             [
              0.2222222222222222,
              "#7201a8"
             ],
             [
              0.3333333333333333,
              "#9c179e"
             ],
             [
              0.4444444444444444,
              "#bd3786"
             ],
             [
              0.5555555555555556,
              "#d8576b"
             ],
             [
              0.6666666666666666,
              "#ed7953"
             ],
             [
              0.7777777777777778,
              "#fb9f3a"
             ],
             [
              0.8888888888888888,
              "#fdca26"
             ],
             [
              1,
              "#f0f921"
             ]
            ],
            "type": "histogram2dcontour"
           }
          ],
          "mesh3d": [
           {
            "colorbar": {
             "outlinewidth": 0,
             "ticks": ""
            },
            "type": "mesh3d"
           }
          ],
          "parcoords": [
           {
            "line": {
             "colorbar": {
              "outlinewidth": 0,
              "ticks": ""
             }
            },
            "type": "parcoords"
           }
          ],
          "pie": [
           {
            "automargin": true,
            "type": "pie"
           }
          ],
          "scatter": [
           {
            "fillpattern": {
             "fillmode": "overlay",
             "size": 10,
             "solidity": 0.2
            },
            "type": "scatter"
           }
          ],
          "scatter3d": [
           {
            "line": {
             "colorbar": {
              "outlinewidth": 0,
              "ticks": ""
             }
            },
            "marker": {
             "colorbar": {
              "outlinewidth": 0,
              "ticks": ""
             }
            },
            "type": "scatter3d"
           }
          ],
          "scattercarpet": [
           {
            "marker": {
             "colorbar": {
              "outlinewidth": 0,
              "ticks": ""
             }
            },
            "type": "scattercarpet"
           }
          ],
          "scattergeo": [
           {
            "marker": {
             "colorbar": {
              "outlinewidth": 0,
              "ticks": ""
             }
            },
            "type": "scattergeo"
           }
          ],
          "scattergl": [
           {
            "marker": {
             "colorbar": {
              "outlinewidth": 0,
              "ticks": ""
             }
            },
            "type": "scattergl"
           }
          ],
          "scattermapbox": [
           {
            "marker": {
             "colorbar": {
              "outlinewidth": 0,
              "ticks": ""
             }
            },
            "type": "scattermapbox"
           }
          ],
          "scatterpolar": [
           {
            "marker": {
             "colorbar": {
              "outlinewidth": 0,
              "ticks": ""
             }
            },
            "type": "scatterpolar"
           }
          ],
          "scatterpolargl": [
           {
            "marker": {
             "colorbar": {
              "outlinewidth": 0,
              "ticks": ""
             }
            },
            "type": "scatterpolargl"
           }
          ],
          "scatterternary": [
           {
            "marker": {
             "colorbar": {
              "outlinewidth": 0,
              "ticks": ""
             }
            },
            "type": "scatterternary"
           }
          ],
          "surface": [
           {
            "colorbar": {
             "outlinewidth": 0,
             "ticks": ""
            },
            "colorscale": [
             [
              0,
              "#0d0887"
             ],
             [
              0.1111111111111111,
              "#46039f"
             ],
             [
              0.2222222222222222,
              "#7201a8"
             ],
             [
              0.3333333333333333,
              "#9c179e"
             ],
             [
              0.4444444444444444,
              "#bd3786"
             ],
             [
              0.5555555555555556,
              "#d8576b"
             ],
             [
              0.6666666666666666,
              "#ed7953"
             ],
             [
              0.7777777777777778,
              "#fb9f3a"
             ],
             [
              0.8888888888888888,
              "#fdca26"
             ],
             [
              1,
              "#f0f921"
             ]
            ],
            "type": "surface"
           }
          ],
          "table": [
           {
            "cells": {
             "fill": {
              "color": "#EBF0F8"
             },
             "line": {
              "color": "white"
             }
            },
            "header": {
             "fill": {
              "color": "#C8D4E3"
             },
             "line": {
              "color": "white"
             }
            },
            "type": "table"
           }
          ]
         },
         "layout": {
          "annotationdefaults": {
           "arrowcolor": "#2a3f5f",
           "arrowhead": 0,
           "arrowwidth": 1
          },
          "autotypenumbers": "strict",
          "coloraxis": {
           "colorbar": {
            "outlinewidth": 0,
            "ticks": ""
           }
          },
          "colorscale": {
           "diverging": [
            [
             0,
             "#8e0152"
            ],
            [
             0.1,
             "#c51b7d"
            ],
            [
             0.2,
             "#de77ae"
            ],
            [
             0.3,
             "#f1b6da"
            ],
            [
             0.4,
             "#fde0ef"
            ],
            [
             0.5,
             "#f7f7f7"
            ],
            [
             0.6,
             "#e6f5d0"
            ],
            [
             0.7,
             "#b8e186"
            ],
            [
             0.8,
             "#7fbc41"
            ],
            [
             0.9,
             "#4d9221"
            ],
            [
             1,
             "#276419"
            ]
           ],
           "sequential": [
            [
             0,
             "#0d0887"
            ],
            [
             0.1111111111111111,
             "#46039f"
            ],
            [
             0.2222222222222222,
             "#7201a8"
            ],
            [
             0.3333333333333333,
             "#9c179e"
            ],
            [
             0.4444444444444444,
             "#bd3786"
            ],
            [
             0.5555555555555556,
             "#d8576b"
            ],
            [
             0.6666666666666666,
             "#ed7953"
            ],
            [
             0.7777777777777778,
             "#fb9f3a"
            ],
            [
             0.8888888888888888,
             "#fdca26"
            ],
            [
             1,
             "#f0f921"
            ]
           ],
           "sequentialminus": [
            [
             0,
             "#0d0887"
            ],
            [
             0.1111111111111111,
             "#46039f"
            ],
            [
             0.2222222222222222,
             "#7201a8"
            ],
            [
             0.3333333333333333,
             "#9c179e"
            ],
            [
             0.4444444444444444,
             "#bd3786"
            ],
            [
             0.5555555555555556,
             "#d8576b"
            ],
            [
             0.6666666666666666,
             "#ed7953"
            ],
            [
             0.7777777777777778,
             "#fb9f3a"
            ],
            [
             0.8888888888888888,
             "#fdca26"
            ],
            [
             1,
             "#f0f921"
            ]
           ]
          },
          "colorway": [
           "#636efa",
           "#EF553B",
           "#00cc96",
           "#ab63fa",
           "#FFA15A",
           "#19d3f3",
           "#FF6692",
           "#B6E880",
           "#FF97FF",
           "#FECB52"
          ],
          "font": {
           "color": "#2a3f5f"
          },
          "geo": {
           "bgcolor": "white",
           "lakecolor": "white",
           "landcolor": "white",
           "showlakes": true,
           "showland": true,
           "subunitcolor": "#C8D4E3"
          },
          "hoverlabel": {
           "align": "left"
          },
          "hovermode": "closest",
          "mapbox": {
           "style": "light"
          },
          "paper_bgcolor": "white",
          "plot_bgcolor": "white",
          "polar": {
           "angularaxis": {
            "gridcolor": "#EBF0F8",
            "linecolor": "#EBF0F8",
            "ticks": ""
           },
           "bgcolor": "white",
           "radialaxis": {
            "gridcolor": "#EBF0F8",
            "linecolor": "#EBF0F8",
            "ticks": ""
           }
          },
          "scene": {
           "xaxis": {
            "backgroundcolor": "white",
            "gridcolor": "#DFE8F3",
            "gridwidth": 2,
            "linecolor": "#EBF0F8",
            "showbackground": true,
            "ticks": "",
            "zerolinecolor": "#EBF0F8"
           },
           "yaxis": {
            "backgroundcolor": "white",
            "gridcolor": "#DFE8F3",
            "gridwidth": 2,
            "linecolor": "#EBF0F8",
            "showbackground": true,
            "ticks": "",
            "zerolinecolor": "#EBF0F8"
           },
           "zaxis": {
            "backgroundcolor": "white",
            "gridcolor": "#DFE8F3",
            "gridwidth": 2,
            "linecolor": "#EBF0F8",
            "showbackground": true,
            "ticks": "",
            "zerolinecolor": "#EBF0F8"
           }
          },
          "shapedefaults": {
           "line": {
            "color": "#2a3f5f"
           }
          },
          "ternary": {
           "aaxis": {
            "gridcolor": "#DFE8F3",
            "linecolor": "#A2B1C6",
            "ticks": ""
           },
           "baxis": {
            "gridcolor": "#DFE8F3",
            "linecolor": "#A2B1C6",
            "ticks": ""
           },
           "bgcolor": "white",
           "caxis": {
            "gridcolor": "#DFE8F3",
            "linecolor": "#A2B1C6",
            "ticks": ""
           }
          },
          "title": {
           "x": 0.05
          },
          "xaxis": {
           "automargin": true,
           "gridcolor": "#EBF0F8",
           "linecolor": "#EBF0F8",
           "ticks": "",
           "title": {
            "standoff": 15
           },
           "zerolinecolor": "#EBF0F8",
           "zerolinewidth": 2
          },
          "yaxis": {
           "automargin": true,
           "gridcolor": "#EBF0F8",
           "linecolor": "#EBF0F8",
           "ticks": "",
           "title": {
            "standoff": 15
           },
           "zerolinecolor": "#EBF0F8",
           "zerolinewidth": 2
          }
         }
        },
        "width": 1000,
        "xaxis": {
         "title": {
          "text": "SCR coverage ratio"
         }
        },
        "yaxis": {
         "title": {
          "text": "Owner's equity (£m)"
         }
        }
       }
      }
     },
     "metadata": {},
     "output_type": "display_data"
    }
   ],
   "source": [
    "fig = go.Figure()\n",
    "\n",
    "x = 'SCR coverage ratio'\n",
    "y = 'Excess of assets over liabilities (£m) [= equity]'\n",
    "\n",
    "fig.add_trace(\n",
    "    go.Scatter(\n",
    "        x=largest_firms_20[x],\n",
    "        y=largest_firms_20[y],\n",
    "        mode='markers',\n",
    "        marker=dict(size=16, color=largest_firms_20['composite_score'], colorscale='RdBu', showscale=True),\n",
    "        showlegend=False,\n",
    "        hovertext=largest_firms_20.index\n",
    "    )\n",
    ")\n",
    "\n",
    "fig.add_trace(\n",
    "    go.Scatter(\n",
    "        x=largest_firms_20[x][:5],\n",
    "        y=largest_firms_20[y][:5],\n",
    "        mode='markers',\n",
    "        marker=dict(size=8, color='yellow', opacity=0.8, symbol='star'),\n",
    "        showlegend=False,\n",
    "        hovertext=largest_firms_20.index\n",
    "    )\n",
    ")\n",
    "\n",
    "# format figure to make it look nice\n",
    "fig.update_layout(\n",
    "    template='plotly_white',\n",
    "    font=dict(size=16),\n",
    "    xaxis_title='SCR coverage ratio',\n",
    "    yaxis_title=\"Owner's equity (£m)\",\n",
    "    width=1000,\n",
    "    height=500\n",
    ")\n",
    "fig.show()\n",
    "fig.write_image('coverage ratio vs owners equity.png', width=1000, height=500)\n"
   ]
  },
  {
   "cell_type": "markdown",
   "metadata": {},
   "source": [
    "#### Owner's Equity vs. Gross Claims Incurred"
   ]
  },
  {
   "cell_type": "code",
   "execution_count": 411,
   "metadata": {},
   "outputs": [
    {
     "data": {
      "application/vnd.plotly.v1+json": {
       "config": {
        "plotlyServerURL": "https://plot.ly"
       },
       "data": [
        {
         "hovertext": [
          "Firm 51",
          "Firm 17",
          "Firm 38",
          "Firm 210",
          "Firm 10",
          "Firm 301",
          "Firm 311",
          "Firm 234",
          "Firm 107",
          "Firm 120",
          "Firm 25",
          "Firm 276",
          "Firm 6",
          "Firm 105",
          "Firm 317",
          "Firm 101",
          "Firm 199",
          "Firm 73",
          "Firm 7",
          "Firm 34",
          "Firm 151",
          "Firm 4",
          "Firm 26",
          "Firm 30",
          "Firm 247",
          "Firm 104"
         ],
         "marker": {
          "color": [
           0.14482617625126148,
           0.2160684862089275,
           0.26282654688209756,
           0.2708052833693006,
           0.3018781482746264,
           0.3027729309566417,
           0.30341088861871046,
           0.30574027615880295,
           0.3065210341816317,
           0.31546713792223247,
           0.31553382216278103,
           0.31686362008048113,
           0.3191553289095668,
           0.3290937821533065,
           0.3302389049651142,
           0.33347917774965186,
           0.34448953274764277,
           0.35971196309645476,
           0.36522831748186163,
           0.3719261946805625,
           0.3820631347208885,
           0.38239111415419286,
           0.416498923368986,
           0.4261796597000662,
           0.6215971626313281,
           0.787899678644508
          ],
          "colorscale": [
           [
            0,
            "rgb(103,0,31)"
           ],
           [
            0.1,
            "rgb(178,24,43)"
           ],
           [
            0.2,
            "rgb(214,96,77)"
           ],
           [
            0.3,
            "rgb(244,165,130)"
           ],
           [
            0.4,
            "rgb(253,219,199)"
           ],
           [
            0.5,
            "rgb(247,247,247)"
           ],
           [
            0.6,
            "rgb(209,229,240)"
           ],
           [
            0.7,
            "rgb(146,197,222)"
           ],
           [
            0.8,
            "rgb(67,147,195)"
           ],
           [
            0.9,
            "rgb(33,102,172)"
           ],
           [
            1,
            "rgb(5,48,97)"
           ]
          ],
          "showscale": true,
          "size": 16
         },
         "mode": "markers",
         "showlegend": false,
         "type": "scatter",
         "x": [
          9.936573362601953,
          139.97448954095202,
          2083.197348264533,
          573.2664433133452,
          7289.002534230091,
          1398.911593457146,
          6243.842523021006,
          1910.8939082575027,
          2600.239697475102,
          1414.0737207300313,
          16.566851563282164,
          291.42973632908445,
          4990.7623624326325,
          20771.45450490621,
          127.59157409559648,
          7730.0177066785645,
          1831.0573768020454,
          4120.829542581321,
          10232.547756475657,
          12371.677830314376,
          2352.086073256542,
          16335.857691782532,
          5903.135198886671,
          4783.557310036633,
          97.54712729150562,
          35.184320810297315
         ],
         "y": [
          0.4129833959575578,
          1519.9919174546365,
          315.9396601747544,
          443.2068188966351,
          111.11924025545083,
          0,
          7.985453444095879,
          1848.847772718819,
          56.86462064259572,
          0.014469082630660901,
          1034.0430058482368,
          0,
          294.4811190288523,
          2818.049217347606,
          128.393235601377,
          0,
          215.1810699670885,
          47.045946896021945,
          0,
          9.185215862551185,
          -25.728673202812825,
          43.852950461141106,
          346.16653873407074,
          6.601007526513411,
          2.884471694715069,
          55.63131313861404
         ]
        },
        {
         "hovertext": [
          "Firm 51",
          "Firm 17",
          "Firm 38",
          "Firm 210",
          "Firm 10",
          "Firm 301",
          "Firm 311",
          "Firm 234",
          "Firm 107",
          "Firm 120",
          "Firm 25",
          "Firm 276",
          "Firm 6",
          "Firm 105",
          "Firm 317",
          "Firm 101",
          "Firm 199",
          "Firm 73",
          "Firm 7",
          "Firm 34",
          "Firm 151",
          "Firm 4",
          "Firm 26",
          "Firm 30",
          "Firm 247",
          "Firm 104"
         ],
         "marker": {
          "color": "yellow",
          "opacity": 0.8,
          "size": 8,
          "symbol": "star"
         },
         "mode": "markers",
         "showlegend": false,
         "type": "scatter",
         "x": [
          9.936573362601953,
          139.97448954095202,
          2083.197348264533,
          573.2664433133452,
          7289.002534230091
         ],
         "y": [
          0.4129833959575578,
          1519.9919174546365,
          315.9396601747544,
          443.2068188966351,
          111.11924025545083
         ]
        }
       ],
       "layout": {
        "height": 500,
        "template": {
         "data": {
          "bar": [
           {
            "error_x": {
             "color": "#2a3f5f"
            },
            "error_y": {
             "color": "#2a3f5f"
            },
            "marker": {
             "line": {
              "color": "#E5ECF6",
              "width": 0.5
             },
             "pattern": {
              "fillmode": "overlay",
              "size": 10,
              "solidity": 0.2
             }
            },
            "type": "bar"
           }
          ],
          "barpolar": [
           {
            "marker": {
             "line": {
              "color": "#E5ECF6",
              "width": 0.5
             },
             "pattern": {
              "fillmode": "overlay",
              "size": 10,
              "solidity": 0.2
             }
            },
            "type": "barpolar"
           }
          ],
          "carpet": [
           {
            "aaxis": {
             "endlinecolor": "#2a3f5f",
             "gridcolor": "white",
             "linecolor": "white",
             "minorgridcolor": "white",
             "startlinecolor": "#2a3f5f"
            },
            "baxis": {
             "endlinecolor": "#2a3f5f",
             "gridcolor": "white",
             "linecolor": "white",
             "minorgridcolor": "white",
             "startlinecolor": "#2a3f5f"
            },
            "type": "carpet"
           }
          ],
          "choropleth": [
           {
            "colorbar": {
             "outlinewidth": 0,
             "ticks": ""
            },
            "type": "choropleth"
           }
          ],
          "contour": [
           {
            "colorbar": {
             "outlinewidth": 0,
             "ticks": ""
            },
            "colorscale": [
             [
              0,
              "#0d0887"
             ],
             [
              0.1111111111111111,
              "#46039f"
             ],
             [
              0.2222222222222222,
              "#7201a8"
             ],
             [
              0.3333333333333333,
              "#9c179e"
             ],
             [
              0.4444444444444444,
              "#bd3786"
             ],
             [
              0.5555555555555556,
              "#d8576b"
             ],
             [
              0.6666666666666666,
              "#ed7953"
             ],
             [
              0.7777777777777778,
              "#fb9f3a"
             ],
             [
              0.8888888888888888,
              "#fdca26"
             ],
             [
              1,
              "#f0f921"
             ]
            ],
            "type": "contour"
           }
          ],
          "contourcarpet": [
           {
            "colorbar": {
             "outlinewidth": 0,
             "ticks": ""
            },
            "type": "contourcarpet"
           }
          ],
          "heatmap": [
           {
            "colorbar": {
             "outlinewidth": 0,
             "ticks": ""
            },
            "colorscale": [
             [
              0,
              "#0d0887"
             ],
             [
              0.1111111111111111,
              "#46039f"
             ],
             [
              0.2222222222222222,
              "#7201a8"
             ],
             [
              0.3333333333333333,
              "#9c179e"
             ],
             [
              0.4444444444444444,
              "#bd3786"
             ],
             [
              0.5555555555555556,
              "#d8576b"
             ],
             [
              0.6666666666666666,
              "#ed7953"
             ],
             [
              0.7777777777777778,
              "#fb9f3a"
             ],
             [
              0.8888888888888888,
              "#fdca26"
             ],
             [
              1,
              "#f0f921"
             ]
            ],
            "type": "heatmap"
           }
          ],
          "heatmapgl": [
           {
            "colorbar": {
             "outlinewidth": 0,
             "ticks": ""
            },
            "colorscale": [
             [
              0,
              "#0d0887"
             ],
             [
              0.1111111111111111,
              "#46039f"
             ],
             [
              0.2222222222222222,
              "#7201a8"
             ],
             [
              0.3333333333333333,
              "#9c179e"
             ],
             [
              0.4444444444444444,
              "#bd3786"
             ],
             [
              0.5555555555555556,
              "#d8576b"
             ],
             [
              0.6666666666666666,
              "#ed7953"
             ],
             [
              0.7777777777777778,
              "#fb9f3a"
             ],
             [
              0.8888888888888888,
              "#fdca26"
             ],
             [
              1,
              "#f0f921"
             ]
            ],
            "type": "heatmapgl"
           }
          ],
          "histogram": [
           {
            "marker": {
             "pattern": {
              "fillmode": "overlay",
              "size": 10,
              "solidity": 0.2
             }
            },
            "type": "histogram"
           }
          ],
          "histogram2d": [
           {
            "colorbar": {
             "outlinewidth": 0,
             "ticks": ""
            },
            "colorscale": [
             [
              0,
              "#0d0887"
             ],
             [
              0.1111111111111111,
              "#46039f"
             ],
             [
              0.2222222222222222,
              "#7201a8"
             ],
             [
              0.3333333333333333,
              "#9c179e"
             ],
             [
              0.4444444444444444,
              "#bd3786"
             ],
             [
              0.5555555555555556,
              "#d8576b"
             ],
             [
              0.6666666666666666,
              "#ed7953"
             ],
             [
              0.7777777777777778,
              "#fb9f3a"
             ],
             [
              0.8888888888888888,
              "#fdca26"
             ],
             [
              1,
              "#f0f921"
             ]
            ],
            "type": "histogram2d"
           }
          ],
          "histogram2dcontour": [
           {
            "colorbar": {
             "outlinewidth": 0,
             "ticks": ""
            },
            "colorscale": [
             [
              0,
              "#0d0887"
             ],
             [
              0.1111111111111111,
              "#46039f"
             ],
             [
              0.2222222222222222,
              "#7201a8"
             ],
             [
              0.3333333333333333,
              "#9c179e"
             ],
             [
              0.4444444444444444,
              "#bd3786"
             ],
             [
              0.5555555555555556,
              "#d8576b"
             ],
             [
              0.6666666666666666,
              "#ed7953"
             ],
             [
              0.7777777777777778,
              "#fb9f3a"
             ],
             [
              0.8888888888888888,
              "#fdca26"
             ],
             [
              1,
              "#f0f921"
             ]
            ],
            "type": "histogram2dcontour"
           }
          ],
          "mesh3d": [
           {
            "colorbar": {
             "outlinewidth": 0,
             "ticks": ""
            },
            "type": "mesh3d"
           }
          ],
          "parcoords": [
           {
            "line": {
             "colorbar": {
              "outlinewidth": 0,
              "ticks": ""
             }
            },
            "type": "parcoords"
           }
          ],
          "pie": [
           {
            "automargin": true,
            "type": "pie"
           }
          ],
          "scatter": [
           {
            "fillpattern": {
             "fillmode": "overlay",
             "size": 10,
             "solidity": 0.2
            },
            "type": "scatter"
           }
          ],
          "scatter3d": [
           {
            "line": {
             "colorbar": {
              "outlinewidth": 0,
              "ticks": ""
             }
            },
            "marker": {
             "colorbar": {
              "outlinewidth": 0,
              "ticks": ""
             }
            },
            "type": "scatter3d"
           }
          ],
          "scattercarpet": [
           {
            "marker": {
             "colorbar": {
              "outlinewidth": 0,
              "ticks": ""
             }
            },
            "type": "scattercarpet"
           }
          ],
          "scattergeo": [
           {
            "marker": {
             "colorbar": {
              "outlinewidth": 0,
              "ticks": ""
             }
            },
            "type": "scattergeo"
           }
          ],
          "scattergl": [
           {
            "marker": {
             "colorbar": {
              "outlinewidth": 0,
              "ticks": ""
             }
            },
            "type": "scattergl"
           }
          ],
          "scattermapbox": [
           {
            "marker": {
             "colorbar": {
              "outlinewidth": 0,
              "ticks": ""
             }
            },
            "type": "scattermapbox"
           }
          ],
          "scatterpolar": [
           {
            "marker": {
             "colorbar": {
              "outlinewidth": 0,
              "ticks": ""
             }
            },
            "type": "scatterpolar"
           }
          ],
          "scatterpolargl": [
           {
            "marker": {
             "colorbar": {
              "outlinewidth": 0,
              "ticks": ""
             }
            },
            "type": "scatterpolargl"
           }
          ],
          "scatterternary": [
           {
            "marker": {
             "colorbar": {
              "outlinewidth": 0,
              "ticks": ""
             }
            },
            "type": "scatterternary"
           }
          ],
          "surface": [
           {
            "colorbar": {
             "outlinewidth": 0,
             "ticks": ""
            },
            "colorscale": [
             [
              0,
              "#0d0887"
             ],
             [
              0.1111111111111111,
              "#46039f"
             ],
             [
              0.2222222222222222,
              "#7201a8"
             ],
             [
              0.3333333333333333,
              "#9c179e"
             ],
             [
              0.4444444444444444,
              "#bd3786"
             ],
             [
              0.5555555555555556,
              "#d8576b"
             ],
             [
              0.6666666666666666,
              "#ed7953"
             ],
             [
              0.7777777777777778,
              "#fb9f3a"
             ],
             [
              0.8888888888888888,
              "#fdca26"
             ],
             [
              1,
              "#f0f921"
             ]
            ],
            "type": "surface"
           }
          ],
          "table": [
           {
            "cells": {
             "fill": {
              "color": "#EBF0F8"
             },
             "line": {
              "color": "white"
             }
            },
            "header": {
             "fill": {
              "color": "#C8D4E3"
             },
             "line": {
              "color": "white"
             }
            },
            "type": "table"
           }
          ]
         },
         "layout": {
          "annotationdefaults": {
           "arrowcolor": "#2a3f5f",
           "arrowhead": 0,
           "arrowwidth": 1
          },
          "autotypenumbers": "strict",
          "coloraxis": {
           "colorbar": {
            "outlinewidth": 0,
            "ticks": ""
           }
          },
          "colorscale": {
           "diverging": [
            [
             0,
             "#8e0152"
            ],
            [
             0.1,
             "#c51b7d"
            ],
            [
             0.2,
             "#de77ae"
            ],
            [
             0.3,
             "#f1b6da"
            ],
            [
             0.4,
             "#fde0ef"
            ],
            [
             0.5,
             "#f7f7f7"
            ],
            [
             0.6,
             "#e6f5d0"
            ],
            [
             0.7,
             "#b8e186"
            ],
            [
             0.8,
             "#7fbc41"
            ],
            [
             0.9,
             "#4d9221"
            ],
            [
             1,
             "#276419"
            ]
           ],
           "sequential": [
            [
             0,
             "#0d0887"
            ],
            [
             0.1111111111111111,
             "#46039f"
            ],
            [
             0.2222222222222222,
             "#7201a8"
            ],
            [
             0.3333333333333333,
             "#9c179e"
            ],
            [
             0.4444444444444444,
             "#bd3786"
            ],
            [
             0.5555555555555556,
             "#d8576b"
            ],
            [
             0.6666666666666666,
             "#ed7953"
            ],
            [
             0.7777777777777778,
             "#fb9f3a"
            ],
            [
             0.8888888888888888,
             "#fdca26"
            ],
            [
             1,
             "#f0f921"
            ]
           ],
           "sequentialminus": [
            [
             0,
             "#0d0887"
            ],
            [
             0.1111111111111111,
             "#46039f"
            ],
            [
             0.2222222222222222,
             "#7201a8"
            ],
            [
             0.3333333333333333,
             "#9c179e"
            ],
            [
             0.4444444444444444,
             "#bd3786"
            ],
            [
             0.5555555555555556,
             "#d8576b"
            ],
            [
             0.6666666666666666,
             "#ed7953"
            ],
            [
             0.7777777777777778,
             "#fb9f3a"
            ],
            [
             0.8888888888888888,
             "#fdca26"
            ],
            [
             1,
             "#f0f921"
            ]
           ]
          },
          "colorway": [
           "#636efa",
           "#EF553B",
           "#00cc96",
           "#ab63fa",
           "#FFA15A",
           "#19d3f3",
           "#FF6692",
           "#B6E880",
           "#FF97FF",
           "#FECB52"
          ],
          "font": {
           "color": "#2a3f5f"
          },
          "geo": {
           "bgcolor": "white",
           "lakecolor": "white",
           "landcolor": "#E5ECF6",
           "showlakes": true,
           "showland": true,
           "subunitcolor": "white"
          },
          "hoverlabel": {
           "align": "left"
          },
          "hovermode": "closest",
          "mapbox": {
           "style": "light"
          },
          "paper_bgcolor": "white",
          "plot_bgcolor": "#E5ECF6",
          "polar": {
           "angularaxis": {
            "gridcolor": "white",
            "linecolor": "white",
            "ticks": ""
           },
           "bgcolor": "#E5ECF6",
           "radialaxis": {
            "gridcolor": "white",
            "linecolor": "white",
            "ticks": ""
           }
          },
          "scene": {
           "xaxis": {
            "backgroundcolor": "#E5ECF6",
            "gridcolor": "white",
            "gridwidth": 2,
            "linecolor": "white",
            "showbackground": true,
            "ticks": "",
            "zerolinecolor": "white"
           },
           "yaxis": {
            "backgroundcolor": "#E5ECF6",
            "gridcolor": "white",
            "gridwidth": 2,
            "linecolor": "white",
            "showbackground": true,
            "ticks": "",
            "zerolinecolor": "white"
           },
           "zaxis": {
            "backgroundcolor": "#E5ECF6",
            "gridcolor": "white",
            "gridwidth": 2,
            "linecolor": "white",
            "showbackground": true,
            "ticks": "",
            "zerolinecolor": "white"
           }
          },
          "shapedefaults": {
           "line": {
            "color": "#2a3f5f"
           }
          },
          "ternary": {
           "aaxis": {
            "gridcolor": "white",
            "linecolor": "white",
            "ticks": ""
           },
           "baxis": {
            "gridcolor": "white",
            "linecolor": "white",
            "ticks": ""
           },
           "bgcolor": "#E5ECF6",
           "caxis": {
            "gridcolor": "white",
            "linecolor": "white",
            "ticks": ""
           }
          },
          "title": {
           "x": 0.05
          },
          "xaxis": {
           "automargin": true,
           "gridcolor": "white",
           "linecolor": "white",
           "ticks": "",
           "title": {
            "standoff": 15
           },
           "zerolinecolor": "white",
           "zerolinewidth": 2
          },
          "yaxis": {
           "automargin": true,
           "gridcolor": "white",
           "linecolor": "white",
           "ticks": "",
           "title": {
            "standoff": 15
           },
           "zerolinecolor": "white",
           "zerolinewidth": 2
          }
         }
        },
        "width": 1000,
        "xaxis": {
         "title": {
          "text": "Excess of assets over liabilities (£m) [= equity]"
         }
        },
        "yaxis": {
         "title": {
          "text": "Gross claims incurred (£m)"
         }
        }
       }
      }
     },
     "metadata": {},
     "output_type": "display_data"
    }
   ],
   "source": [
    "fig = go.Figure()\n",
    "\n",
    "x = 'Excess of assets over liabilities (£m) [= equity]'\n",
    "y = 'Gross claims incurred (£m)'\n",
    "\n",
    "fig.add_trace(\n",
    "    go.Scatter(\n",
    "        x=largest_firms_20[x],\n",
    "        y=largest_firms_20[y],\n",
    "        mode='markers',\n",
    "        marker=dict(size=16, color=largest_firms_20['composite_score'], colorscale='RdBu', showscale=True),\n",
    "        showlegend=False,\n",
    "        hovertext=largest_firms_20.index\n",
    "    )\n",
    ")\n",
    "\n",
    "fig.add_trace(\n",
    "    go.Scatter(\n",
    "        x=largest_firms_20[x][:5],\n",
    "        y=largest_firms_20[y][:5],\n",
    "        mode='markers',\n",
    "        marker=dict(size=8, color='yellow', opacity=0.8, symbol='star'),\n",
    "        showlegend=False,\n",
    "        hovertext=largest_firms_20.index\n",
    "    )\n",
    ")\n",
    "\n",
    "# format figure to make it look nice\n",
    "fig.update_layout(\n",
    "    xaxis_title=x,\n",
    "    yaxis_title=y,\n",
    "    width=1000,\n",
    "    height=500\n",
    ")\n",
    "fig.show()"
   ]
  },
  {
   "cell_type": "markdown",
   "metadata": {},
   "source": [
    "#### Solvency Capital Ratio Coverage Ratio vs. Debt-Equity Ratio\n",
    "\n",
    "Three of the five identified firms have low scr coverage ratio and a high level debt-to-equity ratio. This highlights that a double edged concern of not enough regulatory capital reserved and higher financial obligations from substantial debt."
   ]
  },
  {
   "cell_type": "code",
   "execution_count": 416,
   "metadata": {},
   "outputs": [
    {
     "data": {
      "application/vnd.plotly.v1+json": {
       "config": {
        "plotlyServerURL": "https://plot.ly"
       },
       "data": [
        {
         "hovertext": [
          "Firm 51",
          "Firm 17",
          "Firm 38",
          "Firm 210",
          "Firm 10",
          "Firm 301",
          "Firm 311",
          "Firm 234",
          "Firm 107",
          "Firm 120",
          "Firm 25",
          "Firm 276",
          "Firm 6",
          "Firm 105",
          "Firm 317",
          "Firm 101",
          "Firm 199",
          "Firm 73",
          "Firm 7",
          "Firm 34",
          "Firm 151",
          "Firm 4",
          "Firm 26",
          "Firm 30",
          "Firm 247",
          "Firm 104"
         ],
         "marker": {
          "color": [
           0.14482617625126148,
           0.2160684862089275,
           0.26282654688209756,
           0.2708052833693006,
           0.3018781482746264,
           0.3027729309566417,
           0.30341088861871046,
           0.30574027615880295,
           0.3065210341816317,
           0.31546713792223247,
           0.31553382216278103,
           0.31686362008048113,
           0.3191553289095668,
           0.3290937821533065,
           0.3302389049651142,
           0.33347917774965186,
           0.34448953274764277,
           0.35971196309645476,
           0.36522831748186163,
           0.3719261946805625,
           0.3820631347208885,
           0.38239111415419286,
           0.416498923368986,
           0.4261796597000662,
           0.6215971626313281,
           0.787899678644508
          ],
          "colorscale": [
           [
            0,
            "rgb(103,0,31)"
           ],
           [
            0.1,
            "rgb(178,24,43)"
           ],
           [
            0.2,
            "rgb(214,96,77)"
           ],
           [
            0.3,
            "rgb(244,165,130)"
           ],
           [
            0.4,
            "rgb(253,219,199)"
           ],
           [
            0.5,
            "rgb(247,247,247)"
           ],
           [
            0.6,
            "rgb(209,229,240)"
           ],
           [
            0.7,
            "rgb(146,197,222)"
           ],
           [
            0.8,
            "rgb(67,147,195)"
           ],
           [
            0.9,
            "rgb(33,102,172)"
           ],
           [
            1,
            "rgb(5,48,97)"
           ]
          ],
          "showscale": true,
          "size": 16
         },
         "mode": "markers",
         "showlegend": false,
         "type": "scatter",
         "x": [
          0.9736351245996632,
          0.8339516146533299,
          1.0877442933652486,
          1.5475335225593254,
          1.1174334717563223,
          1.0820163986114981,
          1.188843670443597,
          1.8617160497124268,
          1.2383063096013067,
          0.8864069761599099,
          2.8617960993017513,
          1.269519092943175,
          1.2997744068226136,
          1.6933454113676931,
          1.2675223732582654,
          1.0824813485533276,
          1.5276150878126113,
          2.161199156874159,
          1.2079641791401787,
          2.3674111045336783,
          1.5673678676388545,
          1.5648258880997914,
          1.6618845325629756,
          1.7624111520885868,
          7.147685710829853,
          8.52658921816612
         ],
         "y": [
          1387.7950022375514,
          42.52513080816933,
          2.4254678624161183,
          427.9432405457042,
          23.883244505404907,
          7.540108853035364,
          40.91645155682547,
          6.300687893886324,
          2.2944830388873325,
          36.59018129728853,
          1495.9543380304433,
          101.45318579568209,
          7.786875480551223,
          9.193509694843714,
          97.73101814791937,
          17.392531676512952,
          40.16909594812585,
          13.975169007459321,
          6.893390782922681,
          13.252657664693723,
          38.02358619663474,
          4.06841488609457,
          9.769542724224749,
          11.332503059552987,
          887.4849917510999,
          300.2184977621811
         ]
        },
        {
         "hovertext": [
          "Firm 51",
          "Firm 17",
          "Firm 38",
          "Firm 210",
          "Firm 10",
          "Firm 301",
          "Firm 311",
          "Firm 234",
          "Firm 107",
          "Firm 120",
          "Firm 25",
          "Firm 276",
          "Firm 6",
          "Firm 105",
          "Firm 317",
          "Firm 101",
          "Firm 199",
          "Firm 73",
          "Firm 7",
          "Firm 34",
          "Firm 151",
          "Firm 4",
          "Firm 26",
          "Firm 30",
          "Firm 247",
          "Firm 104"
         ],
         "marker": {
          "color": "yellow",
          "opacity": 0.8,
          "size": 8,
          "symbol": "star"
         },
         "mode": "markers",
         "showlegend": false,
         "type": "scatter",
         "x": [
          0.9736351245996632,
          0.8339516146533299,
          1.0877442933652486,
          1.5475335225593254,
          1.1174334717563223
         ],
         "y": [
          1387.7950022375514,
          42.52513080816933,
          2.4254678624161183,
          427.9432405457042,
          23.883244505404907
         ]
        }
       ],
       "layout": {
        "height": 500,
        "template": {
         "data": {
          "bar": [
           {
            "error_x": {
             "color": "#2a3f5f"
            },
            "error_y": {
             "color": "#2a3f5f"
            },
            "marker": {
             "line": {
              "color": "#E5ECF6",
              "width": 0.5
             },
             "pattern": {
              "fillmode": "overlay",
              "size": 10,
              "solidity": 0.2
             }
            },
            "type": "bar"
           }
          ],
          "barpolar": [
           {
            "marker": {
             "line": {
              "color": "#E5ECF6",
              "width": 0.5
             },
             "pattern": {
              "fillmode": "overlay",
              "size": 10,
              "solidity": 0.2
             }
            },
            "type": "barpolar"
           }
          ],
          "carpet": [
           {
            "aaxis": {
             "endlinecolor": "#2a3f5f",
             "gridcolor": "white",
             "linecolor": "white",
             "minorgridcolor": "white",
             "startlinecolor": "#2a3f5f"
            },
            "baxis": {
             "endlinecolor": "#2a3f5f",
             "gridcolor": "white",
             "linecolor": "white",
             "minorgridcolor": "white",
             "startlinecolor": "#2a3f5f"
            },
            "type": "carpet"
           }
          ],
          "choropleth": [
           {
            "colorbar": {
             "outlinewidth": 0,
             "ticks": ""
            },
            "type": "choropleth"
           }
          ],
          "contour": [
           {
            "colorbar": {
             "outlinewidth": 0,
             "ticks": ""
            },
            "colorscale": [
             [
              0,
              "#0d0887"
             ],
             [
              0.1111111111111111,
              "#46039f"
             ],
             [
              0.2222222222222222,
              "#7201a8"
             ],
             [
              0.3333333333333333,
              "#9c179e"
             ],
             [
              0.4444444444444444,
              "#bd3786"
             ],
             [
              0.5555555555555556,
              "#d8576b"
             ],
             [
              0.6666666666666666,
              "#ed7953"
             ],
             [
              0.7777777777777778,
              "#fb9f3a"
             ],
             [
              0.8888888888888888,
              "#fdca26"
             ],
             [
              1,
              "#f0f921"
             ]
            ],
            "type": "contour"
           }
          ],
          "contourcarpet": [
           {
            "colorbar": {
             "outlinewidth": 0,
             "ticks": ""
            },
            "type": "contourcarpet"
           }
          ],
          "heatmap": [
           {
            "colorbar": {
             "outlinewidth": 0,
             "ticks": ""
            },
            "colorscale": [
             [
              0,
              "#0d0887"
             ],
             [
              0.1111111111111111,
              "#46039f"
             ],
             [
              0.2222222222222222,
              "#7201a8"
             ],
             [
              0.3333333333333333,
              "#9c179e"
             ],
             [
              0.4444444444444444,
              "#bd3786"
             ],
             [
              0.5555555555555556,
              "#d8576b"
             ],
             [
              0.6666666666666666,
              "#ed7953"
             ],
             [
              0.7777777777777778,
              "#fb9f3a"
             ],
             [
              0.8888888888888888,
              "#fdca26"
             ],
             [
              1,
              "#f0f921"
             ]
            ],
            "type": "heatmap"
           }
          ],
          "heatmapgl": [
           {
            "colorbar": {
             "outlinewidth": 0,
             "ticks": ""
            },
            "colorscale": [
             [
              0,
              "#0d0887"
             ],
             [
              0.1111111111111111,
              "#46039f"
             ],
             [
              0.2222222222222222,
              "#7201a8"
             ],
             [
              0.3333333333333333,
              "#9c179e"
             ],
             [
              0.4444444444444444,
              "#bd3786"
             ],
             [
              0.5555555555555556,
              "#d8576b"
             ],
             [
              0.6666666666666666,
              "#ed7953"
             ],
             [
              0.7777777777777778,
              "#fb9f3a"
             ],
             [
              0.8888888888888888,
              "#fdca26"
             ],
             [
              1,
              "#f0f921"
             ]
            ],
            "type": "heatmapgl"
           }
          ],
          "histogram": [
           {
            "marker": {
             "pattern": {
              "fillmode": "overlay",
              "size": 10,
              "solidity": 0.2
             }
            },
            "type": "histogram"
           }
          ],
          "histogram2d": [
           {
            "colorbar": {
             "outlinewidth": 0,
             "ticks": ""
            },
            "colorscale": [
             [
              0,
              "#0d0887"
             ],
             [
              0.1111111111111111,
              "#46039f"
             ],
             [
              0.2222222222222222,
              "#7201a8"
             ],
             [
              0.3333333333333333,
              "#9c179e"
             ],
             [
              0.4444444444444444,
              "#bd3786"
             ],
             [
              0.5555555555555556,
              "#d8576b"
             ],
             [
              0.6666666666666666,
              "#ed7953"
             ],
             [
              0.7777777777777778,
              "#fb9f3a"
             ],
             [
              0.8888888888888888,
              "#fdca26"
             ],
             [
              1,
              "#f0f921"
             ]
            ],
            "type": "histogram2d"
           }
          ],
          "histogram2dcontour": [
           {
            "colorbar": {
             "outlinewidth": 0,
             "ticks": ""
            },
            "colorscale": [
             [
              0,
              "#0d0887"
             ],
             [
              0.1111111111111111,
              "#46039f"
             ],
             [
              0.2222222222222222,
              "#7201a8"
             ],
             [
              0.3333333333333333,
              "#9c179e"
             ],
             [
              0.4444444444444444,
              "#bd3786"
             ],
             [
              0.5555555555555556,
              "#d8576b"
             ],
             [
              0.6666666666666666,
              "#ed7953"
             ],
             [
              0.7777777777777778,
              "#fb9f3a"
             ],
             [
              0.8888888888888888,
              "#fdca26"
             ],
             [
              1,
              "#f0f921"
             ]
            ],
            "type": "histogram2dcontour"
           }
          ],
          "mesh3d": [
           {
            "colorbar": {
             "outlinewidth": 0,
             "ticks": ""
            },
            "type": "mesh3d"
           }
          ],
          "parcoords": [
           {
            "line": {
             "colorbar": {
              "outlinewidth": 0,
              "ticks": ""
             }
            },
            "type": "parcoords"
           }
          ],
          "pie": [
           {
            "automargin": true,
            "type": "pie"
           }
          ],
          "scatter": [
           {
            "fillpattern": {
             "fillmode": "overlay",
             "size": 10,
             "solidity": 0.2
            },
            "type": "scatter"
           }
          ],
          "scatter3d": [
           {
            "line": {
             "colorbar": {
              "outlinewidth": 0,
              "ticks": ""
             }
            },
            "marker": {
             "colorbar": {
              "outlinewidth": 0,
              "ticks": ""
             }
            },
            "type": "scatter3d"
           }
          ],
          "scattercarpet": [
           {
            "marker": {
             "colorbar": {
              "outlinewidth": 0,
              "ticks": ""
             }
            },
            "type": "scattercarpet"
           }
          ],
          "scattergeo": [
           {
            "marker": {
             "colorbar": {
              "outlinewidth": 0,
              "ticks": ""
             }
            },
            "type": "scattergeo"
           }
          ],
          "scattergl": [
           {
            "marker": {
             "colorbar": {
              "outlinewidth": 0,
              "ticks": ""
             }
            },
            "type": "scattergl"
           }
          ],
          "scattermapbox": [
           {
            "marker": {
             "colorbar": {
              "outlinewidth": 0,
              "ticks": ""
             }
            },
            "type": "scattermapbox"
           }
          ],
          "scatterpolar": [
           {
            "marker": {
             "colorbar": {
              "outlinewidth": 0,
              "ticks": ""
             }
            },
            "type": "scatterpolar"
           }
          ],
          "scatterpolargl": [
           {
            "marker": {
             "colorbar": {
              "outlinewidth": 0,
              "ticks": ""
             }
            },
            "type": "scatterpolargl"
           }
          ],
          "scatterternary": [
           {
            "marker": {
             "colorbar": {
              "outlinewidth": 0,
              "ticks": ""
             }
            },
            "type": "scatterternary"
           }
          ],
          "surface": [
           {
            "colorbar": {
             "outlinewidth": 0,
             "ticks": ""
            },
            "colorscale": [
             [
              0,
              "#0d0887"
             ],
             [
              0.1111111111111111,
              "#46039f"
             ],
             [
              0.2222222222222222,
              "#7201a8"
             ],
             [
              0.3333333333333333,
              "#9c179e"
             ],
             [
              0.4444444444444444,
              "#bd3786"
             ],
             [
              0.5555555555555556,
              "#d8576b"
             ],
             [
              0.6666666666666666,
              "#ed7953"
             ],
             [
              0.7777777777777778,
              "#fb9f3a"
             ],
             [
              0.8888888888888888,
              "#fdca26"
             ],
             [
              1,
              "#f0f921"
             ]
            ],
            "type": "surface"
           }
          ],
          "table": [
           {
            "cells": {
             "fill": {
              "color": "#EBF0F8"
             },
             "line": {
              "color": "white"
             }
            },
            "header": {
             "fill": {
              "color": "#C8D4E3"
             },
             "line": {
              "color": "white"
             }
            },
            "type": "table"
           }
          ]
         },
         "layout": {
          "annotationdefaults": {
           "arrowcolor": "#2a3f5f",
           "arrowhead": 0,
           "arrowwidth": 1
          },
          "autotypenumbers": "strict",
          "coloraxis": {
           "colorbar": {
            "outlinewidth": 0,
            "ticks": ""
           }
          },
          "colorscale": {
           "diverging": [
            [
             0,
             "#8e0152"
            ],
            [
             0.1,
             "#c51b7d"
            ],
            [
             0.2,
             "#de77ae"
            ],
            [
             0.3,
             "#f1b6da"
            ],
            [
             0.4,
             "#fde0ef"
            ],
            [
             0.5,
             "#f7f7f7"
            ],
            [
             0.6,
             "#e6f5d0"
            ],
            [
             0.7,
             "#b8e186"
            ],
            [
             0.8,
             "#7fbc41"
            ],
            [
             0.9,
             "#4d9221"
            ],
            [
             1,
             "#276419"
            ]
           ],
           "sequential": [
            [
             0,
             "#0d0887"
            ],
            [
             0.1111111111111111,
             "#46039f"
            ],
            [
             0.2222222222222222,
             "#7201a8"
            ],
            [
             0.3333333333333333,
             "#9c179e"
            ],
            [
             0.4444444444444444,
             "#bd3786"
            ],
            [
             0.5555555555555556,
             "#d8576b"
            ],
            [
             0.6666666666666666,
             "#ed7953"
            ],
            [
             0.7777777777777778,
             "#fb9f3a"
            ],
            [
             0.8888888888888888,
             "#fdca26"
            ],
            [
             1,
             "#f0f921"
            ]
           ],
           "sequentialminus": [
            [
             0,
             "#0d0887"
            ],
            [
             0.1111111111111111,
             "#46039f"
            ],
            [
             0.2222222222222222,
             "#7201a8"
            ],
            [
             0.3333333333333333,
             "#9c179e"
            ],
            [
             0.4444444444444444,
             "#bd3786"
            ],
            [
             0.5555555555555556,
             "#d8576b"
            ],
            [
             0.6666666666666666,
             "#ed7953"
            ],
            [
             0.7777777777777778,
             "#fb9f3a"
            ],
            [
             0.8888888888888888,
             "#fdca26"
            ],
            [
             1,
             "#f0f921"
            ]
           ]
          },
          "colorway": [
           "#636efa",
           "#EF553B",
           "#00cc96",
           "#ab63fa",
           "#FFA15A",
           "#19d3f3",
           "#FF6692",
           "#B6E880",
           "#FF97FF",
           "#FECB52"
          ],
          "font": {
           "color": "#2a3f5f"
          },
          "geo": {
           "bgcolor": "white",
           "lakecolor": "white",
           "landcolor": "#E5ECF6",
           "showlakes": true,
           "showland": true,
           "subunitcolor": "white"
          },
          "hoverlabel": {
           "align": "left"
          },
          "hovermode": "closest",
          "mapbox": {
           "style": "light"
          },
          "paper_bgcolor": "white",
          "plot_bgcolor": "#E5ECF6",
          "polar": {
           "angularaxis": {
            "gridcolor": "white",
            "linecolor": "white",
            "ticks": ""
           },
           "bgcolor": "#E5ECF6",
           "radialaxis": {
            "gridcolor": "white",
            "linecolor": "white",
            "ticks": ""
           }
          },
          "scene": {
           "xaxis": {
            "backgroundcolor": "#E5ECF6",
            "gridcolor": "white",
            "gridwidth": 2,
            "linecolor": "white",
            "showbackground": true,
            "ticks": "",
            "zerolinecolor": "white"
           },
           "yaxis": {
            "backgroundcolor": "#E5ECF6",
            "gridcolor": "white",
            "gridwidth": 2,
            "linecolor": "white",
            "showbackground": true,
            "ticks": "",
            "zerolinecolor": "white"
           },
           "zaxis": {
            "backgroundcolor": "#E5ECF6",
            "gridcolor": "white",
            "gridwidth": 2,
            "linecolor": "white",
            "showbackground": true,
            "ticks": "",
            "zerolinecolor": "white"
           }
          },
          "shapedefaults": {
           "line": {
            "color": "#2a3f5f"
           }
          },
          "ternary": {
           "aaxis": {
            "gridcolor": "white",
            "linecolor": "white",
            "ticks": ""
           },
           "baxis": {
            "gridcolor": "white",
            "linecolor": "white",
            "ticks": ""
           },
           "bgcolor": "#E5ECF6",
           "caxis": {
            "gridcolor": "white",
            "linecolor": "white",
            "ticks": ""
           }
          },
          "title": {
           "x": 0.05
          },
          "xaxis": {
           "automargin": true,
           "gridcolor": "white",
           "linecolor": "white",
           "ticks": "",
           "title": {
            "standoff": 15
           },
           "zerolinecolor": "white",
           "zerolinewidth": 2
          },
          "yaxis": {
           "automargin": true,
           "gridcolor": "white",
           "linecolor": "white",
           "ticks": "",
           "title": {
            "standoff": 15
           },
           "zerolinecolor": "white",
           "zerolinewidth": 2
          }
         }
        },
        "width": 1000,
        "xaxis": {
         "title": {
          "text": "SCR coverage ratio"
         }
        },
        "yaxis": {
         "title": {
          "text": "debt-equity-ratio"
         },
         "type": "log"
        }
       }
      }
     },
     "metadata": {},
     "output_type": "display_data"
    }
   ],
   "source": [
    "fig = go.Figure()\n",
    "\n",
    "x = 'SCR coverage ratio'\n",
    "y = 'debt-equity-ratio'\n",
    "\n",
    "fig.add_trace(\n",
    "    go.Scatter(\n",
    "        x=largest_firms_20[x],\n",
    "        y=largest_firms_20[y],\n",
    "        mode='markers',\n",
    "        marker=dict(size=16, color=largest_firms_20['composite_score'], colorscale='RdBu', showscale=True),\n",
    "        showlegend=False,\n",
    "        hovertext=largest_firms_20.index\n",
    "    )\n",
    ")\n",
    "\n",
    "fig.add_trace(\n",
    "    go.Scatter(\n",
    "        x=largest_firms_20[x][:5],\n",
    "        y=largest_firms_20[y][:5],\n",
    "        mode='markers',\n",
    "        marker=dict(size=8, color='yellow', opacity=0.8, symbol='star'),\n",
    "        showlegend=False,\n",
    "        hovertext=largest_firms_20.index\n",
    "    )\n",
    ")\n",
    "\n",
    "# format figure to make it look nice\n",
    "fig.update_layout(\n",
    "    xaxis_title=x,\n",
    "    yaxis_title=y,\n",
    "    width=1000,\n",
    "    height=500,\n",
    "    yaxis_type='log',\n",
    ")\n",
    "fig.show()"
   ]
  },
  {
   "cell_type": "markdown",
   "metadata": {},
   "source": [
    "### Risk exposure"
   ]
  },
  {
   "cell_type": "markdown",
   "metadata": {},
   "source": [
    "#### Gross Claims incurred vs Net combined ratio"
   ]
  },
  {
   "cell_type": "code",
   "execution_count": 26,
   "metadata": {},
   "outputs": [
    {
     "data": {
      "application/vnd.plotly.v1+json": {
       "config": {
        "plotlyServerURL": "https://plot.ly"
       },
       "data": [
        {
         "line": {
          "color": "black",
          "width": 2
         },
         "mode": "lines",
         "showlegend": false,
         "type": "scatter",
         "x": [
          -10,
          110.4,
          230.8,
          351.20000000000005,
          471.6,
          592,
          712.4000000000001,
          832.8000000000001,
          953.2,
          1073.6000000000001,
          1194,
          1314.4,
          1434.8000000000002,
          1555.2,
          1675.6000000000001,
          1796,
          1916.4,
          2036.8000000000002,
          2157.2000000000003,
          2277.6,
          2398,
          2518.4,
          2638.8,
          2759.2000000000003,
          2879.6000000000004,
          3000
         ],
         "y": [
          1,
          1,
          1,
          1,
          1,
          1,
          1,
          1,
          1,
          1,
          1,
          1,
          1,
          1,
          1,
          1,
          1,
          1,
          1,
          1,
          1,
          1,
          1,
          1,
          1,
          1
         ]
        },
        {
         "hovertext": [
          "Firm 51",
          "Firm 17",
          "Firm 38",
          "Firm 210",
          "Firm 10",
          "Firm 301",
          "Firm 311",
          "Firm 234",
          "Firm 107",
          "Firm 120",
          "Firm 25",
          "Firm 276",
          "Firm 6",
          "Firm 105",
          "Firm 317",
          "Firm 101",
          "Firm 199",
          "Firm 73",
          "Firm 7",
          "Firm 34",
          "Firm 151",
          "Firm 4",
          "Firm 26",
          "Firm 30",
          "Firm 247",
          "Firm 104"
         ],
         "marker": {
          "color": [
           0.14482617625126148,
           0.2160684862089275,
           0.26282654688209756,
           0.2708052833693006,
           0.3018781482746264,
           0.3027729309566417,
           0.30341088861871046,
           0.30574027615880295,
           0.3065210341816317,
           0.31546713792223247,
           0.31553382216278103,
           0.31686362008048113,
           0.3191553289095668,
           0.3290937821533065,
           0.3302389049651142,
           0.33347917774965186,
           0.34448953274764277,
           0.35971196309645476,
           0.36522831748186163,
           0.3719261946805625,
           0.3820631347208885,
           0.38239111415419286,
           0.416498923368986,
           0.4261796597000662,
           0.6215971626313281,
           0.787899678644508
          ],
          "colorscale": [
           [
            0,
            "rgb(103,0,31)"
           ],
           [
            0.1,
            "rgb(178,24,43)"
           ],
           [
            0.2,
            "rgb(214,96,77)"
           ],
           [
            0.3,
            "rgb(244,165,130)"
           ],
           [
            0.4,
            "rgb(253,219,199)"
           ],
           [
            0.5,
            "rgb(247,247,247)"
           ],
           [
            0.6,
            "rgb(209,229,240)"
           ],
           [
            0.7,
            "rgb(146,197,222)"
           ],
           [
            0.8,
            "rgb(67,147,195)"
           ],
           [
            0.9,
            "rgb(33,102,172)"
           ],
           [
            1,
            "rgb(5,48,97)"
           ]
          ],
          "showscale": true,
          "size": 16
         },
         "mode": "markers",
         "showlegend": false,
         "type": "scatter",
         "x": [
          0.4129833959575578,
          1519.9919174546365,
          315.9396601747544,
          443.2068188966351,
          111.11924025545083,
          0,
          7.985453444095879,
          1848.847772718819,
          56.86462064259572,
          0.014469082630660901,
          1034.0430058482368,
          0,
          294.4811190288523,
          2818.049217347606,
          128.393235601377,
          0,
          215.1810699670885,
          47.045946896021945,
          0,
          9.185215862551185,
          -25.728673202812825,
          43.852950461141106,
          346.16653873407074,
          6.601007526513411,
          2.884471694715069,
          55.63131313861404
         ],
         "y": [
          2.3770420112094373,
          0.7974270931575385,
          1.1628232365334004,
          0.6828001536903653,
          0.8040233235837932,
          0,
          0.7670022837379722,
          0.19321869475665185,
          0.6613636199106401,
          0,
          0.5171728058457445,
          0,
          0.6770762546002927,
          1.554439421201291,
          0.9950652805091715,
          0,
          0.6684917415286545,
          0.9937678249990993,
          0,
          1.9182630064229458,
          -0.7491412648146732,
          0.9538902494233137,
          0.880277081166082,
          0,
          0.299126410700634,
          0.13533520280967204
         ]
        },
        {
         "hovertext": [
          "Firm 51",
          "Firm 17",
          "Firm 38",
          "Firm 210",
          "Firm 10",
          "Firm 301",
          "Firm 311",
          "Firm 234",
          "Firm 107",
          "Firm 120",
          "Firm 25",
          "Firm 276",
          "Firm 6",
          "Firm 105",
          "Firm 317",
          "Firm 101",
          "Firm 199",
          "Firm 73",
          "Firm 7",
          "Firm 34",
          "Firm 151",
          "Firm 4",
          "Firm 26",
          "Firm 30",
          "Firm 247",
          "Firm 104"
         ],
         "marker": {
          "color": "yellow",
          "opacity": 0.8,
          "size": 8,
          "symbol": "star"
         },
         "mode": "markers",
         "showlegend": false,
         "type": "scatter",
         "x": [
          0.4129833959575578,
          1519.9919174546365,
          315.9396601747544,
          443.2068188966351,
          111.11924025545083
         ],
         "y": [
          2.3770420112094373,
          0.7974270931575385,
          1.1628232365334004,
          0.6828001536903653,
          0.8040233235837932
         ]
        }
       ],
       "layout": {
        "font": {
         "size": 16
        },
        "height": 500,
        "template": {
         "data": {
          "bar": [
           {
            "error_x": {
             "color": "#2a3f5f"
            },
            "error_y": {
             "color": "#2a3f5f"
            },
            "marker": {
             "line": {
              "color": "white",
              "width": 0.5
             },
             "pattern": {
              "fillmode": "overlay",
              "size": 10,
              "solidity": 0.2
             }
            },
            "type": "bar"
           }
          ],
          "barpolar": [
           {
            "marker": {
             "line": {
              "color": "white",
              "width": 0.5
             },
             "pattern": {
              "fillmode": "overlay",
              "size": 10,
              "solidity": 0.2
             }
            },
            "type": "barpolar"
           }
          ],
          "carpet": [
           {
            "aaxis": {
             "endlinecolor": "#2a3f5f",
             "gridcolor": "#C8D4E3",
             "linecolor": "#C8D4E3",
             "minorgridcolor": "#C8D4E3",
             "startlinecolor": "#2a3f5f"
            },
            "baxis": {
             "endlinecolor": "#2a3f5f",
             "gridcolor": "#C8D4E3",
             "linecolor": "#C8D4E3",
             "minorgridcolor": "#C8D4E3",
             "startlinecolor": "#2a3f5f"
            },
            "type": "carpet"
           }
          ],
          "choropleth": [
           {
            "colorbar": {
             "outlinewidth": 0,
             "ticks": ""
            },
            "type": "choropleth"
           }
          ],
          "contour": [
           {
            "colorbar": {
             "outlinewidth": 0,
             "ticks": ""
            },
            "colorscale": [
             [
              0,
              "#0d0887"
             ],
             [
              0.1111111111111111,
              "#46039f"
             ],
             [
              0.2222222222222222,
              "#7201a8"
             ],
             [
              0.3333333333333333,
              "#9c179e"
             ],
             [
              0.4444444444444444,
              "#bd3786"
             ],
             [
              0.5555555555555556,
              "#d8576b"
             ],
             [
              0.6666666666666666,
              "#ed7953"
             ],
             [
              0.7777777777777778,
              "#fb9f3a"
             ],
             [
              0.8888888888888888,
              "#fdca26"
             ],
             [
              1,
              "#f0f921"
             ]
            ],
            "type": "contour"
           }
          ],
          "contourcarpet": [
           {
            "colorbar": {
             "outlinewidth": 0,
             "ticks": ""
            },
            "type": "contourcarpet"
           }
          ],
          "heatmap": [
           {
            "colorbar": {
             "outlinewidth": 0,
             "ticks": ""
            },
            "colorscale": [
             [
              0,
              "#0d0887"
             ],
             [
              0.1111111111111111,
              "#46039f"
             ],
             [
              0.2222222222222222,
              "#7201a8"
             ],
             [
              0.3333333333333333,
              "#9c179e"
             ],
             [
              0.4444444444444444,
              "#bd3786"
             ],
             [
              0.5555555555555556,
              "#d8576b"
             ],
             [
              0.6666666666666666,
              "#ed7953"
             ],
             [
              0.7777777777777778,
              "#fb9f3a"
             ],
             [
              0.8888888888888888,
              "#fdca26"
             ],
             [
              1,
              "#f0f921"
             ]
            ],
            "type": "heatmap"
           }
          ],
          "heatmapgl": [
           {
            "colorbar": {
             "outlinewidth": 0,
             "ticks": ""
            },
            "colorscale": [
             [
              0,
              "#0d0887"
             ],
             [
              0.1111111111111111,
              "#46039f"
             ],
             [
              0.2222222222222222,
              "#7201a8"
             ],
             [
              0.3333333333333333,
              "#9c179e"
             ],
             [
              0.4444444444444444,
              "#bd3786"
             ],
             [
              0.5555555555555556,
              "#d8576b"
             ],
             [
              0.6666666666666666,
              "#ed7953"
             ],
             [
              0.7777777777777778,
              "#fb9f3a"
             ],
             [
              0.8888888888888888,
              "#fdca26"
             ],
             [
              1,
              "#f0f921"
             ]
            ],
            "type": "heatmapgl"
           }
          ],
          "histogram": [
           {
            "marker": {
             "pattern": {
              "fillmode": "overlay",
              "size": 10,
              "solidity": 0.2
             }
            },
            "type": "histogram"
           }
          ],
          "histogram2d": [
           {
            "colorbar": {
             "outlinewidth": 0,
             "ticks": ""
            },
            "colorscale": [
             [
              0,
              "#0d0887"
             ],
             [
              0.1111111111111111,
              "#46039f"
             ],
             [
              0.2222222222222222,
              "#7201a8"
             ],
             [
              0.3333333333333333,
              "#9c179e"
             ],
             [
              0.4444444444444444,
              "#bd3786"
             ],
             [
              0.5555555555555556,
              "#d8576b"
             ],
             [
              0.6666666666666666,
              "#ed7953"
             ],
             [
              0.7777777777777778,
              "#fb9f3a"
             ],
             [
              0.8888888888888888,
              "#fdca26"
             ],
             [
              1,
              "#f0f921"
             ]
            ],
            "type": "histogram2d"
           }
          ],
          "histogram2dcontour": [
           {
            "colorbar": {
             "outlinewidth": 0,
             "ticks": ""
            },
            "colorscale": [
             [
              0,
              "#0d0887"
             ],
             [
              0.1111111111111111,
              "#46039f"
             ],
             [
              0.2222222222222222,
              "#7201a8"
             ],
             [
              0.3333333333333333,
              "#9c179e"
             ],
             [
              0.4444444444444444,
              "#bd3786"
             ],
             [
              0.5555555555555556,
              "#d8576b"
             ],
             [
              0.6666666666666666,
              "#ed7953"
             ],
             [
              0.7777777777777778,
              "#fb9f3a"
             ],
             [
              0.8888888888888888,
              "#fdca26"
             ],
             [
              1,
              "#f0f921"
             ]
            ],
            "type": "histogram2dcontour"
           }
          ],
          "mesh3d": [
           {
            "colorbar": {
             "outlinewidth": 0,
             "ticks": ""
            },
            "type": "mesh3d"
           }
          ],
          "parcoords": [
           {
            "line": {
             "colorbar": {
              "outlinewidth": 0,
              "ticks": ""
             }
            },
            "type": "parcoords"
           }
          ],
          "pie": [
           {
            "automargin": true,
            "type": "pie"
           }
          ],
          "scatter": [
           {
            "fillpattern": {
             "fillmode": "overlay",
             "size": 10,
             "solidity": 0.2
            },
            "type": "scatter"
           }
          ],
          "scatter3d": [
           {
            "line": {
             "colorbar": {
              "outlinewidth": 0,
              "ticks": ""
             }
            },
            "marker": {
             "colorbar": {
              "outlinewidth": 0,
              "ticks": ""
             }
            },
            "type": "scatter3d"
           }
          ],
          "scattercarpet": [
           {
            "marker": {
             "colorbar": {
              "outlinewidth": 0,
              "ticks": ""
             }
            },
            "type": "scattercarpet"
           }
          ],
          "scattergeo": [
           {
            "marker": {
             "colorbar": {
              "outlinewidth": 0,
              "ticks": ""
             }
            },
            "type": "scattergeo"
           }
          ],
          "scattergl": [
           {
            "marker": {
             "colorbar": {
              "outlinewidth": 0,
              "ticks": ""
             }
            },
            "type": "scattergl"
           }
          ],
          "scattermapbox": [
           {
            "marker": {
             "colorbar": {
              "outlinewidth": 0,
              "ticks": ""
             }
            },
            "type": "scattermapbox"
           }
          ],
          "scatterpolar": [
           {
            "marker": {
             "colorbar": {
              "outlinewidth": 0,
              "ticks": ""
             }
            },
            "type": "scatterpolar"
           }
          ],
          "scatterpolargl": [
           {
            "marker": {
             "colorbar": {
              "outlinewidth": 0,
              "ticks": ""
             }
            },
            "type": "scatterpolargl"
           }
          ],
          "scatterternary": [
           {
            "marker": {
             "colorbar": {
              "outlinewidth": 0,
              "ticks": ""
             }
            },
            "type": "scatterternary"
           }
          ],
          "surface": [
           {
            "colorbar": {
             "outlinewidth": 0,
             "ticks": ""
            },
            "colorscale": [
             [
              0,
              "#0d0887"
             ],
             [
              0.1111111111111111,
              "#46039f"
             ],
             [
              0.2222222222222222,
              "#7201a8"
             ],
             [
              0.3333333333333333,
              "#9c179e"
             ],
             [
              0.4444444444444444,
              "#bd3786"
             ],
             [
              0.5555555555555556,
              "#d8576b"
             ],
             [
              0.6666666666666666,
              "#ed7953"
             ],
             [
              0.7777777777777778,
              "#fb9f3a"
             ],
             [
              0.8888888888888888,
              "#fdca26"
             ],
             [
              1,
              "#f0f921"
             ]
            ],
            "type": "surface"
           }
          ],
          "table": [
           {
            "cells": {
             "fill": {
              "color": "#EBF0F8"
             },
             "line": {
              "color": "white"
             }
            },
            "header": {
             "fill": {
              "color": "#C8D4E3"
             },
             "line": {
              "color": "white"
             }
            },
            "type": "table"
           }
          ]
         },
         "layout": {
          "annotationdefaults": {
           "arrowcolor": "#2a3f5f",
           "arrowhead": 0,
           "arrowwidth": 1
          },
          "autotypenumbers": "strict",
          "coloraxis": {
           "colorbar": {
            "outlinewidth": 0,
            "ticks": ""
           }
          },
          "colorscale": {
           "diverging": [
            [
             0,
             "#8e0152"
            ],
            [
             0.1,
             "#c51b7d"
            ],
            [
             0.2,
             "#de77ae"
            ],
            [
             0.3,
             "#f1b6da"
            ],
            [
             0.4,
             "#fde0ef"
            ],
            [
             0.5,
             "#f7f7f7"
            ],
            [
             0.6,
             "#e6f5d0"
            ],
            [
             0.7,
             "#b8e186"
            ],
            [
             0.8,
             "#7fbc41"
            ],
            [
             0.9,
             "#4d9221"
            ],
            [
             1,
             "#276419"
            ]
           ],
           "sequential": [
            [
             0,
             "#0d0887"
            ],
            [
             0.1111111111111111,
             "#46039f"
            ],
            [
             0.2222222222222222,
             "#7201a8"
            ],
            [
             0.3333333333333333,
             "#9c179e"
            ],
            [
             0.4444444444444444,
             "#bd3786"
            ],
            [
             0.5555555555555556,
             "#d8576b"
            ],
            [
             0.6666666666666666,
             "#ed7953"
            ],
            [
             0.7777777777777778,
             "#fb9f3a"
            ],
            [
             0.8888888888888888,
             "#fdca26"
            ],
            [
             1,
             "#f0f921"
            ]
           ],
           "sequentialminus": [
            [
             0,
             "#0d0887"
            ],
            [
             0.1111111111111111,
             "#46039f"
            ],
            [
             0.2222222222222222,
             "#7201a8"
            ],
            [
             0.3333333333333333,
             "#9c179e"
            ],
            [
             0.4444444444444444,
             "#bd3786"
            ],
            [
             0.5555555555555556,
             "#d8576b"
            ],
            [
             0.6666666666666666,
             "#ed7953"
            ],
            [
             0.7777777777777778,
             "#fb9f3a"
            ],
            [
             0.8888888888888888,
             "#fdca26"
            ],
            [
             1,
             "#f0f921"
            ]
           ]
          },
          "colorway": [
           "#636efa",
           "#EF553B",
           "#00cc96",
           "#ab63fa",
           "#FFA15A",
           "#19d3f3",
           "#FF6692",
           "#B6E880",
           "#FF97FF",
           "#FECB52"
          ],
          "font": {
           "color": "#2a3f5f"
          },
          "geo": {
           "bgcolor": "white",
           "lakecolor": "white",
           "landcolor": "white",
           "showlakes": true,
           "showland": true,
           "subunitcolor": "#C8D4E3"
          },
          "hoverlabel": {
           "align": "left"
          },
          "hovermode": "closest",
          "mapbox": {
           "style": "light"
          },
          "paper_bgcolor": "white",
          "plot_bgcolor": "white",
          "polar": {
           "angularaxis": {
            "gridcolor": "#EBF0F8",
            "linecolor": "#EBF0F8",
            "ticks": ""
           },
           "bgcolor": "white",
           "radialaxis": {
            "gridcolor": "#EBF0F8",
            "linecolor": "#EBF0F8",
            "ticks": ""
           }
          },
          "scene": {
           "xaxis": {
            "backgroundcolor": "white",
            "gridcolor": "#DFE8F3",
            "gridwidth": 2,
            "linecolor": "#EBF0F8",
            "showbackground": true,
            "ticks": "",
            "zerolinecolor": "#EBF0F8"
           },
           "yaxis": {
            "backgroundcolor": "white",
            "gridcolor": "#DFE8F3",
            "gridwidth": 2,
            "linecolor": "#EBF0F8",
            "showbackground": true,
            "ticks": "",
            "zerolinecolor": "#EBF0F8"
           },
           "zaxis": {
            "backgroundcolor": "white",
            "gridcolor": "#DFE8F3",
            "gridwidth": 2,
            "linecolor": "#EBF0F8",
            "showbackground": true,
            "ticks": "",
            "zerolinecolor": "#EBF0F8"
           }
          },
          "shapedefaults": {
           "line": {
            "color": "#2a3f5f"
           }
          },
          "ternary": {
           "aaxis": {
            "gridcolor": "#DFE8F3",
            "linecolor": "#A2B1C6",
            "ticks": ""
           },
           "baxis": {
            "gridcolor": "#DFE8F3",
            "linecolor": "#A2B1C6",
            "ticks": ""
           },
           "bgcolor": "white",
           "caxis": {
            "gridcolor": "#DFE8F3",
            "linecolor": "#A2B1C6",
            "ticks": ""
           }
          },
          "title": {
           "x": 0.05
          },
          "xaxis": {
           "automargin": true,
           "gridcolor": "#EBF0F8",
           "linecolor": "#EBF0F8",
           "ticks": "",
           "title": {
            "standoff": 15
           },
           "zerolinecolor": "#EBF0F8",
           "zerolinewidth": 2
          },
          "yaxis": {
           "automargin": true,
           "gridcolor": "#EBF0F8",
           "linecolor": "#EBF0F8",
           "ticks": "",
           "title": {
            "standoff": 15
           },
           "zerolinecolor": "#EBF0F8",
           "zerolinewidth": 2
          }
         }
        },
        "width": 1000,
        "xaxis": {
         "title": {
          "text": "Gross claims incurred (£m)"
         }
        },
        "yaxis": {
         "title": {
          "text": "Net combined ratio"
         }
        }
       }
      }
     },
     "metadata": {},
     "output_type": "display_data"
    }
   ],
   "source": [
    "fig = go.Figure()\n",
    "\n",
    "x = 'Gross claims incurred (£m)'\n",
    "y = 'Net combined ratio'\n",
    "\n",
    "fig.add_trace(\n",
    "    go.Scatter(\n",
    "        x=np.linspace(-10, 3000, len(largest_firms_20)),\n",
    "        y=[1] * len(largest_firms_20),\n",
    "        mode='lines',\n",
    "        line=dict(width=2, color='black'),\n",
    "        showlegend=False,\n",
    "    )\n",
    ")\n",
    "\n",
    "fig.add_trace(\n",
    "    go.Scatter(\n",
    "        x=largest_firms_20[x],\n",
    "        y=largest_firms_20[y],\n",
    "        mode='markers',\n",
    "        marker=dict(size=16, color=largest_firms_20['composite_score'], colorscale='RdBu', showscale=True),\n",
    "        showlegend=False,\n",
    "        hovertext=largest_firms_20.index\n",
    "    )\n",
    ")\n",
    "\n",
    "fig.add_trace(\n",
    "    go.Scatter(\n",
    "        x=largest_firms_20[x][:5],\n",
    "        y=largest_firms_20[y][:5],\n",
    "        mode='markers',\n",
    "        marker=dict(size=8, color='yellow', opacity=0.8, symbol='star'),\n",
    "        showlegend=False,\n",
    "        hovertext=largest_firms_20.index\n",
    "    )\n",
    ")\n",
    "\n",
    "# format figure to make it look nice\n",
    "fig.update_layout(\n",
    "    xaxis_title=x,\n",
    "    yaxis_title=y,\n",
    "    width=1000,\n",
    "    height=500,\n",
    "    template='plotly_white',\n",
    "    font=dict(size=16),\n",
    "    # yaxis_type='log',\n",
    ")\n",
    "fig.show()"
   ]
  },
  {
   "cell_type": "markdown",
   "metadata": {},
   "source": [
    "### Volatility in profit (Net Combined ratio)"
   ]
  },
  {
   "cell_type": "code",
   "execution_count": 441,
   "metadata": {},
   "outputs": [
    {
     "data": {
      "application/vnd.plotly.v1+json": {
       "config": {
        "plotlyServerURL": "https://plot.ly"
       },
       "data": [
        {
         "line": {
          "color": "grey",
          "width": 1
         },
         "mode": "lines",
         "name": "Firm 301",
         "type": "scatter",
         "x": [
          "2016-01-01T00:00:00",
          "2017-01-01T00:00:00",
          "2018-01-01T00:00:00",
          "2019-01-01T00:00:00",
          "2020-01-01T00:00:00"
         ],
         "y": [
          null,
          null,
          null,
          null,
          null
         ]
        },
        {
         "line": {
          "color": "grey",
          "width": 1
         },
         "mode": "lines",
         "name": "Firm 311",
         "type": "scatter",
         "x": [
          "2016-01-01T00:00:00",
          "2017-01-01T00:00:00",
          "2018-01-01T00:00:00",
          "2019-01-01T00:00:00",
          "2020-01-01T00:00:00"
         ],
         "y": [
          0,
          0,
          0.23045489839789957,
          1.7053831285067615,
          1.8991733917851996
         ]
        },
        {
         "line": {
          "color": "grey",
          "width": 1
         },
         "mode": "lines",
         "name": "Firm 234",
         "type": "scatter",
         "x": [
          "2016-01-01T00:00:00",
          "2017-01-01T00:00:00",
          "2018-01-01T00:00:00",
          "2019-01-01T00:00:00",
          "2020-01-01T00:00:00"
         ],
         "y": [
          0.3941298866228672,
          0.00903725039808206,
          0.1554485439434621,
          0.40112976829734004,
          0.006348024521507804
         ]
        },
        {
         "line": {
          "color": "grey",
          "width": 1
         },
         "mode": "lines",
         "name": "Firm 107",
         "type": "scatter",
         "x": [
          "2016-01-01T00:00:00",
          "2017-01-01T00:00:00",
          "2018-01-01T00:00:00",
          "2019-01-01T00:00:00",
          "2020-01-01T00:00:00"
         ],
         "y": [
          0,
          1.058372786305177,
          0.44224000845708156,
          1.3324267006769102,
          0.473778604114032
         ]
        },
        {
         "line": {
          "color": "grey",
          "width": 1
         },
         "mode": "lines",
         "name": "Firm 120",
         "type": "scatter",
         "x": [
          "2016-01-01T00:00:00",
          "2017-01-01T00:00:00",
          "2018-01-01T00:00:00",
          "2019-01-01T00:00:00",
          "2020-01-01T00:00:00"
         ],
         "y": [
          0,
          0,
          0,
          0,
          0
         ]
        },
        {
         "line": {
          "color": "grey",
          "width": 1
         },
         "mode": "lines",
         "name": "Firm 25",
         "type": "scatter",
         "x": [
          "2016-01-01T00:00:00",
          "2017-01-01T00:00:00",
          "2018-01-01T00:00:00",
          "2019-01-01T00:00:00",
          "2020-01-01T00:00:00"
         ],
         "y": [
          0.8851385817656524,
          1.1966389016654648,
          0.5040865457976057,
          0,
          0
         ]
        },
        {
         "line": {
          "color": "grey",
          "width": 1
         },
         "mode": "lines",
         "name": "Firm 276",
         "type": "scatter",
         "x": [
          "2016-01-01T00:00:00",
          "2017-01-01T00:00:00",
          "2018-01-01T00:00:00",
          "2019-01-01T00:00:00",
          "2020-01-01T00:00:00"
         ],
         "y": [
          null,
          null,
          null,
          null,
          null
         ]
        },
        {
         "line": {
          "color": "grey",
          "width": 1
         },
         "mode": "lines",
         "name": "Firm 6",
         "type": "scatter",
         "x": [
          "2016-01-01T00:00:00",
          "2017-01-01T00:00:00",
          "2018-01-01T00:00:00",
          "2019-01-01T00:00:00",
          "2020-01-01T00:00:00"
         ],
         "y": [
          0.2809693133498721,
          0.49660112840242177,
          0.7000453097771654,
          1.5232018813659176,
          0.38456364010608735
         ]
        },
        {
         "line": {
          "color": "grey",
          "width": 1
         },
         "mode": "lines",
         "name": "Firm 105",
         "type": "scatter",
         "x": [
          "2016-01-01T00:00:00",
          "2017-01-01T00:00:00",
          "2018-01-01T00:00:00",
          "2019-01-01T00:00:00",
          "2020-01-01T00:00:00"
         ],
         "y": [
          1.3648338426013704,
          1.4379990920456536,
          1.3427606978174764,
          1.7858831782908073,
          1.8407202952511483
         ]
        },
        {
         "line": {
          "color": "grey",
          "width": 1
         },
         "mode": "lines",
         "name": "Firm 317",
         "type": "scatter",
         "x": [
          "2016-01-01T00:00:00",
          "2017-01-01T00:00:00",
          "2018-01-01T00:00:00",
          "2019-01-01T00:00:00",
          "2020-01-01T00:00:00"
         ],
         "y": [
          0.6448382105058046,
          1.7666667275387575,
          1.0950890349991702,
          0.8661390874156251,
          0.6025933420865003
         ]
        },
        {
         "line": {
          "color": "grey",
          "width": 1
         },
         "mode": "lines",
         "name": "Firm 101",
         "type": "scatter",
         "x": [
          "2016-01-01T00:00:00",
          "2017-01-01T00:00:00",
          "2018-01-01T00:00:00",
          "2019-01-01T00:00:00",
          "2020-01-01T00:00:00"
         ],
         "y": [
          null,
          null,
          null,
          null,
          null
         ]
        },
        {
         "line": {
          "color": "grey",
          "width": 1
         },
         "mode": "lines",
         "name": "Firm 199",
         "type": "scatter",
         "x": [
          "2016-01-01T00:00:00",
          "2017-01-01T00:00:00",
          "2018-01-01T00:00:00",
          "2019-01-01T00:00:00",
          "2020-01-01T00:00:00"
         ],
         "y": [
          0,
          0,
          1.632456151488469,
          1.0557858346050133,
          0.6542167215497906
         ]
        },
        {
         "line": {
          "color": "grey",
          "width": 1
         },
         "mode": "lines",
         "name": "Firm 73",
         "type": "scatter",
         "x": [
          "2016-01-01T00:00:00",
          "2017-01-01T00:00:00",
          "2018-01-01T00:00:00",
          "2019-01-01T00:00:00",
          "2020-01-01T00:00:00"
         ],
         "y": [
          0,
          0,
          2.7097379449419905,
          1.4736225068375939,
          0.7854786732159121
         ]
        },
        {
         "line": {
          "color": "grey",
          "width": 1
         },
         "mode": "lines",
         "name": "Firm 7",
         "type": "scatter",
         "x": [
          "2016-01-01T00:00:00",
          "2017-01-01T00:00:00",
          "2018-01-01T00:00:00",
          "2019-01-01T00:00:00",
          "2020-01-01T00:00:00"
         ],
         "y": [
          null,
          null,
          null,
          null,
          null
         ]
        },
        {
         "line": {
          "color": "grey",
          "width": 1
         },
         "mode": "lines",
         "name": "Firm 34",
         "type": "scatter",
         "x": [
          "2016-01-01T00:00:00",
          "2017-01-01T00:00:00",
          "2018-01-01T00:00:00",
          "2019-01-01T00:00:00",
          "2020-01-01T00:00:00"
         ],
         "y": [
          0,
          5.041302438773667,
          1.30382209404065,
          1.610047532025571,
          1.6361429672748393
         ]
        },
        {
         "line": {
          "color": "grey",
          "width": 1
         },
         "mode": "lines",
         "name": "Firm 151",
         "type": "scatter",
         "x": [
          "2016-01-01T00:00:00",
          "2017-01-01T00:00:00",
          "2018-01-01T00:00:00",
          "2019-01-01T00:00:00",
          "2020-01-01T00:00:00"
         ],
         "y": [
          -0.5508728155298906,
          -0.0901462814832589,
          -2.87515281905022,
          -0.2821035952938769,
          0.05256918728388043
         ]
        },
        {
         "line": {
          "color": "grey",
          "width": 1
         },
         "mode": "lines",
         "name": "Firm 4",
         "type": "scatter",
         "x": [
          "2016-01-01T00:00:00",
          "2017-01-01T00:00:00",
          "2018-01-01T00:00:00",
          "2019-01-01T00:00:00",
          "2020-01-01T00:00:00"
         ],
         "y": [
          0.6724811477198254,
          1.9869523098314188,
          1.8415283383643815,
          3.8172209112193274,
          -3.5487314600183835
         ]
        },
        {
         "line": {
          "color": "grey",
          "width": 1
         },
         "mode": "lines",
         "name": "Firm 26",
         "type": "scatter",
         "x": [
          "2016-01-01T00:00:00",
          "2017-01-01T00:00:00",
          "2018-01-01T00:00:00",
          "2019-01-01T00:00:00",
          "2020-01-01T00:00:00"
         ],
         "y": [
          1.5779041643686806,
          0.5338680074890712,
          0.0263947319915382,
          0.9731897510853128,
          1.2900287508958082
         ]
        },
        {
         "line": {
          "color": "grey",
          "width": 1
         },
         "mode": "lines",
         "name": "Firm 30",
         "type": "scatter",
         "x": [
          "2016-01-01T00:00:00",
          "2017-01-01T00:00:00",
          "2018-01-01T00:00:00",
          "2019-01-01T00:00:00",
          "2020-01-01T00:00:00"
         ],
         "y": [
          0,
          0,
          0,
          0,
          0
         ]
        },
        {
         "line": {
          "color": "grey",
          "width": 1
         },
         "mode": "lines",
         "name": "Firm 247",
         "type": "scatter",
         "x": [
          "2016-01-01T00:00:00",
          "2017-01-01T00:00:00",
          "2018-01-01T00:00:00",
          "2019-01-01T00:00:00",
          "2020-01-01T00:00:00"
         ],
         "y": [
          0.7911505746575205,
          0.09170110307549217,
          0.28159978073734415,
          0.3297234248978426,
          0.001457170134970482
         ]
        },
        {
         "line": {
          "color": "grey",
          "width": 1
         },
         "mode": "lines",
         "name": "Firm 104",
         "type": "scatter",
         "x": [
          "2016-01-01T00:00:00",
          "2017-01-01T00:00:00",
          "2018-01-01T00:00:00",
          "2019-01-01T00:00:00",
          "2020-01-01T00:00:00"
         ],
         "y": [
          0.6766760140483602,
          0,
          0,
          0,
          0
         ]
        },
        {
         "line": {
          "color": "red",
          "width": 2
         },
         "mode": "lines",
         "name": "Firm 51",
         "type": "scatter",
         "x": [
          "2016-01-01T00:00:00",
          "2017-01-01T00:00:00",
          "2018-01-01T00:00:00",
          "2019-01-01T00:00:00",
          "2020-01-01T00:00:00"
         ],
         "y": [
          13.257027964505095,
          -1.371817908457908,
          0,
          0,
          0
         ]
        },
        {
         "line": {
          "color": "red",
          "width": 2
         },
         "mode": "lines",
         "name": "Firm 17",
         "type": "scatter",
         "x": [
          "2016-01-01T00:00:00",
          "2017-01-01T00:00:00",
          "2018-01-01T00:00:00",
          "2019-01-01T00:00:00",
          "2020-01-01T00:00:00"
         ],
         "y": [
          1.3949854029864317,
          1.6794272035686475,
          0.43932721294178095,
          0.14624849445171373,
          0.3271471518391183
         ]
        },
        {
         "line": {
          "color": "red",
          "width": 2
         },
         "mode": "lines",
         "name": "Firm 38",
         "type": "scatter",
         "x": [
          "2016-01-01T00:00:00",
          "2017-01-01T00:00:00",
          "2018-01-01T00:00:00",
          "2019-01-01T00:00:00",
          "2020-01-01T00:00:00"
         ],
         "y": [
          1.069812038079768,
          1.4303222931850876,
          1.5755789264779407,
          0.35871889944111346,
          1.3796840254830922
         ]
        },
        {
         "line": {
          "color": "red",
          "width": 2
         },
         "mode": "lines",
         "name": "Firm 210",
         "type": "scatter",
         "x": [
          "2016-01-01T00:00:00",
          "2017-01-01T00:00:00",
          "2018-01-01T00:00:00",
          "2019-01-01T00:00:00",
          "2020-01-01T00:00:00"
         ],
         "y": [
          0.536818426340525,
          1.2063933454917728,
          0.7075278659383907,
          0.13269736042073552,
          0.8305637702604026
         ]
        },
        {
         "line": {
          "color": "red",
          "width": 2
         },
         "mode": "lines",
         "name": "Firm 10",
         "type": "scatter",
         "x": [
          "2016-01-01T00:00:00",
          "2017-01-01T00:00:00",
          "2018-01-01T00:00:00",
          "2019-01-01T00:00:00",
          "2020-01-01T00:00:00"
         ],
         "y": [
          0.7955763615714424,
          1.145839027865052,
          0.4935542740717888,
          1.5104252319571778,
          0.07472172245350553
         ]
        },
        {
         "line": {
          "color": "black",
          "dash": "dash",
          "width": 4
         },
         "mode": "lines",
         "type": "scatter",
         "x": [
          "2016-01-01T00:00:00",
          "2017-01-01T00:00:00",
          "2018-01-01T00:00:00",
          "2019-01-01T00:00:00",
          "2020-01-01T00:00:00"
         ],
         "y": [
          1,
          1,
          1,
          1,
          1
         ]
        }
       ],
       "layout": {
        "font": {
         "size": 12
        },
        "height": 500,
        "showlegend": false,
        "template": {
         "data": {
          "bar": [
           {
            "error_x": {
             "color": "#2a3f5f"
            },
            "error_y": {
             "color": "#2a3f5f"
            },
            "marker": {
             "line": {
              "color": "white",
              "width": 0.5
             },
             "pattern": {
              "fillmode": "overlay",
              "size": 10,
              "solidity": 0.2
             }
            },
            "type": "bar"
           }
          ],
          "barpolar": [
           {
            "marker": {
             "line": {
              "color": "white",
              "width": 0.5
             },
             "pattern": {
              "fillmode": "overlay",
              "size": 10,
              "solidity": 0.2
             }
            },
            "type": "barpolar"
           }
          ],
          "carpet": [
           {
            "aaxis": {
             "endlinecolor": "#2a3f5f",
             "gridcolor": "#C8D4E3",
             "linecolor": "#C8D4E3",
             "minorgridcolor": "#C8D4E3",
             "startlinecolor": "#2a3f5f"
            },
            "baxis": {
             "endlinecolor": "#2a3f5f",
             "gridcolor": "#C8D4E3",
             "linecolor": "#C8D4E3",
             "minorgridcolor": "#C8D4E3",
             "startlinecolor": "#2a3f5f"
            },
            "type": "carpet"
           }
          ],
          "choropleth": [
           {
            "colorbar": {
             "outlinewidth": 0,
             "ticks": ""
            },
            "type": "choropleth"
           }
          ],
          "contour": [
           {
            "colorbar": {
             "outlinewidth": 0,
             "ticks": ""
            },
            "colorscale": [
             [
              0,
              "#0d0887"
             ],
             [
              0.1111111111111111,
              "#46039f"
             ],
             [
              0.2222222222222222,
              "#7201a8"
             ],
             [
              0.3333333333333333,
              "#9c179e"
             ],
             [
              0.4444444444444444,
              "#bd3786"
             ],
             [
              0.5555555555555556,
              "#d8576b"
             ],
             [
              0.6666666666666666,
              "#ed7953"
             ],
             [
              0.7777777777777778,
              "#fb9f3a"
             ],
             [
              0.8888888888888888,
              "#fdca26"
             ],
             [
              1,
              "#f0f921"
             ]
            ],
            "type": "contour"
           }
          ],
          "contourcarpet": [
           {
            "colorbar": {
             "outlinewidth": 0,
             "ticks": ""
            },
            "type": "contourcarpet"
           }
          ],
          "heatmap": [
           {
            "colorbar": {
             "outlinewidth": 0,
             "ticks": ""
            },
            "colorscale": [
             [
              0,
              "#0d0887"
             ],
             [
              0.1111111111111111,
              "#46039f"
             ],
             [
              0.2222222222222222,
              "#7201a8"
             ],
             [
              0.3333333333333333,
              "#9c179e"
             ],
             [
              0.4444444444444444,
              "#bd3786"
             ],
             [
              0.5555555555555556,
              "#d8576b"
             ],
             [
              0.6666666666666666,
              "#ed7953"
             ],
             [
              0.7777777777777778,
              "#fb9f3a"
             ],
             [
              0.8888888888888888,
              "#fdca26"
             ],
             [
              1,
              "#f0f921"
             ]
            ],
            "type": "heatmap"
           }
          ],
          "heatmapgl": [
           {
            "colorbar": {
             "outlinewidth": 0,
             "ticks": ""
            },
            "colorscale": [
             [
              0,
              "#0d0887"
             ],
             [
              0.1111111111111111,
              "#46039f"
             ],
             [
              0.2222222222222222,
              "#7201a8"
             ],
             [
              0.3333333333333333,
              "#9c179e"
             ],
             [
              0.4444444444444444,
              "#bd3786"
             ],
             [
              0.5555555555555556,
              "#d8576b"
             ],
             [
              0.6666666666666666,
              "#ed7953"
             ],
             [
              0.7777777777777778,
              "#fb9f3a"
             ],
             [
              0.8888888888888888,
              "#fdca26"
             ],
             [
              1,
              "#f0f921"
             ]
            ],
            "type": "heatmapgl"
           }
          ],
          "histogram": [
           {
            "marker": {
             "pattern": {
              "fillmode": "overlay",
              "size": 10,
              "solidity": 0.2
             }
            },
            "type": "histogram"
           }
          ],
          "histogram2d": [
           {
            "colorbar": {
             "outlinewidth": 0,
             "ticks": ""
            },
            "colorscale": [
             [
              0,
              "#0d0887"
             ],
             [
              0.1111111111111111,
              "#46039f"
             ],
             [
              0.2222222222222222,
              "#7201a8"
             ],
             [
              0.3333333333333333,
              "#9c179e"
             ],
             [
              0.4444444444444444,
              "#bd3786"
             ],
             [
              0.5555555555555556,
              "#d8576b"
             ],
             [
              0.6666666666666666,
              "#ed7953"
             ],
             [
              0.7777777777777778,
              "#fb9f3a"
             ],
             [
              0.8888888888888888,
              "#fdca26"
             ],
             [
              1,
              "#f0f921"
             ]
            ],
            "type": "histogram2d"
           }
          ],
          "histogram2dcontour": [
           {
            "colorbar": {
             "outlinewidth": 0,
             "ticks": ""
            },
            "colorscale": [
             [
              0,
              "#0d0887"
             ],
             [
              0.1111111111111111,
              "#46039f"
             ],
             [
              0.2222222222222222,
              "#7201a8"
             ],
             [
              0.3333333333333333,
              "#9c179e"
             ],
             [
              0.4444444444444444,
              "#bd3786"
             ],
             [
              0.5555555555555556,
              "#d8576b"
             ],
             [
              0.6666666666666666,
              "#ed7953"
             ],
             [
              0.7777777777777778,
              "#fb9f3a"
             ],
             [
              0.8888888888888888,
              "#fdca26"
             ],
             [
              1,
              "#f0f921"
             ]
            ],
            "type": "histogram2dcontour"
           }
          ],
          "mesh3d": [
           {
            "colorbar": {
             "outlinewidth": 0,
             "ticks": ""
            },
            "type": "mesh3d"
           }
          ],
          "parcoords": [
           {
            "line": {
             "colorbar": {
              "outlinewidth": 0,
              "ticks": ""
             }
            },
            "type": "parcoords"
           }
          ],
          "pie": [
           {
            "automargin": true,
            "type": "pie"
           }
          ],
          "scatter": [
           {
            "fillpattern": {
             "fillmode": "overlay",
             "size": 10,
             "solidity": 0.2
            },
            "type": "scatter"
           }
          ],
          "scatter3d": [
           {
            "line": {
             "colorbar": {
              "outlinewidth": 0,
              "ticks": ""
             }
            },
            "marker": {
             "colorbar": {
              "outlinewidth": 0,
              "ticks": ""
             }
            },
            "type": "scatter3d"
           }
          ],
          "scattercarpet": [
           {
            "marker": {
             "colorbar": {
              "outlinewidth": 0,
              "ticks": ""
             }
            },
            "type": "scattercarpet"
           }
          ],
          "scattergeo": [
           {
            "marker": {
             "colorbar": {
              "outlinewidth": 0,
              "ticks": ""
             }
            },
            "type": "scattergeo"
           }
          ],
          "scattergl": [
           {
            "marker": {
             "colorbar": {
              "outlinewidth": 0,
              "ticks": ""
             }
            },
            "type": "scattergl"
           }
          ],
          "scattermapbox": [
           {
            "marker": {
             "colorbar": {
              "outlinewidth": 0,
              "ticks": ""
             }
            },
            "type": "scattermapbox"
           }
          ],
          "scatterpolar": [
           {
            "marker": {
             "colorbar": {
              "outlinewidth": 0,
              "ticks": ""
             }
            },
            "type": "scatterpolar"
           }
          ],
          "scatterpolargl": [
           {
            "marker": {
             "colorbar": {
              "outlinewidth": 0,
              "ticks": ""
             }
            },
            "type": "scatterpolargl"
           }
          ],
          "scatterternary": [
           {
            "marker": {
             "colorbar": {
              "outlinewidth": 0,
              "ticks": ""
             }
            },
            "type": "scatterternary"
           }
          ],
          "surface": [
           {
            "colorbar": {
             "outlinewidth": 0,
             "ticks": ""
            },
            "colorscale": [
             [
              0,
              "#0d0887"
             ],
             [
              0.1111111111111111,
              "#46039f"
             ],
             [
              0.2222222222222222,
              "#7201a8"
             ],
             [
              0.3333333333333333,
              "#9c179e"
             ],
             [
              0.4444444444444444,
              "#bd3786"
             ],
             [
              0.5555555555555556,
              "#d8576b"
             ],
             [
              0.6666666666666666,
              "#ed7953"
             ],
             [
              0.7777777777777778,
              "#fb9f3a"
             ],
             [
              0.8888888888888888,
              "#fdca26"
             ],
             [
              1,
              "#f0f921"
             ]
            ],
            "type": "surface"
           }
          ],
          "table": [
           {
            "cells": {
             "fill": {
              "color": "#EBF0F8"
             },
             "line": {
              "color": "white"
             }
            },
            "header": {
             "fill": {
              "color": "#C8D4E3"
             },
             "line": {
              "color": "white"
             }
            },
            "type": "table"
           }
          ]
         },
         "layout": {
          "annotationdefaults": {
           "arrowcolor": "#2a3f5f",
           "arrowhead": 0,
           "arrowwidth": 1
          },
          "autotypenumbers": "strict",
          "coloraxis": {
           "colorbar": {
            "outlinewidth": 0,
            "ticks": ""
           }
          },
          "colorscale": {
           "diverging": [
            [
             0,
             "#8e0152"
            ],
            [
             0.1,
             "#c51b7d"
            ],
            [
             0.2,
             "#de77ae"
            ],
            [
             0.3,
             "#f1b6da"
            ],
            [
             0.4,
             "#fde0ef"
            ],
            [
             0.5,
             "#f7f7f7"
            ],
            [
             0.6,
             "#e6f5d0"
            ],
            [
             0.7,
             "#b8e186"
            ],
            [
             0.8,
             "#7fbc41"
            ],
            [
             0.9,
             "#4d9221"
            ],
            [
             1,
             "#276419"
            ]
           ],
           "sequential": [
            [
             0,
             "#0d0887"
            ],
            [
             0.1111111111111111,
             "#46039f"
            ],
            [
             0.2222222222222222,
             "#7201a8"
            ],
            [
             0.3333333333333333,
             "#9c179e"
            ],
            [
             0.4444444444444444,
             "#bd3786"
            ],
            [
             0.5555555555555556,
             "#d8576b"
            ],
            [
             0.6666666666666666,
             "#ed7953"
            ],
            [
             0.7777777777777778,
             "#fb9f3a"
            ],
            [
             0.8888888888888888,
             "#fdca26"
            ],
            [
             1,
             "#f0f921"
            ]
           ],
           "sequentialminus": [
            [
             0,
             "#0d0887"
            ],
            [
             0.1111111111111111,
             "#46039f"
            ],
            [
             0.2222222222222222,
             "#7201a8"
            ],
            [
             0.3333333333333333,
             "#9c179e"
            ],
            [
             0.4444444444444444,
             "#bd3786"
            ],
            [
             0.5555555555555556,
             "#d8576b"
            ],
            [
             0.6666666666666666,
             "#ed7953"
            ],
            [
             0.7777777777777778,
             "#fb9f3a"
            ],
            [
             0.8888888888888888,
             "#fdca26"
            ],
            [
             1,
             "#f0f921"
            ]
           ]
          },
          "colorway": [
           "#636efa",
           "#EF553B",
           "#00cc96",
           "#ab63fa",
           "#FFA15A",
           "#19d3f3",
           "#FF6692",
           "#B6E880",
           "#FF97FF",
           "#FECB52"
          ],
          "font": {
           "color": "#2a3f5f"
          },
          "geo": {
           "bgcolor": "white",
           "lakecolor": "white",
           "landcolor": "white",
           "showlakes": true,
           "showland": true,
           "subunitcolor": "#C8D4E3"
          },
          "hoverlabel": {
           "align": "left"
          },
          "hovermode": "closest",
          "mapbox": {
           "style": "light"
          },
          "paper_bgcolor": "white",
          "plot_bgcolor": "white",
          "polar": {
           "angularaxis": {
            "gridcolor": "#EBF0F8",
            "linecolor": "#EBF0F8",
            "ticks": ""
           },
           "bgcolor": "white",
           "radialaxis": {
            "gridcolor": "#EBF0F8",
            "linecolor": "#EBF0F8",
            "ticks": ""
           }
          },
          "scene": {
           "xaxis": {
            "backgroundcolor": "white",
            "gridcolor": "#DFE8F3",
            "gridwidth": 2,
            "linecolor": "#EBF0F8",
            "showbackground": true,
            "ticks": "",
            "zerolinecolor": "#EBF0F8"
           },
           "yaxis": {
            "backgroundcolor": "white",
            "gridcolor": "#DFE8F3",
            "gridwidth": 2,
            "linecolor": "#EBF0F8",
            "showbackground": true,
            "ticks": "",
            "zerolinecolor": "#EBF0F8"
           },
           "zaxis": {
            "backgroundcolor": "white",
            "gridcolor": "#DFE8F3",
            "gridwidth": 2,
            "linecolor": "#EBF0F8",
            "showbackground": true,
            "ticks": "",
            "zerolinecolor": "#EBF0F8"
           }
          },
          "shapedefaults": {
           "line": {
            "color": "#2a3f5f"
           }
          },
          "ternary": {
           "aaxis": {
            "gridcolor": "#DFE8F3",
            "linecolor": "#A2B1C6",
            "ticks": ""
           },
           "baxis": {
            "gridcolor": "#DFE8F3",
            "linecolor": "#A2B1C6",
            "ticks": ""
           },
           "bgcolor": "white",
           "caxis": {
            "gridcolor": "#DFE8F3",
            "linecolor": "#A2B1C6",
            "ticks": ""
           }
          },
          "title": {
           "x": 0.05
          },
          "xaxis": {
           "automargin": true,
           "gridcolor": "#EBF0F8",
           "linecolor": "#EBF0F8",
           "ticks": "",
           "title": {
            "standoff": 15
           },
           "zerolinecolor": "#EBF0F8",
           "zerolinewidth": 2
          },
          "yaxis": {
           "automargin": true,
           "gridcolor": "#EBF0F8",
           "linecolor": "#EBF0F8",
           "ticks": "",
           "title": {
            "standoff": 15
           },
           "zerolinecolor": "#EBF0F8",
           "zerolinewidth": 2
          }
         }
        },
        "width": 1200,
        "xaxis": {
         "tickformat": "%Y",
         "title": {
          "text": "Year"
         }
        },
        "yaxis": {
         "range": [
          -4,
          5.5
         ],
         "title": {
          "text": "Net combined ratio"
         }
        }
       }
      }
     },
     "metadata": {},
     "output_type": "display_data"
    }
   ],
   "source": [
    "scr = largest_firms_16_20[['Firms_x','Net combined ratio']].droplevel(0, axis=1).T\n",
    "scr.columns = scr.iloc[0]\n",
    "scr = scr.drop('Firms_x')\n",
    "\n",
    "fig = go.Figure()\n",
    "x = pd.to_datetime(['2016', '2017', '2018', '2019', '2020'])\n",
    "\n",
    "for col in largest_firms_20.index[5:]: # plot all large firms\n",
    "    fig.add_trace(\n",
    "        go.Scatter(\n",
    "            x=x,\n",
    "            y=scr[col],\n",
    "            name=col,\n",
    "            mode='lines',\n",
    "            line=dict(width=1, color='grey')\n",
    "        )\n",
    "    )\n",
    "for col in largest_firms_20.index[:5]: # plot identified firms\n",
    "    fig.add_trace(\n",
    "        go.Scatter(\n",
    "            x=x,\n",
    "            y=scr[col],\n",
    "            name=col,\n",
    "            mode='lines',\n",
    "            line=dict(width=2, color='red'),\n",
    "        )\n",
    "    )\n",
    "\n",
    "fig.add_trace(\n",
    "    go.Scatter(\n",
    "        x=x,\n",
    "        y=[1]*len(scr),\n",
    "        mode='lines',\n",
    "        line=dict(color='black', width=4, dash='dash')\n",
    "    )\n",
    ")\n",
    "\n",
    "fig.update_layout(\n",
    "    xaxis_title='Year',\n",
    "    # xaxis_range=[2016, 2020],\n",
    "    yaxis_range=[-4, 5.5],\n",
    "    yaxis_title='Net combined ratio',\n",
    "    width=1200,\n",
    "    height=500,\n",
    "    template='plotly_white',\n",
    "    font=dict(size=12),\n",
    "    showlegend=False,\n",
    "    xaxis_tickformat=\"%Y\"\n",
    ")\n",
    "\n",
    "fig.show()"
   ]
  },
  {
   "cell_type": "code",
   "execution_count": 462,
   "metadata": {},
   "outputs": [
    {
     "data": {
      "application/vnd.plotly.v1+json": {
       "config": {
        "plotlyServerURL": "https://plot.ly"
       },
       "data": [
        {
         "line": {
          "color": "grey",
          "width": 1
         },
         "mode": "lines",
         "name": "Firm 301",
         "type": "scatter",
         "x": [
          "2016-01-01T00:00:00",
          "2017-01-01T00:00:00",
          "2018-01-01T00:00:00",
          "2019-01-01T00:00:00",
          "2020-01-01T00:00:00"
         ],
         "y": [
          10.084224521199845,
          10.127430784020902,
          10.012610979554482,
          9.695109453422392,
          10.022913682018666
         ]
        },
        {
         "line": {
          "color": "grey",
          "width": 1
         },
         "mode": "lines",
         "name": "Firm 311",
         "type": "scatter",
         "x": [
          "2016-01-01T00:00:00",
          "2017-01-01T00:00:00",
          "2018-01-01T00:00:00",
          "2019-01-01T00:00:00",
          "2020-01-01T00:00:00"
         ],
         "y": [
          11.901413948871276,
          13.224107361287613,
          13.141771809368677,
          11.711185985565686,
          11.032257169794764
         ]
        },
        {
         "line": {
          "color": "grey",
          "width": 1
         },
         "mode": "lines",
         "name": "Firm 234",
         "type": "scatter",
         "x": [
          "2016-01-01T00:00:00",
          "2017-01-01T00:00:00",
          "2018-01-01T00:00:00",
          "2019-01-01T00:00:00",
          "2020-01-01T00:00:00"
         ],
         "y": [
          8.646113971483077,
          10.116217065501464,
          9.943285022410194,
          9.14633504200027,
          10.021937032735671
         ]
        },
        {
         "line": {
          "color": "grey",
          "width": 1
         },
         "mode": "lines",
         "name": "Firm 107",
         "type": "scatter",
         "x": [
          "2016-01-01T00:00:00",
          "2017-01-01T00:00:00",
          "2018-01-01T00:00:00",
          "2019-01-01T00:00:00",
          "2020-01-01T00:00:00"
         ],
         "y": [
          7.731492029245684,
          8.999866223762636,
          9.282009658666542,
          9.512147218473359,
          7.970049304976135
         ]
        },
        {
         "line": {
          "color": "grey",
          "width": 1
         },
         "mode": "lines",
         "name": "Firm 120",
         "type": "scatter",
         "x": [
          "2016-01-01T00:00:00",
          "2017-01-01T00:00:00",
          "2018-01-01T00:00:00",
          "2019-01-01T00:00:00",
          "2020-01-01T00:00:00"
         ],
         "y": [
          11.477868073154825,
          11.468356877393802,
          11.33070790276865,
          8.683724062303869,
          8.764521909518802
         ]
        },
        {
         "line": {
          "color": "grey",
          "width": 1
         },
         "mode": "lines",
         "name": "Firm 25",
         "type": "scatter",
         "x": [
          "2016-01-01T00:00:00",
          "2017-01-01T00:00:00",
          "2018-01-01T00:00:00",
          "2019-01-01T00:00:00",
          "2020-01-01T00:00:00"
         ],
         "y": [
          11.155821857739943,
          10.03425262241568,
          9.580247384683632,
          10.308185699938441,
          8.192847134592865
         ]
        },
        {
         "line": {
          "color": "grey",
          "width": 1
         },
         "mode": "lines",
         "name": "Firm 276",
         "type": "scatter",
         "x": [
          "2016-01-01T00:00:00",
          "2017-01-01T00:00:00",
          "2018-01-01T00:00:00",
          "2019-01-01T00:00:00",
          "2020-01-01T00:00:00"
         ],
         "y": [
          10.097820021996219,
          9.751966744894887,
          10.448888500941809,
          9.859796863911395,
          10.939639159861633
         ]
        },
        {
         "line": {
          "color": "grey",
          "width": 1
         },
         "mode": "lines",
         "name": "Firm 6",
         "type": "scatter",
         "x": [
          "2016-01-01T00:00:00",
          "2017-01-01T00:00:00",
          "2018-01-01T00:00:00",
          "2019-01-01T00:00:00",
          "2020-01-01T00:00:00"
         ],
         "y": [
          11.238909583282263,
          11.25010509650312,
          10.918464576908981,
          9.335474102732949,
          11.585692538521108
         ]
        },
        {
         "line": {
          "color": "grey",
          "width": 1
         },
         "mode": "lines",
         "name": "Firm 105",
         "type": "scatter",
         "x": [
          "2016-01-01T00:00:00",
          "2017-01-01T00:00:00",
          "2018-01-01T00:00:00",
          "2019-01-01T00:00:00",
          "2020-01-01T00:00:00"
         ],
         "y": [
          12.030718758051812,
          12.708113798563897,
          10.833799525772537,
          12.041522242221339,
          11.563742145795578
         ]
        },
        {
         "line": {
          "color": "grey",
          "width": 1
         },
         "mode": "lines",
         "name": "Firm 317",
         "type": "scatter",
         "x": [
          "2016-01-01T00:00:00",
          "2017-01-01T00:00:00",
          "2018-01-01T00:00:00",
          "2019-01-01T00:00:00",
          "2020-01-01T00:00:00"
         ],
         "y": [
          9.033722518098907,
          9.18039649560311,
          8.944289319650697,
          7.653969180478774,
          9.054271186326293
         ]
        },
        {
         "line": {
          "color": "grey",
          "width": 1
         },
         "mode": "lines",
         "name": "Firm 101",
         "type": "scatter",
         "x": [
          "2016-01-01T00:00:00",
          "2017-01-01T00:00:00",
          "2018-01-01T00:00:00",
          "2019-01-01T00:00:00",
          "2020-01-01T00:00:00"
         ],
         "y": [
          12.056661549443458,
          10.654455427579775,
          12.078421075675184,
          9.571226436686379,
          0
         ]
        },
        {
         "line": {
          "color": "grey",
          "width": 1
         },
         "mode": "lines",
         "name": "Firm 199",
         "type": "scatter",
         "x": [
          "2016-01-01T00:00:00",
          "2017-01-01T00:00:00",
          "2018-01-01T00:00:00",
          "2019-01-01T00:00:00",
          "2020-01-01T00:00:00"
         ],
         "y": [
          10.68624689178576,
          8.79920924224139,
          11.293250889794763,
          11.562724643722712,
          11.956084480230723
         ]
        },
        {
         "line": {
          "color": "grey",
          "width": 1
         },
         "mode": "lines",
         "name": "Firm 73",
         "type": "scatter",
         "x": [
          "2016-01-01T00:00:00",
          "2017-01-01T00:00:00",
          "2018-01-01T00:00:00",
          "2019-01-01T00:00:00",
          "2020-01-01T00:00:00"
         ],
         "y": [
          9.33078652505205,
          10.800350786744184,
          11.33401408690149,
          9.314700387300425,
          11.585460057153442
         ]
        },
        {
         "line": {
          "color": "grey",
          "width": 1
         },
         "mode": "lines",
         "name": "Firm 7",
         "type": "scatter",
         "x": [
          "2016-01-01T00:00:00",
          "2017-01-01T00:00:00",
          "2018-01-01T00:00:00",
          "2019-01-01T00:00:00",
          "2020-01-01T00:00:00"
         ],
         "y": [
          11.443811157538802,
          9.050640993218508,
          10.995444409537395,
          11.003548790969342,
          10.982254212983532
         ]
        },
        {
         "line": {
          "color": "grey",
          "width": 1
         },
         "mode": "lines",
         "name": "Firm 34",
         "type": "scatter",
         "x": [
          "2016-01-01T00:00:00",
          "2017-01-01T00:00:00",
          "2018-01-01T00:00:00",
          "2019-01-01T00:00:00",
          "2020-01-01T00:00:00"
         ],
         "y": [
          11.820042450060617,
          11.586008626470564,
          11.854172000751742,
          12.10807385464807,
          11.983710039199035
         ]
        },
        {
         "line": {
          "color": "grey",
          "width": 1
         },
         "mode": "lines",
         "name": "Firm 151",
         "type": "scatter",
         "x": [
          "2016-01-01T00:00:00",
          "2017-01-01T00:00:00",
          "2018-01-01T00:00:00",
          "2019-01-01T00:00:00",
          "2020-01-01T00:00:00"
         ],
         "y": [
          11.499688238188208,
          11.066888331097017,
          9.926911067479717,
          11.132996516006004,
          11.73067047032264
         ]
        },
        {
         "line": {
          "color": "grey",
          "width": 1
         },
         "mode": "lines",
         "name": "Firm 4",
         "type": "scatter",
         "x": [
          "2016-01-01T00:00:00",
          "2017-01-01T00:00:00",
          "2018-01-01T00:00:00",
          "2019-01-01T00:00:00",
          "2020-01-01T00:00:00"
         ],
         "y": [
          11.081927141063792,
          10.840776275405888,
          11.842186045713547,
          11.563314350503358,
          10.53006748882396
         ]
        },
        {
         "line": {
          "color": "grey",
          "width": 1
         },
         "mode": "lines",
         "name": "Firm 26",
         "type": "scatter",
         "x": [
          "2016-01-01T00:00:00",
          "2017-01-01T00:00:00",
          "2018-01-01T00:00:00",
          "2019-01-01T00:00:00",
          "2020-01-01T00:00:00"
         ],
         "y": [
          11.021673684161343,
          11.223882466879106,
          11.492447209488718,
          11.603908112682099,
          11.32895454873049
         ]
        },
        {
         "line": {
          "color": "grey",
          "width": 1
         },
         "mode": "lines",
         "name": "Firm 30",
         "type": "scatter",
         "x": [
          "2016-01-01T00:00:00",
          "2017-01-01T00:00:00",
          "2018-01-01T00:00:00",
          "2019-01-01T00:00:00",
          "2020-01-01T00:00:00"
         ],
         "y": [
          10.825501873379878,
          10.581876362120529,
          10.677338760511036,
          10.816693531448358,
          10.69889795709442
         ]
        },
        {
         "line": {
          "color": "grey",
          "width": 1
         },
         "mode": "lines",
         "name": "Firm 247",
         "type": "scatter",
         "x": [
          "2016-01-01T00:00:00",
          "2017-01-01T00:00:00",
          "2018-01-01T00:00:00",
          "2019-01-01T00:00:00",
          "2020-01-01T00:00:00"
         ],
         "y": [
          11.858569794759854,
          12.038706694059792,
          10.571803985965566,
          10.820977564985766,
          11.51378509538211
         ]
        },
        {
         "line": {
          "color": "grey",
          "width": 1
         },
         "mode": "lines",
         "name": "Firm 104",
         "type": "scatter",
         "x": [
          "2016-01-01T00:00:00",
          "2017-01-01T00:00:00",
          "2018-01-01T00:00:00",
          "2019-01-01T00:00:00",
          "2020-01-01T00:00:00"
         ],
         "y": [
          8.269244521183056,
          9.403766708502243,
          8.249313746260636,
          7.118826249062078,
          8.58839695042257
         ]
        },
        {
         "line": {
          "color": "red",
          "width": 2
         },
         "mode": "lines",
         "name": "Firm 51",
         "type": "scatter",
         "x": [
          "2016-01-01T00:00:00",
          "2017-01-01T00:00:00",
          "2018-01-01T00:00:00",
          "2019-01-01T00:00:00",
          "2020-01-01T00:00:00"
         ],
         "y": [
          8.991811158212718,
          8.852235835227855,
          9.698429468768303,
          9.876527370953346,
          10.381955260193992
         ]
        },
        {
         "line": {
          "color": "red",
          "width": 2
         },
         "mode": "lines",
         "name": "Firm 17",
         "type": "scatter",
         "x": [
          "2016-01-01T00:00:00",
          "2017-01-01T00:00:00",
          "2018-01-01T00:00:00",
          "2019-01-01T00:00:00",
          "2020-01-01T00:00:00"
         ],
         "y": [
          9.464750005164392,
          8.97423821949758,
          9.257891673834406,
          9.580592724328602,
          0
         ]
        },
        {
         "line": {
          "color": "red",
          "width": 2
         },
         "mode": "lines",
         "name": "Firm 38",
         "type": "scatter",
         "x": [
          "2016-01-01T00:00:00",
          "2017-01-01T00:00:00",
          "2018-01-01T00:00:00",
          "2019-01-01T00:00:00",
          "2020-01-01T00:00:00"
         ],
         "y": [
          7.653969180478774,
          10.139270884196774,
          8.106514516255185,
          0,
          0
         ]
        },
        {
         "line": {
          "color": "red",
          "width": 2
         },
         "mode": "lines",
         "name": "Firm 210",
         "type": "scatter",
         "x": [
          "2016-01-01T00:00:00",
          "2017-01-01T00:00:00",
          "2018-01-01T00:00:00",
          "2019-01-01T00:00:00",
          "2020-01-01T00:00:00"
         ],
         "y": [
          10.440097875275846,
          11.329050702576719,
          12.452221533125794,
          13.075697255858392,
          11.986167594608146
         ]
        },
        {
         "line": {
          "color": "red",
          "width": 2
         },
         "mode": "lines",
         "name": "Firm 10",
         "type": "scatter",
         "x": [
          "2016-01-01T00:00:00",
          "2017-01-01T00:00:00",
          "2018-01-01T00:00:00",
          "2019-01-01T00:00:00",
          "2020-01-01T00:00:00"
         ],
         "y": [
          12.469747589143903,
          11.962477631471582,
          12.16560996145019,
          12.232368849728752,
          12.185032853260907
         ]
        }
       ],
       "layout": {
        "font": {
         "size": 12
        },
        "height": 500,
        "showlegend": false,
        "template": {
         "data": {
          "bar": [
           {
            "error_x": {
             "color": "#2a3f5f"
            },
            "error_y": {
             "color": "#2a3f5f"
            },
            "marker": {
             "line": {
              "color": "white",
              "width": 0.5
             },
             "pattern": {
              "fillmode": "overlay",
              "size": 10,
              "solidity": 0.2
             }
            },
            "type": "bar"
           }
          ],
          "barpolar": [
           {
            "marker": {
             "line": {
              "color": "white",
              "width": 0.5
             },
             "pattern": {
              "fillmode": "overlay",
              "size": 10,
              "solidity": 0.2
             }
            },
            "type": "barpolar"
           }
          ],
          "carpet": [
           {
            "aaxis": {
             "endlinecolor": "#2a3f5f",
             "gridcolor": "#C8D4E3",
             "linecolor": "#C8D4E3",
             "minorgridcolor": "#C8D4E3",
             "startlinecolor": "#2a3f5f"
            },
            "baxis": {
             "endlinecolor": "#2a3f5f",
             "gridcolor": "#C8D4E3",
             "linecolor": "#C8D4E3",
             "minorgridcolor": "#C8D4E3",
             "startlinecolor": "#2a3f5f"
            },
            "type": "carpet"
           }
          ],
          "choropleth": [
           {
            "colorbar": {
             "outlinewidth": 0,
             "ticks": ""
            },
            "type": "choropleth"
           }
          ],
          "contour": [
           {
            "colorbar": {
             "outlinewidth": 0,
             "ticks": ""
            },
            "colorscale": [
             [
              0,
              "#0d0887"
             ],
             [
              0.1111111111111111,
              "#46039f"
             ],
             [
              0.2222222222222222,
              "#7201a8"
             ],
             [
              0.3333333333333333,
              "#9c179e"
             ],
             [
              0.4444444444444444,
              "#bd3786"
             ],
             [
              0.5555555555555556,
              "#d8576b"
             ],
             [
              0.6666666666666666,
              "#ed7953"
             ],
             [
              0.7777777777777778,
              "#fb9f3a"
             ],
             [
              0.8888888888888888,
              "#fdca26"
             ],
             [
              1,
              "#f0f921"
             ]
            ],
            "type": "contour"
           }
          ],
          "contourcarpet": [
           {
            "colorbar": {
             "outlinewidth": 0,
             "ticks": ""
            },
            "type": "contourcarpet"
           }
          ],
          "heatmap": [
           {
            "colorbar": {
             "outlinewidth": 0,
             "ticks": ""
            },
            "colorscale": [
             [
              0,
              "#0d0887"
             ],
             [
              0.1111111111111111,
              "#46039f"
             ],
             [
              0.2222222222222222,
              "#7201a8"
             ],
             [
              0.3333333333333333,
              "#9c179e"
             ],
             [
              0.4444444444444444,
              "#bd3786"
             ],
             [
              0.5555555555555556,
              "#d8576b"
             ],
             [
              0.6666666666666666,
              "#ed7953"
             ],
             [
              0.7777777777777778,
              "#fb9f3a"
             ],
             [
              0.8888888888888888,
              "#fdca26"
             ],
             [
              1,
              "#f0f921"
             ]
            ],
            "type": "heatmap"
           }
          ],
          "heatmapgl": [
           {
            "colorbar": {
             "outlinewidth": 0,
             "ticks": ""
            },
            "colorscale": [
             [
              0,
              "#0d0887"
             ],
             [
              0.1111111111111111,
              "#46039f"
             ],
             [
              0.2222222222222222,
              "#7201a8"
             ],
             [
              0.3333333333333333,
              "#9c179e"
             ],
             [
              0.4444444444444444,
              "#bd3786"
             ],
             [
              0.5555555555555556,
              "#d8576b"
             ],
             [
              0.6666666666666666,
              "#ed7953"
             ],
             [
              0.7777777777777778,
              "#fb9f3a"
             ],
             [
              0.8888888888888888,
              "#fdca26"
             ],
             [
              1,
              "#f0f921"
             ]
            ],
            "type": "heatmapgl"
           }
          ],
          "histogram": [
           {
            "marker": {
             "pattern": {
              "fillmode": "overlay",
              "size": 10,
              "solidity": 0.2
             }
            },
            "type": "histogram"
           }
          ],
          "histogram2d": [
           {
            "colorbar": {
             "outlinewidth": 0,
             "ticks": ""
            },
            "colorscale": [
             [
              0,
              "#0d0887"
             ],
             [
              0.1111111111111111,
              "#46039f"
             ],
             [
              0.2222222222222222,
              "#7201a8"
             ],
             [
              0.3333333333333333,
              "#9c179e"
             ],
             [
              0.4444444444444444,
              "#bd3786"
             ],
             [
              0.5555555555555556,
              "#d8576b"
             ],
             [
              0.6666666666666666,
              "#ed7953"
             ],
             [
              0.7777777777777778,
              "#fb9f3a"
             ],
             [
              0.8888888888888888,
              "#fdca26"
             ],
             [
              1,
              "#f0f921"
             ]
            ],
            "type": "histogram2d"
           }
          ],
          "histogram2dcontour": [
           {
            "colorbar": {
             "outlinewidth": 0,
             "ticks": ""
            },
            "colorscale": [
             [
              0,
              "#0d0887"
             ],
             [
              0.1111111111111111,
              "#46039f"
             ],
             [
              0.2222222222222222,
              "#7201a8"
             ],
             [
              0.3333333333333333,
              "#9c179e"
             ],
             [
              0.4444444444444444,
              "#bd3786"
             ],
             [
              0.5555555555555556,
              "#d8576b"
             ],
             [
              0.6666666666666666,
              "#ed7953"
             ],
             [
              0.7777777777777778,
              "#fb9f3a"
             ],
             [
              0.8888888888888888,
              "#fdca26"
             ],
             [
              1,
              "#f0f921"
             ]
            ],
            "type": "histogram2dcontour"
           }
          ],
          "mesh3d": [
           {
            "colorbar": {
             "outlinewidth": 0,
             "ticks": ""
            },
            "type": "mesh3d"
           }
          ],
          "parcoords": [
           {
            "line": {
             "colorbar": {
              "outlinewidth": 0,
              "ticks": ""
             }
            },
            "type": "parcoords"
           }
          ],
          "pie": [
           {
            "automargin": true,
            "type": "pie"
           }
          ],
          "scatter": [
           {
            "fillpattern": {
             "fillmode": "overlay",
             "size": 10,
             "solidity": 0.2
            },
            "type": "scatter"
           }
          ],
          "scatter3d": [
           {
            "line": {
             "colorbar": {
              "outlinewidth": 0,
              "ticks": ""
             }
            },
            "marker": {
             "colorbar": {
              "outlinewidth": 0,
              "ticks": ""
             }
            },
            "type": "scatter3d"
           }
          ],
          "scattercarpet": [
           {
            "marker": {
             "colorbar": {
              "outlinewidth": 0,
              "ticks": ""
             }
            },
            "type": "scattercarpet"
           }
          ],
          "scattergeo": [
           {
            "marker": {
             "colorbar": {
              "outlinewidth": 0,
              "ticks": ""
             }
            },
            "type": "scattergeo"
           }
          ],
          "scattergl": [
           {
            "marker": {
             "colorbar": {
              "outlinewidth": 0,
              "ticks": ""
             }
            },
            "type": "scattergl"
           }
          ],
          "scattermapbox": [
           {
            "marker": {
             "colorbar": {
              "outlinewidth": 0,
              "ticks": ""
             }
            },
            "type": "scattermapbox"
           }
          ],
          "scatterpolar": [
           {
            "marker": {
             "colorbar": {
              "outlinewidth": 0,
              "ticks": ""
             }
            },
            "type": "scatterpolar"
           }
          ],
          "scatterpolargl": [
           {
            "marker": {
             "colorbar": {
              "outlinewidth": 0,
              "ticks": ""
             }
            },
            "type": "scatterpolargl"
           }
          ],
          "scatterternary": [
           {
            "marker": {
             "colorbar": {
              "outlinewidth": 0,
              "ticks": ""
             }
            },
            "type": "scatterternary"
           }
          ],
          "surface": [
           {
            "colorbar": {
             "outlinewidth": 0,
             "ticks": ""
            },
            "colorscale": [
             [
              0,
              "#0d0887"
             ],
             [
              0.1111111111111111,
              "#46039f"
             ],
             [
              0.2222222222222222,
              "#7201a8"
             ],
             [
              0.3333333333333333,
              "#9c179e"
             ],
             [
              0.4444444444444444,
              "#bd3786"
             ],
             [
              0.5555555555555556,
              "#d8576b"
             ],
             [
              0.6666666666666666,
              "#ed7953"
             ],
             [
              0.7777777777777778,
              "#fb9f3a"
             ],
             [
              0.8888888888888888,
              "#fdca26"
             ],
             [
              1,
              "#f0f921"
             ]
            ],
            "type": "surface"
           }
          ],
          "table": [
           {
            "cells": {
             "fill": {
              "color": "#EBF0F8"
             },
             "line": {
              "color": "white"
             }
            },
            "header": {
             "fill": {
              "color": "#C8D4E3"
             },
             "line": {
              "color": "white"
             }
            },
            "type": "table"
           }
          ]
         },
         "layout": {
          "annotationdefaults": {
           "arrowcolor": "#2a3f5f",
           "arrowhead": 0,
           "arrowwidth": 1
          },
          "autotypenumbers": "strict",
          "coloraxis": {
           "colorbar": {
            "outlinewidth": 0,
            "ticks": ""
           }
          },
          "colorscale": {
           "diverging": [
            [
             0,
             "#8e0152"
            ],
            [
             0.1,
             "#c51b7d"
            ],
            [
             0.2,
             "#de77ae"
            ],
            [
             0.3,
             "#f1b6da"
            ],
            [
             0.4,
             "#fde0ef"
            ],
            [
             0.5,
             "#f7f7f7"
            ],
            [
             0.6,
             "#e6f5d0"
            ],
            [
             0.7,
             "#b8e186"
            ],
            [
             0.8,
             "#7fbc41"
            ],
            [
             0.9,
             "#4d9221"
            ],
            [
             1,
             "#276419"
            ]
           ],
           "sequential": [
            [
             0,
             "#0d0887"
            ],
            [
             0.1111111111111111,
             "#46039f"
            ],
            [
             0.2222222222222222,
             "#7201a8"
            ],
            [
             0.3333333333333333,
             "#9c179e"
            ],
            [
             0.4444444444444444,
             "#bd3786"
            ],
            [
             0.5555555555555556,
             "#d8576b"
            ],
            [
             0.6666666666666666,
             "#ed7953"
            ],
            [
             0.7777777777777778,
             "#fb9f3a"
            ],
            [
             0.8888888888888888,
             "#fdca26"
            ],
            [
             1,
             "#f0f921"
            ]
           ],
           "sequentialminus": [
            [
             0,
             "#0d0887"
            ],
            [
             0.1111111111111111,
             "#46039f"
            ],
            [
             0.2222222222222222,
             "#7201a8"
            ],
            [
             0.3333333333333333,
             "#9c179e"
            ],
            [
             0.4444444444444444,
             "#bd3786"
            ],
            [
             0.5555555555555556,
             "#d8576b"
            ],
            [
             0.6666666666666666,
             "#ed7953"
            ],
            [
             0.7777777777777778,
             "#fb9f3a"
            ],
            [
             0.8888888888888888,
             "#fdca26"
            ],
            [
             1,
             "#f0f921"
            ]
           ]
          },
          "colorway": [
           "#636efa",
           "#EF553B",
           "#00cc96",
           "#ab63fa",
           "#FFA15A",
           "#19d3f3",
           "#FF6692",
           "#B6E880",
           "#FF97FF",
           "#FECB52"
          ],
          "font": {
           "color": "#2a3f5f"
          },
          "geo": {
           "bgcolor": "white",
           "lakecolor": "white",
           "landcolor": "white",
           "showlakes": true,
           "showland": true,
           "subunitcolor": "#C8D4E3"
          },
          "hoverlabel": {
           "align": "left"
          },
          "hovermode": "closest",
          "mapbox": {
           "style": "light"
          },
          "paper_bgcolor": "white",
          "plot_bgcolor": "white",
          "polar": {
           "angularaxis": {
            "gridcolor": "#EBF0F8",
            "linecolor": "#EBF0F8",
            "ticks": ""
           },
           "bgcolor": "white",
           "radialaxis": {
            "gridcolor": "#EBF0F8",
            "linecolor": "#EBF0F8",
            "ticks": ""
           }
          },
          "scene": {
           "xaxis": {
            "backgroundcolor": "white",
            "gridcolor": "#DFE8F3",
            "gridwidth": 2,
            "linecolor": "#EBF0F8",
            "showbackground": true,
            "ticks": "",
            "zerolinecolor": "#EBF0F8"
           },
           "yaxis": {
            "backgroundcolor": "white",
            "gridcolor": "#DFE8F3",
            "gridwidth": 2,
            "linecolor": "#EBF0F8",
            "showbackground": true,
            "ticks": "",
            "zerolinecolor": "#EBF0F8"
           },
           "zaxis": {
            "backgroundcolor": "white",
            "gridcolor": "#DFE8F3",
            "gridwidth": 2,
            "linecolor": "#EBF0F8",
            "showbackground": true,
            "ticks": "",
            "zerolinecolor": "#EBF0F8"
           }
          },
          "shapedefaults": {
           "line": {
            "color": "#2a3f5f"
           }
          },
          "ternary": {
           "aaxis": {
            "gridcolor": "#DFE8F3",
            "linecolor": "#A2B1C6",
            "ticks": ""
           },
           "baxis": {
            "gridcolor": "#DFE8F3",
            "linecolor": "#A2B1C6",
            "ticks": ""
           },
           "bgcolor": "white",
           "caxis": {
            "gridcolor": "#DFE8F3",
            "linecolor": "#A2B1C6",
            "ticks": ""
           }
          },
          "title": {
           "x": 0.05
          },
          "xaxis": {
           "automargin": true,
           "gridcolor": "#EBF0F8",
           "linecolor": "#EBF0F8",
           "ticks": "",
           "title": {
            "standoff": 15
           },
           "zerolinecolor": "#EBF0F8",
           "zerolinewidth": 2
          },
          "yaxis": {
           "automargin": true,
           "gridcolor": "#EBF0F8",
           "linecolor": "#EBF0F8",
           "ticks": "",
           "title": {
            "standoff": 15
           },
           "zerolinecolor": "#EBF0F8",
           "zerolinewidth": 2
          }
         }
        },
        "width": 1200,
        "xaxis": {
         "tickformat": "%Y",
         "title": {
          "text": "Year"
         }
        },
        "yaxis": {
         "title": {
          "text": "Total assets (log, £m)"
         }
        }
       }
      }
     },
     "metadata": {},
     "output_type": "display_data"
    }
   ],
   "source": [
    "scr = largest_firms_16_20[['Firms_x','Total assets (£m)']].droplevel(0, axis=1).T\n",
    "scr.columns = scr.iloc[0]\n",
    "scr = scr.drop('Firms_x')\n",
    "\n",
    "fig = go.Figure()\n",
    "x = pd.to_datetime(['2016', '2017', '2018', '2019', '2020'])\n",
    "\n",
    "for col in largest_firms_20.index[5:]: # plot all large firms\n",
    "    fig.add_trace(\n",
    "        go.Scatter(\n",
    "            x=x,\n",
    "            y=np.log(scr[col].astype(int) + 1),\n",
    "            name=col,\n",
    "            mode='lines',\n",
    "            line=dict(width=1, color='grey')\n",
    "        )\n",
    "    )\n",
    "for col in largest_firms_20.index[:5]: # plot identified firms\n",
    "    fig.add_trace(\n",
    "        go.Scatter(\n",
    "            x=x,\n",
    "            y=np.log(scr[col].astype(int) + 1),\n",
    "            name=col,\n",
    "            mode='lines',\n",
    "            line=dict(width=2, color='red'),\n",
    "        )\n",
    "    )\n",
    "\n",
    "fig.update_layout(\n",
    "    xaxis_title='Year',\n",
    "    # xaxis_range=[2016, 2020],\n",
    "    # yaxis_range=[-4, 5.5],\n",
    "    yaxis_title='Total assets (log, £m)',\n",
    "    width=1200,\n",
    "    height=500,\n",
    "    template='plotly_white',\n",
    "    font=dict(size=12),\n",
    "    showlegend=False,\n",
    "    xaxis_tickformat=\"%Y\",\n",
    "    # yaxis_type='log',\n",
    ")\n",
    "\n",
    "fig.show()"
   ]
  },
  {
   "cell_type": "markdown",
   "metadata": {},
   "source": [
    "# Misc"
   ]
  },
  {
   "cell_type": "markdown",
   "metadata": {},
   "source": [
    "## Sense check: are there any large firms of interest that had no assets during 2020?"
   ]
  },
  {
   "cell_type": "markdown",
   "metadata": {},
   "source": [
    "## Not sure what the below code was trying to do.."
   ]
  },
  {
   "cell_type": "code",
   "execution_count": null,
   "metadata": {},
   "outputs": [],
   "source": [
    "# Create an array of percentiles\n",
    "percentiles_16_19 = np.array(range(10, 100, 10))\n",
    "\n",
    "# Calculate deciles\n",
    "lst_2016_19 = ['2016YE', '2017YE', '2018YE', '2019YE']\n",
    "deciles_16_19 = np.percentile(df_merged['GWP (£m)'][lst_2016_19].sum(axis=1).values, percentiles_16_19)\n",
    "\n",
    "# Create a bar plot of the decile counts\n",
    "fig = go.Figure()\n",
    "fig.add_trace(\n",
    "    go.Bar(\n",
    "        x=percentiles_16_19,\n",
    "        y=deciles_16_19,\n",
    "        name='GWP (£m)'\n",
    "    )\n",
    ")\n",
    "\n",
    "fig.update_layout(\n",
    "    title='Deciles of GWP (£m) 2016-2019',\n",
    "    xaxis_title='Decile',\n",
    "    yaxis_title='Amount (£m)'\n",
    ")\n",
    "fig.show()\n",
    "\n",
    "####\n",
    "largest_firms_16_19 = df_merged[df_merged['GWP (£m)'][lst_2016_19].sum(axis=1) > deciles_16_19[-1]]\n",
    "largest_firms_16_19_insolvent = largest_firms_16_19[largest_firms_16_19['GWP (£m)']['2020YE'] == 0]\n",
    "largest_firms_16_19_insolvent[['Firms_x', 'GWP (£m)', 'SCR coverage ratio', 'SCR (£m)', 'Total liabilities (£m)']]\n",
    "####\n",
    "\n",
    "####\n",
    "for firm in largest_firms_16_19_insolvent['Firms_x']['Firms_x'].values:\n",
    "    print(f\"looking at {firm}\")\n",
    "    print(\"is firm in largest_firms_16_20?\")\n",
    "    if firm in largest_firms_16_20['Firms_x']['Firms_x'].values:\n",
    "        print('Yes')\n",
    "    else:\n",
    "        print('No')\n",
    "####\n",
    "\n",
    "####\n",
    "firm_179 = df_merged[df_merged['Firms_x']['Firms_x'] == 'Firm 179']\n",
    "largest_firms_16_20 = pd.concat([largest_firms_16_20, firm_179], ignore_index=True)\n",
    "####"
   ]
  }
 ],
 "metadata": {
  "kernelspec": {
   "display_name": "Python 3.10.4 64-bit ('3.10.4')",
   "language": "python",
   "name": "python3"
  },
  "language_info": {
   "codemirror_mode": {
    "name": "ipython",
    "version": 3
   },
   "file_extension": ".py",
   "mimetype": "text/x-python",
   "name": "python",
   "nbconvert_exporter": "python",
   "pygments_lexer": "ipython3",
   "version": "3.10.4"
  },
  "orig_nbformat": 4,
  "vscode": {
   "interpreter": {
    "hash": "7c9ebcdd23ece97273dd8e85ff08f826d83cf847607614e4a84a34fcb61aa36e"
   }
  }
 },
 "nbformat": 4,
 "nbformat_minor": 2
}
